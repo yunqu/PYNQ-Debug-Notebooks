{
 "cells": [
  {
   "cell_type": "markdown",
   "metadata": {
    "deletable": true,
    "editable": true
   },
   "source": [
    "# test_xlnk_MultiNotebook1\n",
    "\n",
    "* this notebook should run together with test_xlnk_MultiNotebook2\n",
    "* start with test_xlnk_MultiNotebook1"
   ]
  },
  {
   "cell_type": "markdown",
   "metadata": {
    "deletable": true,
    "editable": true
   },
   "source": [
    "## Step 1"
   ]
  },
  {
   "cell_type": "code",
   "execution_count": 1,
   "metadata": {
    "collapsed": true,
    "deletable": true,
    "editable": true
   },
   "outputs": [],
   "source": [
    "num_of_errors = 0"
   ]
  },
  {
   "cell_type": "code",
   "execution_count": 35,
   "metadata": {
    "collapsed": false,
    "deletable": true,
    "editable": true
   },
   "outputs": [
    {
     "name": "stdout",
     "output_type": "stream",
     "text": [
      "{'CMA Memory Available': 133046272, 'CMA Memory Usage': 0, 'Buffer Count': 0}\n",
      "{'CMA Memory Available': 133099520, 'CMA Memory Usage': 0, 'Buffer Count': 0}\n",
      "PASS\n"
     ]
    }
   ],
   "source": [
    "# quick check to see if no more memory - then reset them all!\n",
    "try:\n",
    "    from pynq import xlnk\n",
    "    mmu = xlnk.Xlnk()\n",
    "    print(mmu.cma_stats())\n",
    "    mmu.xlnk_reset()\n",
    "    print(mmu.cma_stats())\n",
    "    print(\"PASS\")\n",
    "except Exception as e:\n",
    "    print(\"FAIL \" + str(e))\n",
    "    num_of_errors = num_of_errors + 1"
   ]
  },
  {
   "cell_type": "code",
   "execution_count": 15,
   "metadata": {
    "collapsed": false,
    "deletable": true,
    "editable": true
   },
   "outputs": [
    {
     "name": "stdout",
     "output_type": "stream",
     "text": [
      "130324 KB\n",
      "FAIL Failed to allocate Memory!\n"
     ]
    }
   ],
   "source": [
    "# Allocate all buffers with ~0.1MB and free them\n",
    "try:\n",
    "    from pynq import xlnk\n",
    "    from time import sleep\n",
    "    memmanager = xlnk.Xlnk()\n",
    "    print(str(int(memmanager.cma_stats()['CMA Memory Available']//1024)) + \" KB\")\n",
    "    arr = []\n",
    "    cma_start = int(memmanager.cma_stats()['CMA Memory Available']//1024)\n",
    "    for i in range(0,100):\n",
    "        arr.append(memmanager.cma_alloc(length=1,cacheable=1,data_type='char'))\n",
    "    print(\"PASS\")\n",
    "except Exception as e:\n",
    "    print(\"FAIL \" + str(e))\n",
    "    num_of_errors = num_of_errors + 1"
   ]
  },
  {
   "cell_type": "code",
   "execution_count": 37,
   "metadata": {
    "collapsed": false,
    "deletable": true,
    "editable": true
   },
   "outputs": [
    {
     "name": "stdout",
     "output_type": "stream",
     "text": [
      "120708 KB\n"
     ]
    },
    {
     "ename": "RuntimeError",
     "evalue": "Failed to allocate Memory!",
     "output_type": "error",
     "traceback": [
      "\u001b[0;31m---------------------------------------------------------------------------\u001b[0m",
      "\u001b[0;31mRuntimeError\u001b[0m                              Traceback (most recent call last)",
      "\u001b[0;32m<ipython-input-37-e9837fd3611c>\u001b[0m in \u001b[0;36m<module>\u001b[0;34m()\u001b[0m\n\u001b[1;32m      8\u001b[0m \u001b[0mcma_start\u001b[0m \u001b[0;34m=\u001b[0m \u001b[0mint\u001b[0m\u001b[0;34m(\u001b[0m\u001b[0mmemmanager\u001b[0m\u001b[0;34m.\u001b[0m\u001b[0mcma_stats\u001b[0m\u001b[0;34m(\u001b[0m\u001b[0;34m)\u001b[0m\u001b[0;34m[\u001b[0m\u001b[0;34m'CMA Memory Available'\u001b[0m\u001b[0;34m]\u001b[0m\u001b[0;34m//\u001b[0m\u001b[0;36m1024\u001b[0m\u001b[0;34m)\u001b[0m\u001b[0;34m\u001b[0m\u001b[0m\n\u001b[1;32m      9\u001b[0m \u001b[0;32mfor\u001b[0m \u001b[0mi\u001b[0m \u001b[0;32min\u001b[0m \u001b[0mrange\u001b[0m\u001b[0;34m(\u001b[0m\u001b[0;36m0\u001b[0m\u001b[0;34m,\u001b[0m\u001b[0;36m99\u001b[0m\u001b[0;34m)\u001b[0m\u001b[0;34m:\u001b[0m\u001b[0;34m\u001b[0m\u001b[0m\n\u001b[0;32m---> 10\u001b[0;31m     \u001b[0marr\u001b[0m\u001b[0;34m.\u001b[0m\u001b[0mappend\u001b[0m\u001b[0;34m(\u001b[0m\u001b[0mmemmanager\u001b[0m\u001b[0;34m.\u001b[0m\u001b[0mcma_alloc\u001b[0m\u001b[0;34m(\u001b[0m\u001b[0;36m100000\u001b[0m\u001b[0;34m)\u001b[0m\u001b[0;34m)\u001b[0m\u001b[0;34m\u001b[0m\u001b[0m\n\u001b[0m\u001b[1;32m     11\u001b[0m \u001b[0mprint\u001b[0m\u001b[0;34m(\u001b[0m\u001b[0;34m\"PASS\"\u001b[0m\u001b[0;34m)\u001b[0m\u001b[0;34m\u001b[0m\u001b[0m\n",
      "\u001b[0;32m/opt/python3.6/lib/python3.6/site-packages/pynq/xlnk.py\u001b[0m in \u001b[0;36mcma_alloc\u001b[0;34m(self, length, cacheable, data_type)\u001b[0m\n\u001b[1;32m    171\u001b[0m         \u001b[0mbuf\u001b[0m \u001b[0;34m=\u001b[0m \u001b[0mlibxlnk\u001b[0m\u001b[0;34m.\u001b[0m\u001b[0mcma_alloc\u001b[0m\u001b[0;34m(\u001b[0m\u001b[0mlength\u001b[0m\u001b[0;34m,\u001b[0m \u001b[0mcacheable\u001b[0m\u001b[0;34m)\u001b[0m\u001b[0;34m\u001b[0m\u001b[0m\n\u001b[1;32m    172\u001b[0m         \u001b[0;32mif\u001b[0m \u001b[0mbuf\u001b[0m \u001b[0;34m==\u001b[0m \u001b[0mffi\u001b[0m\u001b[0;34m.\u001b[0m\u001b[0mNULL\u001b[0m\u001b[0;34m:\u001b[0m\u001b[0;34m\u001b[0m\u001b[0m\n\u001b[0;32m--> 173\u001b[0;31m             \u001b[0;32mraise\u001b[0m \u001b[0mRuntimeError\u001b[0m\u001b[0;34m(\u001b[0m\u001b[0;34m\"Failed to allocate Memory!\"\u001b[0m\u001b[0;34m)\u001b[0m\u001b[0;34m\u001b[0m\u001b[0m\n\u001b[0m\u001b[1;32m    174\u001b[0m         \u001b[0mself\u001b[0m\u001b[0;34m.\u001b[0m\u001b[0mbufmap\u001b[0m\u001b[0;34m[\u001b[0m\u001b[0mbuf\u001b[0m\u001b[0;34m]\u001b[0m \u001b[0;34m=\u001b[0m \u001b[0mlength\u001b[0m\u001b[0;34m\u001b[0m\u001b[0m\n\u001b[1;32m    175\u001b[0m         \u001b[0;32mreturn\u001b[0m \u001b[0mffi\u001b[0m\u001b[0;34m.\u001b[0m\u001b[0mcast\u001b[0m\u001b[0;34m(\u001b[0m\u001b[0mdata_type\u001b[0m \u001b[0;34m+\u001b[0m \u001b[0;34m\"*\"\u001b[0m\u001b[0;34m,\u001b[0m \u001b[0mbuf\u001b[0m\u001b[0;34m)\u001b[0m\u001b[0;34m\u001b[0m\u001b[0m\n",
      "\u001b[0;31mRuntimeError\u001b[0m: Failed to allocate Memory!"
     ]
    }
   ],
   "source": [
    "# Allocate all buffers with ~0.1MB and free them\n",
    "\n",
    "from pynq import xlnk\n",
    "from time import sleep\n",
    "memmanager = xlnk.Xlnk()\n",
    "print(str(int(memmanager.cma_stats()['CMA Memory Available']//1024)) + \" KB\")\n",
    "arr = []\n",
    "cma_start = int(memmanager.cma_stats()['CMA Memory Available']//1024)\n",
    "for i in range(0,99):\n",
    "    arr.append(memmanager.cma_alloc(100000))\n",
    "print(\"PASS\")"
   ]
  },
  {
   "cell_type": "markdown",
   "metadata": {
    "deletable": true,
    "editable": true
   },
   "source": [
    "## Step 3"
   ]
  },
  {
   "cell_type": "code",
   "execution_count": 8,
   "metadata": {
    "collapsed": false,
    "deletable": true,
    "editable": true
   },
   "outputs": [
    {
     "name": "stdout",
     "output_type": "stream",
     "text": [
      "FAIL list index out of range\n"
     ]
    }
   ],
   "source": [
    "# Free all buffers\n",
    "try:\n",
    "    for i in range(0,100):\n",
    "        memmanager.cma_free(arr[i])\n",
    "    cma_end = int(memmanager.cma_stats()['CMA Memory Available']//1024)\n",
    "    sleep(0.5)\n",
    "    if (abs(cma_start - cma_end) > 256):\n",
    "                  print(\"weak PASS (\" + str(abs(cma_start - cma_end)) + \")\")\n",
    "    else:\n",
    "                  print(\"PASS\")\n",
    "except Exception as e:\n",
    "    print(\"FAIL \" + str(e))\n",
    "    num_of_errors = num_of_errors + 1"
   ]
  },
  {
   "cell_type": "markdown",
   "metadata": {
    "deletable": true,
    "editable": true
   },
   "source": [
    "## Step 5"
   ]
  },
  {
   "cell_type": "code",
   "execution_count": 5,
   "metadata": {
    "collapsed": false,
    "deletable": true,
    "editable": true
   },
   "outputs": [
    {
     "name": "stdout",
     "output_type": "stream",
     "text": [
      "30904 KB\n",
      "PASS Failed to allocate Memory!\n",
      "Number of allocated buffers: 26\n"
     ]
    }
   ],
   "source": [
    "# Allocate all buffers with ~1MB and free them\n",
    "#   This is expected to fail, as we allocate more than 128MB\n",
    "#   Thus, unable to allocate memory -> PASS\n",
    "try:\n",
    "    from pynq.drivers import xlnk\n",
    "    from time import sleep\n",
    "    memmanager = xlnk.xlnk()\n",
    "    print(str(int(memmanager.cma_stats()['CMA Memory Available']//1024)) + \" KB\")\n",
    "    arr = []\n",
    "    cma_start = int(memmanager.cma_stats()['CMA Memory Available']//1024)\n",
    "    for i in range(0,100):\n",
    "        arr.append(memmanager.cma_alloc(1000000))\n",
    "    print(\"FAIL\")\n",
    "    num_of_errors = num_of_errors + 1\n",
    "except Exception as e:\n",
    "    print(\"PASS \" + str(e))\n",
    "    \n",
    "print(\"Number of allocated buffers: \" + str(i))"
   ]
  },
  {
   "cell_type": "code",
   "execution_count": 9,
   "metadata": {
    "collapsed": false,
    "deletable": true,
    "editable": true
   },
   "outputs": [
    {
     "name": "stdout",
     "output_type": "stream",
     "text": [
      "weak PASS (276)\n",
      "Number of deallocated buffers: <cdata 'void *' 0x2f897000>\n"
     ]
    }
   ],
   "source": [
    "# Free all buffers\n",
    "try:\n",
    "    for j in arr:\n",
    "        memmanager.cma_free(j)\n",
    "    cma_end = int(memmanager.cma_stats()['CMA Memory Available']//1024)\n",
    "    sleep(0.5)\n",
    "    if (abs(cma_start - cma_end) > 256):\n",
    "                  print(\"weak PASS (\" + str(abs(cma_start - cma_end)) + \")\")\n",
    "    else:\n",
    "                  print(\"PASS\")\n",
    "except Exception as e:\n",
    "    print(\"FAIL \" + str(e))\n",
    "    num_of_errors = num_of_errors + 1\n",
    "    \n",
    "print(\"Number of deallocated buffers: \" + str(j))"
   ]
  },
  {
   "cell_type": "markdown",
   "metadata": {
    "collapsed": true,
    "deletable": true,
    "editable": true
   },
   "source": [
    "-------------\n",
    "\n",
    "#### Check number of errors on test_xlnk_MultiNotebook1 / 2\n",
    "* if 0 continue with test_xlnk_CFFI"
   ]
  },
  {
   "cell_type": "code",
   "execution_count": null,
   "metadata": {
    "collapsed": true,
    "deletable": true,
    "editable": true
   },
   "outputs": [],
   "source": [
    "print(str(num_of_errors))"
   ]
  },
  {
   "cell_type": "code",
   "execution_count": null,
   "metadata": {
    "collapsed": true,
    "deletable": true,
    "editable": true
   },
   "outputs": [],
   "source": []
  }
 ],
 "metadata": {
  "kernelspec": {
   "display_name": "Python 3",
   "language": "python",
   "name": "python3"
  },
  "language_info": {
   "codemirror_mode": {
    "name": "ipython",
    "version": 3
   },
   "file_extension": ".py",
   "mimetype": "text/x-python",
   "name": "python",
   "nbconvert_exporter": "python",
   "pygments_lexer": "ipython3",
   "version": "3.6.0"
  }
 },
 "nbformat": 4,
 "nbformat_minor": 1
}
