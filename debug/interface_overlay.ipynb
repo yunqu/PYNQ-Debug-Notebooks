{
 "cells": [
  {
   "cell_type": "code",
   "execution_count": 1,
   "metadata": {
    "collapsed": false,
    "deletable": true,
    "editable": true
   },
   "outputs": [],
   "source": [
    "from pynq import Overlay\n",
    "\n",
    "Overlay('interface.bit').download()"
   ]
  },
  {
   "cell_type": "code",
   "execution_count": 2,
   "metadata": {
    "collapsed": false,
    "deletable": true,
    "editable": true
   },
   "outputs": [
    {
     "data": {
      "text/html": [
       "<script type=\"WaveDrom\">{\"signal\": [[\"stimulus\", {\"name\": \"clk0\", \"pin\": \"D0\", \"wave\": \"lhlhlhlhlhlhlhlhlhlhlhlhlhlhlhlhlhlhlhlhlhlhlhlhlhlhlhlhlhlhlhlhlhlhlhlhlhlhlhlhlhlhlhlhlhlhlhlhlhlhlhlhlhlhlhlhlhlhlhlhlhlhlhlh\"}, {\"name\": \"clk1\", \"pin\": \"D1\", \"wave\": \"l.h.l.h.l.h.l.h.l.h.l.h.l.h.l.h.l.h.l.h.l.h.l.h.l.h.l.h.l.h.l.h.l.h.l.h.l.h.l.h.l.h.l.h.l.h.l.h.l.h.l.h.l.h.l.h.l.h.l.h.l.h.l.h.\"}, {\"name\": \"clk2\", \"pin\": \"D2\", \"wave\": \"l...h...l...h...l...h...l...h...l...h...l...h...l...h...l...h...l...h...l...h...l...h...l...h...l...h...l...h...l...h...l...h...\"}, {\"name\": \"clk3\", \"pin\": \"D3\", \"wave\": \"l.......h.......l.......h.......l.......h.......l.......h.......l.......h.......l.......h.......l.......h.......l.......h.......\"}, {\"name\": \"clk4\", \"pin\": \"D4\", \"wave\": \"lhlhlhlhlhlhlhlhlhlhlhlhlhlhlhlhlhlhlhlhlhlhlhlhlhlhlhlhlhlhlhlh\"}, {\"name\": \"clk5\", \"pin\": \"D5\", \"wave\": \"l.h.l.h.l.h.l.h.l.h.l.h.l.h.l.h.l.h.l.h.l.h.l.h.l.h.l.h.l.h.l.h.l.h.l.h.l.h.l.h.l.h.l.h.l.h.l.h.l.h.l.h.l.h.l.h.l.h.l.h.l.h.l.h.\"}, {\"name\": \"clk6\", \"pin\": \"D6\", \"wave\": \"l...h...l...h...l...h...l...h...l...h...l...h...l...h...l...h...l...h...l...h...l...h...l...h...l...h...l...h...l...h...l...h...\"}, {\"name\": \"clk7\", \"pin\": \"D7\", \"wave\": \"l.......h.......l.......h.......l.......h.......l.......h.......l.......h.......l.......h.......l.......h.......l.......h.......\"}, {\"name\": \"clk8\", \"pin\": \"D8\", \"wave\": \"lhlhlhlhlhlhlhlhlhlhlhlhlhlhlhlh\"}, {\"name\": \"clk9\", \"pin\": \"D9\", \"wave\": \"l.h.l.h.l.h.l.h.l.h.l.h.l.h.l.h.l.h.l.h.l.h.l.h.l.h.l.h.l.h.l.h.l.h.l.h.l.h.l.h.l.h.l.h.l.h.l.h.l.h.l.h.l.h.l.h.l.h.l.h.l.h.l.h.\"}, {\"name\": \"clk10\", \"pin\": \"D10\", \"wave\": \"l...h...l...h...l...h...l...h...l...h...l...h...l...h...l...h...l...h...l...h...l...h...l...h...l...h...l...h...l...h...l...h...\"}, {\"name\": \"clk11\", \"pin\": \"D11\", \"wave\": \"l.......h.......l.......h.......l.......h.......l.......h.......l.......h.......l.......h.......l.......h.......l.......h.......\"}, {\"name\": \"clk12\", \"pin\": \"D12\", \"wave\": \"lhlhlhlhlhlhlhlh\"}, {\"name\": \"clk13\", \"pin\": \"D13\", \"wave\": \"l.h.l.h.l.h.l.h.l.h.l.h.l.h.l.h.l.h.l.h.l.h.l.h.l.h.l.h.l.h.l.h.l.h.l.h.l.h.l.h.l.h.l.h.l.h.l.h.l.h.l.h.l.h.l.h.l.h.l.h.l.h.l.h.\"}, {\"name\": \"clk14\", \"pin\": \"D14\", \"wave\": \"l...h...l...h...l...h...l...h...l...h...l...h...l...h...l...h...l...h...l...h...l...h...l...h...l...h...l...h...l...h...l...h...\"}, {\"name\": \"clk15\", \"pin\": \"D15\", \"wave\": \"l.......h.......l.......h.......l.......h.......l.......h.......l.......h.......l.......h.......l.......h.......l.......h.......\"}, {\"name\": \"clk16\", \"pin\": \"D16\", \"wave\": \"lhlhlhlh\"}, {\"name\": \"clk17\", \"pin\": \"D17\", \"wave\": \"l.h.l.h.l.h.l.h.l.h.l.h.l.h.l.h.l.h.l.h.l.h.l.h.l.h.l.h.l.h.l.h.l.h.l.h.l.h.l.h.l.h.l.h.l.h.l.h.l.h.l.h.l.h.l.h.l.h.l.h.l.h.l.h.\"}, {\"name\": \"clk18\", \"pin\": \"D18\", \"wave\": \"l...h...l...h...l...h...l...h...l...h...l...h...l...h...l...h...l...h...l...h...l...h...l...h...l...h...l...h...l...h...l...h...\"}, {\"name\": \"clk19\", \"pin\": \"D19\", \"wave\": \"l.......h.......l.......h.......l.......h.......l.......h.......l.......h.......l.......h.......l.......h.......l.......h.......\"}], [\"analysis\", {\"name\": \"clk0\", \"pin\": \"D0\"}, {\"name\": \"clk1\", \"pin\": \"D1\"}, {\"name\": \"clk2\", \"pin\": \"D2\"}, {\"name\": \"clk3\", \"pin\": \"D3\"}, {\"name\": \"clk4\", \"pin\": \"D4\"}, {\"name\": \"clk5\", \"pin\": \"D5\"}, {\"name\": \"clk6\", \"pin\": \"D6\"}, {\"name\": \"clk7\", \"pin\": \"D7\"}, {\"name\": \"clk8\", \"pin\": \"D8\"}, {\"name\": \"clk9\", \"pin\": \"D9\"}, {\"name\": \"clk10\", \"pin\": \"D10\"}, {\"name\": \"clk11\", \"pin\": \"D11\"}, {\"name\": \"clk12\", \"pin\": \"D12\"}, {\"name\": \"clk13\", \"pin\": \"D13\"}, {\"name\": \"clk14\", \"pin\": \"D14\"}, {\"name\": \"clk15\", \"pin\": \"D15\"}, {\"name\": \"clk16\", \"pin\": \"D16\"}, {\"name\": \"clk17\", \"pin\": \"D17\"}, {\"name\": \"clk18\", \"pin\": \"D18\"}, {\"name\": \"clk19\", \"pin\": \"D19\"}]], \"foot\": {\"tock\": 1, \"text\": \"Loopback Test\"}, \"head\": {\"tick\": 1, \"text\": \"Loopback Test\"}}</script>"
      ]
     },
     "metadata": {},
     "output_type": "display_data"
    },
    {
     "data": {
      "application/javascript": [
       "$.getScript(\"files/js/WaveDrom.js\", function () {\n",
       "$.getScript(\"files/js/WaveDromSkin.js\", function () {\n",
       "WaveDrom.ProcessAll();});\n",
       "});\n"
      ]
     },
     "metadata": {},
     "output_type": "display_data"
    }
   ],
   "source": [
    "# ---------------------------------------------------------------------\n",
    "# Loopback test signal waveform definitions\n",
    "# ---------------------------------------------------------------------\n",
    "\n",
    "loopback_test = {'signal': [\n",
    "    ['stimulus',\n",
    "        {'name': 'clk0',  'pin': 'D0', 'wave': 'lh' * 64},\n",
    "        {'name': 'clk1',  'pin': 'D1', 'wave': 'l.h.' * 32},\n",
    "        {'name': 'clk2',  'pin': 'D2', 'wave': 'l...h...' * 16},\n",
    "        {'name': 'clk3',  'pin': 'D3', 'wave': 'l.......h.......' * 8},\n",
    "        {'name': 'clk4',  'pin': 'D4', 'wave': 'lh' * 32},\n",
    "        {'name': 'clk5',  'pin': 'D5', 'wave': 'l.h.' * 32},\n",
    "        {'name': 'clk6',  'pin': 'D6', 'wave': 'l...h...' * 16},\n",
    "        {'name': 'clk7',  'pin': 'D7', 'wave': 'l.......h.......' * 8},\n",
    "        {'name': 'clk8',  'pin': 'D8', 'wave': 'lh' * 16}, \n",
    "        {'name': 'clk9',  'pin': 'D9', 'wave': 'l.h.' * 32}, \n",
    "        {'name': 'clk10', 'pin': 'D10', 'wave': 'l...h...' * 16},\n",
    "        {'name': 'clk11', 'pin': 'D11', 'wave': 'l.......h.......' * 8},\n",
    "        {'name': 'clk12', 'pin': 'D12', 'wave': 'lh' * 8},\n",
    "        {'name': 'clk13', 'pin': 'D13', 'wave': 'l.h.' * 32},\n",
    "        {'name': 'clk14', 'pin': 'D14', 'wave': 'l...h...' * 16},\n",
    "        {'name': 'clk15', 'pin': 'D15', 'wave': 'l.......h.......' * 8},\n",
    "        {'name': 'clk16', 'pin': 'D16', 'wave': 'lh' * 4},\n",
    "        {'name': 'clk17', 'pin': 'D17', 'wave': 'l.h.' * 32},\n",
    "        {'name': 'clk18', 'pin': 'D18', 'wave': 'l...h...' * 16}, \n",
    "        {'name': 'clk19', 'pin': 'D19', 'wave': 'l.......h.......' * 8}], \n",
    "      \n",
    "    ['analysis',\n",
    "        {'name': 'clk0',  'pin': 'D0'},\n",
    "        {'name': 'clk1',  'pin': 'D1'},\n",
    "        {'name': 'clk2',  'pin': 'D2'},\n",
    "        {'name': 'clk3',  'pin': 'D3'},\n",
    "        {'name': 'clk4',  'pin': 'D4'},\n",
    "        {'name': 'clk5',  'pin': 'D5'},\n",
    "        {'name': 'clk6',  'pin': 'D6'},\n",
    "        {'name': 'clk7',  'pin': 'D7'},\n",
    "        {'name': 'clk8',  'pin': 'D8'},\n",
    "        {'name': 'clk9',  'pin': 'D9'},\n",
    "        {'name': 'clk10', 'pin': 'D10'},\n",
    "        {'name': 'clk11', 'pin': 'D11'},\n",
    "        {'name': 'clk12', 'pin': 'D12'},\n",
    "        {'name': 'clk13', 'pin': 'D13'},\n",
    "        {'name': 'clk14', 'pin': 'D14'},\n",
    "        {'name': 'clk15', 'pin': 'D15'},\n",
    "        {'name': 'clk16', 'pin': 'D16'},\n",
    "        {'name': 'clk17', 'pin': 'D17'},\n",
    "        {'name': 'clk18', 'pin': 'D18'},\n",
    "        {'name': 'clk19', 'pin': 'D19'}]], \n",
    "\n",
    "    'foot': {'tock': 1, 'text': 'Loopback Test'},\n",
    "    'head': {'tick': 1, 'text': 'Loopback Test'}}\n",
    "\n",
    "from pynq.intf import Waveform\n",
    "\n",
    "waveform = Waveform(loopback_test)\n",
    "waveform.display()"
   ]
  },
  {
   "cell_type": "code",
   "execution_count": 8,
   "metadata": {
    "collapsed": false
   },
   "outputs": [],
   "source": [
    "a = [1,2,3]\n",
    "b = [1,2,3]\n",
    "assert a == b "
   ]
  },
  {
   "cell_type": "code",
   "execution_count": null,
   "metadata": {
    "collapsed": true
   },
   "outputs": [],
   "source": []
  }
 ],
 "metadata": {
  "kernelspec": {
   "display_name": "Python 3",
   "language": "python",
   "name": "python3"
  },
  "language_info": {
   "codemirror_mode": {
    "name": "ipython",
    "version": 3
   },
   "file_extension": ".py",
   "mimetype": "text/x-python",
   "name": "python",
   "nbconvert_exporter": "python",
   "pygments_lexer": "ipython3",
   "version": "3.6.0"
  }
 },
 "nbformat": 4,
 "nbformat_minor": 1
}
