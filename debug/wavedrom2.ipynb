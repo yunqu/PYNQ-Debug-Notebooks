{
 "cells": [
  {
   "cell_type": "code",
   "execution_count": null,
   "metadata": {
    "collapsed": true
   },
   "outputs": [],
   "source": [
    "from pynq.lib.logictools.waveform import draw_wavedrom"
   ]
  },
  {
   "cell_type": "markdown",
   "metadata": {},
   "source": [
    "examples: \n",
    "a = {\n",
    "        'signal': [\n",
    "            {'name': 'clk', 'wave': 'lh'*12},\n",
    "            {'name': 'dat', 'wave': 'x.345x|=.x', \n",
    "                            'data': ['head', 'body', 'tail', 'data']},\n",
    "            {'name': 'req', 'wave': 'l.h|..l'},\n",
    "            {},\n",
    "            {'name': 'ack', 'wave': '1.....|01.'},\n",
    "            {'name': 'ack', 'wave': '1.....|01.'},\n",
    "            {'name': 'ack', 'wave': '1.....|01.'},\n",
    "            {'name': 'ack', 'wave': '1.....|01.'},\n",
    "            {'name': 'ack', 'wave': '1.....|01.'},\n",
    "            {'name': 'ack', 'wave': '1.....|01.'},\n",
    "            {'name': 'ack', 'wave': '1.....|01.'},{'name': 'ack', 'wave': '1.....|01.'}\n",
    "        ],\n",
    "    'head': {'text': 'Test Waveform'},\n",
    "    'foot':{'tock':1}}\n",
    "draw_wavedrom(a)"
   ]
  },
  {
   "cell_type": "code",
   "execution_count": null,
   "metadata": {
    "collapsed": true
   },
   "outputs": [],
   "source": []
  }
 ],
 "metadata": {
  "kernelspec": {
   "display_name": "Python 3",
   "language": "python",
   "name": "python3"
  },
  "language_info": {
   "codemirror_mode": {
    "name": "ipython",
    "version": 3
   },
   "file_extension": ".py",
   "mimetype": "text/x-python",
   "name": "python",
   "nbconvert_exporter": "python",
   "pygments_lexer": "ipython3",
   "version": "3.6.0"
  }
 },
 "nbformat": 4,
 "nbformat_minor": 2
}
