{
 "cells": [
  {
   "cell_type": "markdown",
   "metadata": {},
   "source": [
    "# Test UART device\n",
    "\n",
    "This test is for the UART communication on base overlay."
   ]
  },
  {
   "cell_type": "code",
   "execution_count": null,
   "metadata": {},
   "outputs": [],
   "source": [
    "from pynq.overlays.base import BaseOverlay\n",
    "\n",
    "base = BaseOverlay('base.bit')"
   ]
  },
  {
   "cell_type": "markdown",
   "metadata": {},
   "source": [
    "The following APIs are available.\n",
    "```c\n",
    "uart uart_open_device(unsigned int device);\n",
    "uart uart_open(unsigned int tx, unsigned int rx);\n",
    "void uart_read(uart dev_id, char* read_data, unsigned int length);\n",
    "void uart_write(uart dev_id, char* write_data, unsigned int length);\n",
    "void uart_close(uart dev_id);\n",
    "unsigned int uart_get_num_devices(void);\n",
    "```\n",
    "\n",
    "For Arduino, UART RX is on pin 0 (GPIO 0), while TX is on pin 1 (GPIO 1)."
   ]
  },
  {
   "cell_type": "code",
   "execution_count": null,
   "metadata": {},
   "outputs": [],
   "source": [
    "%%microblaze base.ARDUINO\n",
    "#include <uart.h>\n",
    "#include <string.h>\n",
    "#include <pyprintf.h>\n",
    "\n",
    "int test_arduino() {\n",
    "    uart device = uart_open(1, 0);\n",
    "    if (device<0){\n",
    "        return -2;\n",
    "    }\n",
    "    int len = 14;\n",
    "    unsigned char message1[len];\n",
    "    strncpy(message1, \"hello world123\", len);\n",
    "    unsigned char message2[len];\n",
    "    uart_write(device, message1, len);\n",
    "    delay_ms(15);\n",
    "    uart_read(device, message2, len);\n",
    "    pyprintf(\"Received\\n\");\n",
    "    int i;\n",
    "    for (i=0;i<len;i++){\n",
    "        pyprintf(\"%c\", message2[i]);\n",
    "        if (message2[i]!=message1[i]){\n",
    "            return -1;\n",
    "        }\n",
    "    }\n",
    "    return 0;\n",
    "}"
   ]
  },
  {
   "cell_type": "code",
   "execution_count": null,
   "metadata": {},
   "outputs": [],
   "source": [
    "test_arduino()"
   ]
  },
  {
   "cell_type": "code",
   "execution_count": null,
   "metadata": {},
   "outputs": [],
   "source": [
    "%%microblaze base.ARDUINO\n",
    "#include <xio_switch.h>\n",
    "\n",
    "int get_pin(){\n",
    "    set_pin(1, UART0_TX);\n",
    "    set_pin(0, UART0_RX);\n",
    "    return Xil_In32(SWITCH_BASEADDR+4*0);\n",
    "}"
   ]
  },
  {
   "cell_type": "code",
   "execution_count": null,
   "metadata": {},
   "outputs": [],
   "source": [
    "get_pin()"
   ]
  },
  {
   "cell_type": "markdown",
   "metadata": {},
   "source": [
    "For Rpi, UART RX is on pin 10 (GPIO 15), TX is on pin 8 (GPIO 14). Physically those pins are the inner pins of the 4th and 5th rows."
   ]
  },
  {
   "cell_type": "code",
   "execution_count": null,
   "metadata": {},
   "outputs": [],
   "source": [
    "%%microblaze base.RPI\n",
    "#include <uart.h>\n",
    "#include <string.h>\n",
    "#include <pyprintf.h>\n",
    "\n",
    "int test_rpi() {\n",
    "    uart device = uart_open(14, 15);\n",
    "    if (device<0){\n",
    "        return -2;\n",
    "    }\n",
    "    int len = 12;\n",
    "    unsigned char message1[len];\n",
    "    strncpy(message1, \"hello world!\", len);\n",
    "    unsigned char message2[len];\n",
    "    uart_write(device, message1, len);\n",
    "    delay_ms(13);\n",
    "    uart_read(device, message2, len);\n",
    "    pyprintf(\"Received\\n\");\n",
    "    int i;\n",
    "    for (i=0;i<len;i++){\n",
    "        pyprintf(\"%c\", message2[i]);\n",
    "        if (message2[i]!=message1[i]){\n",
    "            return -1;\n",
    "        }\n",
    "    }\n",
    "    return 0;\n",
    "}"
   ]
  },
  {
   "cell_type": "code",
   "execution_count": null,
   "metadata": {},
   "outputs": [],
   "source": [
    "test_rpi()"
   ]
  }
 ],
 "metadata": {
  "kernelspec": {
   "display_name": "Python 3",
   "language": "python",
   "name": "python3"
  },
  "language_info": {
   "codemirror_mode": {
    "name": "ipython",
    "version": 3
   },
   "file_extension": ".py",
   "mimetype": "text/x-python",
   "name": "python",
   "nbconvert_exporter": "python",
   "pygments_lexer": "ipython3",
   "version": "3.6.0"
  }
 },
 "nbformat": 4,
 "nbformat_minor": 2
}
