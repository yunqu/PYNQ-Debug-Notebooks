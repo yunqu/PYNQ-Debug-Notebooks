{
 "cells": [
  {
   "cell_type": "markdown",
   "metadata": {},
   "source": [
    "## Test Pmod_LED8\n"
   ]
  },
  {
   "cell_type": "code",
   "execution_count": null,
   "metadata": {},
   "outputs": [],
   "source": [
    "from time import sleep\n",
    "from pynq.overlays.base import BaseOverlay\n",
    "from pynq.lib.pmod import Pmod_LED8\n",
    "\n",
    "base = BaseOverlay('base.bit')\n",
    "leds = [Pmod_LED8(base.PMODB, i) for i in range(8)]\n",
    "for a in leds:\n",
    "    a.on()\n",
    "    sleep(0.5)\n",
    "    a.off()\n",
    "    sleep(0.5)"
   ]
  },
  {
   "cell_type": "markdown",
   "metadata": {},
   "source": [
    "## Test Pmod_Cable"
   ]
  },
  {
   "cell_type": "code",
   "execution_count": null,
   "metadata": {},
   "outputs": [],
   "source": [
    "from time import sleep\n",
    "from pynq.overlays.base import BaseOverlay\n",
    "from pynq.lib.pmod import Pmod_Cable\n",
    "\n",
    "base = BaseOverlay('base.bit')\n",
    "dut0 = [Pmod_Cable(base.PMODA, i, 'in', 'loopback') for i in range(8)]\n",
    "dut1 = [Pmod_Cable(base.PMODB, i, 'out', 'loopback') for i in range(8)]\n",
    "for i in range(8):\n",
    "    for j in [0, 1]:\n",
    "        dut1[i].write(j)\n",
    "        assert dut0[i].read() == j"
   ]
  },
  {
   "cell_type": "markdown",
   "metadata": {},
   "source": [
    "## Test Arduino_IO"
   ]
  },
  {
   "cell_type": "code",
   "execution_count": null,
   "metadata": {},
   "outputs": [],
   "source": [
    "from time import sleep\n",
    "from pynq.overlays.base import BaseOverlay\n",
    "from pynq.lib.arduino import Arduino_IO\n",
    "\n",
    "base = BaseOverlay('base.bit')\n",
    "duts = [Arduino_IO(base.ARDUINO, i, 'out') for i in range(4)]\n",
    "for i in range(5):\n",
    "    for dut in duts:\n",
    "        dut.write(1)\n",
    "        sleep(0.5)\n",
    "        dut.write(0)"
   ]
  },
  {
   "cell_type": "code",
   "execution_count": null,
   "metadata": {},
   "outputs": [],
   "source": [
    "from pynq.overlays.base import BaseOverlay\n",
    "from pynq.lib.arduino import Arduino_IO\n",
    "\n",
    "base = BaseOverlay('base.bit')\n",
    "duts = [Arduino_IO(base.ARDUINO, i, 'in') for i in range(16,20)]\n",
    "for dut in duts:\n",
    "    print(dut.read())"
   ]
  },
  {
   "cell_type": "markdown",
   "metadata": {},
   "source": [
    "## Test Pmod_Grove_USranger"
   ]
  },
  {
   "cell_type": "code",
   "execution_count": null,
   "metadata": {},
   "outputs": [],
   "source": [
    "from time import sleep\n",
    "from pynq.overlays.base import BaseOverlay\n",
    "from pynq.lib.pmod import Grove_USranger\n",
    "from pynq.lib.pmod import PMOD_GROVE_G1\n",
    "\n",
    "base = BaseOverlay('base.bit')\n",
    "ranger = Grove_USranger(base.PMODB, PMOD_GROVE_G1)\n",
    "distance_cm = ranger.read_distance_cm()\n",
    "print(\"distance in cm: {}\".format(distance_cm))\n",
    "distance_inch = ranger.read_distance_inch()\n",
    "print(\"distance in inch: {}\".format(distance_inch))\n",
    "ranger.start_log()\n",
    "sleep(1)\n",
    "log1 = ranger.get_log_cm()\n",
    "assert len(log1) == 10"
   ]
  },
  {
   "cell_type": "code",
   "execution_count": null,
   "metadata": {},
   "outputs": [],
   "source": []
  }
 ],
 "metadata": {
  "kernelspec": {
   "display_name": "Python 3",
   "language": "python",
   "name": "python3"
  },
  "language_info": {
   "codemirror_mode": {
    "name": "ipython",
    "version": 3
   },
   "file_extension": ".py",
   "mimetype": "text/x-python",
   "name": "python",
   "nbconvert_exporter": "python",
   "pygments_lexer": "ipython3",
   "version": "3.6.0"
  }
 },
 "nbformat": 4,
 "nbformat_minor": 2
}
