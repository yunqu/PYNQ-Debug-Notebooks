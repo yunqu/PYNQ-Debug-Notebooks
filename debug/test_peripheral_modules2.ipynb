{
 "cells": [
  {
   "cell_type": "markdown",
   "metadata": {},
   "source": [
    "## Test Pmod_LED8\n"
   ]
  },
  {
   "cell_type": "code",
   "execution_count": 12,
   "metadata": {},
   "outputs": [],
   "source": [
    "from time import sleep\n",
    "from pynq.overlays.base import BaseOverlay\n",
    "from pynq.lib.pmod import Pmod_LED8\n",
    "\n",
    "base = BaseOverlay('base.bit')\n",
    "leds = [Pmod_LED8(base.PMODB, i) for i in range(8)]\n",
    "for a in leds:\n",
    "    a.on()\n",
    "    sleep(0.5)\n",
    "    a.off()\n",
    "    sleep(0.5)"
   ]
  },
  {
   "cell_type": "markdown",
   "metadata": {},
   "source": [
    "## Test Pmod_Cable"
   ]
  },
  {
   "cell_type": "code",
   "execution_count": 15,
   "metadata": {},
   "outputs": [],
   "source": [
    "from time import sleep\n",
    "from pynq.overlays.base import BaseOverlay\n",
    "from pynq.lib.pmod import Pmod_Cable\n",
    "\n",
    "base = BaseOverlay('base.bit')\n",
    "dut0 = [Pmod_Cable(base.PMODA, i, 'in', 'loopback') for i in range(8)]\n",
    "dut1 = [Pmod_Cable(base.PMODB, i, 'out', 'loopback') for i in range(8)]\n",
    "for i in range(8):\n",
    "    for j in [0, 1]:\n",
    "        dut1[i].write(j)\n",
    "        assert dut0[i].read() == j"
   ]
  },
  {
   "cell_type": "code",
   "execution_count": null,
   "metadata": {},
   "outputs": [],
   "source": []
  }
 ],
 "metadata": {
  "kernelspec": {
   "display_name": "Python 3",
   "language": "python",
   "name": "python3"
  },
  "language_info": {
   "codemirror_mode": {
    "name": "ipython",
    "version": 3
   },
   "file_extension": ".py",
   "mimetype": "text/x-python",
   "name": "python",
   "nbconvert_exporter": "python",
   "pygments_lexer": "ipython3",
   "version": "3.6.0"
  }
 },
 "nbformat": 4,
 "nbformat_minor": 2
}
