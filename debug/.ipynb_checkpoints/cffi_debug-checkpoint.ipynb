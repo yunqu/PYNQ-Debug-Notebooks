{
 "cells": [
  {
   "cell_type": "code",
   "execution_count": null,
   "metadata": {
    "collapsed": false,
    "deletable": true,
    "editable": true
   },
   "outputs": [],
   "source": [
    "import numpy as np\n",
    "from cffi import FFI\n",
    "\n",
    "ffi = FFI()\n",
    "\n",
    "a = 42*np.ones(16, dtype=np.uint32)\n",
    "b = np.zeros_like(a)\n",
    "pa = ffi.cast(\"float *\", a.ctypes.data)\n",
    "pb = ffi.cast(\"float *\", b.ctypes.data)\n",
    "\n",
    "print(a)\n",
    "print(b)"
   ]
  },
  {
   "cell_type": "code",
   "execution_count": null,
   "metadata": {
    "collapsed": false,
    "deletable": true,
    "editable": true
   },
   "outputs": [],
   "source": [
    "long_out = ffi.new(\"long long[16]\")\n",
    "arr_in = 42*np.ones(16, dtype=np.uint64)\n",
    "\n",
    "long_out[0:16] = arr_in[0:16]\n",
    "arr_out = np.frombuffer(ffi.buffer(pa, 16*4), dtype=np.float32)\n",
    "print(arr_out)\n",
    "type(ffi)"
   ]
  },
  {
   "cell_type": "code",
   "execution_count": null,
   "metadata": {
    "collapsed": false,
    "deletable": true,
    "editable": true
   },
   "outputs": [],
   "source": [
    "import numpy\n",
    "numpy.bitwise_and(255, numpy.array([0,1,3]))"
   ]
  },
  {
   "cell_type": "code",
   "execution_count": null,
   "metadata": {
    "collapsed": false,
    "deletable": true,
    "editable": true
   },
   "outputs": [],
   "source": [
    "a = numpy.array([1, 3, 5])\n",
    "a_str = ','.join(str(x) for x in a)\n",
    "print(a_str)"
   ]
  },
  {
   "cell_type": "code",
   "execution_count": null,
   "metadata": {
    "collapsed": false,
    "deletable": true,
    "editable": true
   },
   "outputs": [],
   "source": [
    "a = ['a','b','c']\n",
    "y = numpy.zeros_like(a)\n",
    "print(y)"
   ]
  },
  {
   "cell_type": "code",
   "execution_count": null,
   "metadata": {
    "collapsed": false,
    "deletable": true,
    "editable": true
   },
   "outputs": [],
   "source": [
    "from time import time\n",
    "from math import log2\n",
    "t1 = time()\n",
    "log = int(log2(a[2]))\n",
    "t2 = time()\n",
    "print(\"Time: {}\".format(t2-t1))"
   ]
  },
  {
   "cell_type": "code",
   "execution_count": null,
   "metadata": {
    "collapsed": false,
    "deletable": true,
    "editable": true
   },
   "outputs": [],
   "source": [
    "npdata = [6]\n",
    "npdata0 = [1,3,5]\n",
    "npdata1 = [2,4,6]\n",
    "tri_sel = numpy.array([1,2,4])\n",
    "tri_0 = numpy.array([1,3,5])\n",
    "tri_1 = numpy.array([2,4,6])\n",
    "array1 = numpy.bitwise_and(npdata,tri_sel)\n",
    "array2 = numpy.bitwise_and(npdata0,tri_0)\n",
    "array3 = numpy.bitwise_and(npdata1,tri_1)\n"
   ]
  },
  {
   "cell_type": "code",
   "execution_count": null,
   "metadata": {
    "collapsed": false,
    "deletable": true,
    "editable": true
   },
   "outputs": [],
   "source": [
    "a = temp_val2 = numpy.zeros_like(self.probes)\n",
    "b = [2,4,6]\n",
    "a.append(bs for bs in b)\n",
    "a"
   ]
  },
  {
   "cell_type": "code",
   "execution_count": null,
   "metadata": {
    "collapsed": false,
    "deletable": true,
    "editable": true
   },
   "outputs": [],
   "source": [
    "b = [1,3,5]\n",
    "a = [{} for _ in range(len(b))]\n",
    "for index, signal_name in enumerate(b):\n",
    "    a[index] = {'name': signal_name, 'wave': ''}\n",
    "    a[index]['wave'] += str(signal_name)\n",
    "print(a)"
   ]
  },
  {
   "cell_type": "code",
   "execution_count": null,
   "metadata": {
    "collapsed": false,
    "deletable": true,
    "editable": true
   },
   "outputs": [],
   "source": [
    "x='\\n'\n",
    "y = x.rstrip()\n",
    "if not y:\n",
    "    print(1)"
   ]
  },
  {
   "cell_type": "code",
   "execution_count": null,
   "metadata": {
    "collapsed": false,
    "deletable": true,
    "editable": true
   },
   "outputs": [],
   "source": [
    "f = open('./i2c_trace.csv')\n",
    "for i in range(2):\n",
    "    x = list(f.readline().rstrip().split(','))\n",
    "    print(x)"
   ]
  },
  {
   "cell_type": "code",
   "execution_count": null,
   "metadata": {
    "collapsed": false,
    "deletable": true,
    "editable": true
   },
   "outputs": [],
   "source": [
    "a=' '\n",
    "print(\"gap{}gap\".format(a*10))"
   ]
  },
  {
   "cell_type": "code",
   "execution_count": null,
   "metadata": {
    "collapsed": false,
    "deletable": true,
    "editable": true
   },
   "outputs": [],
   "source": [
    "import IPython.core.display\n",
    "import json\n",
    "import time\n",
    "\n",
    "t1 = time.time()\n",
    "data = {'signal': [\n",
    "        {'name': 'clk', 'wave': 'p.....|...'*5},\n",
    "        {'name': 'dat', 'wave': 'x.345x|=.x'*5, 'data': ['D','A','T','A']},\n",
    "        ]}\n",
    "        \n",
    "htmldata = '<script type=\"WaveDrom\">' + json.dumps(data) + '</script>'\n",
    "IPython.core.display.display_html(IPython.core.display.HTML(htmldata))\n",
    "jsdata = 'WaveDrom.ProcessAll();'\n",
    "IPython.core.display.display_javascript(\n",
    "            IPython.core.display.Javascript(\n",
    "                data=jsdata,\n",
    "                lib=['files/js/WaveDrom.js', 'files/js/WaveDromSkin.js']))\n",
    "t2 = time.time()\n",
    "print(\"Time elapsed: {}s\".format(t2-t1))"
   ]
  },
  {
   "cell_type": "code",
   "execution_count": null,
   "metadata": {
    "collapsed": false,
    "deletable": true,
    "editable": true
   },
   "outputs": [],
   "source": [
    "x = input(\"Type in the IOP ID of the Pmod TMP2 (A or B): \").strip().upper()\n",
    "if x=='A':\n",
    "    y = 1\n",
    "elif x=='B':\n",
    "    y = 2\n",
    "else:\n",
    "    raise ValueError('No IOP')\n",
    "print(y)"
   ]
  },
  {
   "cell_type": "code",
   "execution_count": null,
   "metadata": {
    "collapsed": false,
    "deletable": true,
    "editable": true
   },
   "outputs": [],
   "source": [
    "def get_pmod_id(text):\n",
    "    return input(\"Type in the interface ID of the {} (A or B): \"\n",
    "                 .format(text)).strip().upper()"
   ]
  },
  {
   "cell_type": "code",
   "execution_count": null,
   "metadata": {
    "collapsed": false,
    "deletable": true,
    "editable": true
   },
   "outputs": [],
   "source": [
    "get_pmod_id('test')"
   ]
  },
  {
   "cell_type": "code",
   "execution_count": null,
   "metadata": {
    "collapsed": false,
    "deletable": true,
    "editable": true
   },
   "outputs": [],
   "source": [
    "a = dict()\n",
    "a['fclk0'] = [1]\n",
    "a['fclk0'].append(2)"
   ]
  },
  {
   "cell_type": "code",
   "execution_count": null,
   "metadata": {
    "collapsed": false,
    "deletable": true,
    "editable": true
   },
   "outputs": [],
   "source": [
    "print(a)"
   ]
  },
  {
   "cell_type": "code",
   "execution_count": 1,
   "metadata": {
    "collapsed": false,
    "deletable": true,
    "editable": true
   },
   "outputs": [
    {
     "name": "stdout",
     "output_type": "stream",
     "text": [
      "{'fclk0': [5, 2, 1], 'fclk1': [7, 1, 1], 'fclk2': [5, 1, 1], 'fclk3': [6, 1, 1]}\n"
     ]
    }
   ],
   "source": [
    "from pynq.pl import _get_clk\n",
    "a = _get_clk('/home/xilinx/pynq/bitstream/base.tcl')\n",
    "print(a)"
   ]
  },
  {
   "cell_type": "code",
   "execution_count": 8,
   "metadata": {
    "collapsed": false,
    "deletable": true,
    "editable": true
   },
   "outputs": [
    {
     "name": "stdout",
     "output_type": "stream",
     "text": [
      "5 2 1\n",
      "7 1 1\n",
      "5 1 1\n",
      "6 1 1\n"
     ]
    }
   ],
   "source": [
    "for i in a:\n",
    "    if a[i][2]:\n",
    "        div0,div1,state=a[i]\n",
    "        print(div0,div1,state)"
   ]
  },
  {
   "cell_type": "code",
   "execution_count": 7,
   "metadata": {
    "collapsed": false,
    "deletable": true,
    "editable": true
   },
   "outputs": [
    {
     "name": "stdout",
     "output_type": "stream",
     "text": [
      "6\n"
     ]
    }
   ],
   "source": [
    "if 1:\n",
    "    print(div0)\n",
    "else:\n",
    "    print(div1)"
   ]
  },
  {
   "cell_type": "code",
   "execution_count": 1,
   "metadata": {
    "collapsed": true,
    "deletable": true,
    "editable": true
   },
   "outputs": [],
   "source": [
    "import cffi\n",
    "\n",
    "ffi = cffi.FFI()\n",
    "\n",
    "ffi.cdef(\"\"\"\n",
    "static uint32_t xlnkBufCnt = 0;\n",
    "uint32_t cma_mmap(uint32_t phyAddr, uint32_t len);\n",
    "uint32_t cma_munmap(void *buf, uint32_t len);\n",
    "void *cma_alloc(uint32_t len, uint32_t cacheable);\n",
    "uint32_t cma_get_phy_addr(void *buf);\n",
    "void cma_free(void *buf);\n",
    "uint32_t cma_pages_available();\n",
    "void _xlnk_reset();\n",
    "\"\"\")\n",
    "\n",
    "libxlnk = ffi.dlopen(\"/usr/lib/libsds_lib.so\")"
   ]
  },
  {
   "cell_type": "code",
   "execution_count": 2,
   "metadata": {
    "collapsed": false
   },
   "outputs": [
    {
     "name": "stdout",
     "output_type": "stream",
     "text": [
      "1212 1124 1255\n"
     ]
    }
   ],
   "source": [
    "length = 12\n",
    "data_type = \"int\"\n",
    "\n",
    "try:\n",
    "    buf = libxlnk.cma_alloc(length, 0)\n",
    "    x = ffi.cast(data_type + \"*\", buf)\n",
    "    x[0],x[1],x[2] = 1212,1124,1255\n",
    "    print(x[0],x[1],x[2])\n",
    "finally:\n",
    "    libxlnk.cma_free(x)"
   ]
  },
  {
   "cell_type": "code",
   "execution_count": 3,
   "metadata": {
    "collapsed": false
   },
   "outputs": [
    {
     "data": {
      "text/plain": [
       "'00000000000000000000000000001100'"
      ]
     },
     "execution_count": 3,
     "metadata": {},
     "output_type": "execute_result"
    }
   ],
   "source": [
    "'{0:032b}'.format(12)"
   ]
  },
  {
   "cell_type": "code",
   "execution_count": null,
   "metadata": {
    "collapsed": true
   },
   "outputs": [],
   "source": []
  }
 ],
 "metadata": {
  "kernelspec": {
   "display_name": "Python 3",
   "language": "python",
   "name": "python3"
  },
  "language_info": {
   "codemirror_mode": {
    "name": "ipython",
    "version": 3
   },
   "file_extension": ".py",
   "mimetype": "text/x-python",
   "name": "python",
   "nbconvert_exporter": "python",
   "pygments_lexer": "ipython3",
   "version": "3.6.0"
  }
 },
 "nbformat": 4,
 "nbformat_minor": 1
}
