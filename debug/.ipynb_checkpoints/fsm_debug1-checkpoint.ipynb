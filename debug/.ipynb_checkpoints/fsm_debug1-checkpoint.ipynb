{
 "cells": [
  {
   "cell_type": "markdown",
   "metadata": {
    "deletable": true,
    "editable": true
   },
   "source": [
    "# FSM"
   ]
  },
  {
   "cell_type": "markdown",
   "metadata": {
    "collapsed": true,
    "deletable": true,
    "editable": true,
    "run_control": {
     "frozen": false,
     "read_only": false
    }
   },
   "source": [
    "============================================================================"
   ]
  },
  {
   "cell_type": "code",
   "execution_count": 1,
   "metadata": {
    "collapsed": true,
    "deletable": true,
    "editable": true,
    "run_control": {
     "frozen": false,
     "read_only": false
    }
   },
   "outputs": [],
   "source": [
    "from collections import OrderedDict\n",
    "from copy import deepcopy\n",
    "from math import ceil, log\n",
    "from pprint import pprint\n",
    "\n",
    "import numpy as np\n",
    "import pandas as pd\n",
    "\n",
    "\n",
    "FSM_LABELS = ['inputs', 'present_state', 'next_state', 'outputs']\n",
    "\n",
    "BRAM_ADDR_WIDTH = 13\n",
    "BRAM_DATA_WIDTH = 32\n",
    "ADDR_FORMAT = '0{}b'.format(BRAM_ADDR_WIDTH)\n",
    "DATA_FORMAT = '0{}b'.format(BRAM_DATA_WIDTH)"
   ]
  },
  {
   "cell_type": "markdown",
   "metadata": {
    "deletable": true,
    "editable": true
   },
   "source": [
    "### FSM_BRAM"
   ]
  },
  {
   "cell_type": "code",
   "execution_count": 2,
   "metadata": {
    "collapsed": false,
    "deletable": true,
    "editable": true,
    "run_control": {
     "frozen": false,
     "read_only": false
    }
   },
   "outputs": [
    {
     "data": {
      "text/plain": [
       "0000000000000    00000000000000000000000000000000\n",
       "0000000000001    00000000000000000000000000000000\n",
       "0000000000010    00000000000000000000000000000000\n",
       "0000000000011    00000000000000000000000000111111\n",
       "0000000000100    00000000000000000000000000000000\n",
       "dtype: object"
      ]
     },
     "execution_count": 2,
     "metadata": {},
     "output_type": "execute_result"
    }
   ],
   "source": [
    "ram_addr = [format(i, ADDR_FORMAT) \n",
    "            for i in range(2 ** BRAM_ADDR_WIDTH)]\n",
    "ram_contents = [format(0, DATA_FORMAT) \n",
    "                for i in range(2 ** BRAM_ADDR_WIDTH)]\n",
    "\n",
    "fsm_bram = pd.Series(ram_contents, index=ram_addr)\n",
    "\n",
    "fsm_bram[3] = format(63, DATA_FORMAT)\n",
    "fsm_bram.head()"
   ]
  },
  {
   "cell_type": "code",
   "execution_count": 3,
   "metadata": {
    "collapsed": false,
    "deletable": true,
    "editable": true,
    "run_control": {
     "frozen": false,
     "read_only": false
    }
   },
   "outputs": [
    {
     "data": {
      "text/plain": [
       "0000000000000    00000000000000000000000000000000\n",
       "0000000000001    00000000000000000000000000000000\n",
       "0000000000010    00000000000000000000000000000000\n",
       "0000000000011    00000000000000000000000000000000\n",
       "0000000000100    00000000000000000000000000000000\n",
       "dtype: object"
      ]
     },
     "execution_count": 3,
     "metadata": {},
     "output_type": "execute_result"
    }
   ],
   "source": [
    "fsm_bram[3] = format(0, DATA_FORMAT)\n",
    "fsm_bram.head()"
   ]
  },
  {
   "cell_type": "markdown",
   "metadata": {
    "deletable": true,
    "editable": true
   },
   "source": [
    "============================================================================"
   ]
  },
  {
   "cell_type": "markdown",
   "metadata": {
    "deletable": true,
    "editable": true
   },
   "source": [
    "### FSM spec"
   ]
  },
  {
   "cell_type": "markdown",
   "metadata": {
    "deletable": true,
    "editable": true
   },
   "source": [
    "### New entry format"
   ]
  },
  {
   "cell_type": "code",
   "execution_count": 4,
   "metadata": {
    "collapsed": false,
    "deletable": true,
    "editable": true,
    "run_control": {
     "frozen": false,
     "read_only": false
    }
   },
   "outputs": [],
   "source": [
    "fsm_spec_a = {'inputs': ('Clear', 'Direction'),\n",
    "              'outputs': ('alpha', 'beta', 'gamma'),\n",
    "              'states': ('S0', 'S1', 'S2', 'S3', 'S4', 'S5'),\n",
    "              'reset_state': 'S0',\n",
    "              'transitions': [['00', 'S0', 'S1', '000'],\n",
    "                              ['01', 'S0', 'S5', '000'],\n",
    "                              ['00', 'S1', 'S2', '001'],\n",
    "                              ['01', 'S1', 'S0', '001'],\n",
    "                              ['00', 'S2', 'S3', '010'],\n",
    "                              ['01', 'S2', 'S1', '010'],\n",
    "                              ['00', 'S3', 'S4', '011'],\n",
    "                              ['01', 'S3', 'S2', '011'],\n",
    "                              ['00', 'S4', 'S5', '100'],\n",
    "                              ['01', 'S4', 'S3', '100'],\n",
    "                              ['00', 'S5', 'S0', '101'],\n",
    "                              ['01', 'S5', 'S4', '101'],\n",
    "                              ['1-', '*',  'S0', '000']]}\n",
    "\n",
    "fsm_spec_b = {'inputs': ('x', 'y', 'z'),\n",
    "              'outputs': ('alpha'),\n",
    "              'states': ('A', 'B', 'C'),\n",
    "              'reset_state': 'A',\n",
    "              'transitions': [['1--', 'A', 'A', '0'],\n",
    "                              ['0--', 'A', 'B', '0'],\n",
    "                              ['-1-', 'B', 'C', '1'],\n",
    "                              ['-0-', 'B', 'A', '1'],\n",
    "                              ['-11', 'C', 'A', '0'],\n",
    "                              ['--0', 'C', 'C', '0']]}"
   ]
  },
  {
   "cell_type": "markdown",
   "metadata": {
    "deletable": true,
    "editable": true
   },
   "source": [
    "============================================================================"
   ]
  },
  {
   "cell_type": "code",
   "execution_count": 5,
   "metadata": {
    "collapsed": false,
    "deletable": true,
    "editable": true,
    "run_control": {
     "frozen": false,
     "read_only": false
    }
   },
   "outputs": [
    {
     "data": {
      "text/plain": [
       "[['00', 'S0', 'S1', '000'],\n",
       " ['01', 'S0', 'S5', '000'],\n",
       " ['00', 'S1', 'S2', '001'],\n",
       " ['01', 'S1', 'S0', '001'],\n",
       " ['00', 'S2', 'S3', '010'],\n",
       " ['01', 'S2', 'S1', '010'],\n",
       " ['00', 'S3', 'S4', '011'],\n",
       " ['01', 'S3', 'S2', '011'],\n",
       " ['00', 'S4', 'S5', '100'],\n",
       " ['01', 'S4', 'S3', '100'],\n",
       " ['00', 'S5', 'S0', '101'],\n",
       " ['01', 'S5', 'S4', '101'],\n",
       " ['1-', '*', 'S0', '000']]"
      ]
     },
     "execution_count": 5,
     "metadata": {},
     "output_type": "execute_result"
    }
   ],
   "source": [
    "transitions = fsm_spec_a['transitions']\n",
    "transitions"
   ]
  },
  {
   "cell_type": "code",
   "execution_count": 6,
   "metadata": {
    "collapsed": false,
    "deletable": true,
    "editable": true
   },
   "outputs": [
    {
     "data": {
      "text/plain": [
       "{'000', '001', '010', '011', '100', '101'}"
      ]
     },
     "execution_count": 6,
     "metadata": {},
     "output_type": "execute_result"
    }
   ],
   "source": [
    "set([i[3] for i in fsm_spec_a['transitions']])"
   ]
  },
  {
   "cell_type": "markdown",
   "metadata": {
    "deletable": true,
    "editable": true
   },
   "source": [
    "#### Verify `inputs`, `outputs` and `states` tuples"
   ]
  },
  {
   "cell_type": "code",
   "execution_count": 7,
   "metadata": {
    "collapsed": true,
    "deletable": true,
    "editable": true,
    "run_control": {
     "frozen": false,
     "read_only": false
    }
   },
   "outputs": [],
   "source": [
    "def check_for_duplicate_entries(fsm_spec, value_list):\n",
    "    if len(set(fsm_spec[value_list])) < len(fsm_spec[value_list]):\n",
    "        print(f'Error: duplicate items in \"{value_list}\"')"
   ]
  },
  {
   "cell_type": "code",
   "execution_count": 8,
   "metadata": {
    "collapsed": false,
    "deletable": true,
    "editable": true,
    "run_control": {
     "frozen": false,
     "read_only": false
    }
   },
   "outputs": [],
   "source": [
    "fsm_spec_keys = ('inputs', 'outputs', 'states', 'reset_state')\n",
    "for key in fsm_spec_keys:\n",
    "    check_for_duplicate_entries(fsm_spec_a, key)"
   ]
  },
  {
   "cell_type": "markdown",
   "metadata": {
    "deletable": true,
    "editable": true
   },
   "source": [
    "#### List of state names"
   ]
  },
  {
   "cell_type": "code",
   "execution_count": 9,
   "metadata": {
    "collapsed": false,
    "deletable": true,
    "editable": true,
    "run_control": {
     "frozen": false,
     "read_only": false
    }
   },
   "outputs": [
    {
     "data": {
      "text/plain": [
       "('S0', 'S1', 'S2', 'S3', 'S4', 'S5')"
      ]
     },
     "execution_count": 9,
     "metadata": {},
     "output_type": "execute_result"
    }
   ],
   "source": [
    "state_names = fsm_spec_a['states']\n",
    "state_names"
   ]
  },
  {
   "cell_type": "markdown",
   "metadata": {
    "deletable": true,
    "editable": true
   },
   "source": [
    "#### Quantify FSM parameters"
   ]
  },
  {
   "cell_type": "code",
   "execution_count": 10,
   "metadata": {
    "collapsed": false,
    "deletable": true,
    "editable": true,
    "run_control": {
     "frozen": false,
     "read_only": false
    }
   },
   "outputs": [
    {
     "data": {
      "text/plain": [
       "(2, 3, 6)"
      ]
     },
     "execution_count": 10,
     "metadata": {},
     "output_type": "execute_result"
    }
   ],
   "source": [
    "nmbr_inputs = len(fsm_spec_a['inputs'])\n",
    "nmbr_outputs = len(fsm_spec_a['outputs'])\n",
    "nmbr_states = len(fsm_spec_a['states'])\n",
    "nmbr_inputs, nmbr_outputs, nmbr_states"
   ]
  },
  {
   "cell_type": "markdown",
   "metadata": {
    "deletable": true,
    "editable": true
   },
   "source": [
    "#### Number of state encoding bits"
   ]
  },
  {
   "cell_type": "code",
   "execution_count": 11,
   "metadata": {
    "collapsed": false,
    "deletable": true,
    "editable": true,
    "run_control": {
     "frozen": false,
     "read_only": false
    }
   },
   "outputs": [
    {
     "data": {
      "text/plain": [
       "3"
      ]
     },
     "execution_count": 11,
     "metadata": {},
     "output_type": "execute_result"
    }
   ],
   "source": [
    "nmbr_state_bits = ceil(log(nmbr_states, 2))\n",
    "nmbr_state_bits"
   ]
  },
  {
   "cell_type": "code",
   "execution_count": 12,
   "metadata": {
    "collapsed": false,
    "deletable": true,
    "editable": true,
    "run_control": {
     "frozen": false,
     "read_only": false
    },
    "scrolled": true
   },
   "outputs": [
    {
     "data": {
      "text/plain": [
       "{'S0': '000', 'S1': '001', 'S2': '010', 'S3': '011', 'S4': '100', 'S5': '101'}"
      ]
     },
     "execution_count": 12,
     "metadata": {},
     "output_type": "execute_result"
    }
   ],
   "source": [
    "state_names2codes = {state_name:format(i, '0{}b'.format(nmbr_state_bits))\n",
    "                         for i, state_name in enumerate(state_names)}\n",
    "state_names2codes"
   ]
  },
  {
   "cell_type": "markdown",
   "metadata": {
    "deletable": true,
    "editable": true
   },
   "source": [
    "============================================================================"
   ]
  },
  {
   "cell_type": "code",
   "execution_count": 13,
   "metadata": {
    "collapsed": false,
    "deletable": true,
    "editable": true
   },
   "outputs": [
    {
     "data": {
      "text/plain": [
       "{'S0': '000', 'S1': '001', 'S2': '010', 'S3': '011', 'S4': '100', 'S5': '101'}"
      ]
     },
     "execution_count": 13,
     "metadata": {},
     "output_type": "execute_result"
    }
   ],
   "source": [
    "# Get state outputs by state name\n",
    "state_names2outputs = {state_name: row[3] for row in transitions \n",
    "                                          for state_name in state_names\n",
    "                                          if state_name == row[1]}\n",
    "\n",
    "state_names2outputs"
   ]
  },
  {
   "cell_type": "markdown",
   "metadata": {
    "deletable": true,
    "editable": true
   },
   "source": [
    "============================================================================"
   ]
  },
  {
   "cell_type": "markdown",
   "metadata": {
    "deletable": true,
    "editable": true
   },
   "source": [
    "### Don't-care term  expansion"
   ]
  },
  {
   "cell_type": "code",
   "execution_count": 14,
   "metadata": {
    "collapsed": false,
    "deletable": true,
    "editable": true,
    "run_control": {
     "frozen": false,
     "read_only": false
    },
    "scrolled": true
   },
   "outputs": [
    {
     "name": "stdout",
     "output_type": "stream",
     "text": [
      "['0', '-', '1'] => (['0', '0', '1'], ['0', '1', '1'])\n"
     ]
    }
   ],
   "source": [
    "def replace_wildcard(input_list):\n",
    "    if '-' in input_list:\n",
    "        zero_list  = ['0' if x == '-' else x for x in input_list]\n",
    "        one_list  = ['1' if x == '-' else x for x in input_list]\n",
    "        return zero_list, one_list\n",
    "    else:\n",
    "        return None, None\n",
    "\n",
    "inputs = ['0', '-', '1']\n",
    "print(f'{inputs} => {replace_wildcard(inputs)}')"
   ]
  },
  {
   "cell_type": "markdown",
   "metadata": {
    "deletable": true,
    "editable": true
   },
   "source": [
    "============================================================================"
   ]
  },
  {
   "cell_type": "markdown",
   "metadata": {
    "deletable": true,
    "editable": true
   },
   "source": [
    "#### Note\n",
    "\n",
    "* The outputs for the reset states are wrong\n",
    "\n",
    "\n",
    "* They should show the outputs for the current state, not the reset state\n",
    "\n",
    "\n",
    "* Also the `*` wildcard only applies in the present_state column"
   ]
  },
  {
   "cell_type": "code",
   "execution_count": 15,
   "metadata": {
    "collapsed": false,
    "deletable": true,
    "editable": true,
    "run_control": {
     "frozen": false,
     "read_only": false
    }
   },
   "outputs": [
    {
     "data": {
      "text/plain": [
       "[['00', 'S0', 'S1', '000'],\n",
       " ['01', 'S0', 'S5', '000'],\n",
       " ['00', 'S1', 'S2', '001'],\n",
       " ['01', 'S1', 'S0', '001'],\n",
       " ['00', 'S2', 'S3', '010'],\n",
       " ['01', 'S2', 'S1', '010'],\n",
       " ['00', 'S3', 'S4', '011'],\n",
       " ['01', 'S3', 'S2', '011'],\n",
       " ['00', 'S4', 'S5', '100'],\n",
       " ['01', 'S4', 'S3', '100'],\n",
       " ['00', 'S5', 'S0', '101'],\n",
       " ['01', 'S5', 'S4', '101'],\n",
       " ['10', 'S0', 'S0', '000'],\n",
       " ['11', 'S0', 'S0', '000'],\n",
       " ['10', 'S1', 'S0', '001'],\n",
       " ['11', 'S1', 'S0', '001'],\n",
       " ['10', 'S2', 'S0', '010'],\n",
       " ['11', 'S2', 'S0', '010'],\n",
       " ['10', 'S3', 'S0', '011'],\n",
       " ['11', 'S3', 'S0', '011'],\n",
       " ['10', 'S4', 'S0', '100'],\n",
       " ['11', 'S4', 'S0', '100'],\n",
       " ['10', 'S5', 'S0', '101'],\n",
       " ['11', 'S5', 'S0', '101']]"
      ]
     },
     "execution_count": 15,
     "metadata": {},
     "output_type": "execute_result"
    }
   ],
   "source": [
    "def expand_transition(transition, input_list):\n",
    "    \"\"\"\n",
    "    Add new (partially) elaboarated state transition\n",
    "    \n",
    "    Parameters\n",
    "    ----------\n",
    "    transition: list\n",
    "        Specifies a state transition \n",
    "    input_list: list of strs\n",
    "        List of inputs\n",
    "        \n",
    "    Returns\n",
    "    -------\n",
    "    new_expanded_transition: list\n",
    "        New (partially) elaboarated state transition\n",
    "    \n",
    "    \"\"\"\n",
    "    expanded_transition = []\n",
    "    expanded_transition.append(''.join(input_list))\n",
    "    expanded_transition += transition[1:]\n",
    "    return expanded_transition\n",
    "\n",
    "\n",
    "def expand_all_transitions(transitions):\n",
    "    \"\"\"\n",
    "    Elaborate all state transitions, resolving wildcards\n",
    "    \n",
    "    Parameters\n",
    "    ----------\n",
    "    transitions: list of lists\n",
    "        Each list specifies a state transition\n",
    "        \n",
    "    Returns\n",
    "    -------\n",
    "    expanded_transitions: list of lists\n",
    "        New list of elaboarated state transitions\n",
    "    \n",
    "    \"\"\"\n",
    "    transitions_copy = deepcopy(transitions)\n",
    "    for index, row in enumerate(transitions_copy):\n",
    "        if row[1]=='*':\n",
    "            for state_name in state_names:\n",
    "                new_row = deepcopy(transitions_copy[index])\n",
    "                new_row[1] = state_name\n",
    "                new_row[3] = state_names2outputs[state_name]\n",
    "                transitions_copy.append(new_row)\n",
    "        \n",
    "    transitions_copy = [row for row in transitions_copy\n",
    "                            if '*' not in row[1]]\n",
    "        \n",
    "    for index, row in enumerate(transitions_copy):\n",
    "        input_list = list(row[0])\n",
    "        wildcard = '-'\n",
    "        if wildcard in input_list:\n",
    "            zero_list, one_list = replace_wildcard(input_list)\n",
    "            if zero_list:\n",
    "                new_row = deepcopy(transitions_copy[index])\n",
    "                transitions_copy.append(expand_transition(new_row,\n",
    "                                                        zero_list))\n",
    "                transitions_copy.append(expand_transition(new_row,\n",
    "                                                        one_list))\n",
    "        \n",
    "    expanded_transitions = [row for row in transitions_copy\n",
    "                                if '-' not in row[0]]\n",
    "    return expanded_transitions\n",
    "\n",
    "       \n",
    "expanded_transitions = expand_all_transitions(transitions)\n",
    "expanded_transitions"
   ]
  },
  {
   "cell_type": "markdown",
   "metadata": {
    "deletable": true,
    "editable": true
   },
   "source": [
    "============================================================================"
   ]
  },
  {
   "cell_type": "code",
   "execution_count": 16,
   "metadata": {
    "collapsed": false,
    "deletable": true,
    "editable": true,
    "run_control": {
     "frozen": false,
     "read_only": false
    }
   },
   "outputs": [
    {
     "data": {
      "text/plain": [
       "[['00', '000', '001', '000'],\n",
       " ['01', '000', '101', '000'],\n",
       " ['00', '001', '010', '001'],\n",
       " ['01', '001', '000', '001'],\n",
       " ['00', '010', '011', '010'],\n",
       " ['01', '010', '001', '010'],\n",
       " ['00', '011', '100', '011'],\n",
       " ['01', '011', '010', '011'],\n",
       " ['00', '100', '101', '100'],\n",
       " ['01', '100', '011', '100'],\n",
       " ['00', '101', '000', '101'],\n",
       " ['01', '101', '100', '101'],\n",
       " ['10', '000', '000', '000'],\n",
       " ['11', '000', '000', '000'],\n",
       " ['10', '001', '000', '001'],\n",
       " ['11', '001', '000', '001'],\n",
       " ['10', '010', '000', '010'],\n",
       " ['11', '010', '000', '010'],\n",
       " ['10', '011', '000', '011'],\n",
       " ['11', '011', '000', '011'],\n",
       " ['10', '100', '000', '100'],\n",
       " ['11', '100', '000', '100'],\n",
       " ['10', '101', '000', '101'],\n",
       " ['11', '101', '000', '101']]"
      ]
     },
     "execution_count": 16,
     "metadata": {},
     "output_type": "execute_result"
    }
   ],
   "source": [
    "encoded_transitions = [[i[0],\n",
    "                        state_names2codes[i[1]],\n",
    "                        state_names2codes[i[2]],\n",
    "                        i[3]] for i in expanded_transitions]\n",
    "encoded_transitions"
   ]
  },
  {
   "cell_type": "markdown",
   "metadata": {
    "deletable": true,
    "editable": true
   },
   "source": [
    "============================================================================"
   ]
  },
  {
   "cell_type": "markdown",
   "metadata": {
    "deletable": true,
    "editable": true
   },
   "source": [
    "### State transition ordered dict and table"
   ]
  },
  {
   "cell_type": "code",
   "execution_count": 17,
   "metadata": {
    "collapsed": false,
    "deletable": true,
    "editable": true,
    "run_control": {
     "frozen": false,
     "read_only": false
    }
   },
   "outputs": [
    {
     "data": {
      "text/html": [
       "<div>\n",
       "<table border=\"1\" class=\"dataframe\">\n",
       "  <thead>\n",
       "    <tr style=\"text-align: right;\">\n",
       "      <th></th>\n",
       "      <th>inputs</th>\n",
       "      <th>present_state</th>\n",
       "      <th>next_state</th>\n",
       "      <th>outputs</th>\n",
       "    </tr>\n",
       "  </thead>\n",
       "  <tbody>\n",
       "    <tr>\n",
       "      <th>0</th>\n",
       "      <td>00</td>\n",
       "      <td>S0</td>\n",
       "      <td>S1</td>\n",
       "      <td>000</td>\n",
       "    </tr>\n",
       "    <tr>\n",
       "      <th>1</th>\n",
       "      <td>01</td>\n",
       "      <td>S0</td>\n",
       "      <td>S5</td>\n",
       "      <td>000</td>\n",
       "    </tr>\n",
       "    <tr>\n",
       "      <th>2</th>\n",
       "      <td>00</td>\n",
       "      <td>S1</td>\n",
       "      <td>S2</td>\n",
       "      <td>001</td>\n",
       "    </tr>\n",
       "    <tr>\n",
       "      <th>3</th>\n",
       "      <td>01</td>\n",
       "      <td>S1</td>\n",
       "      <td>S0</td>\n",
       "      <td>001</td>\n",
       "    </tr>\n",
       "    <tr>\n",
       "      <th>4</th>\n",
       "      <td>00</td>\n",
       "      <td>S2</td>\n",
       "      <td>S3</td>\n",
       "      <td>010</td>\n",
       "    </tr>\n",
       "    <tr>\n",
       "      <th>5</th>\n",
       "      <td>01</td>\n",
       "      <td>S2</td>\n",
       "      <td>S1</td>\n",
       "      <td>010</td>\n",
       "    </tr>\n",
       "    <tr>\n",
       "      <th>6</th>\n",
       "      <td>00</td>\n",
       "      <td>S3</td>\n",
       "      <td>S4</td>\n",
       "      <td>011</td>\n",
       "    </tr>\n",
       "    <tr>\n",
       "      <th>7</th>\n",
       "      <td>01</td>\n",
       "      <td>S3</td>\n",
       "      <td>S2</td>\n",
       "      <td>011</td>\n",
       "    </tr>\n",
       "    <tr>\n",
       "      <th>8</th>\n",
       "      <td>00</td>\n",
       "      <td>S4</td>\n",
       "      <td>S5</td>\n",
       "      <td>100</td>\n",
       "    </tr>\n",
       "    <tr>\n",
       "      <th>9</th>\n",
       "      <td>01</td>\n",
       "      <td>S4</td>\n",
       "      <td>S3</td>\n",
       "      <td>100</td>\n",
       "    </tr>\n",
       "    <tr>\n",
       "      <th>10</th>\n",
       "      <td>00</td>\n",
       "      <td>S5</td>\n",
       "      <td>S0</td>\n",
       "      <td>101</td>\n",
       "    </tr>\n",
       "    <tr>\n",
       "      <th>11</th>\n",
       "      <td>01</td>\n",
       "      <td>S5</td>\n",
       "      <td>S4</td>\n",
       "      <td>101</td>\n",
       "    </tr>\n",
       "    <tr>\n",
       "      <th>12</th>\n",
       "      <td>10</td>\n",
       "      <td>S0</td>\n",
       "      <td>S0</td>\n",
       "      <td>000</td>\n",
       "    </tr>\n",
       "    <tr>\n",
       "      <th>13</th>\n",
       "      <td>11</td>\n",
       "      <td>S0</td>\n",
       "      <td>S0</td>\n",
       "      <td>000</td>\n",
       "    </tr>\n",
       "    <tr>\n",
       "      <th>14</th>\n",
       "      <td>10</td>\n",
       "      <td>S1</td>\n",
       "      <td>S0</td>\n",
       "      <td>001</td>\n",
       "    </tr>\n",
       "    <tr>\n",
       "      <th>15</th>\n",
       "      <td>11</td>\n",
       "      <td>S1</td>\n",
       "      <td>S0</td>\n",
       "      <td>001</td>\n",
       "    </tr>\n",
       "    <tr>\n",
       "      <th>16</th>\n",
       "      <td>10</td>\n",
       "      <td>S2</td>\n",
       "      <td>S0</td>\n",
       "      <td>010</td>\n",
       "    </tr>\n",
       "    <tr>\n",
       "      <th>17</th>\n",
       "      <td>11</td>\n",
       "      <td>S2</td>\n",
       "      <td>S0</td>\n",
       "      <td>010</td>\n",
       "    </tr>\n",
       "    <tr>\n",
       "      <th>18</th>\n",
       "      <td>10</td>\n",
       "      <td>S3</td>\n",
       "      <td>S0</td>\n",
       "      <td>011</td>\n",
       "    </tr>\n",
       "    <tr>\n",
       "      <th>19</th>\n",
       "      <td>11</td>\n",
       "      <td>S3</td>\n",
       "      <td>S0</td>\n",
       "      <td>011</td>\n",
       "    </tr>\n",
       "    <tr>\n",
       "      <th>20</th>\n",
       "      <td>10</td>\n",
       "      <td>S4</td>\n",
       "      <td>S0</td>\n",
       "      <td>100</td>\n",
       "    </tr>\n",
       "    <tr>\n",
       "      <th>21</th>\n",
       "      <td>11</td>\n",
       "      <td>S4</td>\n",
       "      <td>S0</td>\n",
       "      <td>100</td>\n",
       "    </tr>\n",
       "    <tr>\n",
       "      <th>22</th>\n",
       "      <td>10</td>\n",
       "      <td>S5</td>\n",
       "      <td>S0</td>\n",
       "      <td>101</td>\n",
       "    </tr>\n",
       "    <tr>\n",
       "      <th>23</th>\n",
       "      <td>11</td>\n",
       "      <td>S5</td>\n",
       "      <td>S0</td>\n",
       "      <td>101</td>\n",
       "    </tr>\n",
       "  </tbody>\n",
       "</table>\n",
       "</div>"
      ],
      "text/plain": [
       "   inputs present_state next_state outputs\n",
       "0      00            S0         S1     000\n",
       "1      01            S0         S5     000\n",
       "2      00            S1         S2     001\n",
       "3      01            S1         S0     001\n",
       "4      00            S2         S3     010\n",
       "5      01            S2         S1     010\n",
       "6      00            S3         S4     011\n",
       "7      01            S3         S2     011\n",
       "8      00            S4         S5     100\n",
       "9      01            S4         S3     100\n",
       "10     00            S5         S0     101\n",
       "11     01            S5         S4     101\n",
       "12     10            S0         S0     000\n",
       "13     11            S0         S0     000\n",
       "14     10            S1         S0     001\n",
       "15     11            S1         S0     001\n",
       "16     10            S2         S0     010\n",
       "17     11            S2         S0     010\n",
       "18     10            S3         S0     011\n",
       "19     11            S3         S0     011\n",
       "20     10            S4         S0     100\n",
       "21     11            S4         S0     100\n",
       "22     10            S5         S0     101\n",
       "23     11            S5         S0     101"
      ]
     },
     "execution_count": 17,
     "metadata": {},
     "output_type": "execute_result"
    }
   ],
   "source": [
    "state_transition = OrderedDict()\n",
    "for index, label in enumerate(FSM_LABELS):\n",
    "    state_transition[label] = [row[index] for row in expanded_transitions]\n",
    "\n",
    "### State transition table\n",
    "state_transition_table = pd.DataFrame(state_transition)\n",
    "state_transition_table"
   ]
  },
  {
   "cell_type": "markdown",
   "metadata": {
    "deletable": true,
    "editable": true
   },
   "source": [
    "========================================================================="
   ]
  },
  {
   "cell_type": "markdown",
   "metadata": {
    "deletable": true,
    "editable": true
   },
   "source": [
    "#### Working in `int` values only"
   ]
  },
  {
   "cell_type": "code",
   "execution_count": 18,
   "metadata": {
    "collapsed": false,
    "deletable": true,
    "editable": true,
    "run_control": {
     "frozen": false,
     "read_only": false
    }
   },
   "outputs": [
    {
     "data": {
      "text/plain": [
       "5"
      ]
     },
     "execution_count": 18,
     "metadata": {},
     "output_type": "execute_result"
    }
   ],
   "source": [
    "def get_1st_input_addr_line(nmbr_states):\n",
    "    \"\"\" \n",
    "    Get the first address line to use for inputs\n",
    "    \n",
    "    Parameters\n",
    "    ----------\n",
    "    nmbr_states: int\n",
    "    \n",
    "    Returns\n",
    "    -------\n",
    "    first_input_address: str\n",
    "    \"\"\"\n",
    "    if nmbr_states < 32:\n",
    "        first_input_addr_line = 5\n",
    "    else:        \n",
    "        first_input_addr_line = ceil(log(nmbr_states, 2))\n",
    "    return first_input_addr_line\n",
    "\n",
    "get_1st_input_addr_line(32)"
   ]
  },
  {
   "cell_type": "code",
   "execution_count": 19,
   "metadata": {
    "collapsed": false,
    "deletable": true,
    "editable": true,
    "run_control": {
     "frozen": false,
     "read_only": false
    }
   },
   "outputs": [
    {
     "data": {
      "text/plain": [
       "[0, 32, 64, 96]"
      ]
     },
     "execution_count": 19,
     "metadata": {},
     "output_type": "execute_result"
    }
   ],
   "source": [
    "def get_input_addr_offsets(nmbr_states, nmbr_inputs):\n",
    "    \"\"\"\n",
    "    Get address range determined by number of inputs\n",
    "    \n",
    "    \"\"\"\n",
    "    lower_addr_index = get_1st_input_addr_line(nmbr_states)\n",
    "    input_addr_offsets = [i * 2 ** lower_addr_index\n",
    "                          for i in range(2 ** nmbr_inputs)]\n",
    "    return input_addr_offsets\n",
    "    \n",
    "addr_offsets = get_input_addr_offsets(nmbr_states, nmbr_inputs)\n",
    "addr_offsets"
   ]
  },
  {
   "cell_type": "code",
   "execution_count": 20,
   "metadata": {
    "collapsed": false,
    "deletable": true,
    "editable": true
   },
   "outputs": [
    {
     "name": "stdout",
     "output_type": "stream",
     "text": [
      "00000000000000000000000000000000\n",
      "00000000000000000000000000100000\n",
      "00000000000000000000000001000000\n",
      "00000000000000000000000001100000\n"
     ]
    }
   ],
   "source": [
    "for offset in addr_offsets:\n",
    "    print(format(offset, DATA_FORMAT))"
   ]
  },
  {
   "cell_type": "markdown",
   "metadata": {
    "deletable": true,
    "editable": true
   },
   "source": [
    "============================================================================"
   ]
  },
  {
   "cell_type": "markdown",
   "metadata": {
    "deletable": true,
    "editable": true
   },
   "source": [
    "### Load BRAM with default next-state and output data"
   ]
  },
  {
   "cell_type": "code",
   "execution_count": 21,
   "metadata": {
    "collapsed": false,
    "deletable": true,
    "editable": true,
    "run_control": {
     "frozen": false,
     "read_only": false
    }
   },
   "outputs": [
    {
     "name": "stdout",
     "output_type": "stream",
     "text": [
      "0000000000000    00000000000000000000000000000000\n",
      "0000000000001    00000000000010000000000000000001\n",
      "0000000000010    00000000000100000000000000000010\n",
      "0000000000011    00000000000110000000000000000011\n",
      "0000000000100    00000000001000000000000000000100\n",
      "0000000000101    00000000001010000000000000000101\n",
      "dtype: object\n"
     ]
    }
   ],
   "source": [
    "STATE_BIN_FORMAT = '0{}b'.format(nmbr_state_bits)\n",
    "INPUT_BIN_FORMAT = '0{}b'.format(nmbr_inputs)\n",
    "OUTPUT_BIN_FORMAT = '0{}b'.format(nmbr_outputs)\n",
    "OUTPUT_BIT_OFFSET = 19\n",
    "\n",
    "for input_value, offset_addr in enumerate(addr_offsets):\n",
    "    for state_name in state_names:\n",
    "        output_value = int(state_names2outputs[state_name], 2)\n",
    "        current_state_code = int(state_names2codes[state_name], 2)\n",
    "        # Set default next-state to the current-state\n",
    "        next_state_code = current_state_code\n",
    "        bram_data = (output_value << OUTPUT_BIT_OFFSET) + next_state_code\n",
    "        fsm_bram[offset_addr + current_state_code] = format(bram_data,\n",
    "                                                            DATA_FORMAT)\n",
    "\n",
    "offset = 0\n",
    "print(fsm_bram[offset:offset + nmbr_states])"
   ]
  },
  {
   "cell_type": "code",
   "execution_count": 22,
   "metadata": {
    "collapsed": false,
    "deletable": true,
    "editable": true,
    "run_control": {
     "frozen": false,
     "read_only": false
    }
   },
   "outputs": [
    {
     "name": "stdout",
     "output_type": "stream",
     "text": [
      "0000000100000    00000000000000000000000000000000\n",
      "0000000100001    00000000000010000000000000000001\n",
      "0000000100010    00000000000100000000000000000010\n",
      "0000000100011    00000000000110000000000000000011\n",
      "0000000100100    00000000001000000000000000000100\n",
      "0000000100101    00000000001010000000000000000101\n",
      "dtype: object\n"
     ]
    }
   ],
   "source": [
    "offset += 32\n",
    "print(fsm_bram[offset:offset+nmbr_states])"
   ]
  },
  {
   "cell_type": "code",
   "execution_count": 23,
   "metadata": {
    "collapsed": false,
    "deletable": true,
    "editable": true,
    "run_control": {
     "frozen": false,
     "read_only": false
    }
   },
   "outputs": [
    {
     "name": "stdout",
     "output_type": "stream",
     "text": [
      "0000001000000    00000000000000000000000000000000\n",
      "0000001000001    00000000000010000000000000000001\n",
      "0000001000010    00000000000100000000000000000010\n",
      "0000001000011    00000000000110000000000000000011\n",
      "0000001000100    00000000001000000000000000000100\n",
      "0000001000101    00000000001010000000000000000101\n",
      "dtype: object\n"
     ]
    }
   ],
   "source": [
    "offset += 32\n",
    "print(fsm_bram[offset:offset+nmbr_states])"
   ]
  },
  {
   "cell_type": "code",
   "execution_count": 24,
   "metadata": {
    "collapsed": false,
    "deletable": true,
    "editable": true,
    "run_control": {
     "frozen": false,
     "read_only": false
    }
   },
   "outputs": [
    {
     "name": "stdout",
     "output_type": "stream",
     "text": [
      "0000001100000    00000000000000000000000000000000\n",
      "0000001100001    00000000000010000000000000000001\n",
      "0000001100010    00000000000100000000000000000010\n",
      "0000001100011    00000000000110000000000000000011\n",
      "0000001100100    00000000001000000000000000000100\n",
      "0000001100101    00000000001010000000000000000101\n",
      "dtype: object\n"
     ]
    }
   ],
   "source": [
    "offset += 32\n",
    "print(fsm_bram[offset:offset+nmbr_states])"
   ]
  },
  {
   "cell_type": "markdown",
   "metadata": {
    "deletable": true,
    "editable": true
   },
   "source": [
    "### Load BRAM with encoded FSM data"
   ]
  },
  {
   "cell_type": "markdown",
   "metadata": {
    "deletable": true,
    "editable": true
   },
   "source": [
    "============================================================================"
   ]
  },
  {
   "cell_type": "code",
   "execution_count": 25,
   "metadata": {
    "collapsed": true,
    "deletable": true,
    "editable": true
   },
   "outputs": [],
   "source": [
    "# Skip states that self-loop\n",
    "for row in expanded_transitions:\n",
    "    if row[1] == row[2]:\n",
    "        continue"
   ]
  },
  {
   "cell_type": "markdown",
   "metadata": {
    "deletable": true,
    "editable": true
   },
   "source": [
    "============================================================================"
   ]
  },
  {
   "cell_type": "code",
   "execution_count": 26,
   "metadata": {
    "collapsed": false,
    "deletable": true,
    "editable": true,
    "run_control": {
     "frozen": false,
     "read_only": false
    }
   },
   "outputs": [
    {
     "name": "stdout",
     "output_type": "stream",
     "text": [
      "0000000000000    00000000000000000000000000000001\n",
      "0000000000001    00000000000010000000000000000010\n",
      "0000000000010    00000000000100000000000000000011\n",
      "0000000000011    00000000000110000000000000000100\n",
      "0000000000100    00000000001000000000000000000101\n",
      "0000000000101    00000000001010000000000000000000\n",
      "dtype: object\n"
     ]
    }
   ],
   "source": [
    "STATE_BIN_FORMAT = '0{}b'.format(nmbr_state_bits)\n",
    "INPUT_BIN_FORMAT = '0{}b'.format(nmbr_inputs)\n",
    "OUTPUT_BIN_FORMAT = '0{}b'.format(nmbr_outputs)\n",
    "OUTPUT_BIT_OFFSET = 19\n",
    "\n",
    "for input_value, offset_addr in enumerate(addr_offsets):\n",
    "    for transition in encoded_transitions:\n",
    "        if input_value == int(transition[0], 2):\n",
    "            current_state_code = int(transition[1], 2)\n",
    "            next_state_code = int(transition[2], 2)\n",
    "            output_value = int(transition[3], 2)\n",
    "            bram_data = (output_value << OUTPUT_BIT_OFFSET) + next_state_code\n",
    "            fsm_bram[offset_addr + current_state_code] = format(bram_data, \n",
    "                                                                DATA_FORMAT)\n",
    "\n",
    "offset = 0\n",
    "print(fsm_bram[offset:offset+nmbr_states])"
   ]
  },
  {
   "cell_type": "code",
   "execution_count": 27,
   "metadata": {
    "collapsed": false,
    "deletable": true,
    "editable": true,
    "run_control": {
     "frozen": false,
     "read_only": false
    }
   },
   "outputs": [
    {
     "name": "stdout",
     "output_type": "stream",
     "text": [
      "0000000100000    00000000000000000000000000000101\n",
      "0000000100001    00000000000010000000000000000000\n",
      "0000000100010    00000000000100000000000000000001\n",
      "0000000100011    00000000000110000000000000000010\n",
      "0000000100100    00000000001000000000000000000011\n",
      "0000000100101    00000000001010000000000000000100\n",
      "dtype: object\n"
     ]
    }
   ],
   "source": [
    "offset += 32\n",
    "print(fsm_bram[offset:offset+nmbr_states])"
   ]
  },
  {
   "cell_type": "code",
   "execution_count": 28,
   "metadata": {
    "collapsed": false,
    "deletable": true,
    "editable": true,
    "run_control": {
     "frozen": false,
     "read_only": false
    }
   },
   "outputs": [
    {
     "name": "stdout",
     "output_type": "stream",
     "text": [
      "0000001000000    00000000000000000000000000000000\n",
      "0000001000001    00000000000010000000000000000000\n",
      "0000001000010    00000000000100000000000000000000\n",
      "0000001000011    00000000000110000000000000000000\n",
      "0000001000100    00000000001000000000000000000000\n",
      "0000001000101    00000000001010000000000000000000\n",
      "dtype: object\n"
     ]
    }
   ],
   "source": [
    "offset += 32\n",
    "print(fsm_bram[offset:offset+nmbr_states])"
   ]
  },
  {
   "cell_type": "code",
   "execution_count": 29,
   "metadata": {
    "collapsed": false,
    "deletable": true,
    "editable": true,
    "run_control": {
     "frozen": false,
     "read_only": false
    }
   },
   "outputs": [
    {
     "name": "stdout",
     "output_type": "stream",
     "text": [
      "0000001100000    00000000000000000000000000000000\n",
      "0000001100001    00000000000010000000000000000000\n",
      "0000001100010    00000000000100000000000000000000\n",
      "0000001100011    00000000000110000000000000000000\n",
      "0000001100100    00000000001000000000000000000000\n",
      "0000001100101    00000000001010000000000000000000\n",
      "dtype: object\n"
     ]
    }
   ],
   "source": [
    "offset += 32\n",
    "print(fsm_bram[offset:offset+nmbr_states])"
   ]
  },
  {
   "cell_type": "markdown",
   "metadata": {
    "deletable": true,
    "editable": true
   },
   "source": [
    "============================================================================"
   ]
  },
  {
   "cell_type": "markdown",
   "metadata": {
    "deletable": true,
    "editable": true
   },
   "source": [
    "### Send data to BRAM"
   ]
  },
  {
   "cell_type": "code",
   "execution_count": 30,
   "metadata": {
    "collapsed": false,
    "deletable": true,
    "editable": true,
    "run_control": {
     "frozen": false,
     "read_only": false
    }
   },
   "outputs": [],
   "source": [
    "from pynq.intf.intf_const import ARDUINO\n",
    "from pynq.intf import request_intf\n",
    "from pynq.intf import PatternAnalyzer\n",
    "from pynq import Overlay\n",
    "\n",
    "Overlay('interface.bit').download()\n",
    "CMD_GENERATE_FSM_START = 0x009\n",
    "CMD_TRACE_ONLY = 0x00D\n",
    "ARDUINO_FSMG_PROGRAM = \"arduino_intf.bin\"\n",
    "intf = request_intf(ARDUINO, ARDUINO_FSMG_PROGRAM)\n",
    "num_samples = 20\n",
    "\n",
    "# 8K 32-bit words to be stored in BRAM\n",
    "src_addr,dst_addr = intf.allocate_buffers(2**BRAM_ADDR_WIDTH)\n",
    "for index, data in enumerate(fsm_bram):\n",
    "    intf.src_buf[index] = int(data,2)"
   ]
  },
  {
   "cell_type": "code",
   "execution_count": 31,
   "metadata": {
    "collapsed": true,
    "deletable": true,
    "editable": true,
    "run_control": {
     "frozen": false,
     "read_only": false
    }
   },
   "outputs": [],
   "source": [
    "config = []\n",
    "# bit 5, 6 connected to Pin 0, Pin 1 \n",
    "config.append(0x1f1f8180)\n",
    "# bit 9 - 12 not used\n",
    "config.append(0x1f1f1f1f)\n",
    "# bit 13 - 16 not used\n",
    "config.append(0x00000000)\n",
    "# bit 19, 20 connected to Pin 4, Pin 5\n",
    "config.append(0x05040000)\n",
    "# bit 21 connected to Pin 6\n",
    "config.append(0x00000006)\n",
    "# bit 25 - 28 not used\n",
    "config.append(0x00000000)\n",
    "# bit 29 - 31 not used\n",
    "config.append(0x00000000)\n",
    "# header pin 0 and 1 as input, pin 4 - 6 as output\n",
    "config.append(0x000fff8f)\n",
    "# Send source\n",
    "config.append(src_addr)\n",
    "# Send destination\n",
    "config.append(dst_addr)\n",
    "# Set number of samples\n",
    "config.append(num_samples)"
   ]
  },
  {
   "cell_type": "code",
   "execution_count": 32,
   "metadata": {
    "collapsed": true,
    "deletable": true,
    "editable": true,
    "run_control": {
     "frozen": false,
     "read_only": false
    }
   },
   "outputs": [],
   "source": [
    "# Wait for the interface processor to return control\n",
    "intf.write_control(config)\n",
    "intf.write_command(CMD_GENERATE_FSM_START)"
   ]
  },
  {
   "cell_type": "code",
   "execution_count": 33,
   "metadata": {
    "collapsed": true,
    "deletable": true,
    "editable": true,
    "run_control": {
     "frozen": false,
     "read_only": false
    }
   },
   "outputs": [],
   "source": [
    "# Get the samples from the returned buffer\n",
    "dst_samples = intf.ndarray_from_buffer(intf.dst_buf,\n",
    "                             num_samples*8,dtype=np.uint64)\n",
    "\n",
    "# Free the 2 buffers\n",
    "intf.free_buffers()"
   ]
  },
  {
   "cell_type": "code",
   "execution_count": 34,
   "metadata": {
    "collapsed": false,
    "deletable": true,
    "editable": true,
    "run_control": {
     "frozen": false,
     "read_only": false
    }
   },
   "outputs": [
    {
     "name": "stdout",
     "output_type": "stream",
     "text": [
      "[4611189039221964832 4611189039221964848 4611189039289073728\n",
      " 4611189039255519312 4611189039188410368 4611189039188410384\n",
      " 4611189039221964832 4611189039221964848 4611189039289073728\n",
      " 4611189039255519312 4611189039188410368 4611189039188410384\n",
      " 4611189039221964832 4611189039221964848 4611189039289073728\n",
      " 4611189039255519312 4611189039188410368 4611189039188410384\n",
      " 4611189039221964832 4611189039221964848]\n"
     ]
    }
   ],
   "source": [
    "print(dst_samples)"
   ]
  },
  {
   "cell_type": "code",
   "execution_count": 40,
   "metadata": {
    "collapsed": false,
    "deletable": true,
    "editable": true
   },
   "outputs": [
    {
     "name": "stdout",
     "output_type": "stream",
     "text": [
      "['D0', 'D1']\n"
     ]
    }
   ],
   "source": [
    "fsm_spec = {'inputs': [('reset','D0'), ('direction','D1')],\n",
    "    'outputs': [('alpha','D3'), ('beta','D4'), ('gamma','D5')],\n",
    "    'states': ('S0', 'S1', 'S2', 'S3', 'S4', 'S5'),\n",
    "    'transitions': [['00', 'S0', 'S1', '000'],\n",
    "                    ['01', 'S0', 'S5', '000'],\n",
    "                    ['00', 'S1', 'S2', '001'],\n",
    "                    ['01', 'S1', 'S0', '001'],\n",
    "                    ['00', 'S2', 'S3', '010'],\n",
    "                    ['01', 'S2', 'S1', '010'],\n",
    "                    ['00', 'S3', 'S4', '011'],\n",
    "                    ['01', 'S3', 'S2', '011'],\n",
    "                    ['00', 'S4', 'S5', '100'],\n",
    "                    ['01', 'S4', 'S3', '100'],\n",
    "                    ['00', 'S5', 'S0', '101'],\n",
    "                    ['01', 'S5', 'S4', '101'],\n",
    "                    ['1-', '*',  'S0', '']]}\n",
    "pins = [i[1] for i in fsm_spec['inputs']]\n",
    "print(pins)"
   ]
  },
  {
   "cell_type": "code",
   "execution_count": 57,
   "metadata": {
    "collapsed": false,
    "deletable": true,
    "editable": true
   },
   "outputs": [
    {
     "name": "stdout",
     "output_type": "stream",
     "text": [
      "3 0\n"
     ]
    }
   ],
   "source": [
    "a,b = divmod(6,2)\n",
    "print(a,b)"
   ]
  },
  {
   "cell_type": "code",
   "execution_count": null,
   "metadata": {
    "collapsed": true,
    "deletable": true,
    "editable": true
   },
   "outputs": [],
   "source": []
  }
 ],
 "metadata": {
  "anaconda-cloud": {},
  "kernelspec": {
   "display_name": "Python 3",
   "language": "python",
   "name": "python3"
  },
  "language_info": {
   "codemirror_mode": {
    "name": "ipython",
    "version": 3
   },
   "file_extension": ".py",
   "mimetype": "text/x-python",
   "name": "python",
   "nbconvert_exporter": "python",
   "pygments_lexer": "ipython3",
   "version": "3.6.0"
  }
 },
 "nbformat": 4,
 "nbformat_minor": 1
}
