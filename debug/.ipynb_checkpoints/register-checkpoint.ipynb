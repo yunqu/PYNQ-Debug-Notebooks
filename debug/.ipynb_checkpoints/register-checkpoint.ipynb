{
 "cells": [
  {
   "cell_type": "markdown",
   "metadata": {
    "deletable": true,
    "editable": true
   },
   "source": [
    "### Register Class for slicing of fields in a 32b array"
   ]
  },
  {
   "cell_type": "code",
   "execution_count": 1,
   "metadata": {
    "collapsed": false,
    "deletable": true,
    "editable": true
   },
   "outputs": [],
   "source": [
    "import numpy as np\n",
    "from pynq import MMIO"
   ]
  },
  {
   "cell_type": "code",
   "execution_count": 2,
   "metadata": {
    "collapsed": false,
    "deletable": true,
    "editable": true
   },
   "outputs": [
    {
     "data": {
      "text/plain": [
       "'0x200500'"
      ]
     },
     "execution_count": 2,
     "metadata": {},
     "output_type": "execute_result"
    }
   ],
   "source": [
    "fclk0 = MMIO(0xF8000170)\n",
    "hex(fclk0.read())"
   ]
  },
  {
   "cell_type": "markdown",
   "metadata": {
    "deletable": true,
    "editable": true
   },
   "source": [
    "### Class only accessible using slicing.  Initialized with numpy array that is 4B"
   ]
  },
  {
   "cell_type": "code",
   "execution_count": 3,
   "metadata": {
    "collapsed": false,
    "deletable": true,
    "editable": true
   },
   "outputs": [],
   "source": [
    "class register:\n",
    "    \n",
    "    def __init__(self,buffer):    \n",
    "        self.buffer = buffer.astype(np.uint32,copy=False)\n",
    "        \n",
    "    def __getitem__(self, index):\n",
    "        currval = int.from_bytes(self.buffer, byteorder='little')\n",
    "        if isinstance(index, int):\n",
    "            mask = 1<<index\n",
    "            return (currval & mask) >> index\n",
    "        elif isinstance(index, slice):\n",
    "            start, stop, step = index.start, index.stop, index.step\n",
    "            if step is None or step==-1:\n",
    "                if start is None:\n",
    "                    start = 31\n",
    "                if stop is None:\n",
    "                    stop = 0\n",
    "            elif step == 1:\n",
    "                if start is None:\n",
    "                    start = 0\n",
    "                if stop is None:\n",
    "                    stop = 31\n",
    "            else:\n",
    "                raise ValueError(\"Slicing step is not valid.\")\n",
    "\n",
    "            if start>=stop:\n",
    "                mask = ((1<<(start-stop+1)) - 1) << stop  \n",
    "                return (currval & mask) >> stop\n",
    "            else:\n",
    "                length = stop-start+1\n",
    "                mask = ((1<<length) - 1) << start\n",
    "                regval = (currval & mask) >> start\n",
    "                return int('{:0{length}b}'.format(regval, \n",
    "                                                  length=length)[::-1], 2)    \n",
    "        else:\n",
    "            raise ValueError(\"Index must be int or slice.\")\n",
    "\n",
    "    def __setitem__(self, index, value):\n",
    "        currval = int.from_bytes(self.buffer, byteorder='little')\n",
    "        if isinstance(index, int):\n",
    "            if value!=0 and value!=1:\n",
    "                raise ValueError(\"Value to be set should be either 0 or 1.\")\n",
    "            mask = 1<<index\n",
    "            self.buffer[0] = (currval & ~mask) | (value << index)\n",
    "        elif isinstance(index, slice):\n",
    "            start, stop, step = index.start, index.stop, index.step\n",
    "            if step is None or step==-1:\n",
    "                if start is None:\n",
    "                    start = 31\n",
    "                if stop is None:\n",
    "                    stop = 0\n",
    "            elif step == 1:\n",
    "                if start is None:\n",
    "                    start = 0\n",
    "                if stop is None:\n",
    "                    stop = 31\n",
    "            else:\n",
    "                raise ValueError(\"Slicing step is not valid.\")\n",
    "\n",
    "            if start>=stop:\n",
    "                mask = ((1<<(start-stop+1)) - 1) << stop  \n",
    "                self.buffer[0] = (currval & ~mask) | (value << stop)\n",
    "            else:\n",
    "                length = stop-start+1\n",
    "                mask = ((1<<length) - 1) << start\n",
    "                regval = int('{:0{length}b}'.format(value, \n",
    "                                                    length=length)[::-1], 2)\n",
    "                self.buffer[0] = (currval & ~mask) | (regval << start)\n",
    "        else:\n",
    "            raise ValueError(\"Index must be int or slice.\")\n",
    "    \n",
    "    def __str__(self):\n",
    "        currval = int.from_bytes(self.buffer, byteorder='little')\n",
    "        return hex(currval)"
   ]
  },
  {
   "cell_type": "markdown",
   "metadata": {
    "deletable": true,
    "editable": true
   },
   "source": [
    "### Show some simple slicing and check values "
   ]
  },
  {
   "cell_type": "code",
   "execution_count": 4,
   "metadata": {
    "collapsed": false,
    "deletable": true,
    "editable": true
   },
   "outputs": [],
   "source": [
    "# Give a register view over the MMIO's numpy array\n",
    "fclk0_reg = register(fclk0.array)"
   ]
  },
  {
   "cell_type": "code",
   "execution_count": 5,
   "metadata": {
    "collapsed": false,
    "deletable": true,
    "editable": true
   },
   "outputs": [
    {
     "name": "stdout",
     "output_type": "stream",
     "text": [
      "31:0  regval:   0x200500\n",
      "25:20 div1:     0x2\n",
      "13:8  div0:     0x5\n",
      "5:4   srcsel:   0x0\n"
     ]
    }
   ],
   "source": [
    "print(\"{}:{}  regval:   {}\".format(31,0,hex(fclk0_reg[31:0])))\n",
    "print(\"{}:{} div1:     {}\".format(25,20,hex(fclk0_reg[25:20])))\n",
    "print(\"{}:{}  div0:     {}\".format(13,8,hex(fclk0_reg[13:8])))\n",
    "print(\"{}:{}   srcsel:   {}\".format(5,4,hex(fclk0_reg[5:4])))"
   ]
  },
  {
   "cell_type": "code",
   "execution_count": 6,
   "metadata": {
    "collapsed": false,
    "deletable": true,
    "editable": true
   },
   "outputs": [
    {
     "name": "stdout",
     "output_type": "stream",
     "text": [
      "31:0  regval:   0x200500\n",
      "25:20 div1:     0x2\n",
      "13:8  div0:     0x5\n",
      "5:4   srcsel:   0x0\n"
     ]
    }
   ],
   "source": [
    "fclk0_reg[21] = 0x1\n",
    "\n",
    "print(\"{}:{}  regval:   {}\".format(31,0,hex(fclk0_reg[31:0])))\n",
    "print(\"{}:{} div1:     {}\".format(25,20,hex(fclk0_reg[25:20])))\n",
    "print(\"{}:{}  div0:     {}\".format(13,8,hex(fclk0_reg[13:8])))\n",
    "print(\"{}:{}   srcsel:   {}\".format(5,4,hex(fclk0_reg[5:4])))"
   ]
  },
  {
   "cell_type": "code",
   "execution_count": 7,
   "metadata": {
    "collapsed": false,
    "deletable": true,
    "editable": true
   },
   "outputs": [
    {
     "name": "stdout",
     "output_type": "stream",
     "text": [
      "MMIO and Register sharing buffer? True\n"
     ]
    }
   ],
   "source": [
    "print(\"MMIO and Register sharing buffer? {}\".format(fclk0.read() == fclk0_reg[:]))"
   ]
  },
  {
   "cell_type": "code",
   "execution_count": 8,
   "metadata": {
    "collapsed": false,
    "deletable": true,
    "editable": true
   },
   "outputs": [
    {
     "name": "stdout",
     "output_type": "stream",
     "text": [
      "0x200500\n"
     ]
    }
   ],
   "source": [
    "print(fclk0_reg)"
   ]
  },
  {
   "cell_type": "code",
   "execution_count": null,
   "metadata": {
    "collapsed": true
   },
   "outputs": [],
   "source": []
  }
 ],
 "metadata": {
  "kernelspec": {
   "display_name": "Python 3",
   "language": "python",
   "name": "python3"
  },
  "language_info": {
   "codemirror_mode": {
    "name": "ipython",
    "version": 3
   },
   "file_extension": ".py",
   "mimetype": "text/x-python",
   "name": "python",
   "nbconvert_exporter": "python",
   "pygments_lexer": "ipython3",
   "version": "3.6.0"
  }
 },
 "nbformat": 4,
 "nbformat_minor": 2
}
