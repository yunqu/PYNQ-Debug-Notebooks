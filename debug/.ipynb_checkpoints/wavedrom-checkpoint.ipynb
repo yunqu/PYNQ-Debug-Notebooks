{
 "cells": [
  {
   "cell_type": "code",
   "execution_count": 50,
   "metadata": {
    "collapsed": false,
    "deletable": true,
    "editable": true
   },
   "outputs": [
    {
     "data": {
      "text/plain": [
       "'0000000001111111111111111101010011000111'"
      ]
     },
     "execution_count": 50,
     "metadata": {},
     "output_type": "execute_result"
    }
   ],
   "source": [
    "import numpy as np\n",
    "import re\n",
    "import copy\n",
    "\n",
    "def wave_to_bitstring(wave):\n",
    "    \"\"\"Function to convert a pattern consisting of `l`, `h`, and dot to a\n",
    "    sequence of `0` and `1`.\n",
    "\n",
    "    Parameters\n",
    "    ----------\n",
    "    wave : str\n",
    "        The input string to convert.\n",
    "\n",
    "    Returns\n",
    "    -------\n",
    "    list\n",
    "        A list of elements, each element being 0 or 1.\n",
    "\n",
    "    \"\"\"\n",
    "    substitution_map = {'l': '0', 'h': '1', '0': '0', '1': '1'}\n",
    "    def delete_dots(match):\n",
    "        return substitution_map[match.group()[0]] * len(match.group())\n",
    "\n",
    "    wave_regex = re.compile(r'[l]\\.*|[h]\\.*')\n",
    "    return re.sub(wave_regex, delete_dots, wave)\n",
    "\n",
    "wave_to_bitstring('l........h................01lh00hhlll11h')"
   ]
  },
  {
   "cell_type": "code",
   "execution_count": 66,
   "metadata": {
    "collapsed": false,
    "deletable": true,
    "editable": true
   },
   "outputs": [
    {
     "data": {
      "text/plain": [
       "'l.............h...................l........................................h..l.h.lhlh'"
      ]
     },
     "execution_count": 66,
     "metadata": {},
     "output_type": "execute_result"
    }
   ],
   "source": [
    "import numpy as np\n",
    "import re\n",
    "import copy\n",
    "\n",
    "def bitstring_to_wave(bitstring):\n",
    "    \"\"\"Function to convert a pattern consisting of `0`, `1` into a sequence\n",
    "    of `l`, `h`, and dots.\n",
    "    \n",
    "    For example, if the bit string is \"010011000111\", then the result will be\n",
    "    \"lhl.h.l..h..\".\n",
    "\n",
    "    Returns\n",
    "    -------\n",
    "    str\n",
    "        New wave tokens with valid tokens and dots.\n",
    "    \n",
    "    \"\"\"\n",
    "    substitution_map = {'0': 'l', '1': 'h', '.': '.'}\n",
    "    def insert_dots(match):\n",
    "        return substitution_map[match.group()[0]] + \\\n",
    "               '.' * (len(match.group()) - 1)\n",
    "\n",
    "    bitstr_regex = re.compile(r'[0][0]*|[1][1]*')\n",
    "    return re.sub(bitstr_regex, insert_dots, bitstring)\n",
    "\n",
    "bitstring_to_wave('00000000000000111111111111111111110000000000000000000000000000000000000000011100110101')"
   ]
  },
  {
   "cell_type": "code",
   "execution_count": 21,
   "metadata": {
    "collapsed": false,
    "deletable": true,
    "editable": true
   },
   "outputs": [
    {
     "name": "stdout",
     "output_type": "stream",
     "text": [
      "1111110000001100001\n",
      "1.....0.....1.0...1\n"
     ]
    }
   ],
   "source": [
    "import re\n",
    "pat_in = 'h.....l.....h.l..lh'\n",
    "regex0 = re.compile('([ln0]\\.*)')\n",
    "regex1 = re.compile('([hp1]\\.*)')\n",
    "matches0 = re.finditer(regex0, pat_in)\n",
    "matches1 = re.finditer(regex1, pat_in)\n",
    "for i in matches0:\n",
    "    pat_in = pat_in.replace(i.group(),\"0\"*len(i.group()))\n",
    "for i in matches1:\n",
    "    pat_in = pat_in.replace(i.group(),\"1\"*len(i.group()))\n",
    "print(pat_in)\n",
    "\n",
    "print(logic2level(pat_in))"
   ]
  },
  {
   "cell_type": "code",
   "execution_count": 3,
   "metadata": {
    "collapsed": false,
    "deletable": true,
    "editable": true
   },
   "outputs": [
    {
     "name": "stdout",
     "output_type": "stream",
     "text": [
      "[{'name': 'dat', 'pin': 1, 'wave': [1, 0, 0, 0, 1, 1, 1, 1, 1, 1]}, {'name': 'req', 'pin': 2, 'wave': [0, 0, 1, 1, 1, 0, 1, 1, 0, 1]}]\n"
     ]
    }
   ],
   "source": [
    "import re\n",
    "def level2logic(pat_in):\n",
    "    \"\"\"Function to convert a pattern consisting of `l`, `h`, and dot to a\n",
    "    sequence of `0` and `1`.\n",
    "\n",
    "    Parameters\n",
    "    ----------\n",
    "    pat_in : str\n",
    "        The input string to convert.\n",
    "\n",
    "    Returns\n",
    "    -------\n",
    "    pat_out : str\n",
    "        The sequence of 0's and 1's converted from the input string.\n",
    "\n",
    "    \"\"\"\n",
    "    regex0 = re.compile('([l0]\\.*)')\n",
    "    regex1 = re.compile('([h1]\\.*)')\n",
    "    pat_out = pat_in\n",
    "    matches0 = re.finditer(regex0, pat_out)\n",
    "    matches1 = re.finditer(regex1, pat_out)\n",
    "    for i in matches0:\n",
    "        pat_out = pat_out.replace(i.group(), \"0\" * len(i.group()))\n",
    "    for i in matches1:\n",
    "        pat_out = pat_out.replace(i.group(), \"1\" * len(i.group()))\n",
    "    return [int(i,10) for i in list(pat_out)]\n",
    "\n",
    "a = [{'name': 'dat', 'pin': 1, 'wave': '10..111...'},\n",
    "     {'name': 'req', 'pin': 2, 'wave': 'l.h..01.01'}]\n",
    "\n",
    "for i in a:\n",
    "    i['wave'] = level2logic(i['wave'])\n",
    "    \n",
    "print(a)"
   ]
  },
  {
   "cell_type": "code",
   "execution_count": 4,
   "metadata": {
    "collapsed": false,
    "deletable": true,
    "editable": true
   },
   "outputs": [
    {
     "name": "stdout",
     "output_type": "stream",
     "text": [
      "[[1 0]\n",
      " [0 0]\n",
      " [0 1]\n",
      " [0 1]\n",
      " [1 1]\n",
      " [1 0]\n",
      " [1 1]\n",
      " [1 1]\n",
      " [1 0]\n",
      " [1 1]]\n"
     ]
    }
   ],
   "source": [
    "a = np.array([[1, 0, 0, 0, 1, 1, 1, 1, 1, 1],\n",
    "     [0, 0, 1, 1, 1, 0, 1, 1, 0, 1]],dtype=np.uint8)\n",
    "b = a.T.copy()\n",
    "print(b)"
   ]
  },
  {
   "cell_type": "code",
   "execution_count": 5,
   "metadata": {
    "collapsed": false,
    "deletable": true,
    "editable": true
   },
   "outputs": [
    {
     "name": "stdout",
     "output_type": "stream",
     "text": [
      "14\n"
     ]
    }
   ],
   "source": [
    "def bit2sample(bits):\n",
    "    \"\"\"Function to convert a bit list into a multi-bit sample.\n",
    "    \n",
    "    Example: [1, 1, 1, 0] will be converted to 15.\n",
    "    \n",
    "    Parameters\n",
    "    ----------\n",
    "    bits : list\n",
    "        A list of bits, each element being 0 or 1.\n",
    "    \n",
    "    Returns\n",
    "    -------\n",
    "    int\n",
    "        An integer converted from the bit samples.\n",
    "        \n",
    "    \"\"\"\n",
    "    return int(\"\".join(map(str, list(bits))), 2)\n",
    "\n",
    "print(bit2sample([1,1,1,0]))"
   ]
  },
  {
   "cell_type": "code",
   "execution_count": 6,
   "metadata": {
    "collapsed": false,
    "deletable": true,
    "editable": true
   },
   "outputs": [
    {
     "name": "stdout",
     "output_type": "stream",
     "text": [
      "<class 'numpy.ndarray'>\n"
     ]
    }
   ],
   "source": [
    "temp_samples = np.array([[1, 0, 0, 0, 1, 1, 1, 1, 1, 1],\n",
    "     [0, 0, 1, 1, 1, 0, 1, 1, 0, 1]],dtype=np.uint8)\n",
    "samples = np.apply_along_axis(bit2sample, 1, temp_samples)\n",
    "print(type(samples))"
   ]
  },
  {
   "cell_type": "code",
   "execution_count": 7,
   "metadata": {
    "collapsed": false,
    "deletable": true,
    "editable": true
   },
   "outputs": [
    {
     "name": "stdout",
     "output_type": "stream",
     "text": [
      "[1 3 9]\n",
      "length is 96\n",
      "[0 0 0 0 0 0 0 1 0 0 0 0 0 0 0 0 0 0 0 0 0 0 0 0 0 0 0 0 0 0 0 0 0 0 0 0 0\n",
      " 0 1 1 0 0 0 0 0 0 0 0 0 0 0 0 0 0 0 0 0 0 0 0 0 0 0 0 0 0 0 0 1 0 0 1 0 0\n",
      " 0 0 0 0 0 0 0 0 0 0 0 0 0 0 0 0 0 0 0 0 0 0]\n"
     ]
    }
   ],
   "source": [
    "x = np.array([1,3, 9])\n",
    "print(x)\n",
    "print(\"length is {}\".format(len(np.unpackbits(x.view(np.uint8)))))\n",
    "print(np.unpackbits(x.view(np.uint8)))"
   ]
  },
  {
   "cell_type": "code",
   "execution_count": 8,
   "metadata": {
    "collapsed": false,
    "deletable": true,
    "editable": true
   },
   "outputs": [
    {
     "name": "stdout",
     "output_type": "stream",
     "text": [
      "[  0 232]\n",
      "[0 0 0 0 0 0 0 0 1 1 1 0 1 0 0 0]\n"
     ]
    }
   ],
   "source": [
    "x = np.array([1256,2048],dtype=np.uint8)\n",
    "reversed_x = x[::-1]\n",
    "print(reversed_x)\n",
    "print(np.unpackbits(reversed_x))"
   ]
  },
  {
   "cell_type": "code",
   "execution_count": 9,
   "metadata": {
    "collapsed": false,
    "deletable": true,
    "editable": true
   },
   "outputs": [
    {
     "name": "stdout",
     "output_type": "stream",
     "text": [
      "bytearray(b'\\xc0\\xde\\xde\\xad')\n"
     ]
    }
   ],
   "source": [
    "data = b'\\xAD\\xDE\\xDE\\xC0'\n",
    "swap_data = bytearray(data)\n",
    "swap_data.reverse()\n",
    "print(swap_data)"
   ]
  },
  {
   "cell_type": "code",
   "execution_count": 10,
   "metadata": {
    "collapsed": false,
    "deletable": true,
    "editable": true
   },
   "outputs": [
    {
     "name": "stdout",
     "output_type": "stream",
     "text": [
      "Byte array: bytearray(b'\\x00\\x00\\x00d\\x00\\x00\\x00e\\x00\\x00\\x00f\\x00\\x00\\x00g\\x00\\x00\\x00h\\x00\\x00\\x00i')\n"
     ]
    },
    {
     "data": {
      "text/plain": [
       "array([[0, 1, 0, 1, 0, 1],\n",
       "       [0, 0, 1, 1, 0, 0],\n",
       "       [1, 1, 1, 1, 0, 0],\n",
       "       [0, 0, 0, 0, 1, 1],\n",
       "       [0, 0, 0, 0, 0, 0],\n",
       "       [1, 1, 1, 1, 1, 1],\n",
       "       [1, 1, 1, 1, 1, 1],\n",
       "       [0, 0, 0, 0, 0, 0],\n",
       "       [0, 0, 0, 0, 0, 0],\n",
       "       [0, 0, 0, 0, 0, 0],\n",
       "       [0, 0, 0, 0, 0, 0],\n",
       "       [0, 0, 0, 0, 0, 0],\n",
       "       [0, 0, 0, 0, 0, 0],\n",
       "       [0, 0, 0, 0, 0, 0],\n",
       "       [0, 0, 0, 0, 0, 0],\n",
       "       [0, 0, 0, 0, 0, 0],\n",
       "       [0, 0, 0, 0, 0, 0],\n",
       "       [0, 0, 0, 0, 0, 0],\n",
       "       [0, 0, 0, 0, 0, 0],\n",
       "       [0, 0, 0, 0, 0, 0],\n",
       "       [0, 0, 0, 0, 0, 0],\n",
       "       [0, 0, 0, 0, 0, 0],\n",
       "       [0, 0, 0, 0, 0, 0],\n",
       "       [0, 0, 0, 0, 0, 0],\n",
       "       [0, 0, 0, 0, 0, 0],\n",
       "       [0, 0, 0, 0, 0, 0],\n",
       "       [0, 0, 0, 0, 0, 0],\n",
       "       [0, 0, 0, 0, 0, 0],\n",
       "       [0, 0, 0, 0, 0, 0],\n",
       "       [0, 0, 0, 0, 0, 0],\n",
       "       [0, 0, 0, 0, 0, 0],\n",
       "       [0, 0, 0, 0, 0, 0]], dtype=uint8)"
      ]
     },
     "execution_count": 10,
     "metadata": {},
     "output_type": "execute_result"
    }
   ],
   "source": [
    "x = np.array([[100,101,102,103,104,105]],dtype='>i4')\n",
    "data = x.tobytes()\n",
    "y = bytearray(data)\n",
    "print(\"Byte array: {}\".format(y))\n",
    "rev = np.frombuffer(y,dtype=np.uint8)\n",
    "bit_array = np.unpackbits(rev)\n",
    "final = bit_array.reshape(6,32).T\n",
    "final[::-1]"
   ]
  },
  {
   "cell_type": "code",
   "execution_count": 11,
   "metadata": {
    "collapsed": false,
    "deletable": true,
    "editable": true
   },
   "outputs": [
    {
     "data": {
      "text/plain": [
       "array([[0, 1, 0, 1, 0, 1],\n",
       "       [0, 0, 1, 1, 0, 0],\n",
       "       [1, 1, 1, 1, 0, 0],\n",
       "       [0, 0, 0, 0, 1, 1],\n",
       "       [0, 0, 0, 0, 0, 0],\n",
       "       [1, 1, 1, 1, 1, 1],\n",
       "       [1, 1, 1, 1, 1, 1],\n",
       "       [0, 0, 0, 0, 0, 0],\n",
       "       [0, 0, 0, 0, 0, 0],\n",
       "       [0, 0, 0, 0, 0, 0],\n",
       "       [0, 0, 0, 0, 0, 0],\n",
       "       [0, 0, 0, 0, 0, 0],\n",
       "       [0, 0, 0, 0, 0, 0],\n",
       "       [0, 0, 0, 0, 0, 0],\n",
       "       [0, 0, 0, 0, 0, 0],\n",
       "       [0, 0, 0, 0, 0, 0],\n",
       "       [0, 0, 0, 0, 0, 0],\n",
       "       [0, 0, 0, 0, 0, 0],\n",
       "       [0, 0, 0, 0, 0, 0],\n",
       "       [0, 0, 0, 0, 0, 0],\n",
       "       [0, 0, 0, 0, 0, 0],\n",
       "       [0, 0, 0, 0, 0, 0],\n",
       "       [0, 0, 0, 0, 0, 0],\n",
       "       [0, 0, 0, 0, 0, 0],\n",
       "       [0, 0, 0, 0, 0, 0],\n",
       "       [0, 0, 0, 0, 0, 0],\n",
       "       [0, 0, 0, 0, 0, 0],\n",
       "       [0, 0, 0, 0, 0, 0],\n",
       "       [0, 0, 0, 0, 0, 0],\n",
       "       [0, 0, 0, 0, 0, 0],\n",
       "       [0, 0, 0, 0, 0, 0],\n",
       "       [0, 0, 0, 0, 0, 0],\n",
       "       [0, 0, 0, 0, 0, 0],\n",
       "       [0, 0, 0, 0, 0, 0],\n",
       "       [0, 0, 0, 0, 0, 0],\n",
       "       [0, 0, 0, 0, 0, 0],\n",
       "       [0, 0, 0, 0, 0, 0],\n",
       "       [0, 0, 0, 0, 0, 0],\n",
       "       [0, 0, 0, 0, 0, 0],\n",
       "       [0, 0, 0, 0, 0, 0],\n",
       "       [0, 0, 0, 0, 0, 0],\n",
       "       [0, 0, 0, 0, 0, 0],\n",
       "       [0, 0, 0, 0, 0, 0],\n",
       "       [0, 0, 0, 0, 0, 0],\n",
       "       [0, 0, 0, 0, 0, 0],\n",
       "       [0, 0, 0, 0, 0, 0],\n",
       "       [0, 0, 0, 0, 0, 0],\n",
       "       [0, 0, 0, 0, 0, 0],\n",
       "       [0, 0, 0, 0, 0, 0],\n",
       "       [0, 0, 0, 0, 0, 0],\n",
       "       [0, 0, 0, 0, 0, 0],\n",
       "       [0, 0, 0, 0, 0, 0],\n",
       "       [0, 0, 0, 0, 0, 0],\n",
       "       [0, 0, 0, 0, 0, 0],\n",
       "       [0, 0, 0, 0, 0, 0],\n",
       "       [0, 0, 0, 0, 0, 0],\n",
       "       [0, 0, 0, 0, 0, 0],\n",
       "       [0, 0, 0, 0, 0, 0],\n",
       "       [0, 0, 0, 0, 0, 0],\n",
       "       [0, 0, 0, 0, 0, 0],\n",
       "       [0, 0, 0, 0, 0, 0],\n",
       "       [0, 0, 0, 0, 0, 0],\n",
       "       [0, 0, 0, 0, 0, 0],\n",
       "       [0, 0, 0, 0, 0, 0]], dtype=uint8)"
      ]
     },
     "execution_count": 11,
     "metadata": {},
     "output_type": "execute_result"
    }
   ],
   "source": [
    "x = np.array([[100,101,102,103,104,105]],dtype='uint64')\n",
    "y = np.zeros((1,6),dtype='>i8')\n",
    "np.copyto(y,x)\n",
    "rev = np.frombuffer(y,dtype=np.uint8)\n",
    "bit_array = np.unpackbits(rev)\n",
    "final = bit_array.reshape(6,64).T\n",
    "final[::-1]"
   ]
  },
  {
   "cell_type": "code",
   "execution_count": 12,
   "metadata": {
    "collapsed": false,
    "deletable": true,
    "editable": true
   },
   "outputs": [
    {
     "name": "stdout",
     "output_type": "stream",
     "text": [
      "no transpose: [[ 0  1  2  3]\n",
      " [ 4  5  6  7]\n",
      " [ 8  9 10 11]]   C_CONTIGUOUS : True\n",
      "  F_CONTIGUOUS : False\n",
      "  OWNDATA : True\n",
      "  WRITEABLE : True\n",
      "  ALIGNED : True\n",
      "  UPDATEIFCOPY : False\n",
      "after transpose: [[ 0  4  8]\n",
      " [ 1  5  9]\n",
      " [ 2  6 10]\n",
      " [ 3  7 11]]   C_CONTIGUOUS : True\n",
      "  F_CONTIGUOUS : False\n",
      "  OWNDATA : True\n",
      "  WRITEABLE : True\n",
      "  ALIGNED : True\n",
      "  UPDATEIFCOPY : False\n"
     ]
    }
   ],
   "source": [
    "x=np.arange(12).reshape(3,4).copy()\n",
    "print(f'no transpose: {x} {x.flags}')\n",
    "y = x.T.copy()\n",
    "print(f'after transpose: {y} {y.flags}')"
   ]
  },
  {
   "cell_type": "code",
   "execution_count": 13,
   "metadata": {
    "collapsed": false,
    "deletable": true,
    "editable": true
   },
   "outputs": [
    {
     "name": "stdout",
     "output_type": "stream",
     "text": [
      "[[0 0 0 0 0 0 0 0 0 0]\n",
      " [1 1 1 1 1 1 1 1 1 1]\n",
      " [0 0 0 0 0 0 0 0 0 0]\n",
      " [0 0 0 0 0 0 0 0 0 0]\n",
      " [0 0 0 0 0 0 0 0 0 0]]\n",
      "  C_CONTIGUOUS : True\n",
      "  F_CONTIGUOUS : False\n",
      "  OWNDATA : True\n",
      "  WRITEABLE : True\n",
      "  ALIGNED : True\n",
      "  UPDATEIFCOPY : False\n"
     ]
    }
   ],
   "source": [
    "temp_lanes = np.zeros((5,10),dtype=np.uint8)\n",
    "temp_lanes[1] = [1]*10\n",
    "print(temp_lanes)\n",
    "print(f'{temp_lanes.flags}')"
   ]
  },
  {
   "cell_type": "code",
   "execution_count": 14,
   "metadata": {
    "collapsed": false,
    "deletable": true,
    "editable": true
   },
   "outputs": [
    {
     "name": "stdout",
     "output_type": "stream",
     "text": [
      "3 <class 'numpy.uint32'>\n"
     ]
    }
   ],
   "source": [
    "a = int('11',2)\n",
    "b = np.uint32(a)\n",
    "print(b,type(b))"
   ]
  },
  {
   "cell_type": "code",
   "execution_count": 15,
   "metadata": {
    "collapsed": false,
    "deletable": true,
    "editable": true
   },
   "outputs": [
    {
     "data": {
      "text/plain": [
       "  C_CONTIGUOUS : True\n",
       "  F_CONTIGUOUS : True\n",
       "  OWNDATA : True\n",
       "  WRITEABLE : True\n",
       "  ALIGNED : True\n",
       "  UPDATEIFCOPY : False"
      ]
     },
     "execution_count": 15,
     "metadata": {},
     "output_type": "execute_result"
    }
   ],
   "source": [
    "dst_samples = np.zeros((2,1), dtype=np.uint64)\n",
    "dst_samples.flags"
   ]
  },
  {
   "cell_type": "code",
   "execution_count": 16,
   "metadata": {
    "collapsed": false,
    "deletable": true,
    "editable": true
   },
   "outputs": [
    {
     "name": "stdout",
     "output_type": "stream",
     "text": [
      "[[0]\n",
      " [1]\n",
      " [2]\n",
      " [3]\n",
      " [4]] 5\n",
      "[[0 1 0 1 0]\n",
      " [0 0 1 1 0]\n",
      " [0 0 0 0 1]\n",
      " [0 0 0 0 0]\n",
      " [0 0 0 0 0]\n",
      " [0 0 0 0 0]\n",
      " [0 0 0 0 0]\n",
      " [0 0 0 0 0]\n",
      " [0 0 0 0 0]\n",
      " [0 0 0 0 0]\n",
      " [0 0 0 0 0]\n",
      " [0 0 0 0 0]\n",
      " [0 0 0 0 0]\n",
      " [0 0 0 0 0]\n",
      " [0 0 0 0 0]\n",
      " [0 0 0 0 0]\n",
      " [0 0 0 0 0]\n",
      " [0 0 0 0 0]\n",
      " [0 0 0 0 0]\n",
      " [0 0 0 0 0]\n",
      " [0 0 0 0 0]\n",
      " [0 0 0 0 0]\n",
      " [0 0 0 0 0]\n",
      " [0 0 0 0 0]\n",
      " [0 0 0 0 0]\n",
      " [0 0 0 0 0]\n",
      " [0 0 0 0 0]\n",
      " [0 0 0 0 0]\n",
      " [0 0 0 0 0]\n",
      " [0 0 0 0 0]\n",
      " [0 0 0 0 0]\n",
      " [0 0 0 0 0]\n",
      " [0 0 0 0 0]\n",
      " [0 0 0 0 0]\n",
      " [0 0 0 0 0]\n",
      " [0 0 0 0 0]\n",
      " [0 0 0 0 0]\n",
      " [0 0 0 0 0]\n",
      " [0 0 0 0 0]\n",
      " [0 0 0 0 0]\n",
      " [0 0 0 0 0]\n",
      " [0 0 0 0 0]\n",
      " [0 0 0 0 0]\n",
      " [0 0 0 0 0]\n",
      " [0 0 0 0 0]\n",
      " [0 0 0 0 0]\n",
      " [0 0 0 0 0]\n",
      " [0 0 0 0 0]\n",
      " [0 0 0 0 0]\n",
      " [0 0 0 0 0]\n",
      " [0 0 0 0 0]\n",
      " [0 0 0 0 0]\n",
      " [0 0 0 0 0]\n",
      " [0 0 0 0 0]\n",
      " [0 0 0 0 0]\n",
      " [0 0 0 0 0]\n",
      " [0 0 0 0 0]\n",
      " [0 0 0 0 0]\n",
      " [0 0 0 0 0]\n",
      " [0 0 0 0 0]\n",
      " [0 0 0 0 0]\n",
      " [0 0 0 0 0]\n",
      " [0 0 0 0 0]\n",
      " [0 0 0 0 0]]\n",
      "Lane0 is 01010\n",
      "Lane1 is 00110\n",
      "Lane2 is 00001\n",
      "Lane3 is 00000\n",
      "Lane4 is 00000\n",
      "Lane5 is 00000\n",
      "Lane6 is 00000\n",
      "Lane7 is 00000\n",
      "Lane8 is 00000\n",
      "Lane9 is 00000\n"
     ]
    }
   ],
   "source": [
    "a = np.zeros((5,1),dtype=np.uint64)\n",
    "j = 1\n",
    "for j in range(5):\n",
    "    a[j] = j\n",
    "    j+=1\n",
    "print(a, len(a))\n",
    "\n",
    "temp_samples = np.zeros((5,1),dtype='>i8')\n",
    "np.copyto(temp_samples, a)\n",
    "rev = np.frombuffer(temp_samples,dtype=np.uint8)\n",
    "bit_array = np.unpackbits(rev)\n",
    "final = bit_array.reshape(5,64).T[::-1].copy()\n",
    "print(final)\n",
    "for i in range(10):\n",
    "    xx = final[i].astype(str).tolist()\n",
    "    sample = ''.join(xx)\n",
    "    print(f'Lane{i} is {sample}')"
   ]
  },
  {
   "cell_type": "code",
   "execution_count": 3,
   "metadata": {
    "collapsed": false,
    "deletable": true,
    "editable": true
   },
   "outputs": [
    {
     "name": "stdout",
     "output_type": "stream",
     "text": [
      "[1 1 1 ..., 1 1 1]\n",
      "Using interface: 8029040, False\n",
      "using ctypes: 8029040\n"
     ]
    }
   ],
   "source": [
    "import numpy as np\n",
    "import ctypes\n",
    "a = np.ones(5000,dtype=np.uint32)\n",
    "print(a)\n",
    "pointer1, ro_flag = a.__array_interface__['data']\n",
    "print(f'Using interface: {pointer1}, {ro_flag}')\n",
    "pointer2 = a.ctypes.data\n",
    "print(f'using ctypes: {pointer2}')"
   ]
  },
  {
   "cell_type": "code",
   "execution_count": 5,
   "metadata": {
    "collapsed": false,
    "deletable": true,
    "editable": true,
    "scrolled": true
   },
   "outputs": [
    {
     "name": "stdout",
     "output_type": "stream",
     "text": [
      "[ 1 99  1 ...,  1  1 99]\n",
      "  C_CONTIGUOUS : True\n",
      "  F_CONTIGUOUS : True\n",
      "  OWNDATA : True\n",
      "  WRITEABLE : True\n",
      "  ALIGNED : True\n",
      "  UPDATEIFCOPY : False\n"
     ]
    }
   ],
   "source": [
    "import cffi\n",
    "ffi = cffi.FFI()\n",
    "b = ffi.cast('uint32_t*',pointer2)\n",
    "b[4999]=99\n",
    "print(a)\n",
    "print(a.flags)"
   ]
  },
  {
   "cell_type": "code",
   "execution_count": 24,
   "metadata": {
    "collapsed": false,
    "deletable": true,
    "editable": true
   },
   "outputs": [
    {
     "name": "stdout",
     "output_type": "stream",
     "text": [
      "<class '_sre.SRE_Match'>\n",
      "h\n"
     ]
    }
   ],
   "source": [
    "import re\n",
    "m = re.match('h','hello')\n",
    "print(type(m))\n",
    "if m:\n",
    "    print(m.group())"
   ]
  },
  {
   "cell_type": "code",
   "execution_count": 55,
   "metadata": {
    "collapsed": false,
    "deletable": true,
    "editable": true
   },
   "outputs": [
    {
     "name": "stdout",
     "output_type": "stream",
     "text": [
      "{1: 1, 2: 2} {1: 99, 2: 2}\n"
     ]
    }
   ],
   "source": [
    "a = {1:1, 2:2}\n",
    "b = a.copy()\n",
    "b[1]=99\n",
    "print(a,b)"
   ]
  },
  {
   "cell_type": "markdown",
   "metadata": {
    "collapsed": true,
    "deletable": true,
    "editable": true
   },
   "source": [
    "### Examples using Graphviz\n",
    "\n",
    "References: http://pygraphviz.github.io/documentation/latest/pygraphviz.pdf"
   ]
  },
  {
   "cell_type": "code",
   "execution_count": 1,
   "metadata": {
    "collapsed": false,
    "deletable": true,
    "editable": true
   },
   "outputs": [
    {
     "name": "stdout",
     "output_type": "stream",
     "text": [
      "Writing test.dot\n"
     ]
    }
   ],
   "source": [
    "%%writefile test.dot\n",
    "digraph {\n",
    "    graph [splines=true overlap=false]\n",
    "    ratio=auto\n",
    "    START\n",
    "    offline\n",
    "    scanning\n",
    "    \"joining&#8260;000\"\n",
    "    online [peripheries=2]\n",
    "    START -> offline\n",
    "    offline -> scanning [label=\"scan&#8260;scan2\"]\n",
    "    offline -> offline [label=\"failed scan\"]\n",
    "    scanning -> \"joining&#8260;000\" [label=\"detected\"]\n",
    "    scanning -> offline [label=\"failed join\"]\n",
    "    \"joining&#8260;000\" -> online [label=\"handshake\"]\n",
    "    \"joining&#8260;000\" -> offline [label=\"failed handshake\"]\n",
    "    online -> offline [label=\"timeout\"]\n",
    "}"
   ]
  },
  {
   "cell_type": "code",
   "execution_count": 2,
   "metadata": {
    "collapsed": false,
    "deletable": true,
    "editable": true
   },
   "outputs": [
    {
     "data": {
      "image/png": "[encoded data removed]",
      "text/plain": [
       "<IPython.core.display.Image object>"
      ]
     },
     "metadata": {},
     "output_type": "display_data"
    },
    {
     "data": {
      "text/plain": [
       "0"
      ]
     },
     "execution_count": 2,
     "metadata": {},
     "output_type": "execute_result"
    }
   ],
   "source": [
    "import os\n",
    "import pygraphviz as pgv\n",
    "from IPython.display import Image, display\n",
    "B=pgv.AGraph('test.dot')\n",
    "B.layout(prog='dot')\n",
    "B.draw('test.png')\n",
    "display(Image(filename='test.png'))\n",
    "os.system(\"rm -rf test.png test.dot\")"
   ]
  },
  {
   "cell_type": "code",
   "execution_count": 11,
   "metadata": {
    "collapsed": false,
    "deletable": true,
    "editable": true
   },
   "outputs": [
    {
     "name": "stdout",
     "output_type": "stream",
     "text": [
      "0 3\n"
     ]
    }
   ],
   "source": [
    "a = (0,1,2,3)\n",
    "print(a[0],a[3])"
   ]
  },
  {
   "cell_type": "code",
   "execution_count": 15,
   "metadata": {
    "collapsed": true,
    "deletable": true,
    "editable": true
   },
   "outputs": [],
   "source": [
    "OUTPUT_PIN_MAP = {'D0':0,\n",
    "                 'D1':1,\n",
    "                 'D2':2,\n",
    "                 'D3':3,\n",
    "                 'D4':4,\n",
    "                 'D5':5,\n",
    "                 'D6':6,\n",
    "                 'D7':7,\n",
    "                 'D8':8,\n",
    "                 'D9':9,\n",
    "                 'D10':10,\n",
    "                 'D11':11,\n",
    "                 'D12':12,\n",
    "                 'D13':13,\n",
    "                 'D14':14,\n",
    "                 'D15':15,\n",
    "                 'D16':16,\n",
    "                 'D17':17,\n",
    "                 'D18':18,\n",
    "                 'D19':19}\n",
    "\n",
    "fsm_spec = {'inputs': [('reset','D0'), ('direction','D1')],\n",
    "    'outputs': [('alpha','D3'), ('beta','D4'), ('gamma','D5')],\n",
    "    'states': ('S0', 'S1', 'S2', 'S3', 'S4', 'S5'),\n",
    "    'transitions': [['00', 'S0', 'S1', '000'],\n",
    "                    ['01', 'S0', 'S5', '000'],\n",
    "                    ['00', 'S1', 'S2', '001'],\n",
    "                    ['01', 'S1', 'S0', '001'],\n",
    "                    ['00', 'S2', 'S3', '010'],\n",
    "                    ['01', 'S2', 'S1', '010'],\n",
    "                    ['00', 'S3', 'S4', '011'],\n",
    "                    ['01', 'S3', 'S2', '011'],\n",
    "                    ['00', 'S4', 'S5', '100'],\n",
    "                    ['01', 'S4', 'S3', '100'],\n",
    "                    ['00', 'S5', 'S0', '101'],\n",
    "                    ['01', 'S5', 'S4', '101'],\n",
    "                    ['1-', '*',  'S0', '']]}"
   ]
  },
  {
   "cell_type": "code",
   "execution_count": 20,
   "metadata": {
    "collapsed": false,
    "deletable": true,
    "editable": true
   },
   "outputs": [],
   "source": [
    "def check_pins(fsm_spec, key):\n",
    "    \"\"\"Check whether the pins specified are in a valid range.\n",
    "\n",
    "    This method will raise an exception if `pin` is out of range.\n",
    "\n",
    "    Parameters\n",
    "    ----------\n",
    "    fsm_spec : dict\n",
    "        The dictionary where the check to be made.\n",
    "    key : object\n",
    "        The key to index the dictionary.\n",
    "\n",
    "    \"\"\"\n",
    "    for i in fsm_spec[key]:\n",
    "        if i[1] not in OUTPUT_PIN_MAP:\n",
    "            raise ValueError(\"Valid pins should be D0 - D19.\")\n",
    "                \n",
    "check_pins(fsm_spec,'outputs')"
   ]
  },
  {
   "cell_type": "code",
   "execution_count": 5,
   "metadata": {
    "collapsed": false,
    "deletable": true,
    "editable": true
   },
   "outputs": [
    {
     "data": {
      "text/plain": [
       "array([1, 4, 6, 7])"
      ]
     },
     "execution_count": 5,
     "metadata": {},
     "output_type": "execute_result"
    }
   ],
   "source": [
    "import numpy as np\n",
    "tri = np.array([0,1,1,0])\n",
    "arr0 = np.array([1,3,5,7])\n",
    "arr1 = np.array([2,4,6,8])\n",
    "condlist = [tri==0, tri==1]\n",
    "choicelist = [arr0, arr1]\n",
    "np.select(condlist, choicelist)"
   ]
  },
  {
   "cell_type": "code",
   "execution_count": 54,
   "metadata": {
    "collapsed": false,
    "deletable": true,
    "editable": true
   },
   "outputs": [
    {
     "name": "stdout",
     "output_type": "stream",
     "text": [
      "[1, 2, 3, 3, 4]\n"
     ]
    }
   ],
   "source": [
    "a = [1,2,3]\n",
    "b= [3,4]\n",
    "a += b\n",
    "print(a)"
   ]
  },
  {
   "cell_type": "code",
   "execution_count": 43,
   "metadata": {
    "collapsed": false,
    "deletable": true,
    "editable": true
   },
   "outputs": [
    {
     "name": "stdout",
     "output_type": "stream",
     "text": [
      "[1, 2, 3, 4, 5, 6, 7]\n"
     ]
    }
   ],
   "source": [
    "a = [1,2,3]\n",
    "b = [4,5,6,7]\n",
    "\n",
    "def merge_to_length(a,b,length):\n",
    "    temp = b[:]\n",
    "    for index,item in enumerate(a):\n",
    "        if len(temp)<length:\n",
    "            temp.insert(index,item)\n",
    "        else:\n",
    "            break\n",
    "    return temp\n",
    "    \n",
    "\n",
    "print(merge_to_length(a,b,9))"
   ]
  },
  {
   "cell_type": "code",
   "execution_count": 49,
   "metadata": {
    "collapsed": false,
    "deletable": true,
    "editable": true
   },
   "outputs": [
    {
     "name": "stdout",
     "output_type": "stream",
     "text": [
      "01000\n"
     ]
    }
   ],
   "source": [
    "a = '011'\n",
    "b = '000'\n",
    "print(''.join(merge_to_length(list(a),list(b),5)))"
   ]
  },
  {
   "cell_type": "code",
   "execution_count": 52,
   "metadata": {
    "collapsed": false,
    "deletable": true,
    "editable": true
   },
   "outputs": [
    {
     "name": "stdout",
     "output_type": "stream",
     "text": [
      "(2, 0)\n"
     ]
    }
   ],
   "source": [
    "a = (1,0)\n",
    "b = (2,a[1])\n",
    "print(b)"
   ]
  },
  {
   "cell_type": "code",
   "execution_count": 70,
   "metadata": {
    "collapsed": false,
    "deletable": true,
    "editable": true
   },
   "outputs": [
    {
     "name": "stdout",
     "output_type": "stream",
     "text": [
      "['D5 ', ' ~(D6 ', ' ~D7)']\n"
     ]
    }
   ],
   "source": [
    "import re\n",
    "expr_in = \"D5 & ~(D6 | ~D7)\"\n",
    "pin_id = re.split(\"\\||\\^|\\&\", expr_in.strip())\n",
    "print(pin_id)"
   ]
  },
  {
   "cell_type": "code",
   "execution_count": 73,
   "metadata": {
    "collapsed": false,
    "deletable": true,
    "editable": true
   },
   "outputs": [
    {
     "name": "stdout",
     "output_type": "stream",
     "text": [
      "['D5', 'D6', 'D7']\n"
     ]
    }
   ],
   "source": [
    "expr_in = \"D5 & ~(D6 | ~D7)\"\n",
    "pin_id = re.sub(\"\\W+\", \" \", expr_in).strip().split(' ')\n",
    "print(pin_id)"
   ]
  },
  {
   "cell_type": "code",
   "execution_count": 13,
   "metadata": {
    "collapsed": false,
    "deletable": true,
    "editable": true
   },
   "outputs": [
    {
     "name": "stdout",
     "output_type": "stream",
     "text": [
      "['- 1', '+ 0', '  0', '  0', '  1', '  0']\n"
     ]
    }
   ],
   "source": [
    "import difflib\n",
    "\n",
    "d = difflib.Differ()\n",
    "diff = d.compare(string1, string2)\n",
    "print(list(diff))"
   ]
  },
  {
   "cell_type": "code",
   "execution_count": 23,
   "metadata": {
    "collapsed": false,
    "deletable": true,
    "editable": true
   },
   "outputs": [
    {
     "name": "stdout",
     "output_type": "stream",
     "text": [
      "-0010\n"
     ]
    }
   ],
   "source": [
    "dif = [i for i in range(len(string1)) if string1[i]!=string2[i]]\n",
    "if len(dif)==1:\n",
    "    res_list = list(string1)\n",
    "    res_list[dif[0]]='-'\n",
    "    result = ''.join(res_list)\n",
    "print(result)"
   ]
  },
  {
   "cell_type": "code",
   "execution_count": 54,
   "metadata": {
    "collapsed": false,
    "deletable": true,
    "editable": true
   },
   "outputs": [],
   "source": [
    "import itertools\n",
    "\n",
    "def merge_to_wildcards(str_list):\n",
    "    \"\"\"Merge all the strings inside a list into wildcard representation.\n",
    "\n",
    "    This method will check every pair inside the string list, and merge the\n",
    "    strings based on wildcard representation. For example, the list \n",
    "    ['100101', '000101', '000111', '100111'] will be merged to ['-001-1'];\n",
    "    the list ['10','00','01'] will be merged to ['1-', '0-'].\n",
    "\n",
    "    Parameters\n",
    "    ----------\n",
    "    str_list : list\n",
    "        A list of strings, where all the elements have the same length.\n",
    "\n",
    "    Returns\n",
    "    -------\n",
    "    list\n",
    "        A merged list, where strings are expressed in wildcard format.\n",
    "\n",
    "    \"\"\"\n",
    "    output_list = str_list[:]\n",
    "    new_pattern = True\n",
    "    while new_pattern:\n",
    "        new_pattern = False\n",
    "        input_list = output_list[:]\n",
    "        output_list = []\n",
    "        for string1, string2 in itertools.combinations(input_list, 2):\n",
    "            dif = [i for i in range(len(string1)) if string1[i] != string2[i]]\n",
    "            if len(dif) == 1:\n",
    "                temp_list = list(string1)\n",
    "                temp_list[dif[0]] = '-'\n",
    "                output_list.append(''.join(temp_list))\n",
    "                new_pattern = True\n",
    "\n",
    "    return list(set(input_list))"
   ]
  },
  {
   "cell_type": "code",
   "execution_count": 56,
   "metadata": {
    "collapsed": false,
    "deletable": true,
    "editable": true
   },
   "outputs": [
    {
     "name": "stdout",
     "output_type": "stream",
     "text": [
      "['-001-1']\n"
     ]
    }
   ],
   "source": [
    "my_list = ['100101',\n",
    "        '000101',\n",
    "        '000111',\n",
    "        '100111']\n",
    "print(merge_to_wildcards(my_list))"
   ]
  },
  {
   "cell_type": "code",
   "execution_count": 57,
   "metadata": {
    "collapsed": false,
    "deletable": true,
    "editable": true
   },
   "outputs": [
    {
     "name": "stdout",
     "output_type": "stream",
     "text": [
      "['0-', '-0']\n"
     ]
    }
   ],
   "source": [
    "my_list = ['01','00','10']\n",
    "print(merge_to_wildcards(my_list))"
   ]
  },
  {
   "cell_type": "code",
   "execution_count": 20,
   "metadata": {
    "collapsed": false,
    "deletable": true,
    "editable": true
   },
   "outputs": [
    {
     "name": "stdout",
     "output_type": "stream",
     "text": [
      "Time used for type 1: 0.0020601749420166016\n",
      "Time used for type 2: 0.0014467239379882812\n",
      "Time used for type 3: 0.001087188720703125\n"
     ]
    }
   ],
   "source": [
    "from time import time\n",
    "\n",
    "x = list()\n",
    "y = list()\n",
    "z = list()\n",
    "\n",
    "t1 = time()\n",
    "for i in range(1,101):\n",
    "    x.append(int('1'*i,2))\n",
    "t2 = time()\n",
    "print(f'Time used for type 1: {t2-t1}')\n",
    "\n",
    "t1 = time()\n",
    "for i in range(1,101):\n",
    "    y.append(2**i-1)\n",
    "t2 = time()\n",
    "print(f'Time used for type 2: {t2-t1}')\n",
    "\n",
    "t1 = time()\n",
    "for i in range(1,101):\n",
    "    z.append((1<<i)-1)\n",
    "t2 = time()\n",
    "print(f'Time used for type 3: {t2-t1}')\n",
    "\n",
    "for i,_ in enumerate(x):\n",
    "    assert x[i]==y[i]==z[i]"
   ]
  },
  {
   "cell_type": "code",
   "execution_count": 28,
   "metadata": {
    "collapsed": false,
    "deletable": true,
    "editable": true
   },
   "outputs": [
    {
     "name": "stdout",
     "output_type": "stream",
     "text": [
      "Time used for empty list: 0.018178462982177734\n",
      "Time used for zero list:  0.015660524368286133\n",
      "Time used for dictionary: 0.017322063446044922\n",
      "Time used for numpy array:0.02199411392211914\n"
     ]
    }
   ],
   "source": [
    "from time import time\n",
    "import numpy as np\n",
    "\n",
    "a = list()\n",
    "b = [0]*10000\n",
    "c = dict()\n",
    "d = np.zeros(10000,dtype=np.uint32)\n",
    "\n",
    "t1 = time()\n",
    "for i in range(10000):\n",
    "    a.append(i)\n",
    "t2 = time()\n",
    "for i in range(10000):\n",
    "    b[i] = i\n",
    "t3 = time()\n",
    "for i in range(10000):\n",
    "    c[i] = i\n",
    "t4 = time()\n",
    "for i in range(10000):\n",
    "    d[i] = i\n",
    "t5 = time()\n",
    "\n",
    "for i in range(10000):\n",
    "    assert a[i]==b[i]==c[i]==d[i]==i\n",
    "\n",
    "print(f'Time used for empty list: {t2-t1}')\n",
    "print(f'Time used for zero list:  {t3-t2}')\n",
    "print(f'Time used for dictionary: {t4-t3}')\n",
    "print(f'Time used for numpy array:{t5-t4}')"
   ]
  },
  {
   "cell_type": "code",
   "execution_count": 29,
   "metadata": {
    "collapsed": false
   },
   "outputs": [
    {
     "name": "stdout",
     "output_type": "stream",
     "text": [
      "Time used for numpy array:0.0013742446899414062\n"
     ]
    }
   ],
   "source": [
    "t1 = time()\n",
    "e = np.arange(0,10000)\n",
    "t2 = time()\n",
    "print(f'Time used for numpy array:{t2-t1}')\n",
    "for i in range(10000):\n",
    "    assert a[i]==e[i]==i"
   ]
  },
  {
   "cell_type": "code",
   "execution_count": null,
   "metadata": {
    "collapsed": true
   },
   "outputs": [],
   "source": []
  }
 ],
 "metadata": {
  "kernelspec": {
   "display_name": "Python 3",
   "language": "python",
   "name": "python3"
  },
  "language_info": {
   "codemirror_mode": {
    "name": "ipython",
    "version": 3
   },
   "file_extension": ".py",
   "mimetype": "text/x-python",
   "name": "python",
   "nbconvert_exporter": "python",
   "pygments_lexer": "ipython3",
   "version": "3.6.0"
  }
 },
 "nbformat": 4,
 "nbformat_minor": 2
}
