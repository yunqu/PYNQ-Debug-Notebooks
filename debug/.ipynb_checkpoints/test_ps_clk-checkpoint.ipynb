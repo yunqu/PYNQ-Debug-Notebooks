{
 "cells": [
  {
   "cell_type": "markdown",
   "metadata": {},
   "source": [
    "# PS Clock Control\n",
    "This notebook demonstrates how to use `set_clock()` and `get_clock()` to control the PL clocks.\n",
    "\n",
    "By default, there are 4 PL clocks in the system. They all can be reprogrammed to valid clock rates.\n",
    "\n",
    "For the base overlay, for example, the 4 clocks required are: 100MHz, 142MHz, 200MHz, and 167MHz, respectively.\n",
    "\n",
    "References:\n",
    "\n",
    "https://www.xilinx.com/support/documentation/user_guides/ug585-Zynq-7000-TRM.pdf\n",
    "\n",
    "### Show All Clocks\n",
    "\n",
    "To show all the clock rates, use method `get_clock()`."
   ]
  },
  {
   "cell_type": "code",
   "execution_count": 1,
   "metadata": {
    "collapsed": false
   },
   "outputs": [
    {
     "name": "stdout",
     "output_type": "stream",
     "text": [
      "{'cpu': 650000000,\n",
      " 'fclk0': 100000000,\n",
      " 'fclk1': 142857143,\n",
      " 'fclk2': 200000000,\n",
      " 'fclk3': 166666667}\n"
     ]
    }
   ],
   "source": [
    "from pprint import pprint\n",
    "from pynq.ps import set_clock\n",
    "from pynq.ps import get_clock\n",
    "\n",
    "clks = get_clock()\n",
    "pprint(clks)"
   ]
  },
  {
   "cell_type": "markdown",
   "metadata": {},
   "source": [
    "### Set Clock Rates\n",
    "To set clock rates, use method `set_clock()`. Users have the following options:\n",
    "\n",
    "1. Users can specify the 2 divisor values directly, which will divide a 1000MHz clock.\n",
    "2. Users can specify the clock rate, where the 2 divisor values will be calculated internally."
   ]
  },
  {
   "cell_type": "code",
   "execution_count": 2,
   "metadata": {
    "collapsed": false
   },
   "outputs": [],
   "source": [
    "set_clock('fclk0', div0=10, div1=10)\n",
    "set_clock('fclk1', clk_rate = 12500000)\n",
    "set_clock('fclk2',div0=2,clk_rate = 20000000)\n",
    "set_clock('fclk3',div1=2,clk_rate = 50000000)"
   ]
  },
  {
   "cell_type": "markdown",
   "metadata": {},
   "source": [
    "Print out the clock rates."
   ]
  },
  {
   "cell_type": "code",
   "execution_count": 3,
   "metadata": {
    "collapsed": false
   },
   "outputs": [
    {
     "name": "stdout",
     "output_type": "stream",
     "text": [
      "{'cpu': 650000000,\n",
      " 'fclk0': 10000000,\n",
      " 'fclk1': 12500000,\n",
      " 'fclk2': 20000000,\n",
      " 'fclk3': 50000000}\n"
     ]
    }
   ],
   "source": [
    "pprint(get_clock())"
   ]
  },
  {
   "cell_type": "markdown",
   "metadata": {},
   "source": [
    "### Reset Clock Rates\n",
    "Recover the original clock rates."
   ]
  },
  {
   "cell_type": "code",
   "execution_count": 4,
   "metadata": {
    "collapsed": false
   },
   "outputs": [
    {
     "name": "stdout",
     "output_type": "stream",
     "text": [
      "{'cpu': 650000000,\n",
      " 'fclk0': 100000000,\n",
      " 'fclk1': 142857143,\n",
      " 'fclk2': 200000000,\n",
      " 'fclk3': 166666667}\n"
     ]
    }
   ],
   "source": [
    "for i in clks:\n",
    "    if 'fclk' in i:\n",
    "        set_clock(i, clk_rate=clks[i])\n",
    "pprint(get_clock())"
   ]
  }
 ],
 "metadata": {
  "kernelspec": {
   "display_name": "Python 3",
   "language": "python",
   "name": "python3"
  },
  "language_info": {
   "codemirror_mode": {
    "name": "ipython",
    "version": 3
   },
   "file_extension": ".py",
   "mimetype": "text/x-python",
   "name": "python",
   "nbconvert_exporter": "python",
   "pygments_lexer": "ipython3",
   "version": "3.6.0"
  }
 },
 "nbformat": 4,
 "nbformat_minor": 1
}
