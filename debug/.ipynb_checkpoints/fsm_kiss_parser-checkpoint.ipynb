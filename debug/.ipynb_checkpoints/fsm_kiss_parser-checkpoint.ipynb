{
 "cells": [
  {
   "cell_type": "markdown",
   "metadata": {
    "collapsed": true,
    "deletable": true,
    "editable": true,
    "run_control": {
     "frozen": false,
     "read_only": false
    }
   },
   "source": [
    "# Parsing a FSM spec in a Python string"
   ]
  },
  {
   "cell_type": "markdown",
   "metadata": {
    "deletable": true,
    "editable": true
   },
   "source": [
    "### Reference"
   ]
  },
  {
   "cell_type": "markdown",
   "metadata": {
    "deletable": true,
    "editable": true
   },
   "source": [
    "* [SIS: A System for Sequential Circuit Synthesis, p.39](https://www2.eecs.berkeley.edu/Pubs/TechRpts/1992/ERL-92-41.pdf)"
   ]
  },
  {
   "cell_type": "markdown",
   "metadata": {
    "deletable": true,
    "editable": true
   },
   "source": [
    "#### Extract describing the KISS syntax for specifying FSM"
   ]
  },
  {
   "cell_type": "markdown",
   "metadata": {
    "deletable": true,
    "editable": true
   },
   "source": [
    "> ### Finite State Machine Descriptions\n",
    "\n",
    ">A sequential circuit can be specified in  Berkeley Logic Interchange Format (BLIF) logic form, as a finite state machine, or both. An fsm-description is used to insert a finite state machine description of the current model. It is intended to represent the same sequential circuit as the current model (which contains logic), but in FSM form. The format of an fsm-description is:\n",
    "\n",
    ">```\n",
    ".start-kiss\n",
    ".i <num-inputs>\n",
    ".o <num-outputs>\n",
    "[.p <num-terms>]\n",
    "[.s <num-states>]\n",
    "[.r <reset-state>]\n",
    "<input> <current-state> <next-state> <output>\n",
    "<input> <current-state> <next-state> <output> \n",
    ".end-kiss\n",
    "```\n",
    "\n",
    ">* num-inputs is the number of inputs to the FSM, which should agree with the number of inputs in the .inputs construct for the current model.\n",
    "\n",
    "\n",
    ">* num-outputs is the number of outputs of the FSM, which should agree with the number of outputs in the .outputs construct for the current model.\n",
    "\n",
    "\n",
    ">* num-terms is the number of ```\"<input> <current-state> <next-state> <output>\"``` 4-tuples that follow in the FSM description.\n",
    "\n",
    "\n",
    ">* num-states is the number of distinct states that appear in ```\"<current-state>\"``` and ```\"<next-state>\"``` columns.\n",
    "\n",
    "\n",
    ">* reset-state is the symbolic name for the reset state for the FSM; it should appear somewhere in the ```\"<current-state>\"``` column.\n",
    "\n",
    "\n",
    ">* input is a sequence of num-inputs members of (0, 1, -}.\n",
    "\n",
    "\n",
    ">* output is a sequence of num-outputs members of (0, 1, -}.\n",
    "\n",
    "\n",
    ">* current-state and next-state are symbolic names for the current state and next state transitions of the FSM.\n"
   ]
  },
  {
   "cell_type": "markdown",
   "metadata": {
    "deletable": true,
    "editable": true
   },
   "source": [
    "### To do "
   ]
  },
  {
   "cell_type": "markdown",
   "metadata": {
    "deletable": true,
    "editable": true
   },
   "source": [
    "* Add handling of input wildcards `-` and state `*` wildcards to KISS processing\n",
    "\n",
    "* Possibly add `.i`, `.o`, `KISS` constructs\n",
    "\n",
    "* Generate `dot` file from `KISS` format to create `graphviz` diagram"
   ]
  },
  {
   "cell_type": "code",
   "execution_count": 1,
   "metadata": {
    "collapsed": true,
    "deletable": true,
    "editable": true,
    "run_control": {
     "frozen": false,
     "read_only": false
    }
   },
   "outputs": [],
   "source": [
    "from collections import OrderedDict\n",
    "from math import ceil, log\n",
    "\n",
    "import numpy as np\n",
    "import  pandas as pd"
   ]
  },
  {
   "cell_type": "markdown",
   "metadata": {
    "deletable": true,
    "editable": true
   },
   "source": [
    "### FSM spec"
   ]
  },
  {
   "cell_type": "code",
   "execution_count": 2,
   "metadata": {
    "collapsed": false,
    "deletable": true,
    "editable": true,
    "run_control": {
     "frozen": false,
     "read_only": false
    }
   },
   "outputs": [
    {
     "name": "stdout",
     "output_type": "stream",
     "text": [
      "['.start-kiss', '.i 2', '.o 3', '.end-kiss']\n"
     ]
    },
    {
     "data": {
      "text/plain": [
       "['00    S0    S1    000',\n",
       " '01    S0    S5    000',\n",
       " '00    S1    S2    001',\n",
       " '01    S1    S0    001',\n",
       " '00    S2    S3    000',\n",
       " '01    S2    S1    000',\n",
       " '00    S3    S4    010',\n",
       " '01    S3    S2    010',\n",
       " '00    S4    S3    000',\n",
       " '01    S4    S5    000',\n",
       " '00    S5    S0    100',\n",
       " '01    S5    S4    100']"
      ]
     },
     "execution_count": 2,
     "metadata": {},
     "output_type": "execute_result"
    }
   ],
   "source": [
    "fsm_spec = \"\"\"\n",
    ".start-kiss\n",
    ".i 2\n",
    ".o 3\n",
    "00    S0    S1    000\n",
    "01    S0    S5    000\n",
    "00    S1    S2    001\n",
    "01    S1    S0    001\n",
    "00    S2    S3    000\n",
    "01    S2    S1    000\n",
    "00    S3    S4    010\n",
    "01    S3    S2    010\n",
    "00    S4    S3    000\n",
    "01    S4    S5    000\n",
    "00    S5    S0    100\n",
    "01    S5    S4    100\n",
    ".end-kiss\n",
    "\"\"\"\n",
    "\n",
    "fsm_config = [i for i in fsm_spec.split('\\n')[1:-1] if i.startswith(\".\")]\n",
    "print(fsm_config)\n",
    "assert fsm_config[0]=='.start-kiss'\n",
    "assert fsm_config[-1]=='.end-kiss'\n",
    "fsm_spec = [i for i in fsm_spec.split('\\n')[1:-1] if not i.startswith(\".\")]\n",
    "fsm_spec"
   ]
  },
  {
   "cell_type": "code",
   "execution_count": 3,
   "metadata": {
    "collapsed": false,
    "deletable": true,
    "editable": true
   },
   "outputs": [
    {
     "data": {
      "text/plain": [
       "[['00', 'S0', 'S1', '000'],\n",
       " ['01', 'S0', 'S5', '000'],\n",
       " ['00', 'S1', 'S2', '001'],\n",
       " ['01', 'S1', 'S0', '001'],\n",
       " ['00', 'S2', 'S3', '000'],\n",
       " ['01', 'S2', 'S1', '000'],\n",
       " ['00', 'S3', 'S4', '010'],\n",
       " ['01', 'S3', 'S2', '010'],\n",
       " ['00', 'S4', 'S3', '000'],\n",
       " ['01', 'S4', 'S5', '000'],\n",
       " ['00', 'S5', 'S0', '100'],\n",
       " ['01', 'S5', 'S4', '100']]"
      ]
     },
     "execution_count": 3,
     "metadata": {},
     "output_type": "execute_result"
    }
   ],
   "source": [
    "fsm_spec = [line.split() for line in fsm_spec]\n",
    "fsm_spec"
   ]
  },
  {
   "cell_type": "code",
   "execution_count": 4,
   "metadata": {
    "collapsed": false,
    "deletable": true,
    "editable": true
   },
   "outputs": [
    {
     "data": {
      "text/plain": [
       "[['00 S0 S1 000'],\n",
       " ['01 S0 S5 000'],\n",
       " ['00 S1 S2 001'],\n",
       " ['01 S1 S0 001'],\n",
       " ['00 S2 S3 000'],\n",
       " ['01 S2 S1 000'],\n",
       " ['00 S3 S4 010'],\n",
       " ['01 S3 S2 010'],\n",
       " ['00 S4 S3 000'],\n",
       " ['01 S4 S5 000'],\n",
       " ['00 S5 S0 100'],\n",
       " ['01 S5 S4 100']]"
      ]
     },
     "execution_count": 4,
     "metadata": {},
     "output_type": "execute_result"
    }
   ],
   "source": [
    "# Get rid of any irregular spacing\n",
    "fsm_spec_list = [[' '.join(entry for entry in line)] for line in fsm_spec]\n",
    "fsm_spec_list"
   ]
  },
  {
   "cell_type": "markdown",
   "metadata": {
    "deletable": true,
    "editable": true
   },
   "source": [
    "#### Number of inputs and outputs"
   ]
  },
  {
   "cell_type": "code",
   "execution_count": 5,
   "metadata": {
    "collapsed": false,
    "deletable": true,
    "editable": true,
    "run_control": {
     "frozen": false,
     "read_only": false
    }
   },
   "outputs": [
    {
     "data": {
      "text/plain": [
       "(2, 3)"
      ]
     },
     "execution_count": 5,
     "metadata": {},
     "output_type": "execute_result"
    }
   ],
   "source": [
    "nmbr_inputs = len(fsm_spec[0][0])\n",
    "nmbr_outputs = len(fsm_spec[0][-1])\n",
    "nmbr_inputs, nmbr_outputs"
   ]
  },
  {
   "cell_type": "markdown",
   "metadata": {
    "deletable": true,
    "editable": true
   },
   "source": [
    "#### List of states"
   ]
  },
  {
   "cell_type": "code",
   "execution_count": 6,
   "metadata": {
    "collapsed": false,
    "deletable": true,
    "editable": true,
    "run_control": {
     "frozen": false,
     "read_only": false
    }
   },
   "outputs": [
    {
     "data": {
      "text/plain": [
       "{'S0', 'S1', 'S2', 'S3', 'S4', 'S5'}"
      ]
     },
     "execution_count": 6,
     "metadata": {},
     "output_type": "execute_result"
    }
   ],
   "source": [
    "state_names = set([line[1] for line in fsm_spec])\n",
    "state_names"
   ]
  },
  {
   "cell_type": "markdown",
   "metadata": {
    "deletable": true,
    "editable": true
   },
   "source": [
    "#### Number of unique states"
   ]
  },
  {
   "cell_type": "code",
   "execution_count": 7,
   "metadata": {
    "collapsed": false,
    "deletable": true,
    "editable": true,
    "run_control": {
     "frozen": false,
     "read_only": false
    }
   },
   "outputs": [
    {
     "data": {
      "text/plain": [
       "6"
      ]
     },
     "execution_count": 7,
     "metadata": {},
     "output_type": "execute_result"
    }
   ],
   "source": [
    "nmbr_states = len(state_names)\n",
    "nmbr_states"
   ]
  },
  {
   "cell_type": "markdown",
   "metadata": {
    "deletable": true,
    "editable": true
   },
   "source": [
    "#### Number of state encoding bits14"
   ]
  },
  {
   "cell_type": "code",
   "execution_count": 8,
   "metadata": {
    "collapsed": false,
    "deletable": true,
    "editable": true,
    "run_control": {
     "frozen": false,
     "read_only": false
    }
   },
   "outputs": [
    {
     "data": {
      "text/plain": [
       "3"
      ]
     },
     "execution_count": 8,
     "metadata": {},
     "output_type": "execute_result"
    }
   ],
   "source": [
    "state_bits = ceil(log(len(state_names), 2))\n",
    "state_bits"
   ]
  },
  {
   "cell_type": "markdown",
   "metadata": {
    "deletable": true,
    "editable": true
   },
   "source": [
    "#### Check for duplicate transitions in fsm_spec"
   ]
  },
  {
   "cell_type": "code",
   "execution_count": 9,
   "metadata": {
    "collapsed": false,
    "deletable": true,
    "editable": true,
    "run_control": {
     "frozen": false,
     "read_only": false
    }
   },
   "outputs": [
    {
     "data": {
      "text/plain": [
       "{'00 S0 S1 000',\n",
       " '00 S1 S2 001',\n",
       " '00 S2 S3 000',\n",
       " '00 S3 S4 010',\n",
       " '00 S4 S3 000',\n",
       " '00 S5 S0 100',\n",
       " '01 S0 S5 000',\n",
       " '01 S1 S0 001',\n",
       " '01 S2 S1 000',\n",
       " '01 S3 S2 010',\n",
       " '01 S4 S5 000',\n",
       " '01 S5 S4 100'}"
      ]
     },
     "execution_count": 9,
     "metadata": {},
     "output_type": "execute_result"
    }
   ],
   "source": [
    "unique_transitions = set([line[0] for line in fsm_spec_list])\n",
    "unique_transitions"
   ]
  },
  {
   "cell_type": "code",
   "execution_count": 10,
   "metadata": {
    "collapsed": false,
    "deletable": true,
    "editable": true,
    "run_control": {
     "frozen": false,
     "read_only": false
    }
   },
   "outputs": [
    {
     "data": {
      "text/plain": [
       "(12, 0)"
      ]
     },
     "execution_count": 10,
     "metadata": {},
     "output_type": "execute_result"
    }
   ],
   "source": [
    "nmbr_transitions = len(fsm_spec)\n",
    "repeated_transitions = nmbr_transitions - len(unique_transitions)\n",
    "nmbr_transitions, repeated_transitions"
   ]
  },
  {
   "cell_type": "markdown",
   "metadata": {
    "deletable": true,
    "editable": true
   },
   "source": [
    "----"
   ]
  },
  {
   "cell_type": "markdown",
   "metadata": {
    "deletable": true,
    "editable": true
   },
   "source": [
    "### State transition ordered dict and table"
   ]
  },
  {
   "cell_type": "code",
   "execution_count": 11,
   "metadata": {
    "collapsed": false,
    "deletable": true,
    "editable": true,
    "run_control": {
     "frozen": false,
     "read_only": false
    }
   },
   "outputs": [
    {
     "data": {
      "text/html": [
       "<div>\n",
       "<table border=\"1\" class=\"dataframe\">\n",
       "  <thead>\n",
       "    <tr style=\"text-align: right;\">\n",
       "      <th></th>\n",
       "      <th>inputs</th>\n",
       "      <th>present_state</th>\n",
       "      <th>next_state</th>\n",
       "      <th>outputs</th>\n",
       "    </tr>\n",
       "  </thead>\n",
       "  <tbody>\n",
       "    <tr>\n",
       "      <th>0</th>\n",
       "      <td>00</td>\n",
       "      <td>S0</td>\n",
       "      <td>S1</td>\n",
       "      <td>000</td>\n",
       "    </tr>\n",
       "    <tr>\n",
       "      <th>1</th>\n",
       "      <td>01</td>\n",
       "      <td>S0</td>\n",
       "      <td>S5</td>\n",
       "      <td>000</td>\n",
       "    </tr>\n",
       "    <tr>\n",
       "      <th>2</th>\n",
       "      <td>00</td>\n",
       "      <td>S1</td>\n",
       "      <td>S2</td>\n",
       "      <td>001</td>\n",
       "    </tr>\n",
       "    <tr>\n",
       "      <th>3</th>\n",
       "      <td>01</td>\n",
       "      <td>S1</td>\n",
       "      <td>S0</td>\n",
       "      <td>001</td>\n",
       "    </tr>\n",
       "    <tr>\n",
       "      <th>4</th>\n",
       "      <td>00</td>\n",
       "      <td>S2</td>\n",
       "      <td>S3</td>\n",
       "      <td>000</td>\n",
       "    </tr>\n",
       "    <tr>\n",
       "      <th>5</th>\n",
       "      <td>01</td>\n",
       "      <td>S2</td>\n",
       "      <td>S1</td>\n",
       "      <td>000</td>\n",
       "    </tr>\n",
       "    <tr>\n",
       "      <th>6</th>\n",
       "      <td>00</td>\n",
       "      <td>S3</td>\n",
       "      <td>S4</td>\n",
       "      <td>010</td>\n",
       "    </tr>\n",
       "    <tr>\n",
       "      <th>7</th>\n",
       "      <td>01</td>\n",
       "      <td>S3</td>\n",
       "      <td>S2</td>\n",
       "      <td>010</td>\n",
       "    </tr>\n",
       "    <tr>\n",
       "      <th>8</th>\n",
       "      <td>00</td>\n",
       "      <td>S4</td>\n",
       "      <td>S3</td>\n",
       "      <td>000</td>\n",
       "    </tr>\n",
       "    <tr>\n",
       "      <th>9</th>\n",
       "      <td>01</td>\n",
       "      <td>S4</td>\n",
       "      <td>S5</td>\n",
       "      <td>000</td>\n",
       "    </tr>\n",
       "    <tr>\n",
       "      <th>10</th>\n",
       "      <td>00</td>\n",
       "      <td>S5</td>\n",
       "      <td>S0</td>\n",
       "      <td>100</td>\n",
       "    </tr>\n",
       "    <tr>\n",
       "      <th>11</th>\n",
       "      <td>01</td>\n",
       "      <td>S5</td>\n",
       "      <td>S4</td>\n",
       "      <td>100</td>\n",
       "    </tr>\n",
       "  </tbody>\n",
       "</table>\n",
       "</div>"
      ],
      "text/plain": [
       "   inputs present_state next_state outputs\n",
       "0      00            S0         S1     000\n",
       "1      01            S0         S5     000\n",
       "2      00            S1         S2     001\n",
       "3      01            S1         S0     001\n",
       "4      00            S2         S3     000\n",
       "5      01            S2         S1     000\n",
       "6      00            S3         S4     010\n",
       "7      01            S3         S2     010\n",
       "8      00            S4         S3     000\n",
       "9      01            S4         S5     000\n",
       "10     00            S5         S0     100\n",
       "11     01            S5         S4     100"
      ]
     },
     "execution_count": 11,
     "metadata": {},
     "output_type": "execute_result"
    }
   ],
   "source": [
    "from collections import OrderedDict\n",
    "\n",
    "state_transition = OrderedDict()\n",
    "state_transition['inputs'] = [line[0] for line in fsm_spec]\n",
    "state_transition['present_state'] = [line[1] for line in fsm_spec]\n",
    "state_transition['next_state'] = [line[2] for line in fsm_spec]\n",
    "state_transition['outputs'] = [line[3] for line in fsm_spec]\n",
    "\n",
    "### State transition table\n",
    "std_df = pd.DataFrame(state_transition)\n",
    "std_df"
   ]
  },
  {
   "cell_type": "code",
   "execution_count": 12,
   "metadata": {
    "collapsed": false,
    "deletable": true,
    "editable": true,
    "run_control": {
     "frozen": false,
     "read_only": false
    }
   },
   "outputs": [
    {
     "data": {
      "text/plain": [
       "{'S0': '000', 'S1': '001', 'S2': '010', 'S3': '011', 'S4': '100', 'S5': '101'}"
      ]
     },
     "execution_count": 12,
     "metadata": {},
     "output_type": "execute_result"
    }
   ],
   "source": [
    "state_codes = {state_name:format(i, '0{}b'.format(state_bits))\n",
    "                  for i, state_name in enumerate(sorted(state_names))}\n",
    "state_codes"
   ]
  },
  {
   "cell_type": "code",
   "execution_count": 13,
   "metadata": {
    "collapsed": false,
    "deletable": true,
    "editable": true,
    "run_control": {
     "frozen": false,
     "read_only": false
    }
   },
   "outputs": [
    {
     "data": {
      "text/plain": [
       "('S0', '000')"
      ]
     },
     "execution_count": 13,
     "metadata": {},
     "output_type": "execute_result"
    }
   ],
   "source": [
    "std_df['present_state'][0], state_codes[std_df['present_state'][0]]"
   ]
  },
  {
   "cell_type": "code",
   "execution_count": 14,
   "metadata": {
    "collapsed": false,
    "deletable": true,
    "editable": true,
    "run_control": {
     "frozen": false,
     "read_only": false
    }
   },
   "outputs": [
    {
     "data": {
      "text/plain": [
       "{'0': 'S0', '1': 'S1', '2': 'S2', '3': 'S3', '4': 'S4', '5': 'S5'}"
      ]
     },
     "execution_count": 14,
     "metadata": {},
     "output_type": "execute_result"
    }
   ],
   "source": [
    "ordered_state_names = {str(i):state for i,state in enumerate(sorted(state_names))}\n",
    "ordered_state_names"
   ]
  },
  {
   "cell_type": "code",
   "execution_count": 15,
   "metadata": {
    "collapsed": false,
    "deletable": true,
    "editable": true,
    "run_control": {
     "frozen": false,
     "read_only": false
    }
   },
   "outputs": [
    {
     "data": {
      "text/html": [
       "<div>\n",
       "<table border=\"1\" class=\"dataframe\">\n",
       "  <thead>\n",
       "    <tr style=\"text-align: right;\">\n",
       "      <th></th>\n",
       "      <th>inputs</th>\n",
       "      <th>present_state</th>\n",
       "      <th>next_state</th>\n",
       "      <th>outputs</th>\n",
       "      <th>next_state_code</th>\n",
       "    </tr>\n",
       "  </thead>\n",
       "  <tbody>\n",
       "    <tr>\n",
       "      <th>0</th>\n",
       "      <td>00</td>\n",
       "      <td>S0</td>\n",
       "      <td>S1</td>\n",
       "      <td>000</td>\n",
       "      <td>001</td>\n",
       "    </tr>\n",
       "    <tr>\n",
       "      <th>1</th>\n",
       "      <td>00</td>\n",
       "      <td>S1</td>\n",
       "      <td>S2</td>\n",
       "      <td>001</td>\n",
       "      <td>010</td>\n",
       "    </tr>\n",
       "    <tr>\n",
       "      <th>2</th>\n",
       "      <td>00</td>\n",
       "      <td>S2</td>\n",
       "      <td>S3</td>\n",
       "      <td>000</td>\n",
       "      <td>011</td>\n",
       "    </tr>\n",
       "    <tr>\n",
       "      <th>3</th>\n",
       "      <td>00</td>\n",
       "      <td>S3</td>\n",
       "      <td>S4</td>\n",
       "      <td>010</td>\n",
       "      <td>100</td>\n",
       "    </tr>\n",
       "    <tr>\n",
       "      <th>4</th>\n",
       "      <td>00</td>\n",
       "      <td>S4</td>\n",
       "      <td>S3</td>\n",
       "      <td>000</td>\n",
       "      <td>011</td>\n",
       "    </tr>\n",
       "    <tr>\n",
       "      <th>5</th>\n",
       "      <td>00</td>\n",
       "      <td>S5</td>\n",
       "      <td>S0</td>\n",
       "      <td>100</td>\n",
       "      <td>000</td>\n",
       "    </tr>\n",
       "    <tr>\n",
       "      <th>6</th>\n",
       "      <td>01</td>\n",
       "      <td>S0</td>\n",
       "      <td>S5</td>\n",
       "      <td>000</td>\n",
       "      <td>101</td>\n",
       "    </tr>\n",
       "    <tr>\n",
       "      <th>7</th>\n",
       "      <td>01</td>\n",
       "      <td>S1</td>\n",
       "      <td>S0</td>\n",
       "      <td>001</td>\n",
       "      <td>000</td>\n",
       "    </tr>\n",
       "    <tr>\n",
       "      <th>8</th>\n",
       "      <td>01</td>\n",
       "      <td>S2</td>\n",
       "      <td>S1</td>\n",
       "      <td>000</td>\n",
       "      <td>001</td>\n",
       "    </tr>\n",
       "    <tr>\n",
       "      <th>9</th>\n",
       "      <td>01</td>\n",
       "      <td>S3</td>\n",
       "      <td>S2</td>\n",
       "      <td>010</td>\n",
       "      <td>010</td>\n",
       "    </tr>\n",
       "    <tr>\n",
       "      <th>10</th>\n",
       "      <td>01</td>\n",
       "      <td>S4</td>\n",
       "      <td>S5</td>\n",
       "      <td>000</td>\n",
       "      <td>101</td>\n",
       "    </tr>\n",
       "    <tr>\n",
       "      <th>11</th>\n",
       "      <td>01</td>\n",
       "      <td>S5</td>\n",
       "      <td>S4</td>\n",
       "      <td>100</td>\n",
       "      <td>100</td>\n",
       "    </tr>\n",
       "  </tbody>\n",
       "</table>\n",
       "</div>"
      ],
      "text/plain": [
       "   inputs present_state next_state outputs next_state_code\n",
       "0      00            S0         S1     000             001\n",
       "1      00            S1         S2     001             010\n",
       "2      00            S2         S3     000             011\n",
       "3      00            S3         S4     010             100\n",
       "4      00            S4         S3     000             011\n",
       "5      00            S5         S0     100             000\n",
       "6      01            S0         S5     000             101\n",
       "7      01            S1         S0     001             000\n",
       "8      01            S2         S1     000             001\n",
       "9      01            S3         S2     010             010\n",
       "10     01            S4         S5     000             101\n",
       "11     01            S5         S4     100             100"
      ]
     },
     "execution_count": 15,
     "metadata": {},
     "output_type": "execute_result"
    }
   ],
   "source": [
    "std_df['next_state_code'] = std_df['next_state'].map(state_codes)\n",
    "std_df = std_df.sort_values('inputs')\n",
    "\n",
    "std_df.reset_index(std_df.index, drop=True, inplace=True)\n",
    "std_df"
   ]
  },
  {
   "cell_type": "markdown",
   "metadata": {
    "collapsed": true,
    "deletable": true,
    "editable": true,
    "run_control": {
     "frozen": false,
     "read_only": false
    }
   },
   "source": [
    "#### Add reset to all states"
   ]
  },
  {
   "cell_type": "code",
   "execution_count": 16,
   "metadata": {
    "collapsed": false,
    "deletable": true,
    "editable": true,
    "run_control": {
     "frozen": false,
     "read_only": false
    },
    "scrolled": true
   },
   "outputs": [
    {
     "data": {
      "text/html": [
       "<div>\n",
       "<table border=\"1\" class=\"dataframe\">\n",
       "  <thead>\n",
       "    <tr style=\"text-align: right;\">\n",
       "      <th></th>\n",
       "      <th>inputs</th>\n",
       "      <th>present_state</th>\n",
       "      <th>next_state</th>\n",
       "      <th>outputs</th>\n",
       "      <th>next_state_code</th>\n",
       "    </tr>\n",
       "  </thead>\n",
       "  <tbody>\n",
       "    <tr>\n",
       "      <th>0</th>\n",
       "      <td>00</td>\n",
       "      <td>S0</td>\n",
       "      <td>S1</td>\n",
       "      <td>000</td>\n",
       "      <td>001</td>\n",
       "    </tr>\n",
       "    <tr>\n",
       "      <th>1</th>\n",
       "      <td>00</td>\n",
       "      <td>S1</td>\n",
       "      <td>S2</td>\n",
       "      <td>001</td>\n",
       "      <td>010</td>\n",
       "    </tr>\n",
       "    <tr>\n",
       "      <th>2</th>\n",
       "      <td>00</td>\n",
       "      <td>S2</td>\n",
       "      <td>S3</td>\n",
       "      <td>000</td>\n",
       "      <td>011</td>\n",
       "    </tr>\n",
       "    <tr>\n",
       "      <th>3</th>\n",
       "      <td>00</td>\n",
       "      <td>S3</td>\n",
       "      <td>S4</td>\n",
       "      <td>010</td>\n",
       "      <td>100</td>\n",
       "    </tr>\n",
       "    <tr>\n",
       "      <th>4</th>\n",
       "      <td>00</td>\n",
       "      <td>S4</td>\n",
       "      <td>S3</td>\n",
       "      <td>000</td>\n",
       "      <td>011</td>\n",
       "    </tr>\n",
       "    <tr>\n",
       "      <th>5</th>\n",
       "      <td>00</td>\n",
       "      <td>S5</td>\n",
       "      <td>S0</td>\n",
       "      <td>100</td>\n",
       "      <td>000</td>\n",
       "    </tr>\n",
       "    <tr>\n",
       "      <th>6</th>\n",
       "      <td>01</td>\n",
       "      <td>S0</td>\n",
       "      <td>S5</td>\n",
       "      <td>000</td>\n",
       "      <td>101</td>\n",
       "    </tr>\n",
       "    <tr>\n",
       "      <th>7</th>\n",
       "      <td>01</td>\n",
       "      <td>S1</td>\n",
       "      <td>S0</td>\n",
       "      <td>001</td>\n",
       "      <td>000</td>\n",
       "    </tr>\n",
       "    <tr>\n",
       "      <th>8</th>\n",
       "      <td>01</td>\n",
       "      <td>S2</td>\n",
       "      <td>S1</td>\n",
       "      <td>000</td>\n",
       "      <td>001</td>\n",
       "    </tr>\n",
       "    <tr>\n",
       "      <th>9</th>\n",
       "      <td>01</td>\n",
       "      <td>S3</td>\n",
       "      <td>S2</td>\n",
       "      <td>010</td>\n",
       "      <td>010</td>\n",
       "    </tr>\n",
       "    <tr>\n",
       "      <th>10</th>\n",
       "      <td>01</td>\n",
       "      <td>S4</td>\n",
       "      <td>S5</td>\n",
       "      <td>000</td>\n",
       "      <td>101</td>\n",
       "    </tr>\n",
       "    <tr>\n",
       "      <th>11</th>\n",
       "      <td>01</td>\n",
       "      <td>S5</td>\n",
       "      <td>S4</td>\n",
       "      <td>100</td>\n",
       "      <td>100</td>\n",
       "    </tr>\n",
       "    <tr>\n",
       "      <th>12</th>\n",
       "      <td>10</td>\n",
       "      <td>S0</td>\n",
       "      <td>S0</td>\n",
       "      <td>000</td>\n",
       "      <td>000</td>\n",
       "    </tr>\n",
       "    <tr>\n",
       "      <th>13</th>\n",
       "      <td>10</td>\n",
       "      <td>S1</td>\n",
       "      <td>S0</td>\n",
       "      <td>000</td>\n",
       "      <td>000</td>\n",
       "    </tr>\n",
       "    <tr>\n",
       "      <th>14</th>\n",
       "      <td>10</td>\n",
       "      <td>S2</td>\n",
       "      <td>S0</td>\n",
       "      <td>000</td>\n",
       "      <td>000</td>\n",
       "    </tr>\n",
       "    <tr>\n",
       "      <th>15</th>\n",
       "      <td>10</td>\n",
       "      <td>S3</td>\n",
       "      <td>S0</td>\n",
       "      <td>000</td>\n",
       "      <td>000</td>\n",
       "    </tr>\n",
       "    <tr>\n",
       "      <th>16</th>\n",
       "      <td>10</td>\n",
       "      <td>S4</td>\n",
       "      <td>S0</td>\n",
       "      <td>000</td>\n",
       "      <td>000</td>\n",
       "    </tr>\n",
       "    <tr>\n",
       "      <th>17</th>\n",
       "      <td>10</td>\n",
       "      <td>S5</td>\n",
       "      <td>S0</td>\n",
       "      <td>000</td>\n",
       "      <td>000</td>\n",
       "    </tr>\n",
       "    <tr>\n",
       "      <th>18</th>\n",
       "      <td>11</td>\n",
       "      <td>S0</td>\n",
       "      <td>S0</td>\n",
       "      <td>000</td>\n",
       "      <td>000</td>\n",
       "    </tr>\n",
       "    <tr>\n",
       "      <th>19</th>\n",
       "      <td>11</td>\n",
       "      <td>S1</td>\n",
       "      <td>S0</td>\n",
       "      <td>000</td>\n",
       "      <td>000</td>\n",
       "    </tr>\n",
       "    <tr>\n",
       "      <th>20</th>\n",
       "      <td>11</td>\n",
       "      <td>S2</td>\n",
       "      <td>S0</td>\n",
       "      <td>000</td>\n",
       "      <td>000</td>\n",
       "    </tr>\n",
       "    <tr>\n",
       "      <th>21</th>\n",
       "      <td>11</td>\n",
       "      <td>S3</td>\n",
       "      <td>S0</td>\n",
       "      <td>000</td>\n",
       "      <td>000</td>\n",
       "    </tr>\n",
       "    <tr>\n",
       "      <th>22</th>\n",
       "      <td>11</td>\n",
       "      <td>S4</td>\n",
       "      <td>S0</td>\n",
       "      <td>000</td>\n",
       "      <td>000</td>\n",
       "    </tr>\n",
       "    <tr>\n",
       "      <th>23</th>\n",
       "      <td>11</td>\n",
       "      <td>S5</td>\n",
       "      <td>S0</td>\n",
       "      <td>000</td>\n",
       "      <td>000</td>\n",
       "    </tr>\n",
       "  </tbody>\n",
       "</table>\n",
       "</div>"
      ],
      "text/plain": [
       "   inputs present_state next_state outputs next_state_code\n",
       "0      00            S0         S1     000             001\n",
       "1      00            S1         S2     001             010\n",
       "2      00            S2         S3     000             011\n",
       "3      00            S3         S4     010             100\n",
       "4      00            S4         S3     000             011\n",
       "5      00            S5         S0     100             000\n",
       "6      01            S0         S5     000             101\n",
       "7      01            S1         S0     001             000\n",
       "8      01            S2         S1     000             001\n",
       "9      01            S3         S2     010             010\n",
       "10     01            S4         S5     000             101\n",
       "11     01            S5         S4     100             100\n",
       "12     10            S0         S0     000             000\n",
       "13     10            S1         S0     000             000\n",
       "14     10            S2         S0     000             000\n",
       "15     10            S3         S0     000             000\n",
       "16     10            S4         S0     000             000\n",
       "17     10            S5         S0     000             000\n",
       "18     11            S0         S0     000             000\n",
       "19     11            S1         S0     000             000\n",
       "20     11            S2         S0     000             000\n",
       "21     11            S3         S0     000             000\n",
       "22     11            S4         S0     000             000\n",
       "23     11            S5         S0     000             000"
      ]
     },
     "execution_count": 16,
     "metadata": {},
     "output_type": "execute_result"
    }
   ],
   "source": [
    "resets = {'10', '11'}\n",
    "for reset in resets:\n",
    "    reset_transitions = [{'inputs': reset,\n",
    "                          'present_state': std_df['present_state'][i], \n",
    "                          'next_state': 'S0',\n",
    "                          'outputs': '000',\n",
    "                          'next_state_code': '000'}\n",
    "                         for i in range(nmbr_states)]\n",
    "    std_df = std_df.append(reset_transitions, ignore_index=True)\n",
    "std_df"
   ]
  },
  {
   "cell_type": "code",
   "execution_count": 17,
   "metadata": {
    "collapsed": false,
    "deletable": true,
    "editable": true,
    "run_control": {
     "frozen": false,
     "read_only": false
    }
   },
   "outputs": [
    {
     "data": {
      "text/plain": [
       "'001'"
      ]
     },
     "execution_count": 17,
     "metadata": {},
     "output_type": "execute_result"
    }
   ],
   "source": [
    "std_df['next_state_code'][0]"
   ]
  },
  {
   "cell_type": "code",
   "execution_count": 18,
   "metadata": {
    "collapsed": false,
    "deletable": true,
    "editable": true,
    "run_control": {
     "frozen": false,
     "read_only": false
    }
   },
   "outputs": [
    {
     "data": {
      "text/html": [
       "<div>\n",
       "<table border=\"1\" class=\"dataframe\">\n",
       "  <thead>\n",
       "    <tr style=\"text-align: right;\">\n",
       "      <th></th>\n",
       "      <th>inputs</th>\n",
       "      <th>present_state</th>\n",
       "      <th>next_state</th>\n",
       "      <th>outputs</th>\n",
       "      <th>next_state_code</th>\n",
       "      <th>present_state_code</th>\n",
       "    </tr>\n",
       "  </thead>\n",
       "  <tbody>\n",
       "    <tr>\n",
       "      <th>0</th>\n",
       "      <td>00</td>\n",
       "      <td>S0</td>\n",
       "      <td>S1</td>\n",
       "      <td>000</td>\n",
       "      <td>001</td>\n",
       "      <td>000</td>\n",
       "    </tr>\n",
       "    <tr>\n",
       "      <th>1</th>\n",
       "      <td>00</td>\n",
       "      <td>S1</td>\n",
       "      <td>S2</td>\n",
       "      <td>001</td>\n",
       "      <td>010</td>\n",
       "      <td>001</td>\n",
       "    </tr>\n",
       "    <tr>\n",
       "      <th>2</th>\n",
       "      <td>00</td>\n",
       "      <td>S2</td>\n",
       "      <td>S3</td>\n",
       "      <td>000</td>\n",
       "      <td>011</td>\n",
       "      <td>010</td>\n",
       "    </tr>\n",
       "    <tr>\n",
       "      <th>3</th>\n",
       "      <td>00</td>\n",
       "      <td>S3</td>\n",
       "      <td>S4</td>\n",
       "      <td>010</td>\n",
       "      <td>100</td>\n",
       "      <td>011</td>\n",
       "    </tr>\n",
       "    <tr>\n",
       "      <th>4</th>\n",
       "      <td>00</td>\n",
       "      <td>S4</td>\n",
       "      <td>S3</td>\n",
       "      <td>000</td>\n",
       "      <td>011</td>\n",
       "      <td>100</td>\n",
       "    </tr>\n",
       "    <tr>\n",
       "      <th>5</th>\n",
       "      <td>00</td>\n",
       "      <td>S5</td>\n",
       "      <td>S0</td>\n",
       "      <td>100</td>\n",
       "      <td>000</td>\n",
       "      <td>101</td>\n",
       "    </tr>\n",
       "    <tr>\n",
       "      <th>6</th>\n",
       "      <td>01</td>\n",
       "      <td>S0</td>\n",
       "      <td>S5</td>\n",
       "      <td>000</td>\n",
       "      <td>101</td>\n",
       "      <td>000</td>\n",
       "    </tr>\n",
       "    <tr>\n",
       "      <th>7</th>\n",
       "      <td>01</td>\n",
       "      <td>S1</td>\n",
       "      <td>S0</td>\n",
       "      <td>001</td>\n",
       "      <td>000</td>\n",
       "      <td>001</td>\n",
       "    </tr>\n",
       "    <tr>\n",
       "      <th>8</th>\n",
       "      <td>01</td>\n",
       "      <td>S2</td>\n",
       "      <td>S1</td>\n",
       "      <td>000</td>\n",
       "      <td>001</td>\n",
       "      <td>010</td>\n",
       "    </tr>\n",
       "    <tr>\n",
       "      <th>9</th>\n",
       "      <td>01</td>\n",
       "      <td>S3</td>\n",
       "      <td>S2</td>\n",
       "      <td>010</td>\n",
       "      <td>010</td>\n",
       "      <td>011</td>\n",
       "    </tr>\n",
       "    <tr>\n",
       "      <th>10</th>\n",
       "      <td>01</td>\n",
       "      <td>S4</td>\n",
       "      <td>S5</td>\n",
       "      <td>000</td>\n",
       "      <td>101</td>\n",
       "      <td>100</td>\n",
       "    </tr>\n",
       "    <tr>\n",
       "      <th>11</th>\n",
       "      <td>01</td>\n",
       "      <td>S5</td>\n",
       "      <td>S4</td>\n",
       "      <td>100</td>\n",
       "      <td>100</td>\n",
       "      <td>101</td>\n",
       "    </tr>\n",
       "    <tr>\n",
       "      <th>12</th>\n",
       "      <td>10</td>\n",
       "      <td>S0</td>\n",
       "      <td>S0</td>\n",
       "      <td>000</td>\n",
       "      <td>000</td>\n",
       "      <td>000</td>\n",
       "    </tr>\n",
       "    <tr>\n",
       "      <th>13</th>\n",
       "      <td>10</td>\n",
       "      <td>S1</td>\n",
       "      <td>S0</td>\n",
       "      <td>000</td>\n",
       "      <td>000</td>\n",
       "      <td>001</td>\n",
       "    </tr>\n",
       "    <tr>\n",
       "      <th>14</th>\n",
       "      <td>10</td>\n",
       "      <td>S2</td>\n",
       "      <td>S0</td>\n",
       "      <td>000</td>\n",
       "      <td>000</td>\n",
       "      <td>010</td>\n",
       "    </tr>\n",
       "    <tr>\n",
       "      <th>15</th>\n",
       "      <td>10</td>\n",
       "      <td>S3</td>\n",
       "      <td>S0</td>\n",
       "      <td>000</td>\n",
       "      <td>000</td>\n",
       "      <td>011</td>\n",
       "    </tr>\n",
       "    <tr>\n",
       "      <th>16</th>\n",
       "      <td>10</td>\n",
       "      <td>S4</td>\n",
       "      <td>S0</td>\n",
       "      <td>000</td>\n",
       "      <td>000</td>\n",
       "      <td>100</td>\n",
       "    </tr>\n",
       "    <tr>\n",
       "      <th>17</th>\n",
       "      <td>10</td>\n",
       "      <td>S5</td>\n",
       "      <td>S0</td>\n",
       "      <td>000</td>\n",
       "      <td>000</td>\n",
       "      <td>101</td>\n",
       "    </tr>\n",
       "    <tr>\n",
       "      <th>18</th>\n",
       "      <td>11</td>\n",
       "      <td>S0</td>\n",
       "      <td>S0</td>\n",
       "      <td>000</td>\n",
       "      <td>000</td>\n",
       "      <td>000</td>\n",
       "    </tr>\n",
       "    <tr>\n",
       "      <th>19</th>\n",
       "      <td>11</td>\n",
       "      <td>S1</td>\n",
       "      <td>S0</td>\n",
       "      <td>000</td>\n",
       "      <td>000</td>\n",
       "      <td>001</td>\n",
       "    </tr>\n",
       "    <tr>\n",
       "      <th>20</th>\n",
       "      <td>11</td>\n",
       "      <td>S2</td>\n",
       "      <td>S0</td>\n",
       "      <td>000</td>\n",
       "      <td>000</td>\n",
       "      <td>010</td>\n",
       "    </tr>\n",
       "    <tr>\n",
       "      <th>21</th>\n",
       "      <td>11</td>\n",
       "      <td>S3</td>\n",
       "      <td>S0</td>\n",
       "      <td>000</td>\n",
       "      <td>000</td>\n",
       "      <td>011</td>\n",
       "    </tr>\n",
       "    <tr>\n",
       "      <th>22</th>\n",
       "      <td>11</td>\n",
       "      <td>S4</td>\n",
       "      <td>S0</td>\n",
       "      <td>000</td>\n",
       "      <td>000</td>\n",
       "      <td>100</td>\n",
       "    </tr>\n",
       "    <tr>\n",
       "      <th>23</th>\n",
       "      <td>11</td>\n",
       "      <td>S5</td>\n",
       "      <td>S0</td>\n",
       "      <td>000</td>\n",
       "      <td>000</td>\n",
       "      <td>101</td>\n",
       "    </tr>\n",
       "  </tbody>\n",
       "</table>\n",
       "</div>"
      ],
      "text/plain": [
       "   inputs present_state next_state outputs next_state_code present_state_code\n",
       "0      00            S0         S1     000             001                000\n",
       "1      00            S1         S2     001             010                001\n",
       "2      00            S2         S3     000             011                010\n",
       "3      00            S3         S4     010             100                011\n",
       "4      00            S4         S3     000             011                100\n",
       "5      00            S5         S0     100             000                101\n",
       "6      01            S0         S5     000             101                000\n",
       "7      01            S1         S0     001             000                001\n",
       "8      01            S2         S1     000             001                010\n",
       "9      01            S3         S2     010             010                011\n",
       "10     01            S4         S5     000             101                100\n",
       "11     01            S5         S4     100             100                101\n",
       "12     10            S0         S0     000             000                000\n",
       "13     10            S1         S0     000             000                001\n",
       "14     10            S2         S0     000             000                010\n",
       "15     10            S3         S0     000             000                011\n",
       "16     10            S4         S0     000             000                100\n",
       "17     10            S5         S0     000             000                101\n",
       "18     11            S0         S0     000             000                000\n",
       "19     11            S1         S0     000             000                001\n",
       "20     11            S2         S0     000             000                010\n",
       "21     11            S3         S0     000             000                011\n",
       "22     11            S4         S0     000             000                100\n",
       "23     11            S5         S0     000             000                101"
      ]
     },
     "execution_count": 18,
     "metadata": {},
     "output_type": "execute_result"
    }
   ],
   "source": [
    "std_df['present_state_code'] = std_df['present_state'].map(state_codes)\n",
    "std_df"
   ]
  },
  {
   "cell_type": "code",
   "execution_count": 180,
   "metadata": {
    "collapsed": false
   },
   "outputs": [
    {
     "name": "stdout",
     "output_type": "stream",
     "text": [
      "digraph {\n",
      "    graph [fontsize=10 splines=true overlap=false]\n",
      "    edge  [fontsize=10 fontname=\"helvetica\"]\n",
      "    node  [fontsize=10 fontname=\"helvetica\" nodesep=2.0]\n",
      "    ratio=auto\n",
      "    \"S0 &#8260; 000\"\n",
      "    \"S1 &#8260; 001\"\n",
      "    \"S2 &#8260; 010\"\n",
      "    \"S3 &#8260; 011\"\n",
      "    \"S4 &#8260; 100\"\n",
      "    \"S5 &#8260; 101\"\n",
      "    \"S0 &#8260; 000\" -> \"S1 &#8260; 001\" [label=\"00 &#8260; 000\" arrowhead = \"vee\"]\n",
      "    \"S1 &#8260; 001\" -> \"S2 &#8260; 010\" [label=\"00 &#8260; 001\" arrowhead = \"vee\"]\n",
      "    \"S2 &#8260; 010\" -> \"S3 &#8260; 011\" [label=\"00 &#8260; 000\" arrowhead = \"vee\"]\n",
      "    \"S3 &#8260; 011\" -> \"S4 &#8260; 100\" [label=\"00 &#8260; 010\" arrowhead = \"vee\"]\n",
      "    \"S4 &#8260; 100\" -> \"S3 &#8260; 011\" [label=\"00 &#8260; 000\" arrowhead = \"vee\"]\n",
      "    \"S5 &#8260; 101\" -> \"S0 &#8260; 000\" [label=\"00 &#8260; 100\" arrowhead = \"vee\"]\n",
      "    \"S0 &#8260; 000\" -> \"S5 &#8260; 101\" [label=\"01 &#8260; 000\" arrowhead = \"vee\"]\n",
      "    \"S1 &#8260; 001\" -> \"S0 &#8260; 000\" [label=\"01 &#8260; 001\" arrowhead = \"vee\"]\n",
      "    \"S2 &#8260; 010\" -> \"S1 &#8260; 001\" [label=\"01 &#8260; 000\" arrowhead = \"vee\"]\n",
      "    \"S3 &#8260; 011\" -> \"S2 &#8260; 010\" [label=\"01 &#8260; 010\" arrowhead = \"vee\"]\n",
      "    \"S4 &#8260; 100\" -> \"S5 &#8260; 101\" [label=\"01 &#8260; 000\" arrowhead = \"vee\"]\n",
      "    \"S5 &#8260; 101\" -> \"S4 &#8260; 100\" [label=\"01 &#8260; 100\" arrowhead = \"vee\"]\n",
      "    \"S0 &#8260; 000\" -> \"S0 &#8260; 000\" [label=\"10 &#8260; 000\" arrowhead = \"vee\"]\n",
      "    \"S1 &#8260; 001\" -> \"S0 &#8260; 000\" [label=\"10 &#8260; 000\" arrowhead = \"vee\"]\n",
      "    \"S2 &#8260; 010\" -> \"S0 &#8260; 000\" [label=\"10 &#8260; 000\" arrowhead = \"vee\"]\n",
      "    \"S3 &#8260; 011\" -> \"S0 &#8260; 000\" [label=\"10 &#8260; 000\" arrowhead = \"vee\"]\n",
      "    \"S4 &#8260; 100\" -> \"S0 &#8260; 000\" [label=\"10 &#8260; 000\" arrowhead = \"vee\"]\n",
      "    \"S5 &#8260; 101\" -> \"S0 &#8260; 000\" [label=\"10 &#8260; 000\" arrowhead = \"vee\"]\n",
      "    \"S0 &#8260; 000\" -> \"S0 &#8260; 000\" [label=\"11 &#8260; 000\" arrowhead = \"vee\"]\n",
      "    \"S1 &#8260; 001\" -> \"S0 &#8260; 000\" [label=\"11 &#8260; 000\" arrowhead = \"vee\"]\n",
      "    \"S2 &#8260; 010\" -> \"S0 &#8260; 000\" [label=\"11 &#8260; 000\" arrowhead = \"vee\"]\n",
      "    \"S3 &#8260; 011\" -> \"S0 &#8260; 000\" [label=\"11 &#8260; 000\" arrowhead = \"vee\"]\n",
      "    \"S4 &#8260; 100\" -> \"S0 &#8260; 000\" [label=\"11 &#8260; 000\" arrowhead = \"vee\"]\n",
      "    \"S5 &#8260; 101\" -> \"S0 &#8260; 000\" [label=\"11 &#8260; 000\" arrowhead = \"vee\"]\n",
      "}\n"
     ]
    }
   ],
   "source": [
    "with open('fsm.dot','w') as f:\n",
    "    f.write(\"digraph {\\n\" +\n",
    "            \"    graph [fontsize=10 splines=true overlap=false]\\n\" +\n",
    "            \"    edge  [fontsize=10 fontname=\\\"helvetica\\\"]\\n\" +\n",
    "            \"    node  [fontsize=10 fontname=\\\"helvetica\\\" nodesep=2.0]\\n\" +\n",
    "            \"    ratio=auto\\n\")\n",
    "    for i in state_codes:\n",
    "        f.write(('    \\\"' + i + ' &#8260; ' + state_codes[i]) + '\\\"\\n')\n",
    "    for index in range(len(std_df)):\n",
    "        f.write('    \\\"' + std_df['present_state'][index] + ' &#8260; ' +\n",
    "                std_df['present_state_code'][index] + '\\\" -> \\\"' + \n",
    "                std_df['next_state'][index] + ' &#8260; ' +\n",
    "                std_df['next_state_code'][index] +\"\\\" [label=\\\"\" +\n",
    "                std_df['inputs'][index] + \" &#8260; \" + \n",
    "                std_df['outputs'][index] + \"\\\" arrowhead = \\\"vee\\\"]\\n\")\n",
    "    f.write(\"}\")\n",
    "\n",
    "with open('fsm.dot','r') as f:\n",
    "    s = f.read()\n",
    "print(s)"
   ]
  },
  {
   "cell_type": "code",
   "execution_count": 181,
   "metadata": {
    "collapsed": false
   },
   "outputs": [
    {
     "data": {
      "image/png": "[encoded data removed]",
      "text/plain": [
       "<IPython.core.display.Image object>"
      ]
     },
     "metadata": {},
     "output_type": "display_data"
    },
    {
     "data": {
      "text/plain": [
       "0"
      ]
     },
     "execution_count": 181,
     "metadata": {},
     "output_type": "execute_result"
    }
   ],
   "source": [
    "import os\n",
    "import pygraphviz as pgv\n",
    "from IPython.display import Image, display\n",
    "B=pgv.AGraph('fsm.dot')\n",
    "B.layout(prog='dot')\n",
    "B.draw('fsm.png')\n",
    "display(Image(filename='fsm.png'))\n",
    "os.system(\"rm -rf fsm.png fsm.dot\")"
   ]
  },
  {
   "cell_type": "code",
   "execution_count": null,
   "metadata": {
    "collapsed": true
   },
   "outputs": [],
   "source": []
  }
 ],
 "metadata": {
  "anaconda-cloud": {},
  "kernelspec": {
   "display_name": "Python 3",
   "language": "python",
   "name": "python3"
  },
  "language_info": {
   "codemirror_mode": {
    "name": "ipython",
    "version": 3
   },
   "file_extension": ".py",
   "mimetype": "text/x-python",
   "name": "python",
   "nbconvert_exporter": "python",
   "pygments_lexer": "ipython3",
   "version": "3.6.0"
  }
 },
 "nbformat": 4,
 "nbformat_minor": 1
}
