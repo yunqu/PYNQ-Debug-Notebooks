{
 "cells": [
  {
   "cell_type": "markdown",
   "metadata": {
    "deletable": true,
    "editable": true
   },
   "source": [
    "# Pynq-Z1 HDMI Edge Detection Filter\n",
    "\n",
    "This demo will show software and hardware edge detection on PYNQ-Z1. To run this demo:\n",
    " * HDMI input has to be connected to HDMI source.\n",
    " * HDMI output has to be connected to a monitor supporting HD (1920*1080) video."
   ]
  },
  {
   "cell_type": "markdown",
   "metadata": {
    "deletable": true,
    "editable": true
   },
   "source": [
    "### Step 1: Load Bitstream & Shared Library\n",
    "* The first cell will download the bitstream and initialize IP core dictionary\n",
    "* The second cell will define the hardware wrapper functions, as well as functions for memory allocation"
   ]
  },
  {
   "cell_type": "code",
   "execution_count": 1,
   "metadata": {
    "collapsed": false,
    "deletable": true,
    "editable": true
   },
   "outputs": [],
   "source": [
    "from pynq import Overlay\n",
    "Overlay(\"/home/xilinx/jupyter_notebooks/demo_video/\"+\n",
    "        \"demo_video.bit\").download()"
   ]
  },
  {
   "cell_type": "code",
   "execution_count": 2,
   "metadata": {
    "collapsed": false,
    "deletable": true,
    "editable": true
   },
   "outputs": [
    {
     "data": {
      "text/plain": [
       "32696"
      ]
     },
     "execution_count": 2,
     "metadata": {},
     "output_type": "execute_result"
    }
   ],
   "source": [
    "import cffi\n",
    "ffi = cffi.FFI()\n",
    "ffi.cdef(\"void _p0_rgb_2_gray_0(uint8_t * input,uint8_t * output);\")\n",
    "ffi.cdef(\"void _p0_sobel_filter_0(uint8_t * input,uint8_t * output);\")\n",
    "ffi.cdef(\"void *cma_alloc(uint32_t len, uint32_t cacheable);\")\n",
    "ffi.cdef(\"void cma_free(void *buf);\")\n",
    "ffi.cdef(\"uint32_t cma_pages_available();\")\n",
    "libsds = ffi.dlopen('/home/xilinx/jupyter_notebooks/'+\n",
    "                    'demo_video/swstubs/lib_sdsoc.so')\n",
    "libsds.cma_pages_available()"
   ]
  },
  {
   "cell_type": "markdown",
   "metadata": {
    "deletable": true,
    "editable": true
   },
   "source": [
    "### Step 2: Initialize HDMI I/O & Memory\n",
    "The next cell will initialize the HDMI Input and Output. Live video should be displayed on HDMI output."
   ]
  },
  {
   "cell_type": "code",
   "execution_count": 3,
   "metadata": {
    "collapsed": false,
    "deletable": true,
    "editable": true
   },
   "outputs": [],
   "source": [
    "from pynq.drivers.video import HDMI\n",
    "hdmi_in = HDMI('in', init_timeout=10)\n",
    "hdmi_out = HDMI('out',frame_list=hdmi_in.frame_list)\n",
    "hdmi_in.start()\n",
    "hdmi_out.start()"
   ]
  },
  {
   "cell_type": "markdown",
   "metadata": {
    "deletable": true,
    "editable": true
   },
   "source": [
    "Run the next cell to use different memory locations for HDMI input buffer and output buffer. HDMI screen will turn black."
   ]
  },
  {
   "cell_type": "code",
   "execution_count": 4,
   "metadata": {
    "collapsed": false,
    "deletable": true,
    "editable": true
   },
   "outputs": [],
   "source": [
    "hdmi_in.frame_index(0)\n",
    "hdmi_out.frame_index(1)\n",
    "frame_in = ffi.cast(\"uint8_t *\",hdmi_in.frame_addr())\n",
    "frame_out = ffi.cast(\"uint8_t *\",hdmi_out.frame_addr())\n",
    "frame_gray = ffi.cast(\"uint8_t *\",libsds.cma_alloc(1920*1080,0))"
   ]
  },
  {
   "cell_type": "markdown",
   "metadata": {
    "deletable": true,
    "editable": true
   },
   "source": [
    "### Step 3: Run Edge Detection"
   ]
  },
  {
   "cell_type": "markdown",
   "metadata": {
    "deletable": true,
    "editable": true
   },
   "source": [
    "#### 3.1 OpenCV Perfromance on ARM A9\n",
    "The following cell will perform a grayscale conversion and apply a Sobel filter."
   ]
  },
  {
   "cell_type": "code",
   "execution_count": 5,
   "metadata": {
    "collapsed": false,
    "deletable": true,
    "editable": true
   },
   "outputs": [
    {
     "name": "stdout",
     "output_type": "stream",
     "text": [
      "OpenCV Sobel: 1.16 fps\n"
     ]
    }
   ],
   "source": [
    "import numpy as np\n",
    "import time\n",
    "import cv2\n",
    "from copy import deepcopy\n",
    "num_frames = 10\n",
    "output_frame = np.zeros((1080,1920,3), dtype=np.uint8)\n",
    "\n",
    "time1 = time.time()\n",
    "for i in range (num_frames):  \n",
    "    np_frame= deepcopy(np.frombuffer(ffi.buffer(\n",
    "                frame_in,1080*1920*3),dtype=np.uint8).reshape(1080,1920,3))\n",
    "    gray1 = cv2.cvtColor(np_frame, cv2.COLOR_BGR2GRAY)\n",
    "    grad_x = cv2.Sobel(gray1,cv2.CV_16S,1,0,ksize = 3,scale = 1, \n",
    "                       delta = 0,borderType = cv2.BORDER_DEFAULT)\n",
    "    grad_y = cv2.Sobel(gray1,cv2.CV_16S,0,1,ksize = 3,scale = 1, \n",
    "                       delta = 0,borderType = cv2.BORDER_DEFAULT)\n",
    "    abs_grad_x = cv2.convertScaleAbs(grad_x)\n",
    "    abs_grad_y = cv2.convertScaleAbs(grad_y)\n",
    "    gray2 = cv2.addWeighted(abs_grad_x,1.0,abs_grad_y,1.0,0)\n",
    "    _,gray3 = cv2.threshold(gray2,200,255,cv2.THRESH_TRUNC)\n",
    "    _,gray4 = cv2.threshold(gray3,50,255,cv2.THRESH_TOZERO)\n",
    "    output_frame[:,:,0] = gray4\n",
    "    output_frame[:,:,1] = gray4\n",
    "    output_frame[:,:,2] = gray4\n",
    "    hdmi_out.frame_raw(bytearray(output_frame))\n",
    "time2 = time.time()\n",
    "del np_frame\n",
    "print(\"OpenCV Sobel: {0:.2f} fps\".format(num_frames/(time2-time1)))"
   ]
  },
  {
   "cell_type": "markdown",
   "metadata": {
    "deletable": true,
    "editable": true
   },
   "source": [
    "#### 3.2 SDSoC Design Performance\n",
    "The following cell will show the performance with PL acceleration."
   ]
  },
  {
   "cell_type": "code",
   "execution_count": 6,
   "metadata": {
    "collapsed": false,
    "deletable": true,
    "editable": true
   },
   "outputs": [
    {
     "name": "stdout",
     "output_type": "stream",
     "text": [
      "SDSoC Sobel: 32.02 fps\n"
     ]
    }
   ],
   "source": [
    "num_frames = 160\n",
    "time1 = time.time()\n",
    "for i in range(num_frames):\n",
    "    libsds._p0_rgb_2_gray_0(frame_in,frame_gray)\n",
    "    libsds._p0_sobel_filter_0(frame_gray,frame_out)\n",
    "time2 = time.time()\n",
    "print(\"SDSoC Sobel: {0:.2f} fps\".format(num_frames/(time2-time1)))"
   ]
  },
  {
   "cell_type": "markdown",
   "metadata": {
    "deletable": true,
    "editable": true
   },
   "source": [
    "### Step 4: Interactive Demo\n",
    "Execute the following two cells to run an interactive demo\n",
    "* Switch SW0: choose between hardware and software filter\n",
    "  * lower position: software-only filter\n",
    "  * upper position: hardware-accelerated filter\n",
    "* Press button 0 (BTN0) to end the demo"
   ]
  },
  {
   "cell_type": "code",
   "execution_count": null,
   "metadata": {
    "collapsed": false,
    "deletable": true,
    "editable": true
   },
   "outputs": [],
   "source": [
    "from pynq.board import Button\n",
    "from pynq.board import Switch\n",
    "pushbt = Button(0)\n",
    "switch = Switch(0)\n",
    "\n",
    "while(pushbt.read() == 0):\n",
    "    if switch.read() == 1:\n",
    "        libsds._p0_rgb_2_gray_0(frame_in,frame_gray)\n",
    "        libsds._p0_sobel_filter_0(frame_gray,frame_out)\n",
    "    else: \n",
    "        np_frame= deepcopy(np.frombuffer(ffi.buffer(\n",
    "                frame_in,1080*1920*3),dtype=np.uint8).reshape(1080,1920,3))\n",
    "        gray1 = cv2.cvtColor(np_frame, cv2.COLOR_BGR2GRAY)\n",
    "        grad_x = cv2.Sobel(gray1,cv2.CV_16S,1,0,ksize = 3,scale = 1, \n",
    "                       delta = 0,borderType = cv2.BORDER_DEFAULT)\n",
    "        grad_y = cv2.Sobel(gray1,cv2.CV_16S,0,1,ksize = 3,scale = 1, \n",
    "                       delta = 0,borderType = cv2.BORDER_DEFAULT)\n",
    "        abs_grad_x = cv2.convertScaleAbs(grad_x)\n",
    "        abs_grad_y = cv2.convertScaleAbs(grad_y)\n",
    "        gray2 = cv2.addWeighted(abs_grad_x,1.0,abs_grad_y,1.0,0)\n",
    "        _,gray3 = cv2.threshold(gray2,200,255,cv2.THRESH_TRUNC)\n",
    "        _,gray4 = cv2.threshold(gray3,50,255,cv2.THRESH_TOZERO)\n",
    "        output_frame[:,:,0] = gray4\n",
    "        output_frame[:,:,1] = gray4\n",
    "        output_frame[:,:,2] = gray4\n",
    "        hdmi_out.frame_raw(bytearray(output_frame))\n",
    "        \n",
    "del np_frame"
   ]
  },
  {
   "cell_type": "markdown",
   "metadata": {
    "deletable": true,
    "editable": true
   },
   "source": [
    "### Step 5: Release Resources\n",
    "\n",
    "* Execute the following cell to relase the allocated resources\n",
    "* The VDMA will be stopped and the memory freed"
   ]
  },
  {
   "cell_type": "code",
   "execution_count": null,
   "metadata": {
    "collapsed": false,
    "deletable": true,
    "editable": true
   },
   "outputs": [],
   "source": [
    "hdmi_out.stop()\n",
    "hdmi_in.stop()\n",
    "libsds.cma_free(frame_in)\n",
    "libsds.cma_free(frame_out)\n",
    "libsds.cma_free(frame_gray)\n",
    "\n",
    "del hdmi_in\n",
    "del hdmi_out"
   ]
  },
  {
   "cell_type": "code",
   "execution_count": null,
   "metadata": {
    "collapsed": false,
    "deletable": true,
    "editable": true
   },
   "outputs": [],
   "source": []
  }
 ],
 "metadata": {
  "kernelspec": {
   "display_name": "Python 3",
   "language": "python",
   "name": "python3"
  },
  "language_info": {
   "codemirror_mode": {
    "name": "ipython",
    "version": 3
   },
   "file_extension": ".py",
   "mimetype": "text/x-python",
   "name": "python",
   "nbconvert_exporter": "python",
   "pygments_lexer": "ipython3",
   "version": "3.6.0"
  }
 },
 "nbformat": 4,
 "nbformat_minor": 1
}
