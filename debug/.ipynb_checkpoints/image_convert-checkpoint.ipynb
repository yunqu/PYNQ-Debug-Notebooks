{
 "cells": [
  {
   "cell_type": "markdown",
   "metadata": {},
   "source": [
    "## Convert PNG file to BMP file"
   ]
  },
  {
   "cell_type": "code",
   "execution_count": 2,
   "metadata": {
    "collapsed": false
   },
   "outputs": [],
   "source": [
    "# convert a .png image file to a .bmp image file using PIL\n",
    "from PIL import Image\n",
    "\n",
    "file_in = \"./data/download.png\"\n",
    "img = Image.open(file_in)\n",
    "\n",
    "b, g, r = img.split()\n",
    "file_out = \"./data/download_red.bmp\"\n",
    "r.save(file_out)\n",
    "file_out = \"./data/download_green.bmp\"\n",
    "g.save(file_out)\n",
    "file_out = \"./data/download_blue.bmp\"\n",
    "b.save(file_out)"
   ]
  },
  {
   "cell_type": "code",
   "execution_count": 3,
   "metadata": {
    "collapsed": false
   },
   "outputs": [],
   "source": [
    "img = Image.open(file_in)\n",
    "new_img = img.resize((128,128))\n",
    "new_img.save('./data/download-small.bmp')"
   ]
  },
  {
   "cell_type": "code",
   "execution_count": 4,
   "metadata": {
    "collapsed": false
   },
   "outputs": [],
   "source": [
    "img = Image.open('./data/home.jpg')\n",
    "w,h = img.size\n",
    "w_new = 160\n",
    "h_new = int(w_new*h/w) \n",
    "new_img = img.resize((w_new,h_new))\n",
    "new_img.save('./data/home-small.jpg','JPEG')"
   ]
  },
  {
   "cell_type": "code",
   "execution_count": null,
   "metadata": {
    "collapsed": false
   },
   "outputs": [],
   "source": [
    "help(img.convert)"
   ]
  },
  {
   "cell_type": "code",
   "execution_count": null,
   "metadata": {
    "collapsed": false
   },
   "outputs": [],
   "source": [
    "help(Image.frombytes)"
   ]
  },
  {
   "cell_type": "code",
   "execution_count": null,
   "metadata": {
    "collapsed": false
   },
   "outputs": [],
   "source": [
    "from numpy import array\n",
    "from io import BytesIO\n",
    "from struct import unpack\n",
    "\n",
    "logo_path = './data/home.jpg'\n",
    "new_name = './data/home_16.bmp'\n",
    "with Image.open(logo_path) as img:\n",
    "    arr = array(img)\n",
    "    w,h = img.size\n",
    "\n",
    "print(arr[0][0])\n",
    "w_new = int(w/2)\n",
    "h_new = int(h/2)\n",
    "byte_list = [0]*w_new*h_new\n",
    "for i in range(h_new):\n",
    "    for j in range(w_new):\n",
    "        red,green,blue = arr[i][j]\n",
    "        temp = ((red & 0xF8) << 8)|((green & 0xFC) << 3)|((blue & 0xF8) >> 3)\n",
    "        byte_list[i*w_new+j] = temp\n",
    "print(byte_list[0])\n",
    "#image = Image.open(BytesIO(bytearray(byte_list)))\n",
    "#image.save(new_name)\n",
    "print(len(arr),len(arr[0]),len(arr[0][0]))"
   ]
  },
  {
   "cell_type": "code",
   "execution_count": null,
   "metadata": {
    "collapsed": false
   },
   "outputs": [],
   "source": [
    "arr[297][689]"
   ]
  },
  {
   "cell_type": "code",
   "execution_count": null,
   "metadata": {
    "collapsed": false
   },
   "outputs": [],
   "source": [
    "import numpy as np\n",
    "a = np.array([1, 2, 3])\n",
    "np.bitwise_or(np.left_shift(a,2),np.left_shift(a,1))"
   ]
  },
  {
   "cell_type": "code",
   "execution_count": null,
   "metadata": {
    "collapsed": false
   },
   "outputs": [],
   "source": [
    "import cffi\n",
    "ffi=cffi.FFI()\n",
    "ffi.cdef(\"\"\"\n",
    "uint16_t a[10];\n",
    "\"\"\")\n",
    "ffi.cdef(\"\"\"\n",
    "void *cma_alloc(uint32_t len, uint32_t cacheable);\n",
    "uint32_t cma_get_phy_addr(void *buf);\n",
    "\"\"\")\n",
    "lib=ffi.dlopen(\"/usr/lib/libsds_lib.so\")\n",
    "buf = ffi.cast(\"uint8_t *\",lib.cma_alloc(2*10,0))\n",
    "buf1= ffi.buffer(buf,2*10)"
   ]
  },
  {
   "cell_type": "code",
   "execution_count": null,
   "metadata": {
    "collapsed": false
   },
   "outputs": [],
   "source": [
    "buf1[0] = b'a'\n",
    "print(buf1[0])"
   ]
  },
  {
   "cell_type": "code",
   "execution_count": 19,
   "metadata": {
    "collapsed": false
   },
   "outputs": [],
   "source": [
    "b = bytearray([100,156])\n",
    "b[0] = 100\n",
    "b[1] = 156"
   ]
  },
  {
   "cell_type": "code",
   "execution_count": null,
   "metadata": {
    "collapsed": false
   },
   "outputs": [],
   "source": []
  }
 ],
 "metadata": {
  "kernelspec": {
   "display_name": "Python 3",
   "language": "python",
   "name": "python3"
  },
  "language_info": {
   "codemirror_mode": {
    "name": "ipython",
    "version": 3
   },
   "file_extension": ".py",
   "mimetype": "text/x-python",
   "name": "python",
   "nbconvert_exporter": "python",
   "pygments_lexer": "ipython3",
   "version": "3.4.3+"
  }
 },
 "nbformat": 4,
 "nbformat_minor": 1
}
