{
 "cells": [
  {
   "cell_type": "code",
   "execution_count": 1,
   "metadata": {
    "collapsed": false,
    "deletable": true,
    "editable": true
   },
   "outputs": [],
   "source": [
    "from pynq import Overlay\n",
    "from pynq import PL\n",
    "from pprint import pprint"
   ]
  },
  {
   "cell_type": "code",
   "execution_count": 2,
   "metadata": {
    "collapsed": false,
    "deletable": true,
    "editable": true
   },
   "outputs": [
    {
     "name": "stdout",
     "output_type": "stream",
     "text": [
      "{'audio/d_axi_pdm_1': {'addr_range': 65536,\n",
      "                       'phys_addr': 1136656384,\n",
      "                       'state': None,\n",
      "                       'type': 'xilinx.com:user:d_axi_pdm:1.2'},\n",
      " 'btns_gpio': {'addr_range': 65536,\n",
      "               'phys_addr': 1092681728,\n",
      "               'state': None,\n",
      "               'type': 'xilinx.com:ip:axi_gpio:2.0'},\n",
      " 'mb_bram_ctrl_1': {'addr_range': 65536,\n",
      "                    'phys_addr': 1073741824,\n",
      "                    'state': None,\n",
      "                    'type': 'xilinx.com:ip:axi_bram_ctrl:4.0'},\n",
      " 'mb_bram_ctrl_2': {'addr_range': 65536,\n",
      "                    'phys_addr': 1107296256,\n",
      "                    'state': None,\n",
      "                    'type': 'xilinx.com:ip:axi_bram_ctrl:4.0'},\n",
      " 'mb_bram_ctrl_3': {'addr_range': 65536,\n",
      "                    'phys_addr': 1140850688,\n",
      "                    'state': None,\n",
      "                    'type': 'xilinx.com:ip:axi_bram_ctrl:4.0'},\n",
      " 'rgbleds_gpio': {'addr_range': 65536,\n",
      "                  'phys_addr': 1092878336,\n",
      "                  'state': None,\n",
      "                  'type': 'xilinx.com:ip:axi_gpio:2.0'},\n",
      " 'swsleds_gpio': {'addr_range': 65536,\n",
      "                  'phys_addr': 1092616192,\n",
      "                  'state': None,\n",
      "                  'type': 'xilinx.com:ip:axi_gpio:2.0'},\n",
      " 'system_interrupts': {'addr_range': 65536,\n",
      "                       'phys_addr': 1098907648,\n",
      "                       'state': None,\n",
      "                       'type': 'xilinx.com:ip:axi_intc:4.1'},\n",
      " 'tracebuffer_arduino/axi_dma_0': {'addr_range': 65536,\n",
      "                                   'phys_addr': 2151743488,\n",
      "                                   'state': None,\n",
      "                                   'type': 'xilinx.com:ip:axi_dma:7.1'},\n",
      " 'tracebuffer_arduino/trace_cntrl_0': {'addr_range': 65536,\n",
      "                                       'phys_addr': 2210398208,\n",
      "                                       'state': None,\n",
      "                                       'type': 'xilinx.com:hls:trace_cntrl:1.2'},\n",
      " 'tracebuffer_pmods/axi_dma_0': {'addr_range': 65536,\n",
      "                                 'phys_addr': 2151677952,\n",
      "                                 'state': None,\n",
      "                                 'type': 'xilinx.com:ip:axi_dma:7.1'},\n",
      " 'tracebuffer_pmods/trace_cntrl_0': {'addr_range': 65536,\n",
      "                                     'phys_addr': 2210463744,\n",
      "                                     'state': None,\n",
      "                                     'type': 'xilinx.com:hls:trace_cntrl:1.2'},\n",
      " 'video/axi_dynclk_0': {'addr_range': 65536,\n",
      "                        'phys_addr': 1136721920,\n",
      "                        'state': None,\n",
      "                        'type': 'digilentinc.com:ip:axi_dynclk:1.0'},\n",
      " 'video/axi_gpio_video': {'addr_range': 65536,\n",
      "                          'phys_addr': 1092747264,\n",
      "                          'state': None,\n",
      "                          'type': 'xilinx.com:ip:axi_gpio:2.0'},\n",
      " 'video/axi_vdma_0': {'addr_range': 65536,\n",
      "                      'phys_addr': 1124073472,\n",
      "                      'state': None,\n",
      "                      'type': 'xilinx.com:ip:axi_vdma:6.2'},\n",
      " 'video/hdmi_out_hpd_video': {'addr_range': 65536,\n",
      "                              'phys_addr': 1092812800,\n",
      "                              'state': None,\n",
      "                              'type': 'xilinx.com:ip:axi_gpio:2.0'},\n",
      " 'video/v_tc_0': {'addr_range': 65536,\n",
      "                  'phys_addr': 1136787456,\n",
      "                  'state': None,\n",
      "                  'type': 'xilinx.com:ip:v_tc:6.1'},\n",
      " 'video/v_tc_1': {'addr_range': 65536,\n",
      "                  'phys_addr': 1136852992,\n",
      "                  'state': None,\n",
      "                  'type': 'xilinx.com:ip:v_tc:6.1'}}\n",
      "2017/4/11 17:35:18 +360817\n"
     ]
    }
   ],
   "source": [
    "pprint(PL.ip_dict)\n",
    "print(PL.timestamp)"
   ]
  },
  {
   "cell_type": "code",
   "execution_count": 3,
   "metadata": {
    "collapsed": false,
    "deletable": true,
    "editable": true
   },
   "outputs": [],
   "source": [
    "ol2 = Overlay('base.bit')\n",
    "ol2.download()"
   ]
  },
  {
   "cell_type": "code",
   "execution_count": 4,
   "metadata": {
    "collapsed": false,
    "deletable": true,
    "editable": true
   },
   "outputs": [
    {
     "name": "stdout",
     "output_type": "stream",
     "text": [
      "{'audio/d_axi_pdm_1': {'addr_range': 65536,\n",
      "                       'phys_addr': 1136656384,\n",
      "                       'state': None,\n",
      "                       'type': 'xilinx.com:user:d_axi_pdm:1.2'},\n",
      " 'btns_gpio': {'addr_range': 65536,\n",
      "               'phys_addr': 1092681728,\n",
      "               'state': None,\n",
      "               'type': 'xilinx.com:ip:axi_gpio:2.0'},\n",
      " 'mb_bram_ctrl_1': {'addr_range': 65536,\n",
      "                    'phys_addr': 1073741824,\n",
      "                    'state': None,\n",
      "                    'type': 'xilinx.com:ip:axi_bram_ctrl:4.0'},\n",
      " 'mb_bram_ctrl_2': {'addr_range': 65536,\n",
      "                    'phys_addr': 1107296256,\n",
      "                    'state': None,\n",
      "                    'type': 'xilinx.com:ip:axi_bram_ctrl:4.0'},\n",
      " 'mb_bram_ctrl_3': {'addr_range': 65536,\n",
      "                    'phys_addr': 1140850688,\n",
      "                    'state': None,\n",
      "                    'type': 'xilinx.com:ip:axi_bram_ctrl:4.0'},\n",
      " 'rgbleds_gpio': {'addr_range': 65536,\n",
      "                  'phys_addr': 1092878336,\n",
      "                  'state': None,\n",
      "                  'type': 'xilinx.com:ip:axi_gpio:2.0'},\n",
      " 'swsleds_gpio': {'addr_range': 65536,\n",
      "                  'phys_addr': 1092616192,\n",
      "                  'state': None,\n",
      "                  'type': 'xilinx.com:ip:axi_gpio:2.0'},\n",
      " 'system_interrupts': {'addr_range': 65536,\n",
      "                       'phys_addr': 1098907648,\n",
      "                       'state': None,\n",
      "                       'type': 'xilinx.com:ip:axi_intc:4.1'},\n",
      " 'tracebuffer_arduino/axi_dma_0': {'addr_range': 65536,\n",
      "                                   'phys_addr': 2151743488,\n",
      "                                   'state': None,\n",
      "                                   'type': 'xilinx.com:ip:axi_dma:7.1'},\n",
      " 'tracebuffer_arduino/trace_cntrl_0': {'addr_range': 65536,\n",
      "                                       'phys_addr': 2210398208,\n",
      "                                       'state': None,\n",
      "                                       'type': 'xilinx.com:hls:trace_cntrl:1.2'},\n",
      " 'tracebuffer_pmods/axi_dma_0': {'addr_range': 65536,\n",
      "                                 'phys_addr': 2151677952,\n",
      "                                 'state': None,\n",
      "                                 'type': 'xilinx.com:ip:axi_dma:7.1'},\n",
      " 'tracebuffer_pmods/trace_cntrl_0': {'addr_range': 65536,\n",
      "                                     'phys_addr': 2210463744,\n",
      "                                     'state': None,\n",
      "                                     'type': 'xilinx.com:hls:trace_cntrl:1.2'},\n",
      " 'video/axi_dynclk_0': {'addr_range': 65536,\n",
      "                        'phys_addr': 1136721920,\n",
      "                        'state': None,\n",
      "                        'type': 'digilentinc.com:ip:axi_dynclk:1.0'},\n",
      " 'video/axi_gpio_video': {'addr_range': 65536,\n",
      "                          'phys_addr': 1092747264,\n",
      "                          'state': None,\n",
      "                          'type': 'xilinx.com:ip:axi_gpio:2.0'},\n",
      " 'video/axi_vdma_0': {'addr_range': 65536,\n",
      "                      'phys_addr': 1124073472,\n",
      "                      'state': None,\n",
      "                      'type': 'xilinx.com:ip:axi_vdma:6.2'},\n",
      " 'video/hdmi_out_hpd_video': {'addr_range': 65536,\n",
      "                              'phys_addr': 1092812800,\n",
      "                              'state': None,\n",
      "                              'type': 'xilinx.com:ip:axi_gpio:2.0'},\n",
      " 'video/v_tc_0': {'addr_range': 65536,\n",
      "                  'phys_addr': 1136787456,\n",
      "                  'state': None,\n",
      "                  'type': 'xilinx.com:ip:v_tc:6.1'},\n",
      " 'video/v_tc_1': {'addr_range': 65536,\n",
      "                  'phys_addr': 1136852992,\n",
      "                  'state': None,\n",
      "                  'type': 'xilinx.com:ip:v_tc:6.1'}}\n",
      "2017/4/11 17:37:6 +742671\n"
     ]
    }
   ],
   "source": [
    "pprint(PL.ip_dict)\n",
    "print(PL.timestamp)"
   ]
  },
  {
   "cell_type": "code",
   "execution_count": 6,
   "metadata": {
    "collapsed": false,
    "deletable": true,
    "editable": true
   },
   "outputs": [
    {
     "data": {
      "text/plain": [
       "{'system_interrupts': {'index': 0, 'parent': ''}}"
      ]
     },
     "execution_count": 6,
     "metadata": {},
     "output_type": "execute_result"
    }
   ],
   "source": [
    "PL.interrupt_controllers"
   ]
  },
  {
   "cell_type": "code",
   "execution_count": 7,
   "metadata": {
    "collapsed": false,
    "deletable": true,
    "editable": true
   },
   "outputs": [
    {
     "data": {
      "text/plain": [
       "{'audio_path_sel': {'index': 3, 'state': None},\n",
       " 'mb_1_intr_ack': {'index': 4, 'state': None},\n",
       " 'mb_1_reset': {'index': 0, 'state': None},\n",
       " 'mb_2_intr_ack': {'index': 5, 'state': None},\n",
       " 'mb_2_reset': {'index': 1, 'state': None},\n",
       " 'mb_3_intr_ack': {'index': 6, 'state': None},\n",
       " 'mb_3_reset': {'index': 2, 'state': None}}"
      ]
     },
     "execution_count": 7,
     "metadata": {},
     "output_type": "execute_result"
    }
   ],
   "source": [
    "PL.gpio_dict"
   ]
  },
  {
   "cell_type": "code",
   "execution_count": null,
   "metadata": {
    "collapsed": false,
    "deletable": true,
    "editable": true
   },
   "outputs": [],
   "source": [
    "a = PL.ip_dict\n",
    "for i,j in enumerate(a):\n",
    "    print(i,j,a[j])"
   ]
  },
  {
   "cell_type": "code",
   "execution_count": null,
   "metadata": {
    "collapsed": false,
    "deletable": true,
    "editable": true
   },
   "outputs": [],
   "source": [
    "a['SEG_rgbled_gpio_Reg']"
   ]
  },
  {
   "cell_type": "code",
   "execution_count": null,
   "metadata": {
    "collapsed": false,
    "deletable": true,
    "editable": true
   },
   "outputs": [],
   "source": [
    "b = [value for key, value in a.items() if 'mb_bram_ctrl' in key.lower()]"
   ]
  },
  {
   "cell_type": "code",
   "execution_count": null,
   "metadata": {
    "collapsed": false,
    "deletable": true,
    "editable": true
   },
   "outputs": [],
   "source": [
    "print(b)"
   ]
  },
  {
   "cell_type": "code",
   "execution_count": null,
   "metadata": {
    "collapsed": false,
    "deletable": true,
    "editable": true
   },
   "outputs": [],
   "source": [
    "addr_base,addr_range,state = a['SEG_rgbled_gpio_Reg']"
   ]
  },
  {
   "cell_type": "code",
   "execution_count": null,
   "metadata": {
    "collapsed": false,
    "deletable": true,
    "editable": true
   },
   "outputs": [],
   "source": [
    "addr_base"
   ]
  },
  {
   "cell_type": "code",
   "execution_count": null,
   "metadata": {
    "collapsed": false,
    "deletable": true,
    "editable": true
   },
   "outputs": [],
   "source": [
    "a = [None]\n",
    "a*10"
   ]
  },
  {
   "cell_type": "code",
   "execution_count": null,
   "metadata": {
    "collapsed": false,
    "deletable": true,
    "editable": true
   },
   "outputs": [],
   "source": [
    "import re\n",
    "tcl_name = 'parse.txt'\n",
    "  \n",
    "pat1 = 'connect_bd_net'\n",
    "pat2 = '[get_bd_pins processing_system7_0/GPIO_O]'\n",
    "result = {}\n",
    "gpio_pool1 = set()\n",
    "gpio_pool2 = set()\n",
    "with open(tcl_name, 'r') as f:\n",
    "    for line in f:\n",
    "        if not line.startswith('#') and (pat1 in line) and (pat2 in line):\n",
    "            gpio_pool1 = gpio_pool1.union(set(re.findall(\n",
    "                    '\\[get_bd_pins (.+?)/Din\\]', line, re.IGNORECASE)))\n",
    "            \n",
    "while gpio_pool1:\n",
    "    gpio_net = gpio_pool1.pop()\n",
    "    if not gpio_net in gpio_pool2:\n",
    "        pat3 = '[get_bd_pins ' + gpio_net + '/Din]'\n",
    "        gpio_pool2.add(gpio_net)\n",
    "        with open(tcl_name, 'r') as f:\n",
    "            for line in f:\n",
    "                if not line.startswith('#') and (pat1 in line) and \\\n",
    "                (pat3 in line):\n",
    "                    gpio_pool1 = gpio_pool1.union(set(re.findall(\n",
    "                            '\\[get_bd_pins (.+?)/Din\\]', line, re.IGNORECASE)))\n",
    "        gpio_pool1.discard(gpio_net)\n",
    "            \n",
    "gpio_list = list(gpio_pool2)\n",
    "print(gpio_list)"
   ]
  },
  {
   "cell_type": "code",
   "execution_count": null,
   "metadata": {
    "collapsed": false,
    "deletable": true,
    "editable": true
   },
   "outputs": [],
   "source": [
    "\"\"\"\n",
    "index = 0\n",
    "match = []\n",
    "for i in gpio_list:\n",
    "    pat4 = \"create_bd_cell -type ip -vlnv (.+?) \" + i + \"($| )\"\n",
    "    with open(tcl_name, 'r') as f:\n",
    "        for line in f:\n",
    "            if not line.startswith('#'):\n",
    "                m = re.search(pat4, line, re.IGNORECASE)\n",
    "                if m:\n",
    "                    match.append(m.group(2))\n",
    "                    continue\n",
    "print(match)\n",
    "\"\"\"\n",
    "with open('parse.txt') as f:\n",
    "    file_str =''.join(line.replace('\\n',' ').replace('\\r','') for line in f\n",
    "                     and not line.startswith('#'))\n",
    "    print(file_str)\n",
    "    for j in gpio_list:\n",
    "        pat5 = \"set_property -dict \\[ list \\\\\\\\ \"+\\\n",
    "            \"CONFIG.DIN_FROM {([0-9]+)} \\\\\\\\ \"+\\\n",
    "            \"CONFIG.DIN_TO {([0-9]+)} \\\\\\\\ \"+\\\n",
    "            \"CONFIG.DIN_WIDTH {([0-9]+)} \\\\\\\\ \"+\\\n",
    "            \"CONFIG.DOUT_WIDTH {([0-9]+)} \\\\\\\\ \"+\\\n",
    "            \"\\] \\$\" + j\n",
    "        print(pat5)\n",
    "        m = re.search(pat5,file_str,re.IGNORECASE)\n",
    "        if m:\n",
    "            index = m.group(1)\n",
    "            result[j] = [int(index), None]\n",
    "                    \n",
    "print(result)"
   ]
  },
  {
   "cell_type": "code",
   "execution_count": null,
   "metadata": {
    "collapsed": false,
    "deletable": true,
    "editable": true
   },
   "outputs": [],
   "source": [
    "str1 = 'create_bd_cell -type ip -vlnv xilinx.com:ip:xlslice:1.0 mb3_timer_capture_4'\n",
    "str2 = 'set mb3_timer_capture_5 [ create_bd_cell -type ip -vlnv xilinx.com:ip:xlslice:1.0 mb3_timer_capture_5 ]'\n",
    "pat1 = \"create_bd_cell -type ip -vlnv (.+?) (.+?)($| )\"\n",
    "match1 = re.search(pat1, str2, re.IGNORECASE)\n",
    "match1.group(2)"
   ]
  },
  {
   "cell_type": "code",
   "execution_count": null,
   "metadata": {
    "collapsed": false,
    "deletable": true,
    "editable": true
   },
   "outputs": [],
   "source": [
    "with open('parse.txt') as f:\n",
    "    data=''.join(line.replace('\\n',' ').replace('\\r','') for line in f)\n",
    "print(data)"
   ]
  },
  {
   "cell_type": "code",
   "execution_count": null,
   "metadata": {
    "collapsed": false,
    "deletable": true,
    "editable": true
   },
   "outputs": [],
   "source": [
    "str1 = \"[123 456\\ $2]\"\n",
    "pat1 = \"\\[(.+?) (.+?)\\\\\\\\ \\$(.+?)]\"\n",
    "m = re.search(pat1, str1, re.IGNORECASE)\n",
    "if m:\n",
    "    print(m.group(1))\n",
    "    print(m.group(2))\n",
    "    print(type(m.group(1)))"
   ]
  },
  {
   "cell_type": "code",
   "execution_count": null,
   "metadata": {
    "collapsed": false,
    "deletable": true,
    "editable": true
   },
   "outputs": [],
   "source": [
    "a = [1,2,3]\n",
    "print(a[-1])"
   ]
  },
  {
   "cell_type": "code",
   "execution_count": null,
   "metadata": {
    "collapsed": false,
    "deletable": true,
    "editable": true
   },
   "outputs": [],
   "source": [
    "print(a)"
   ]
  },
  {
   "cell_type": "code",
   "execution_count": null,
   "metadata": {
    "collapsed": false,
    "deletable": true,
    "editable": true
   },
   "outputs": [],
   "source": [
    "import re\n",
    "prop_name_regex = \"CONFIG.DIN_FROM {([0-9]+)} \\\\\\\\\"\n",
    "str1 =  \"CONFIG.DIN_FROM {13} \\\\\"\n",
    "m = re.search(prop_name_regex,str1)\n",
    "if m:\n",
    "    print(m.group(1))"
   ]
  },
  {
   "cell_type": "code",
   "execution_count": null,
   "metadata": {
    "collapsed": false,
    "deletable": true,
    "editable": true
   },
   "outputs": [],
   "source": [
    "a = {1:'mb_1_reset', 2:'mb_2_reset'}\n",
    "res = dict((v,[k,None]) for k,v in a.items() if k>1)\n",
    "print(res)"
   ]
  },
  {
   "cell_type": "code",
   "execution_count": null,
   "metadata": {
    "collapsed": false,
    "deletable": true,
    "editable": true
   },
   "outputs": [],
   "source": [
    "a = {1:'mb_1_reset', 2:'mb_2_reset'}\n",
    "b = a.copy()\n",
    "a.clear()\n",
    "print(b)"
   ]
  },
  {
   "cell_type": "code",
   "execution_count": null,
   "metadata": {
    "collapsed": false,
    "deletable": true,
    "editable": true
   },
   "outputs": [],
   "source": [
    "a = {1:['mb_1_reset',None], 2:['mb_2_reset','running']}\n",
    "a = {i:j for i,j in a.items() if j[1] is not None}\n",
    "print(a)"
   ]
  },
  {
   "cell_type": "code",
   "execution_count": null,
   "metadata": {
    "collapsed": false,
    "deletable": true,
    "editable": true
   },
   "outputs": [],
   "source": [
    "import re\n",
    "str1 = \" set processing_system7_0 [ create_bd_cell -type ip -vlnv \"+\\\n",
    "        \"xilinx.com:ip:processing_system7:5.5 processing_system7_0 ]\"\n",
    "ip_regex = \"create_bd_cell -type ip -vlnv \" + \\\n",
    "                   \"(.+?):ip:(.+?):(.+?) (.+?) \"\n",
    "m = re.search(ip_regex,str1)\n",
    "print(m.groups())"
   ]
  },
  {
   "cell_type": "code",
   "execution_count": null,
   "metadata": {
    "collapsed": false,
    "deletable": true,
    "editable": true
   },
   "outputs": [],
   "source": [
    "import numpy as np\n",
    "a = np.random.randint(0,32,10,dtype=np.uint32)\n",
    "print(a)"
   ]
  },
  {
   "cell_type": "code",
   "execution_count": null,
   "metadata": {
    "collapsed": true,
    "deletable": true,
    "editable": true
   },
   "outputs": [],
   "source": []
  }
 ],
 "metadata": {
  "kernelspec": {
   "display_name": "Python 3",
   "language": "python",
   "name": "python3"
  },
  "language_info": {
   "codemirror_mode": {
    "name": "ipython",
    "version": 3
   },
   "file_extension": ".py",
   "mimetype": "text/x-python",
   "name": "python",
   "nbconvert_exporter": "python",
   "pygments_lexer": "ipython3",
   "version": "3.6.0"
  }
 },
 "nbformat": 4,
 "nbformat_minor": 1
}
