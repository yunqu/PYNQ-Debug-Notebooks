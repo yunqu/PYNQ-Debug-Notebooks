{
 "cells": [
  {
   "cell_type": "markdown",
   "metadata": {
    "deletable": true,
    "editable": true
   },
   "source": [
    "# FSM Demo\n",
    "\n",
    "### Step 1. Preparation\n",
    "With the overlay downloaded, users have to specify the boolean expression they want to implement."
   ]
  },
  {
   "cell_type": "code",
   "execution_count": 1,
   "metadata": {
    "collapsed": false,
    "deletable": true,
    "editable": true
   },
   "outputs": [],
   "source": [
    "from pynq import Overlay\n",
    "\n",
    "Overlay('interface.bit').download()"
   ]
  },
  {
   "cell_type": "code",
   "execution_count": 2,
   "metadata": {
    "collapsed": true
   },
   "outputs": [],
   "source": [
    "from pynq.intf import ARDUINO\n",
    "from pynq.intf import BooleanGenerator\n",
    "\n",
    "bg = BooleanGenerator(ARDUINO)"
   ]
  },
  {
   "cell_type": "code",
   "execution_count": 3,
   "metadata": {
    "collapsed": false
   },
   "outputs": [
    {
     "name": "stdout",
     "output_type": "stream",
     "text": [
      "Logic output mapped to LD0\n",
      "Truth table:\n",
      "D4 D3 D2 D1 D0\n",
      " 0  0  0  0  0 : 1\n",
      " 0  0  0  0  1 : 0\n",
      " 0  0  0  1  0 : 0\n",
      " 0  0  0  1  1 : 0\n",
      " 0  0  1  0  0 : 0\n",
      " 0  0  1  0  1 : 0\n",
      " 0  0  1  1  0 : 0\n",
      " 0  0  1  1  1 : 0\n",
      " 0  1  0  0  0 : 0\n",
      " 0  1  0  0  1 : 0\n",
      " 0  1  0  1  0 : 0\n",
      " 0  1  0  1  1 : 0\n",
      " 0  1  1  0  0 : 0\n",
      " 0  1  1  0  1 : 0\n",
      " 0  1  1  1  0 : 0\n",
      " 0  1  1  1  1 : 0\n",
      " 1  0  0  0  0 : 0\n",
      " 1  0  0  0  1 : 0\n",
      " 1  0  0  1  0 : 0\n",
      " 1  0  0  1  1 : 0\n",
      " 1  0  1  0  0 : 0\n",
      " 1  0  1  0  1 : 0\n",
      " 1  0  1  1  0 : 0\n",
      " 1  0  1  1  1 : 0\n",
      " 1  1  0  0  0 : 0\n",
      " 1  1  0  0  1 : 0\n",
      " 1  1  0  1  0 : 0\n",
      " 1  1  0  1  1 : 0\n",
      " 1  1  1  0  0 : 0\n",
      " 1  1  1  0  1 : 0\n",
      " 1  1  1  1  0 : 0\n",
      " 1  1  1  1  1 : 0\n",
      "\n"
     ]
    }
   ],
   "source": [
    "bg.bool_func('D7 = ~D0 & ~D1 & ~D2 & ~D3 & ~D4', led = 'LD0')"
   ]
  },
  {
   "cell_type": "code",
   "execution_count": null,
   "metadata": {
    "collapsed": true
   },
   "outputs": [],
   "source": []
  }
 ],
 "metadata": {
  "anaconda-cloud": {},
  "kernelspec": {
   "display_name": "Python 3",
   "language": "python",
   "name": "python3"
  },
  "language_info": {
   "codemirror_mode": {
    "name": "ipython",
    "version": 3
   },
   "file_extension": ".py",
   "mimetype": "text/x-python",
   "name": "python",
   "nbconvert_exporter": "python",
   "pygments_lexer": "ipython3",
   "version": "3.6.0"
  }
 },
 "nbformat": 4,
 "nbformat_minor": 1
}
