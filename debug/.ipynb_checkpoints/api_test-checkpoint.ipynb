{
 "cells": [
  {
   "cell_type": "markdown",
   "metadata": {
    "deletable": true,
    "editable": true
   },
   "source": [
    "# API Exploration\n",
    "The aim for this notebook is to explore potential APIs for Overlays now that the number is increasing. The aim is to move all of the features of an overlay into a single class that can be accessed. This isn't intended to be a gold standard of implementation, rather to assess the feasibility and feel of the proposed design\n",
    "\n",
    "The base class of all overlays implements a delayed instantiation of elements in a hardware dictionary. This ensures that we don't allocate resources for hardware the user isn't planning on using."
   ]
  },
  {
   "cell_type": "code",
   "execution_count": null,
   "metadata": {
    "collapsed": true,
    "deletable": true,
    "editable": true
   },
   "outputs": [],
   "source": [
    "import pynq\n",
    "\n",
    "class Overlay:\n",
    "    def __init__(self, bitstream, hardware_dict, download=True):\n",
    "        self.raw_overlay = pynq.Overlay(bitstream)\n",
    "        if download:\n",
    "            self.raw_overlay.download()\n",
    "        self.hardware_dict = hardware_dict\n",
    "        \n",
    "    def __getattr__(self, name):\n",
    "        if name in self.hardware_dict:\n",
    "            setattr(self, name, self.hardware_dict[name]())\n",
    "        return getattr(self, name)\n",
    "    \n",
    "    def __dir__(self):\n",
    "        return self.hardware_dict.keys()"
   ]
  },
  {
   "cell_type": "markdown",
   "metadata": {
    "deletable": true,
    "editable": true
   },
   "source": [
    "Now we can create wrappers for the some of the IP which doesn't have a one-to-one mapping between class instances and hardware. In this case the buttons, switches and leds are currently implemented as a class per item so we need to make an array of them."
   ]
  },
  {
   "cell_type": "code",
   "execution_count": null,
   "metadata": {
    "collapsed": true,
    "deletable": true,
    "editable": true
   },
   "outputs": [],
   "source": [
    "from pynq.board import Switch,LED,Button\n",
    "import functools\n",
    "\n",
    "class ArrayWrapper:\n",
    "    def __init__(self, cls, num):\n",
    "        self.elems = [None for i in range(num)]\n",
    "        self.cls = cls\n",
    "        \n",
    "    def __getitem__(self, val):\n",
    "        if not self.elems[val]:\n",
    "            self.elems[val] = self.cls(val)\n",
    "        return self.elems[val]\n",
    "    \n",
    "    def __len__(self):\n",
    "        return len(self.elems)\n",
    "    \n",
    "BaseSwitches = functools.partial(ArrayWrapper, Switch, 2)    \n",
    "BaseLEDs = functools.partial(ArrayWrapper, LED, 4)\n",
    "BaseButtons = functools.partial(ArrayWrapper, Button, 4)\n"
   ]
  },
  {
   "cell_type": "markdown",
   "metadata": {
    "deletable": true,
    "editable": true
   },
   "source": [
    "Finally we can instantiate a base overlay that supports everything other than IOPs which we will get to later and TraceBuffer which needs some thought."
   ]
  },
  {
   "cell_type": "code",
   "execution_count": null,
   "metadata": {
    "collapsed": true,
    "deletable": true,
    "editable": true
   },
   "outputs": [],
   "source": [
    "from pynq.drivers import HDMI, Audio\n",
    "\n",
    "class BaseOverlay(Overlay):\n",
    "    def __init__(self):\n",
    "        hardware_dict = {\n",
    "            'switches' : BaseSwitches,\n",
    "            'leds' : BaseLEDs,\n",
    "            'buttons' : BaseButtons,\n",
    "            'hdmi_in' : functools.partial(HDMI, 'in'),\n",
    "            'hdmi_out' : functools.partial(HDMI, 'out'),\n",
    "            'audio' : Audio\n",
    "        }\n",
    "        Overlay.__init__(self, 'base.bit', hardware_dict)\n",
    "        "
   ]
  },
  {
   "cell_type": "code",
   "execution_count": null,
   "metadata": {
    "collapsed": false,
    "deletable": true,
    "editable": true
   },
   "outputs": [],
   "source": [
    "base = BaseOverlay()"
   ]
  },
  {
   "cell_type": "markdown",
   "metadata": {
    "deletable": true,
    "editable": true
   },
   "source": [
    "We can use the `dir` function to list all of the modules in the Overlay"
   ]
  },
  {
   "cell_type": "code",
   "execution_count": null,
   "metadata": {
    "collapsed": false,
    "deletable": true,
    "editable": true
   },
   "outputs": [],
   "source": [
    "dir(base)"
   ]
  },
  {
   "cell_type": "markdown",
   "metadata": {
    "deletable": true,
    "editable": true
   },
   "source": [
    "And interact with the various bits of IP"
   ]
  },
  {
   "cell_type": "code",
   "execution_count": null,
   "metadata": {
    "collapsed": false,
    "deletable": true,
    "editable": true
   },
   "outputs": [],
   "source": [
    "base.leds[1].on()\n",
    "base.audio.load(\"/home/xilinx/pynq/drivers/tests/pynq_welcome.pdm\")\n",
    "base.audio.play()\n",
    "print(base.switches[0].read())"
   ]
  },
  {
   "cell_type": "markdown",
   "metadata": {
    "deletable": true,
    "editable": true
   },
   "source": [
    "## IOP Support\n",
    "IOPs are a little trickier to implement using the current API. For this example we can create a wrapper class which delays the instantiation of the IOP until after we know to which IOP it has been assigned"
   ]
  },
  {
   "cell_type": "code",
   "execution_count": null,
   "metadata": {
    "collapsed": false,
    "deletable": true,
    "editable": true
   },
   "outputs": [],
   "source": [
    "class Peripheral:\n",
    "    def __init__(self, iop_class, *args, **kwargs):\n",
    "        self.iop_class = iop_class\n",
    "        self.args = args\n",
    "        self.kwargs = kwargs\n",
    "        \n",
    "    def __call__(self, if_id):\n",
    "        return self.iop_class(if_id, *self.args, **self.kwargs)"
   ]
  },
  {
   "cell_type": "markdown",
   "metadata": {
    "deletable": true,
    "editable": true
   },
   "source": [
    "Our new base overlay can now override `__setattr__` to correctly assign the PMOD"
   ]
  },
  {
   "cell_type": "code",
   "execution_count": null,
   "metadata": {
    "collapsed": false,
    "deletable": true,
    "editable": true
   },
   "outputs": [],
   "source": [
    "from pynq.iop import PMODA, PMODB, ARDUINO\n",
    "\n",
    "iop_map = {\n",
    "    'pmoda' : PMODA, \n",
    "    'pmodb' : PMODB,\n",
    "    'arduino' : ARDUINO\n",
    "}\n",
    "\n",
    "class IOPOverlay(BaseOverlay):\n",
    "    def __init__(self):\n",
    "        BaseOverlay.__init__(self)\n",
    "        \n",
    "    def __dir__(self):\n",
    "        return BaseOverlay.__dir__(self) + ['pmoda', 'pmodb', 'arduino']\n",
    "    \n",
    "    def __setattr__(self, name, val):\n",
    "        if name in iop_map:\n",
    "            obj = val(iop_map[name])\n",
    "        else:\n",
    "            obj = val\n",
    "        BaseOverlay.__setattr__(self, name, obj)"
   ]
  },
  {
   "cell_type": "code",
   "execution_count": null,
   "metadata": {
    "collapsed": false,
    "deletable": true,
    "editable": true
   },
   "outputs": [],
   "source": [
    "base = IOPOverlay()"
   ]
  },
  {
   "cell_type": "markdown",
   "metadata": {
    "deletable": true,
    "editable": true
   },
   "source": [
    "We can now test this using an OLED screen attached to PMOD B"
   ]
  },
  {
   "cell_type": "code",
   "execution_count": null,
   "metadata": {
    "collapsed": false,
    "deletable": true,
    "editable": true
   },
   "outputs": [],
   "source": [
    "from pynq.iop import Pmod_OLED\n",
    "base.pmodb = Peripheral(Pmod_OLED)\n",
    "base.pmodb.write('Hello World')"
   ]
  },
  {
   "cell_type": "markdown",
   "metadata": {
    "deletable": true,
    "editable": true
   },
   "source": [
    "And and LED bar attached to a grove connector on PMOD A"
   ]
  },
  {
   "cell_type": "code",
   "execution_count": null,
   "metadata": {
    "collapsed": false,
    "deletable": true,
    "editable": true
   },
   "outputs": [],
   "source": [
    "from pynq.iop import Grove_LEDbar\n",
    "import pynq.iop\n",
    "base.pmoda = Peripheral(Grove_LEDbar, pynq.iop.PMOD_GROVE_G3)\n",
    "base.pmoda.write_level(5, 3, 1)"
   ]
  },
  {
   "cell_type": "markdown",
   "metadata": {
    "deletable": true,
    "editable": true
   },
   "source": [
    "We can take this one stage further by making the Grove Adapter a separate thing"
   ]
  },
  {
   "cell_type": "code",
   "execution_count": null,
   "metadata": {
    "collapsed": false,
    "deletable": true,
    "editable": true
   },
   "outputs": [],
   "source": [
    "from pynq.iop import PMOD_GROVE_G1, PMOD_GROVE_G2, PMOD_GROVE_G3, PMOD_GROVE_G4\n",
    "\n",
    "grove_map = {\n",
    "    'G1' : PMOD_GROVE_G1,\n",
    "    'G2' : PMOD_GROVE_G2,\n",
    "    'G3' : PMOD_GROVE_G3,\n",
    "    'G4' : PMOD_GROVE_G4,\n",
    "}\n",
    "\n",
    "class GroveAdapter:\n",
    "    def __init__(self, if_id):\n",
    "        self.if_id = if_id\n",
    "        \n",
    "    def __setattr__(self, name, val):\n",
    "        if name in grove_map:\n",
    "            obj = val(self.if_id, grove_map[name])\n",
    "        else:\n",
    "            obj = val\n",
    "        object.__setattr__(self, name, obj)"
   ]
  },
  {
   "cell_type": "markdown",
   "metadata": {
    "deletable": true,
    "editable": true
   },
   "source": [
    "Which means our code can now look like this:"
   ]
  },
  {
   "cell_type": "code",
   "execution_count": null,
   "metadata": {
    "collapsed": true,
    "deletable": true,
    "editable": true
   },
   "outputs": [],
   "source": [
    "base = IOPOverlay()\n",
    "base.pmoda = GroveAdapter\n",
    "base.pmoda.G3 = Grove_LEDbar\n",
    "base.pmoda.G3.write_level(10, 3, 1)"
   ]
  },
  {
   "cell_type": "markdown",
   "metadata": {
    "deletable": true,
    "editable": true
   },
   "source": [
    "But this means people are likely to try assigning multiple grove connectors simultaneously which isn't something we currently support. "
   ]
  },
  {
   "cell_type": "code",
   "execution_count": 7,
   "metadata": {
    "collapsed": false,
    "deletable": true,
    "editable": true
   },
   "outputs": [],
   "source": [
    "class SingleTone(object):\n",
    "    __instance = None\n",
    "    def __new__(cls, val):\n",
    "        if SingleTone.__instance is None:\n",
    "            SingleTone.__instance = object.__new__(cls)\n",
    "        SingleTone.__instance.val = val\n",
    "        return SingleTone.__instance"
   ]
  },
  {
   "cell_type": "code",
   "execution_count": 8,
   "metadata": {
    "collapsed": false,
    "deletable": true,
    "editable": true
   },
   "outputs": [
    {
     "name": "stdout",
     "output_type": "stream",
     "text": [
      "Value in a is 1\n",
      "Value in b is 2\n",
      "Value in a is 2\n"
     ]
    }
   ],
   "source": [
    "a = SingleTone(1)\n",
    "print(f'Value in a is {a.val}')\n",
    "\n",
    "b = SingleTone(2)\n",
    "print(f'Value in b is {b.val}')\n",
    "print(f'Value in a is {a.val}')"
   ]
  },
  {
   "cell_type": "code",
   "execution_count": 10,
   "metadata": {
    "collapsed": false,
    "deletable": true,
    "editable": true
   },
   "outputs": [
    {
     "data": {
      "text/plain": [
       "'SingleTone'"
      ]
     },
     "execution_count": 10,
     "metadata": {},
     "output_type": "execute_result"
    }
   ],
   "source": [
    "a.__class__.__name__"
   ]
  },
  {
   "cell_type": "code",
   "execution_count": 35,
   "metadata": {
    "collapsed": false,
    "deletable": true,
    "editable": true
   },
   "outputs": [],
   "source": [
    "class Parent():\n",
    "    def __init__(self, age, gender):\n",
    "        self.age = age\n",
    "        self.gender = gender\n",
    "    def get_older(self):\n",
    "        self.age += 1\n",
    "\n",
    "class Boy(Parent):\n",
    "    __person = None\n",
    "    __born = False\n",
    "    __instance_list = set()\n",
    "    def __new__(cls, age, color):\n",
    "        if cls.__person is None:\n",
    "            cls.__person = Parent.__new__(cls)\n",
    "        cls.__person.age = age\n",
    "        cls.__instance_list.add(cls.__person)\n",
    "        return cls.__person\n",
    "    def __init__(self, age, color):\n",
    "        if not self.__class__.__born:\n",
    "            self.age = age\n",
    "            self.haircolor = color\n",
    "            self.__class__.__born = True\n",
    "    def get_list(self):\n",
    "        return self.__class__.__instance_list\n",
    "    def __del__(self):\n",
    "        self.__class__.instance_list.pop()"
   ]
  },
  {
   "cell_type": "code",
   "execution_count": 36,
   "metadata": {
    "collapsed": false,
    "deletable": true,
    "editable": true
   },
   "outputs": [
    {
     "name": "stdout",
     "output_type": "stream",
     "text": [
      "Last year, age of Tom: 9\n",
      "Last year, haircolor of Tom: BLACK\n",
      "After 6 years, age of Jack: 15\n",
      "After 6 years, haircolor of Jack: BLACK\n",
      "After 6 years, age of Tom: 15\n",
      "After 6 years, haircolor of Tom: BLACK\n",
      "This year, age of Tom: 16\n",
      "This year, haircolor of Tom: BLACK\n",
      "This year, age of Jack: 16\n",
      "This year, haircolor of Jack: BLACK\n"
     ]
    }
   ],
   "source": [
    "age1 = 9\n",
    "age2 = 15\n",
    "tom = Boy(age1, 'BLACK')\n",
    "print(f'Last year, age of Tom: {tom.age}')\n",
    "print(f'Last year, haircolor of Tom: {tom.haircolor}')\n",
    "jack = Boy(age2, 'RED')\n",
    "print(f'After {age2-age1} years, age of Jack: {jack.age}')\n",
    "print(f'After {age2-age1} years, haircolor of Jack: {jack.haircolor}')\n",
    "print(f'After {age2-age1} years, age of Tom: {tom.age}')\n",
    "print(f'After {age2-age1} years, haircolor of Tom: {tom.haircolor}')\n",
    "tom.get_older()\n",
    "print(f'This year, age of Tom: {tom.age}')\n",
    "print(f'This year, haircolor of Tom: {tom.haircolor}')\n",
    "print(f'This year, age of Jack: {jack.age}')\n",
    "print(f'This year, haircolor of Jack: {jack.haircolor}')"
   ]
  },
  {
   "cell_type": "code",
   "execution_count": 39,
   "metadata": {
    "collapsed": false
   },
   "outputs": [
    {
     "data": {
      "text/plain": [
       "{<__main__.Boy at 0x3111bcd0>}"
      ]
     },
     "execution_count": 39,
     "metadata": {},
     "output_type": "execute_result"
    }
   ],
   "source": [
    "jack.get_list()"
   ]
  },
  {
   "cell_type": "code",
   "execution_count": 55,
   "metadata": {
    "collapsed": false,
    "deletable": true,
    "editable": true
   },
   "outputs": [],
   "source": [
    "class RootLicense():\n",
    "    def __init__(self, date, time):\n",
    "        self.date = date\n",
    "        self.time = time\n",
    "\n",
    "class License(RootLicense):\n",
    "    __root = list()\n",
    "    __license_index = 0\n",
    "    __num_licenses = 3\n",
    "    __instance_dict = {}\n",
    "    def __new__(cls, date, time):\n",
    "        if len(cls.__root) < cls.__num_licenses:\n",
    "            cls.__root.append(RootLicense.__new__(cls))\n",
    "        current_license_index = cls.__license_index\n",
    "        cls.__license_index = (cls.__license_index + 1) % cls.__num_licenses\n",
    "        cls.__instance_dict[current_license_index] = \\\n",
    "            cls.__root[current_license_index]\n",
    "        return cls.__root[current_license_index]\n",
    "    def __init__(self, date, time):\n",
    "        super().__init__(date, time)\n",
    "    def get_instance(self):\n",
    "        return self.__class__.__instance_dict\n",
    "    def __del__(self):\n",
    "        current_license_index = cls.__license_index\n",
    "        cls.__license_index = (cls.__license_index - 1) % cls.__num_licenses\n",
    "        self.__class__.__instance_dict[current_license_index] = None"
   ]
  },
  {
   "cell_type": "code",
   "execution_count": 67,
   "metadata": {
    "collapsed": false,
    "deletable": true,
    "editable": true
   },
   "outputs": [
    {
     "name": "stdout",
     "output_type": "stream",
     "text": [
      "License 0 issued on: 06-21-2017-10:33:21\n",
      "License 1 issued on: 06-23-2017-09:12:12\n",
      "License 2 issued on: 06-24-2017-00:56:08\n",
      "License 0 issued on: 06-26-2017-13:23:24\n",
      "License 1 issued on: 06-25-2017-07:26:37\n",
      "License 2 issued on: 06-25-2017-19:37:18\n"
     ]
    }
   ],
   "source": [
    "license0 = License('06-21-2017', '10:33:21')\n",
    "license1 = License('06-23-2017', '09:12:12')\n",
    "license2 = License('06-24-2017', '00:56:08')\n",
    "print(f'License 0 issued on: {license0.date}-{license0.time}')\n",
    "print(f'License 1 issued on: {license1.date}-{license1.time}')\n",
    "print(f'License 2 issued on: {license2.date}-{license2.time}')\n",
    "license3 = License('06-24-2017', '08:55:24')\n",
    "license4 = License('06-25-2017', '07:26:37')\n",
    "license5 = License('06-25-2017', '19:37:18')\n",
    "license6 = License('06-26-2017', '13:23:24')\n",
    "print(f'License 0 issued on: {license0.date}-{license0.time}')\n",
    "print(f'License 1 issued on: {license1.date}-{license1.time}')\n",
    "print(f'License 2 issued on: {license2.date}-{license2.time}')"
   ]
  },
  {
   "cell_type": "code",
   "execution_count": 65,
   "metadata": {
    "collapsed": false
   },
   "outputs": [
    {
     "data": {
      "text/plain": [
       "{0: <__main__.License at 0x3113e4f0>,\n",
       " 1: <__main__.License at 0x3113e4b0>,\n",
       " 2: <__main__.License at 0x3113ee50>}"
      ]
     },
     "execution_count": 65,
     "metadata": {},
     "output_type": "execute_result"
    }
   ],
   "source": [
    "license0.get_instance()"
   ]
  },
  {
   "cell_type": "code",
   "execution_count": 66,
   "metadata": {
    "collapsed": false
   },
   "outputs": [
    {
     "data": {
      "text/plain": [
       "{0: <__main__.License at 0x3113e4f0>,\n",
       " 1: <__main__.License at 0x3113e4b0>,\n",
       " 2: <__main__.License at 0x3113ee50>}"
      ]
     },
     "execution_count": 66,
     "metadata": {},
     "output_type": "execute_result"
    }
   ],
   "source": [
    "del(license0)\n",
    "license1.get_instance()"
   ]
  },
  {
   "cell_type": "code",
   "execution_count": 26,
   "metadata": {
    "collapsed": false,
    "deletable": true,
    "editable": true
   },
   "outputs": [
    {
     "name": "stdout",
     "output_type": "stream",
     "text": [
      "BOOLEAN_BUILDER\n",
      "PATTERN_BUILDER\n",
      "FSM_BUILDER\n",
      "TRACE_ANALYZER\n"
     ]
    }
   ],
   "source": [
    "BUILDER_STATUS_DICT = {'BOOLEAN_BUILDER': 1,\n",
    "                       'PATTERN_BUILDER': 2,\n",
    "                       'FSM_BUILDER': 3,\n",
    "                       'TRACE_ANALYZER': 4}\n",
    "for a in BUILDER_STATUS_DICT.keys():\n",
    "    print(a)"
   ]
  },
  {
   "cell_type": "code",
   "execution_count": 28,
   "metadata": {
    "collapsed": false,
    "deletable": true,
    "editable": true
   },
   "outputs": [
    {
     "data": {
      "text/plain": [
       "'LICENSE'"
      ]
     },
     "execution_count": 28,
     "metadata": {},
     "output_type": "execute_result"
    }
   ],
   "source": [
    "license0.__class__.__name__.upper()"
   ]
  },
  {
   "cell_type": "code",
   "execution_count": 6,
   "metadata": {
    "collapsed": false,
    "deletable": true,
    "editable": true
   },
   "outputs": [
    {
     "data": {
      "text/plain": [
       "sys.version_info(major=3, minor=6, micro=0, releaselevel='final', serial=0)"
      ]
     },
     "execution_count": 6,
     "metadata": {},
     "output_type": "execute_result"
    }
   ],
   "source": [
    "sys.platform\n",
    "sys.version_info"
   ]
  },
  {
   "cell_type": "code",
   "execution_count": 24,
   "metadata": {
    "collapsed": true,
    "deletable": true,
    "editable": true
   },
   "outputs": [],
   "source": [
    "import json\n",
    "import os\n",
    "import IPython.core.display\n",
    "\n",
    "def draw_wavedrom(data):\n",
    "    \"\"\"Display the waveform using the Wavedrom package.\n",
    "\n",
    "    This method requires 2 javascript files to be copied locally. Users\n",
    "    can call this method directly to draw any wavedrom data.\n",
    "\n",
    "    Example usage:\n",
    "\n",
    "    >>> a = {\n",
    "        'signal': [\n",
    "            {'name': 'clk', 'wave': 'p.....|...'},\n",
    "            {'name': 'dat', 'wave': 'x.345x|=.x', \n",
    "                            'data': ['head', 'body', 'tail', 'data']},\n",
    "            {'name': 'req', 'wave': '0.1..0|1.0'},\n",
    "            {},\n",
    "            {'name': 'ack', 'wave': '1.....|01.'}\n",
    "        ]}\n",
    "    >>> draw_wavedrom(a)\n",
    "\n",
    "    \"\"\"\n",
    "    htmldata = '<script type=\"WaveDrom\">' + json.dumps(data) + '</script>'\n",
    "    IPython.core.display.display_html(IPython.core.display.HTML(htmldata))\n",
    "    jsdata = 'WaveDrom.ProcessAll();'\n",
    "    IPython.core.display.display_javascript(\n",
    "        IPython.core.display.Javascript(\n",
    "            data=jsdata,\n",
    "            lib=[relative_path + '/js/WaveDrom.js', \n",
    "                 relative_path + '/js/WaveDromSkin.js']))"
   ]
  },
  {
   "cell_type": "code",
   "execution_count": 25,
   "metadata": {
    "collapsed": false,
    "deletable": true,
    "editable": true
   },
   "outputs": [
    {
     "data": {
      "text/html": [
       "<script type=\"WaveDrom\">{\"signal\": [{\"name\": \"clk\", \"wave\": \"p.....|...\"}, {\"name\": \"dat\", \"wave\": \"x.345x|=.x\", \"data\": [\"head\", \"body\", \"tail\", \"data\"]}, {\"name\": \"req\", \"wave\": \"0.1..0|1.0\"}, {}, {\"name\": \"ack\", \"wave\": \"1.....|01.\"}]}</script>"
      ]
     },
     "metadata": {},
     "output_type": "display_data"
    },
    {
     "data": {
      "application/javascript": [
       "$.getScript(\"../../js/WaveDrom.js\", function () {\n",
       "$.getScript(\"../../js/WaveDromSkin.js\", function () {\n",
       "WaveDrom.ProcessAll();});\n",
       "});\n"
      ]
     },
     "metadata": {},
     "output_type": "display_data"
    }
   ],
   "source": [
    "a = {'signal': [\n",
    "            {'name': 'clk', 'wave': 'p.....|...'},\n",
    "            {'name': 'dat', 'wave': 'x.345x|=.x', \n",
    "                            'data': ['head', 'body', 'tail', 'data']},\n",
    "            {'name': 'req', 'wave': '0.1..0|1.0'},\n",
    "            {},\n",
    "            {'name': 'ack', 'wave': '1.....|01.'}\n",
    "        ]}\n",
    "\n",
    "draw_wavedrom(a)"
   ]
  },
  {
   "cell_type": "code",
   "execution_count": 17,
   "metadata": {
    "collapsed": true,
    "deletable": true,
    "editable": true
   },
   "outputs": [],
   "source": [
    "PYNQ_JUPYTER_NOTEBOOKS = '/home/xilinx/jupyter_notebooks'"
   ]
  },
  {
   "cell_type": "code",
   "execution_count": 22,
   "metadata": {
    "collapsed": false,
    "deletable": true,
    "editable": true
   },
   "outputs": [
    {
     "name": "stdout",
     "output_type": "stream",
     "text": [
      "/home/xilinx/jupyter_notebooks/debug/test_path\n"
     ]
    }
   ],
   "source": [
    "import os\n",
    "current_path = os.getcwd()\n",
    "print(current_path)"
   ]
  },
  {
   "cell_type": "code",
   "execution_count": 27,
   "metadata": {
    "collapsed": false,
    "deletable": true,
    "editable": true
   },
   "outputs": [
    {
     "name": "stdout",
     "output_type": "stream",
     "text": [
      "../..\n"
     ]
    }
   ],
   "source": [
    "relative_path = os.path.relpath(PYNQ_JUPYTER_NOTEBOOKS, current_path)\n",
    "print(relative_path)"
   ]
  },
  {
   "cell_type": "code",
   "execution_count": 7,
   "metadata": {
    "collapsed": true,
    "deletable": true,
    "editable": true
   },
   "outputs": [],
   "source": [
    "PYNQZ1_DIO_SPECIFICATION = {'clock_mhz': 10,\n",
    "                            'interface_width': 20,\n",
    "                            'monitor_width': 64,\n",
    "                            'traceable_outputs': {'D0': 0,\n",
    "                                                  'D1': 1,\n",
    "                                                  'D2': 2,\n",
    "                                                  'D3': 3,\n",
    "                                                  'D4': 4,\n",
    "                                                  'D5': 5,\n",
    "                                                  'D6': 6,\n",
    "                                                  'D7': 7,\n",
    "                                                  'D8': 8,\n",
    "                                                  'D9': 9,\n",
    "                                                  'D10': 10,\n",
    "                                                  'D11': 11,\n",
    "                                                  'D12': 12,\n",
    "                                                  'D13': 13,\n",
    "                                                  'D14': 14,\n",
    "                                                  'D15': 15,\n",
    "                                                  'D16': 16,\n",
    "                                                  'D17': 17,\n",
    "                                                  'D18': 18,\n",
    "                                                  'D19': 19\n",
    "                                                  },\n",
    "                            'traceable_inputs': {'D0': 20,\n",
    "                                                 'D1': 21,\n",
    "                                                 'D2': 22,\n",
    "                                                 'D3': 23,\n",
    "                                                 'D4': 24,\n",
    "                                                 'D5': 25,\n",
    "                                                 'D6': 26,\n",
    "                                                 'D7': 27,\n",
    "                                                 'D8': 28,\n",
    "                                                 'D9': 29,\n",
    "                                                 'D10': 30,\n",
    "                                                 'D11': 31,\n",
    "                                                 'D12': 32,\n",
    "                                                 'D13': 33,\n",
    "                                                 'D14': 34,\n",
    "                                                 'D15': 35,\n",
    "                                                 'D16': 36,\n",
    "                                                 'D17': 37,\n",
    "                                                 'D18': 38,\n",
    "                                                 'D19': 39\n",
    "                                                 },\n",
    "                            'traceable_tri_states': {'D0': 42,\n",
    "                                                     'D1': 43,\n",
    "                                                     'D2': 44,\n",
    "                                                     'D3': 45,\n",
    "                                                     'D4': 46,\n",
    "                                                     'D5': 47,\n",
    "                                                     'D6': 48,\n",
    "                                                     'D7': 49,\n",
    "                                                     'D8': 50,\n",
    "                                                     'D9': 51,\n",
    "                                                     'D10': 52,\n",
    "                                                     'D11': 53,\n",
    "                                                     'D12': 54,\n",
    "                                                     'D13': 55,\n",
    "                                                     'D14': 56,\n",
    "                                                     'D15': 57,\n",
    "                                                     'D16': 58,\n",
    "                                                     'D17': 59,\n",
    "                                                     'D18': 60,\n",
    "                                                     'D19': 61\n",
    "                                                     },\n",
    "                            'non_traceable_inputs': {'PB0': 20,\n",
    "                                                     'PB1': 21,\n",
    "                                                     'PB2': 22,\n",
    "                                                     'PB3': 23\n",
    "                                                     },\n",
    "                            'non_traceable_outputs': {'LD0': 20,\n",
    "                                                      'LD1': 21,\n",
    "                                                      'LD2': 22,\n",
    "                                                      'LD3': 23\n",
    "                                                      }\n",
    "                            }"
   ]
  },
  {
   "cell_type": "code",
   "execution_count": 11,
   "metadata": {
    "collapsed": false,
    "deletable": true,
    "editable": true
   },
   "outputs": [],
   "source": [
    "pin_list = list(set(PYNQZ1_DIO_SPECIFICATION['traceable_outputs'].keys())|\n",
    "           set(PYNQZ1_DIO_SPECIFICATION['traceable_inputs'].keys())|\n",
    "           set(PYNQZ1_DIO_SPECIFICATION['non_traceable_outputs'].keys())|\n",
    "           set(PYNQZ1_DIO_SPECIFICATION['non_traceable_inputs'].keys()))"
   ]
  },
  {
   "cell_type": "code",
   "execution_count": 79,
   "metadata": {
    "collapsed": false,
    "deletable": true,
    "editable": true
   },
   "outputs": [
    {
     "data": {
      "text/plain": [
       "'PLMeta'"
      ]
     },
     "execution_count": 79,
     "metadata": {},
     "output_type": "execute_result"
    }
   ],
   "source": [
    "from pynq import PL\n",
    "PL.__class__.__name__"
   ]
  },
  {
   "cell_type": "code",
   "execution_count": 18,
   "metadata": {
    "collapsed": false,
    "deletable": true,
    "editable": true
   },
   "outputs": [],
   "source": [
    "from collections import OrderedDict\n",
    "key_list = ['key3', 'key2']\n",
    "value_list = [3, 2]\n",
    "a = OrderedDict({k: v for k, v in zip(key_list,value_list)})"
   ]
  },
  {
   "cell_type": "code",
   "execution_count": 25,
   "metadata": {
    "collapsed": false
   },
   "outputs": [],
   "source": [
    "a[list(a.keys())[0]] = 4"
   ]
  },
  {
   "cell_type": "code",
   "execution_count": 26,
   "metadata": {
    "collapsed": false
   },
   "outputs": [
    {
     "data": {
      "text/plain": [
       "OrderedDict([('key3', 4), ('key2', 2)])"
      ]
     },
     "execution_count": 26,
     "metadata": {},
     "output_type": "execute_result"
    }
   ],
   "source": [
    "a"
   ]
  },
  {
   "cell_type": "code",
   "execution_count": 27,
   "metadata": {
    "collapsed": false
   },
   "outputs": [
    {
     "name": "stdout",
     "output_type": "stream",
     "text": [
      "key3 key3\n",
      "key2 key2\n"
     ]
    }
   ],
   "source": [
    "for i,j in zip(a.keys(), key_list):\n",
    "    print(i,j)"
   ]
  },
  {
   "cell_type": "code",
   "execution_count": null,
   "metadata": {
    "collapsed": true
   },
   "outputs": [],
   "source": []
  }
 ],
 "metadata": {
  "kernelspec": {
   "display_name": "Python 3",
   "language": "python",
   "name": "python3"
  },
  "language_info": {
   "codemirror_mode": {
    "name": "ipython",
    "version": 3
   },
   "file_extension": ".py",
   "mimetype": "text/x-python",
   "name": "python",
   "nbconvert_exporter": "python",
   "pygments_lexer": "ipython3",
   "version": "3.6.0"
  }
 },
 "nbformat": 4,
 "nbformat_minor": 2
}
