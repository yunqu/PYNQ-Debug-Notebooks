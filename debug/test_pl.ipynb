{
 "cells": [
  {
   "cell_type": "code",
   "execution_count": 1,
   "metadata": {
    "collapsed": false,
    "deletable": true,
    "editable": true
   },
   "outputs": [],
   "source": [
    "from pynq import Overlay\n",
    "from pynq import PL\n",
    "from pprint import pprint"
   ]
  },
  {
   "cell_type": "code",
   "execution_count": 2,
   "metadata": {
    "collapsed": false,
    "deletable": true,
    "editable": true
   },
   "outputs": [
    {
     "name": "stdout",
     "output_type": "stream",
     "text": [
      "2017/6/23 23:21:53 +770519\n",
      "{'audio/d_axi_pdm_1': {'addr_range': 65536,\n",
      "                       'phys_addr': 1136656384,\n",
      "                       'state': None,\n",
      "                       'type': 'xilinx.com:user:d_axi_pdm:1.2'},\n",
      " 'btns_gpio': {'addr_range': 65536,\n",
      "               'phys_addr': 1092681728,\n",
      "               'state': None,\n",
      "               'type': 'xilinx.com:ip:axi_gpio:2.0'},\n",
      " 'mb_bram_ctrl_1': {'addr_range': 65536,\n",
      "                    'phys_addr': 1073741824,\n",
      "                    'state': None,\n",
      "                    'type': 'xilinx.com:ip:axi_bram_ctrl:4.0'},\n",
      " 'mb_bram_ctrl_2': {'addr_range': 65536,\n",
      "                    'phys_addr': 1107296256,\n",
      "                    'state': None,\n",
      "                    'type': 'xilinx.com:ip:axi_bram_ctrl:4.0'},\n",
      " 'mb_bram_ctrl_3': {'addr_range': 65536,\n",
      "                    'phys_addr': 1140850688,\n",
      "                    'state': None,\n",
      "                    'type': 'xilinx.com:ip:axi_bram_ctrl:4.0'},\n",
      " 'rgbleds_gpio': {'addr_range': 65536,\n",
      "                  'phys_addr': 1092878336,\n",
      "                  'state': None,\n",
      "                  'type': 'xilinx.com:ip:axi_gpio:2.0'},\n",
      " 'swsleds_gpio': {'addr_range': 65536,\n",
      "                  'phys_addr': 1092616192,\n",
      "                  'state': None,\n",
      "                  'type': 'xilinx.com:ip:axi_gpio:2.0'},\n",
      " 'system_interrupts': {'addr_range': 65536,\n",
      "                       'phys_addr': 1098907648,\n",
      "                       'state': None,\n",
      "                       'type': 'xilinx.com:ip:axi_intc:4.1'},\n",
      " 'tracebuffer_arduino/axi_dma_0': {'addr_range': 65536,\n",
      "                                   'phys_addr': 2151743488,\n",
      "                                   'state': None,\n",
      "                                   'type': 'xilinx.com:ip:axi_dma:7.1'},\n",
      " 'tracebuffer_arduino/trace_cntrl_0': {'addr_range': 65536,\n",
      "                                       'phys_addr': 2210398208,\n",
      "                                       'state': None,\n",
      "                                       'type': 'xilinx.com:hls:trace_cntrl:1.2'},\n",
      " 'tracebuffer_pmods/axi_dma_0': {'addr_range': 65536,\n",
      "                                 'phys_addr': 2151677952,\n",
      "                                 'state': None,\n",
      "                                 'type': 'xilinx.com:ip:axi_dma:7.1'},\n",
      " 'tracebuffer_pmods/trace_cntrl_0': {'addr_range': 65536,\n",
      "                                     'phys_addr': 2210463744,\n",
      "                                     'state': None,\n",
      "                                     'type': 'xilinx.com:hls:trace_cntrl:1.2'},\n",
      " 'video/axi_dynclk_0': {'addr_range': 65536,\n",
      "                        'phys_addr': 1136721920,\n",
      "                        'state': None,\n",
      "                        'type': 'digilentinc.com:ip:axi_dynclk:1.0'},\n",
      " 'video/axi_gpio_video': {'addr_range': 65536,\n",
      "                          'phys_addr': 1092747264,\n",
      "                          'state': None,\n",
      "                          'type': 'xilinx.com:ip:axi_gpio:2.0'},\n",
      " 'video/axi_vdma_0': {'addr_range': 65536,\n",
      "                      'phys_addr': 1124073472,\n",
      "                      'state': None,\n",
      "                      'type': 'xilinx.com:ip:axi_vdma:6.2'},\n",
      " 'video/hdmi_out_hpd_video': {'addr_range': 65536,\n",
      "                              'phys_addr': 1092812800,\n",
      "                              'state': None,\n",
      "                              'type': 'xilinx.com:ip:axi_gpio:2.0'},\n",
      " 'video/v_tc_0': {'addr_range': 65536,\n",
      "                  'phys_addr': 1136787456,\n",
      "                  'state': None,\n",
      "                  'type': 'xilinx.com:ip:v_tc:6.1'},\n",
      " 'video/v_tc_1': {'addr_range': 65536,\n",
      "                  'phys_addr': 1136852992,\n",
      "                  'state': None,\n",
      "                  'type': 'xilinx.com:ip:v_tc:6.1'}}\n",
      "{'audio_path_sel': {'index': 3, 'state': None},\n",
      " 'mb_1_intr_ack': {'index': 4, 'state': None},\n",
      " 'mb_1_reset': {'index': 0, 'state': None},\n",
      " 'mb_2_intr_ack': {'index': 5, 'state': None},\n",
      " 'mb_2_reset': {'index': 1, 'state': None},\n",
      " 'mb_3_intr_ack': {'index': 6, 'state': None},\n",
      " 'mb_3_reset': {'index': 2, 'state': None}}\n"
     ]
    }
   ],
   "source": [
    "Overlay('base.bit').download()\n",
    "print(PL.timestamp)\n",
    "pprint(PL.ip_dict)\n",
    "pprint(PL.gpio_dict)"
   ]
  },
  {
   "cell_type": "code",
   "execution_count": 3,
   "metadata": {
    "collapsed": false,
    "deletable": true,
    "editable": true
   },
   "outputs": [
    {
     "name": "stdout",
     "output_type": "stream",
     "text": [
      "{'system_interrupts': {'index': 0, 'parent': ''}}\n",
      "{'btns_gpio/ip2intc_irpt': {'controller': 'system_interrupts', 'index': 11},\n",
      " 'concat_interrupts/In1': {'controller': 'system_interrupts', 'index': 6},\n",
      " 'concat_interrupts/In2': {'controller': 'system_interrupts', 'index': 7},\n",
      " 'concat_interrupts/In4': {'controller': 'system_interrupts', 'index': 11},\n",
      " 'concat_interrupts/In5': {'controller': 'system_interrupts', 'index': 12},\n",
      " 'iop1/dff_en_reset_0/q': {'controller': 'system_interrupts', 'index': 8},\n",
      " 'iop1/iop1_intr_req': {'controller': 'system_interrupts', 'index': 8},\n",
      " 'iop2/dff_en_reset_0/q': {'controller': 'system_interrupts', 'index': 9},\n",
      " 'iop2/iop2_intr_req': {'controller': 'system_interrupts', 'index': 9},\n",
      " 'iop3/dff_en_reset_0/q': {'controller': 'system_interrupts', 'index': 10},\n",
      " 'iop3/mb3_intr_req': {'controller': 'system_interrupts', 'index': 10},\n",
      " 'iop_interrupts/In0': {'controller': 'system_interrupts', 'index': 8},\n",
      " 'iop_interrupts/In1': {'controller': 'system_interrupts', 'index': 9},\n",
      " 'iop_interrupts/In2': {'controller': 'system_interrupts', 'index': 10},\n",
      " 'swsleds_gpio/ip2intc_irpt': {'controller': 'system_interrupts', 'index': 12},\n",
      " 'tracebuffer_arduino/axi_dma_0/s2mm_introut': {'controller': 'system_interrupts',\n",
      "                                                'index': 7},\n",
      " 'tracebuffer_arduino/s2mm_introut': {'controller': 'system_interrupts',\n",
      "                                      'index': 7},\n",
      " 'tracebuffer_pmods/axi_dma_0/s2mm_introut': {'controller': 'system_interrupts',\n",
      "                                              'index': 6},\n",
      " 'tracebuffer_pmods/s2mm_introut': {'controller': 'system_interrupts',\n",
      "                                    'index': 6},\n",
      " 'video/axi_gpio_video/ip2intc_irpt': {'controller': 'system_interrupts',\n",
      "                                       'index': 4},\n",
      " 'video/axi_vdma_0/mm2s_introut': {'controller': 'system_interrupts',\n",
      "                                   'index': 1},\n",
      " 'video/axi_vdma_0/s2mm_introut': {'controller': 'system_interrupts',\n",
      "                                   'index': 0},\n",
      " 'video/hdmi_out_hpd_video/ip2intc_irpt': {'controller': 'system_interrupts',\n",
      "                                           'index': 5},\n",
      " 'video/v_tc_0/irq': {'controller': 'system_interrupts', 'index': 2},\n",
      " 'video/v_tc_1/irq': {'controller': 'system_interrupts', 'index': 3},\n",
      " 'video/xlconcat_0/In0': {'controller': 'system_interrupts', 'index': 0},\n",
      " 'video/xlconcat_0/In1': {'controller': 'system_interrupts', 'index': 1},\n",
      " 'video/xlconcat_0/In2': {'controller': 'system_interrupts', 'index': 2},\n",
      " 'video/xlconcat_0/In3': {'controller': 'system_interrupts', 'index': 3},\n",
      " 'video/xlconcat_0/In4': {'controller': 'system_interrupts', 'index': 4},\n",
      " 'video/xlconcat_0/In5': {'controller': 'system_interrupts', 'index': 5}}\n"
     ]
    }
   ],
   "source": [
    "pprint(PL.interrupt_controllers)\n",
    "pprint(PL.interrupt_pins)"
   ]
  },
  {
   "cell_type": "code",
   "execution_count": 4,
   "metadata": {
    "collapsed": false,
    "deletable": true,
    "editable": true
   },
   "outputs": [
    {
     "name": "stdout",
     "output_type": "stream",
     "text": [
      "{'system_interrupts': {'index': 0, 'parent': ''}}\n",
      "{'btns_gpio/ip2intc_irpt': {'controller': 'system_interrupts', 'index': 11},\n",
      " 'concat_interrupts/In1': {'controller': 'system_interrupts', 'index': 6},\n",
      " 'concat_interrupts/In2': {'controller': 'system_interrupts', 'index': 7},\n",
      " 'concat_interrupts/In4': {'controller': 'system_interrupts', 'index': 11},\n",
      " 'concat_interrupts/In5': {'controller': 'system_interrupts', 'index': 12},\n",
      " 'iop1/dff_en_reset_0/q': {'controller': 'system_interrupts', 'index': 8},\n",
      " 'iop1/iop1_intr_req': {'controller': 'system_interrupts', 'index': 8},\n",
      " 'iop2/dff_en_reset_0/q': {'controller': 'system_interrupts', 'index': 9},\n",
      " 'iop2/iop2_intr_req': {'controller': 'system_interrupts', 'index': 9},\n",
      " 'iop3/dff_en_reset_0/q': {'controller': 'system_interrupts', 'index': 10},\n",
      " 'iop3/mb3_intr_req': {'controller': 'system_interrupts', 'index': 10},\n",
      " 'iop_interrupts/In0': {'controller': 'system_interrupts', 'index': 8},\n",
      " 'iop_interrupts/In1': {'controller': 'system_interrupts', 'index': 9},\n",
      " 'iop_interrupts/In2': {'controller': 'system_interrupts', 'index': 10},\n",
      " 'swsleds_gpio/ip2intc_irpt': {'controller': 'system_interrupts', 'index': 12},\n",
      " 'tracebuffer_arduino/axi_dma_0/s2mm_introut': {'controller': 'system_interrupts',\n",
      "                                                'index': 7},\n",
      " 'tracebuffer_arduino/s2mm_introut': {'controller': 'system_interrupts',\n",
      "                                      'index': 7},\n",
      " 'tracebuffer_pmods/axi_dma_0/s2mm_introut': {'controller': 'system_interrupts',\n",
      "                                              'index': 6},\n",
      " 'tracebuffer_pmods/s2mm_introut': {'controller': 'system_interrupts',\n",
      "                                    'index': 6},\n",
      " 'video/axi_gpio_video/ip2intc_irpt': {'controller': 'system_interrupts',\n",
      "                                       'index': 4},\n",
      " 'video/axi_vdma_0/mm2s_introut': {'controller': 'system_interrupts',\n",
      "                                   'index': 1},\n",
      " 'video/axi_vdma_0/s2mm_introut': {'controller': 'system_interrupts',\n",
      "                                   'index': 0},\n",
      " 'video/hdmi_out_hpd_video/ip2intc_irpt': {'controller': 'system_interrupts',\n",
      "                                           'index': 5},\n",
      " 'video/v_tc_0/irq': {'controller': 'system_interrupts', 'index': 2},\n",
      " 'video/v_tc_1/irq': {'controller': 'system_interrupts', 'index': 3},\n",
      " 'video/xlconcat_0/In0': {'controller': 'system_interrupts', 'index': 0},\n",
      " 'video/xlconcat_0/In1': {'controller': 'system_interrupts', 'index': 1},\n",
      " 'video/xlconcat_0/In2': {'controller': 'system_interrupts', 'index': 2},\n",
      " 'video/xlconcat_0/In3': {'controller': 'system_interrupts', 'index': 3},\n",
      " 'video/xlconcat_0/In4': {'controller': 'system_interrupts', 'index': 4},\n",
      " 'video/xlconcat_0/In5': {'controller': 'system_interrupts', 'index': 5}}\n"
     ]
    }
   ],
   "source": [
    "pprint(PL.interrupt_controllers)\n",
    "pprint(PL.interrupt_pins)"
   ]
  },
  {
   "cell_type": "code",
   "execution_count": 5,
   "metadata": {
    "collapsed": false,
    "deletable": true,
    "editable": true
   },
   "outputs": [],
   "source": [
    "from pynq import Overlay, PL\n",
    "bitfile = PL.bitfile_name"
   ]
  },
  {
   "cell_type": "code",
   "execution_count": 6,
   "metadata": {
    "collapsed": true,
    "deletable": true,
    "editable": true
   },
   "outputs": [],
   "source": [
    "ol = Overlay(bitfile)"
   ]
  },
  {
   "cell_type": "code",
   "execution_count": 7,
   "metadata": {
    "collapsed": false,
    "deletable": true,
    "editable": true
   },
   "outputs": [
    {
     "data": {
      "text/plain": [
       "{'audio/d_axi_pdm_1': {'addr_range': 65536,\n",
       "  'phys_addr': 1136656384,\n",
       "  'state': None,\n",
       "  'type': 'xilinx.com:user:d_axi_pdm:1.2'},\n",
       " 'btns_gpio': {'addr_range': 65536,\n",
       "  'phys_addr': 1092681728,\n",
       "  'state': None,\n",
       "  'type': 'xilinx.com:ip:axi_gpio:2.0'},\n",
       " 'mb_bram_ctrl_1': {'addr_range': 65536,\n",
       "  'phys_addr': 1073741824,\n",
       "  'state': None,\n",
       "  'type': 'xilinx.com:ip:axi_bram_ctrl:4.0'},\n",
       " 'mb_bram_ctrl_2': {'addr_range': 65536,\n",
       "  'phys_addr': 1107296256,\n",
       "  'state': None,\n",
       "  'type': 'xilinx.com:ip:axi_bram_ctrl:4.0'},\n",
       " 'mb_bram_ctrl_3': {'addr_range': 65536,\n",
       "  'phys_addr': 1140850688,\n",
       "  'state': None,\n",
       "  'type': 'xilinx.com:ip:axi_bram_ctrl:4.0'},\n",
       " 'rgbleds_gpio': {'addr_range': 65536,\n",
       "  'phys_addr': 1092878336,\n",
       "  'state': None,\n",
       "  'type': 'xilinx.com:ip:axi_gpio:2.0'},\n",
       " 'swsleds_gpio': {'addr_range': 65536,\n",
       "  'phys_addr': 1092616192,\n",
       "  'state': None,\n",
       "  'type': 'xilinx.com:ip:axi_gpio:2.0'},\n",
       " 'system_interrupts': {'addr_range': 65536,\n",
       "  'phys_addr': 1098907648,\n",
       "  'state': None,\n",
       "  'type': 'xilinx.com:ip:axi_intc:4.1'},\n",
       " 'tracebuffer_arduino/axi_dma_0': {'addr_range': 65536,\n",
       "  'phys_addr': 2151743488,\n",
       "  'state': None,\n",
       "  'type': 'xilinx.com:ip:axi_dma:7.1'},\n",
       " 'tracebuffer_arduino/trace_cntrl_0': {'addr_range': 65536,\n",
       "  'phys_addr': 2210398208,\n",
       "  'state': None,\n",
       "  'type': 'xilinx.com:hls:trace_cntrl:1.2'},\n",
       " 'tracebuffer_pmods/axi_dma_0': {'addr_range': 65536,\n",
       "  'phys_addr': 2151677952,\n",
       "  'state': None,\n",
       "  'type': 'xilinx.com:ip:axi_dma:7.1'},\n",
       " 'tracebuffer_pmods/trace_cntrl_0': {'addr_range': 65536,\n",
       "  'phys_addr': 2210463744,\n",
       "  'state': None,\n",
       "  'type': 'xilinx.com:hls:trace_cntrl:1.2'},\n",
       " 'video/axi_dynclk_0': {'addr_range': 65536,\n",
       "  'phys_addr': 1136721920,\n",
       "  'state': None,\n",
       "  'type': 'digilentinc.com:ip:axi_dynclk:1.0'},\n",
       " 'video/axi_gpio_video': {'addr_range': 65536,\n",
       "  'phys_addr': 1092747264,\n",
       "  'state': None,\n",
       "  'type': 'xilinx.com:ip:axi_gpio:2.0'},\n",
       " 'video/axi_vdma_0': {'addr_range': 65536,\n",
       "  'phys_addr': 1124073472,\n",
       "  'state': None,\n",
       "  'type': 'xilinx.com:ip:axi_vdma:6.2'},\n",
       " 'video/hdmi_out_hpd_video': {'addr_range': 65536,\n",
       "  'phys_addr': 1092812800,\n",
       "  'state': None,\n",
       "  'type': 'xilinx.com:ip:axi_gpio:2.0'},\n",
       " 'video/v_tc_0': {'addr_range': 65536,\n",
       "  'phys_addr': 1136787456,\n",
       "  'state': None,\n",
       "  'type': 'xilinx.com:ip:v_tc:6.1'},\n",
       " 'video/v_tc_1': {'addr_range': 65536,\n",
       "  'phys_addr': 1136852992,\n",
       "  'state': None,\n",
       "  'type': 'xilinx.com:ip:v_tc:6.1'}}"
      ]
     },
     "execution_count": 7,
     "metadata": {},
     "output_type": "execute_result"
    }
   ],
   "source": [
    "ol.download()\n",
    "ol.ip_dict"
   ]
  },
  {
   "cell_type": "code",
   "execution_count": 8,
   "metadata": {
    "collapsed": false,
    "deletable": true,
    "editable": true
   },
   "outputs": [
    {
     "name": "stdout",
     "output_type": "stream",
     "text": [
      "this is correct\n"
     ]
    }
   ],
   "source": [
    "a = 'this is correct'\n",
    "b = 'a'\n",
    "print(eval(b))"
   ]
  },
  {
   "cell_type": "code",
   "execution_count": 9,
   "metadata": {
    "collapsed": false,
    "deletable": true,
    "editable": true
   },
   "outputs": [
    {
     "data": {
      "text/plain": [
       "'/opt/python3.6/lib/python3.6/site-packages/pynq/base/base.bit'"
      ]
     },
     "execution_count": 9,
     "metadata": {},
     "output_type": "execute_result"
    }
   ],
   "source": [
    "from pynq import PL, Overlay\n",
    "bitfile = PL.bitfile_name\n",
    "Overlay(bitfile).download()\n",
    "PL.bitfile_name"
   ]
  },
  {
   "cell_type": "code",
   "execution_count": 10,
   "metadata": {
    "collapsed": false,
    "deletable": true,
    "editable": true
   },
   "outputs": [],
   "source": [
    "Overlay('base.bit').download()"
   ]
  },
  {
   "cell_type": "code",
   "execution_count": 11,
   "metadata": {
    "collapsed": false,
    "deletable": true,
    "editable": true
   },
   "outputs": [
    {
     "name": "stdout",
     "output_type": "stream",
     "text": [
      "/opt/python3.6/lib/python3.6/site-packages/pynq/base/base.bit\n"
     ]
    }
   ],
   "source": [
    "from pynq.pl import BS_BOOT\n",
    "print(BS_BOOT)"
   ]
  },
  {
   "cell_type": "code",
   "execution_count": 12,
   "metadata": {
    "collapsed": false,
    "deletable": true,
    "editable": true
   },
   "outputs": [
    {
     "data": {
      "text/plain": [
       "{'audio/d_axi_pdm_1': {'addr_range': 65536,\n",
       "  'phys_addr': 1136656384,\n",
       "  'state': None,\n",
       "  'type': 'xilinx.com:user:d_axi_pdm:1.2'},\n",
       " 'btns_gpio': {'addr_range': 65536,\n",
       "  'phys_addr': 1092681728,\n",
       "  'state': None,\n",
       "  'type': 'xilinx.com:ip:axi_gpio:2.0'},\n",
       " 'mb_bram_ctrl_1': {'addr_range': 65536,\n",
       "  'phys_addr': 1073741824,\n",
       "  'state': None,\n",
       "  'type': 'xilinx.com:ip:axi_bram_ctrl:4.0'},\n",
       " 'mb_bram_ctrl_2': {'addr_range': 65536,\n",
       "  'phys_addr': 1107296256,\n",
       "  'state': None,\n",
       "  'type': 'xilinx.com:ip:axi_bram_ctrl:4.0'},\n",
       " 'mb_bram_ctrl_3': {'addr_range': 65536,\n",
       "  'phys_addr': 1140850688,\n",
       "  'state': None,\n",
       "  'type': 'xilinx.com:ip:axi_bram_ctrl:4.0'},\n",
       " 'rgbleds_gpio': {'addr_range': 65536,\n",
       "  'phys_addr': 1092878336,\n",
       "  'state': None,\n",
       "  'type': 'xilinx.com:ip:axi_gpio:2.0'},\n",
       " 'swsleds_gpio': {'addr_range': 65536,\n",
       "  'phys_addr': 1092616192,\n",
       "  'state': None,\n",
       "  'type': 'xilinx.com:ip:axi_gpio:2.0'},\n",
       " 'system_interrupts': {'addr_range': 65536,\n",
       "  'phys_addr': 1098907648,\n",
       "  'state': None,\n",
       "  'type': 'xilinx.com:ip:axi_intc:4.1'},\n",
       " 'tracebuffer_arduino/axi_dma_0': {'addr_range': 65536,\n",
       "  'phys_addr': 2151743488,\n",
       "  'state': None,\n",
       "  'type': 'xilinx.com:ip:axi_dma:7.1'},\n",
       " 'tracebuffer_arduino/trace_cntrl_0': {'addr_range': 65536,\n",
       "  'phys_addr': 2210398208,\n",
       "  'state': None,\n",
       "  'type': 'xilinx.com:hls:trace_cntrl:1.2'},\n",
       " 'tracebuffer_pmods/axi_dma_0': {'addr_range': 65536,\n",
       "  'phys_addr': 2151677952,\n",
       "  'state': None,\n",
       "  'type': 'xilinx.com:ip:axi_dma:7.1'},\n",
       " 'tracebuffer_pmods/trace_cntrl_0': {'addr_range': 65536,\n",
       "  'phys_addr': 2210463744,\n",
       "  'state': None,\n",
       "  'type': 'xilinx.com:hls:trace_cntrl:1.2'},\n",
       " 'video/axi_dynclk_0': {'addr_range': 65536,\n",
       "  'phys_addr': 1136721920,\n",
       "  'state': None,\n",
       "  'type': 'digilentinc.com:ip:axi_dynclk:1.0'},\n",
       " 'video/axi_gpio_video': {'addr_range': 65536,\n",
       "  'phys_addr': 1092747264,\n",
       "  'state': None,\n",
       "  'type': 'xilinx.com:ip:axi_gpio:2.0'},\n",
       " 'video/axi_vdma_0': {'addr_range': 65536,\n",
       "  'phys_addr': 1124073472,\n",
       "  'state': None,\n",
       "  'type': 'xilinx.com:ip:axi_vdma:6.2'},\n",
       " 'video/hdmi_out_hpd_video': {'addr_range': 65536,\n",
       "  'phys_addr': 1092812800,\n",
       "  'state': None,\n",
       "  'type': 'xilinx.com:ip:axi_gpio:2.0'},\n",
       " 'video/v_tc_0': {'addr_range': 65536,\n",
       "  'phys_addr': 1136787456,\n",
       "  'state': None,\n",
       "  'type': 'xilinx.com:ip:v_tc:6.1'},\n",
       " 'video/v_tc_1': {'addr_range': 65536,\n",
       "  'phys_addr': 1136852992,\n",
       "  'state': None,\n",
       "  'type': 'xilinx.com:ip:v_tc:6.1'}}"
      ]
     },
     "execution_count": 12,
     "metadata": {},
     "output_type": "execute_result"
    }
   ],
   "source": [
    "PL.ip_dict"
   ]
  },
  {
   "cell_type": "code",
   "execution_count": 13,
   "metadata": {
    "collapsed": false,
    "deletable": true,
    "editable": true
   },
   "outputs": [],
   "source": [
    "a = PL.ip_dict['video/v_tc_1']"
   ]
  },
  {
   "cell_type": "code",
   "execution_count": 14,
   "metadata": {
    "collapsed": false,
    "deletable": true,
    "editable": true
   },
   "outputs": [],
   "source": [
    "for ip in PL.ip_dict:\n",
    "    for key in ['addr_range', 'phys_addr', 'state', 'type']:\n",
    "        assert key in PL.ip_dict[ip], f'Key {key} missing in IP {ip}.'"
   ]
  },
  {
   "cell_type": "code",
   "execution_count": 15,
   "metadata": {
    "collapsed": false,
    "deletable": true,
    "editable": true
   },
   "outputs": [
    {
     "name": "stdout",
     "output_type": "stream",
     "text": [
      "mb_1_reset\n",
      "mb_3_intr_ack\n",
      "mb_3_intr_ack\n"
     ]
    }
   ],
   "source": [
    "import random\n",
    "for i in range(3):\n",
    "    print(random.choice(list(PL.gpio_dict.keys())))"
   ]
  },
  {
   "cell_type": "code",
   "execution_count": 5,
   "metadata": {
    "collapsed": false,
    "deletable": true,
    "editable": true
   },
   "outputs": [
    {
     "name": "stdout",
     "output_type": "stream",
     "text": [
      "Shifting: 0.007226705551147461s\n",
      "Modulo:   0.0050868988037109375s\n"
     ]
    }
   ],
   "source": [
    "from time import time\n",
    "\n",
    "a = b = []\n",
    "t1=time()\n",
    "for i in range(2000):\n",
    "    a.append((i>>2)<<2)\n",
    "t2=time()\n",
    "for i in range(2000):\n",
    "    b.append(i%4)\n",
    "t3=time()\n",
    "print(f'Shifting: {t2-t1}s')\n",
    "print(f'Modulo:   {t3-t2}s')\n",
    "for i in range(100):\n",
    "    assert b[i] == a[i]"
   ]
  },
  {
   "cell_type": "code",
   "execution_count": null,
   "metadata": {
    "collapsed": true
   },
   "outputs": [],
   "source": []
  }
 ],
 "metadata": {
  "kernelspec": {
   "display_name": "Python 3",
   "language": "python",
   "name": "python3"
  },
  "language_info": {
   "codemirror_mode": {
    "name": "ipython",
    "version": 3
   },
   "file_extension": ".py",
   "mimetype": "text/x-python",
   "name": "python",
   "nbconvert_exporter": "python",
   "pygments_lexer": "ipython3",
   "version": "3.6.0"
  }
 },
 "nbformat": 4,
 "nbformat_minor": 1
}
