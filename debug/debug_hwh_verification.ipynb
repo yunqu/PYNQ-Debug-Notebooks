{
 "cells": [
  {
   "cell_type": "markdown",
   "metadata": {},
   "source": [
    "## Write dictionary into files"
   ]
  },
  {
   "cell_type": "code",
   "execution_count": 1,
   "metadata": {},
   "outputs": [
    {
     "data": {
      "application/javascript": [
       "\n",
       "require(['notebook/js/codecell'], function(codecell) {\n",
       "  codecell.CodeCell.options_default.highlight_modes[\n",
       "      'magic_text/x-csrc'] = {'reg':[/^%%microblaze/]};\n",
       "  Jupyter.notebook.events.one('kernel_ready.Kernel', function(){\n",
       "      Jupyter.notebook.get_cells().map(function(cell){\n",
       "          if (cell.cell_type == 'code'){ cell.auto_highlight(); } }) ;\n",
       "  });\n",
       "});\n"
      ]
     },
     "metadata": {},
     "output_type": "display_data"
    }
   ],
   "source": [
    "from pynq.pl import TCL\n",
    "from pynq.pl import HWH\n",
    "\n",
    "tcl_parser = TCL('/home/xilinx/pynq/overlays/base/base.tcl')\n",
    "hwh_parser = HWH('/home/xilinx/pynq/overlays/base/base.hwh')"
   ]
  },
  {
   "cell_type": "markdown",
   "metadata": {},
   "source": [
    "```python\n",
    "import pickle\n",
    "\n",
    "def dump_pickle(parser, dict_name):\n",
    "    with open('tcl_{}.txt'.format(dict_name), 'wb') as f:\n",
    "        pickle.dump(getattr(parser, dict_name), f)\n",
    "\n",
    "def load_pickle(dict_name):\n",
    "    with open('tcl_{}.txt'.format(dict_name), 'rb') as f:\n",
    "        ret_dict = pickle.load(f)\n",
    "    return ret_dict\n",
    "```"
   ]
  },
  {
   "cell_type": "markdown",
   "metadata": {},
   "source": [
    "## Test `ip_dict`"
   ]
  },
  {
   "cell_type": "code",
   "execution_count": 2,
   "metadata": {},
   "outputs": [],
   "source": [
    "d = 'ip_dict'\n",
    "golden = getattr(tcl_parser, d)\n",
    "dut = getattr(hwh_parser, d)\n",
    "\n",
    "for j in [golden, dut]:\n",
    "    for i in ['iop_pmoda/mb', 'iop_pmodb/mb', 'iop_arduino/mb']:\n",
    "        assert i not in j, \\\n",
    "            'Microblaze should not be in the ip dict.'\n",
    "\n",
    "for i in golden:\n",
    "    assert i in dut, \\\n",
    "        '{} in TCL ip_dict, not in HWH ip_dict.'.format(i)\n",
    "    for key in ['phys_addr', 'addr_range', 'type', 'state', 'fullpath']:\n",
    "        assert golden[i][key] == dut[i][key]\n",
    "\n",
    "for i in dut:\n",
    "    assert i in golden, \\\n",
    "        '{} in HWH ip_dict, not in TCL ip_dict.'.format(i)"
   ]
  },
  {
   "cell_type": "markdown",
   "metadata": {},
   "source": [
    "## Test `gpio_dict`"
   ]
  },
  {
   "cell_type": "code",
   "execution_count": 3,
   "metadata": {},
   "outputs": [],
   "source": [
    "d = 'gpio_dict'\n",
    "golden = getattr(tcl_parser, d)\n",
    "dut = getattr(hwh_parser, d)\n",
    "\n",
    "for i in golden:\n",
    "    assert i in dut, \\\n",
    "        '{} in TCL gpio_dict, not in HWH gpio_dict.'.format(i)\n",
    "    for key in ['index', 'state']:\n",
    "        assert golden[i][key] == dut[i][key]\n",
    "\n",
    "# Some pins at a hierarchy block are not available in HWH parser\n",
    "for i in dut:\n",
    "    assert i in golden, \\\n",
    "        '{} in HWH gpio_dict, not in TCL gpio_dict.'.format(i)\n",
    "    for j in dut[i]['pins']:\n",
    "        assert j in golden[i]['pins'], \\\n",
    "            '{} in pins of HWH gpio_dict, not in TCL gpio_dict.'.format(j)"
   ]
  },
  {
   "cell_type": "markdown",
   "metadata": {},
   "source": [
    "## Test `interrupt_pins`"
   ]
  },
  {
   "cell_type": "code",
   "execution_count": 4,
   "metadata": {},
   "outputs": [],
   "source": [
    "d = 'interrupt_pins'\n",
    "golden = getattr(tcl_parser, d)\n",
    "dut = getattr(hwh_parser, d)\n",
    "\n",
    "# The common entries must be the same\n",
    "for i in golden:\n",
    "    if i in dut:\n",
    "        for key in ['controller', 'index', 'fullpath']:\n",
    "            assert golden[i][key] == dut[i][key]"
   ]
  },
  {
   "cell_type": "markdown",
   "metadata": {},
   "source": [
    "## Test `interrupt_controllers`"
   ]
  },
  {
   "cell_type": "code",
   "execution_count": 5,
   "metadata": {},
   "outputs": [],
   "source": [
    "d = 'interrupt_controllers'\n",
    "golden = getattr(tcl_parser, d)\n",
    "dut = getattr(hwh_parser, d)\n",
    "assert golden == dut"
   ]
  },
  {
   "cell_type": "markdown",
   "metadata": {},
   "source": [
    "## Test `clock_dict`"
   ]
  },
  {
   "cell_type": "code",
   "execution_count": 8,
   "metadata": {},
   "outputs": [],
   "source": [
    "d = 'clock_dict'\n",
    "golden = getattr(tcl_parser, d)\n",
    "dut = getattr(hwh_parser, d)\n",
    "assert golden == dut"
   ]
  }
 ],
 "metadata": {
  "kernelspec": {
   "display_name": "Python 3",
   "language": "python",
   "name": "python3"
  },
  "language_info": {
   "codemirror_mode": {
    "name": "ipython",
    "version": 3
   },
   "file_extension": ".py",
   "mimetype": "text/x-python",
   "name": "python",
   "nbconvert_exporter": "python",
   "pygments_lexer": "ipython3",
   "version": "3.6.0"
  }
 },
 "nbformat": 4,
 "nbformat_minor": 2
}
