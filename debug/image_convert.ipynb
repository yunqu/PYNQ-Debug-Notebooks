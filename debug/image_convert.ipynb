{
 "cells": [
  {
   "cell_type": "markdown",
   "metadata": {},
   "source": [
    "## Convert PNG file to BMP file"
   ]
  },
  {
   "cell_type": "code",
   "execution_count": null,
   "metadata": {
    "collapsed": false
   },
   "outputs": [],
   "source": [
    "# convert a .png image file to a .bmp image file using PIL\n",
    "from PIL import Image\n",
    "\n",
    "file_in = \"./data/download.png\"\n",
    "img = Image.open(file_in)\n",
    "\n",
    "b, g, r = img.split()\n",
    "file_out = \"./data/download_red.bmp\"\n",
    "r.save(file_out)\n",
    "file_out = \"./data/download_green.bmp\"\n",
    "g.save(file_out)\n",
    "file_out = \"./data/download_blue.bmp\"\n",
    "b.save(file_out)"
   ]
  },
  {
   "cell_type": "code",
   "execution_count": null,
   "metadata": {
    "collapsed": false
   },
   "outputs": [],
   "source": [
    "img = Image.open(file_in)\n",
    "new_img = img.resize((128,128))\n",
    "new_img.save('./data/download-small.bmp')"
   ]
  },
  {
   "cell_type": "code",
   "execution_count": 4,
   "metadata": {
    "collapsed": false
   },
   "outputs": [],
   "source": [
    "from PIL import Image\n",
    "img = Image.open('data/board_orig.jpg')\n",
    "w_new = 160\n",
    "h_new = 128\n",
    "new_img = img.resize((w_new,h_new),Image.ANTIALIAS)\n",
    "new_img.save('data/board_small.jpg','JPEG')\n",
    "img.close()"
   ]
  },
  {
   "cell_type": "code",
   "execution_count": 7,
   "metadata": {
    "collapsed": false
   },
   "outputs": [],
   "source": [
    "from PIL import Image\n",
    "img = Image.open('data/logo.png')\n",
    "w,h = img.size\n",
    "w_new = 100\n",
    "h_new = int(160*h/w)\n",
    "new_img = img.resize((w_new,h_new),Image.ANTIALIAS)\n",
    "new_img.save('data/logo_small.png','PNG')\n",
    "img.close()"
   ]
  },
  {
   "cell_type": "code",
   "execution_count": null,
   "metadata": {
    "collapsed": false
   },
   "outputs": [],
   "source": [
    "help(Image.frombytes)"
   ]
  },
  {
   "cell_type": "code",
   "execution_count": null,
   "metadata": {
    "collapsed": false
   },
   "outputs": [],
   "source": [
    "from numpy import array\n",
    "from io import BytesIO\n",
    "from struct import unpack\n",
    "\n",
    "logo_path = './data/home.jpg'\n",
    "new_name = './data/home_16.bmp'\n",
    "with Image.open(logo_path) as img:\n",
    "    arr = array(img)\n",
    "    w,h = img.size\n",
    "\n",
    "print(arr[0][0])\n",
    "w_new = int(w/2)\n",
    "h_new = int(h/2)\n",
    "byte_list = [0]*w_new*h_new\n",
    "for i in range(h_new):\n",
    "    for j in range(w_new):\n",
    "        red,green,blue = arr[i][j]\n",
    "        temp = ((red & 0xF8) << 8)|((green & 0xFC) << 3)|((blue & 0xF8) >> 3)\n",
    "        byte_list[i*w_new+j] = temp\n",
    "print(byte_list[0])\n",
    "#image = Image.open(BytesIO(bytearray(byte_list)))\n",
    "#image.save(new_name)\n",
    "print(len(arr),len(arr[0]),len(arr[0][0]))"
   ]
  },
  {
   "cell_type": "code",
   "execution_count": null,
   "metadata": {
    "collapsed": false
   },
   "outputs": [],
   "source": [
    "arr[297][689]"
   ]
  },
  {
   "cell_type": "code",
   "execution_count": null,
   "metadata": {
    "collapsed": false
   },
   "outputs": [],
   "source": [
    "import numpy as np\n",
    "a = np.array([1, 2, 3])\n",
    "np.bitwise_or(np.left_shift(a,2),np.left_shift(a,1))"
   ]
  },
  {
   "cell_type": "code",
   "execution_count": null,
   "metadata": {
    "collapsed": false
   },
   "outputs": [],
   "source": [
    "import cffi\n",
    "ffi=cffi.FFI()\n",
    "ffi.cdef(\"\"\"\n",
    "uint16_t a[10];\n",
    "\"\"\")\n",
    "ffi.cdef(\"\"\"\n",
    "void *cma_alloc(uint32_t len, uint32_t cacheable);\n",
    "uint32_t cma_get_phy_addr(void *buf);\n",
    "\"\"\")\n",
    "lib=ffi.dlopen(\"/usr/lib/libsds_lib.so\")\n",
    "buf = ffi.cast(\"uint8_t *\",lib.cma_alloc(2*10,0))\n",
    "buf1= ffi.buffer(buf,2*10)"
   ]
  },
  {
   "cell_type": "code",
   "execution_count": null,
   "metadata": {
    "collapsed": false
   },
   "outputs": [],
   "source": [
    "buf1[0] = b'a'\n",
    "print(buf1[0])"
   ]
  },
  {
   "cell_type": "code",
   "execution_count": null,
   "metadata": {
    "collapsed": false
   },
   "outputs": [],
   "source": [
    "b = bytearray([100,156])\n",
    "b[0] = 100\n",
    "b[1] = 156"
   ]
  },
  {
   "cell_type": "code",
   "execution_count": null,
   "metadata": {
    "collapsed": false
   },
   "outputs": [],
   "source": [
    "try:\n",
    "    print(a)\n",
    "finally:\n",
    "    print(\"Final\")"
   ]
  },
  {
   "cell_type": "code",
   "execution_count": 9,
   "metadata": {
    "collapsed": false
   },
   "outputs": [
    {
     "name": "stdout",
     "output_type": "stream",
     "text": [
      "32\n",
      "0\n"
     ]
    }
   ],
   "source": [
    "from pynq import MMIO\n",
    "\n",
    "a = MMIO(0x40000000, 16)\n",
    "a.write(0,32)\n",
    "print(a.read(0))\n",
    "print(a.read(4))"
   ]
  },
  {
   "cell_type": "code",
   "execution_count": 13,
   "metadata": {
    "collapsed": false
   },
   "outputs": [
    {
     "data": {
      "text/plain": [
       "0"
      ]
     },
     "execution_count": 13,
     "metadata": {},
     "output_type": "execute_result"
    }
   ],
   "source": [
    "a = ['BLACK', 'RED']\n",
    "a.index('BLACK')"
   ]
  },
  {
   "cell_type": "code",
   "execution_count": 14,
   "metadata": {
    "collapsed": false
   },
   "outputs": [],
   "source": [
    "b = 'black'\n",
    "assert b.upper() in a"
   ]
  },
  {
   "cell_type": "code",
   "execution_count": 23,
   "metadata": {
    "collapsed": false
   },
   "outputs": [],
   "source": [
    "c = [255,240,255]"
   ]
  },
  {
   "cell_type": "code",
   "execution_count": 28,
   "metadata": {
    "collapsed": false
   },
   "outputs": [],
   "source": [
    "r,g,b = c"
   ]
  },
  {
   "cell_type": "code",
   "execution_count": 29,
   "metadata": {
    "collapsed": false
   },
   "outputs": [
    {
     "name": "stdout",
     "output_type": "stream",
     "text": [
      "255 240 255\n"
     ]
    }
   ],
   "source": [
    "print(r,g,b)"
   ]
  },
  {
   "cell_type": "code",
   "execution_count": null,
   "metadata": {
    "collapsed": true
   },
   "outputs": [],
   "source": []
  }
 ],
 "metadata": {
  "kernelspec": {
   "display_name": "Python 3",
   "language": "python",
   "name": "python3"
  },
  "language_info": {
   "codemirror_mode": {
    "name": "ipython",
    "version": 3
   },
   "file_extension": ".py",
   "mimetype": "text/x-python",
   "name": "python",
   "nbconvert_exporter": "python",
   "pygments_lexer": "ipython3",
   "version": "3.4.3+"
  }
 },
 "nbformat": 4,
 "nbformat_minor": 1
}
