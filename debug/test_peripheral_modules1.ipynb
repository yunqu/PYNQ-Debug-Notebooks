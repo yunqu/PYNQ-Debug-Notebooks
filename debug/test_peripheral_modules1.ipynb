{
 "cells": [
  {
   "cell_type": "markdown",
   "metadata": {},
   "source": [
    "## Test pmod_dpot\n",
    "Need analog discovery for this test."
   ]
  },
  {
   "cell_type": "code",
   "execution_count": null,
   "metadata": {},
   "outputs": [],
   "source": [
    "from time import sleep\n",
    "from pynq.overlays.base import BaseOverlay\n",
    "from pynq.lib.pmod import Pmod_DPOT\n",
    "\n",
    "ol = BaseOverlay('base.bit')\n",
    "\n",
    "dut = Pmod_DPOT(ol.PMODB)\n",
    "for i in range(100):\n",
    "    dut.write(i)\n",
    "    sleep(0.1)"
   ]
  },
  {
   "cell_type": "markdown",
   "metadata": {},
   "source": [
    "## Test pmod_grove_imu"
   ]
  },
  {
   "cell_type": "code",
   "execution_count": null,
   "metadata": {},
   "outputs": [],
   "source": [
    "from pynq.overlays.base import BaseOverlay\n",
    "from pynq.lib.pmod import Grove_IMU\n",
    "from pynq.lib.pmod import PMOD_GROVE_G4\n",
    "\n",
    "ol = BaseOverlay('base.bit')\n",
    "\n",
    "dut = Grove_IMU(ol.PMODB, PMOD_GROVE_G4)\n",
    "print(dut.get_accl())\n",
    "print(dut.get_gyro())\n",
    "print(dut.get_temperature())"
   ]
  },
  {
   "cell_type": "markdown",
   "metadata": {},
   "source": [
    "## Test arduino_grove_imu"
   ]
  },
  {
   "cell_type": "code",
   "execution_count": null,
   "metadata": {},
   "outputs": [],
   "source": [
    "from pynq.overlays.base import BaseOverlay\n",
    "from pynq.lib.arduino import Grove_IMU\n",
    "from pynq.lib.arduino import ARDUINO_GROVE_I2C\n",
    "\n",
    "ol = BaseOverlay('base.bit')\n",
    "\n",
    "dut = Grove_IMU(ol.ARDUINO, ARDUINO_GROVE_I2C)\n",
    "print(dut.get_accl())\n",
    "print(dut.get_gyro())\n",
    "print(dut.get_temperature())"
   ]
  },
  {
   "cell_type": "markdown",
   "metadata": {},
   "source": [
    "## Test arduino_grove_oled"
   ]
  },
  {
   "cell_type": "code",
   "execution_count": null,
   "metadata": {},
   "outputs": [],
   "source": [
    "from time import sleep\n",
    "from pynq.overlays.base import BaseOverlay\n",
    "from pynq.lib.arduino import Grove_OLED\n",
    "from pynq.lib.arduino import ARDUINO_GROVE_I2C\n",
    "\n",
    "ol = BaseOverlay('base.bit')\n",
    "\n",
    "dut = Grove_OLED(ol.ARDUINO, ARDUINO_GROVE_I2C)\n",
    "\n",
    "dut.write('123456  789')\n",
    "sleep(5)\n",
    "dut.clear()"
   ]
  },
  {
   "cell_type": "markdown",
   "metadata": {},
   "source": [
    "## Test pmod_grove_finger_hr\n",
    "\"It may take about a minute to get valid heart rate after you touch your finger with sensor.\"\n",
    "\n",
    "Here I am actually holding my finger onto it and waiting for 2 minutes."
   ]
  },
  {
   "cell_type": "code",
   "execution_count": null,
   "metadata": {},
   "outputs": [],
   "source": [
    "from time import sleep\n",
    "from pynq.overlays.base import BaseOverlay\n",
    "from pynq.lib.pmod import Grove_FingerHR\n",
    "from pynq.lib.pmod import PMOD_GROVE_G4\n",
    "\n",
    "ol = BaseOverlay('base.bit')\n",
    "dut = Grove_FingerHR(ol.PMODB, PMOD_GROVE_G4)\n",
    "sleep(120)\n",
    "print(dut.read())\n",
    "dut.start_log()\n",
    "sleep(5)\n",
    "log = dut.get_log()\n",
    "\n",
    "# Draw the figure\n",
    "%matplotlib inline\n",
    "import matplotlib.pyplot as plt\n",
    "plt.plot(range(len(log)), log, 'ro')\n",
    "plt.title('Finger Heart Rate')\n",
    "plt.axis([0, len(log), 0, 150])\n",
    "plt.show()"
   ]
  },
  {
   "cell_type": "markdown",
   "metadata": {},
   "source": [
    "## Test arduino_grove_finger_hr"
   ]
  },
  {
   "cell_type": "code",
   "execution_count": null,
   "metadata": {},
   "outputs": [],
   "source": [
    "from time import sleep\n",
    "from pynq.overlays.base import BaseOverlay\n",
    "from pynq.lib.arduino import Grove_FingerHR\n",
    "from pynq.lib.arduino import ARDUINO_GROVE_I2C\n",
    "\n",
    "ol = BaseOverlay('base.bit')\n",
    "dut = Grove_FingerHR(ol.ARDUINO, ARDUINO_GROVE_I2C)\n",
    "sleep(120)\n",
    "print(dut.read())\n",
    "dut.start_log()\n",
    "sleep(5)\n",
    "log = dut.get_log()\n",
    "\n",
    "# Draw the figure\n",
    "%matplotlib inline\n",
    "import matplotlib.pyplot as plt\n",
    "plt.plot(range(len(log)), log, 'ro')\n",
    "plt.title('Finger Heart Rate')\n",
    "plt.axis([0, len(log), 0, 150])\n",
    "plt.show()"
   ]
  },
  {
   "cell_type": "markdown",
   "metadata": {},
   "source": [
    "## Test pmod_grove_ear_hr"
   ]
  },
  {
   "cell_type": "code",
   "execution_count": null,
   "metadata": {},
   "outputs": [],
   "source": [
    "from time import sleep\n",
    "from pynq.overlays.base import BaseOverlay\n",
    "from pynq.lib.pmod import Grove_EarHR\n",
    "from pynq.lib.pmod import PMOD_GROVE_G1\n",
    "\n",
    "ol = BaseOverlay('base.bit')\n",
    "dut = Grove_EarHR(ol.PMODB, PMOD_GROVE_G1)\n",
    "for i in range(10):\n",
    "    sleep(1)\n",
    "    print(dut.read_raw())"
   ]
  },
  {
   "cell_type": "markdown",
   "metadata": {},
   "source": [
    "## Test arduino_grove_ear_hr"
   ]
  },
  {
   "cell_type": "code",
   "execution_count": null,
   "metadata": {},
   "outputs": [],
   "source": [
    "from time import sleep\n",
    "from pynq.overlays.base import BaseOverlay\n",
    "from pynq.lib.arduino import Grove_EarHR\n",
    "from pynq.lib.arduino import ARDUINO_GROVE_G7\n",
    "\n",
    "ol = BaseOverlay('base.bit')\n",
    "dut = Grove_EarHR(ol.ARDUINO, ARDUINO_GROVE_G7)\n",
    "for i in range(10):\n",
    "    sleep(1)\n",
    "    print(dut.read_raw())"
   ]
  },
  {
   "cell_type": "markdown",
   "metadata": {},
   "source": [
    "## Test arduino_grove_light"
   ]
  },
  {
   "cell_type": "code",
   "execution_count": null,
   "metadata": {},
   "outputs": [],
   "source": [
    "from time import sleep\n",
    "from pynq.overlays.base import BaseOverlay\n",
    "from pynq.lib.arduino import Grove_Light\n",
    "from pynq.lib.arduino import ARDUINO_GROVE_I2C\n",
    "\n",
    "ol = BaseOverlay('base.bit')\n",
    "dut = Grove_Light(ol.ARDUINO, ARDUINO_GROVE_I2C)\n",
    "for i in range(5):\n",
    "    sleep(1)\n",
    "    print(dut.read())"
   ]
  },
  {
   "cell_type": "markdown",
   "metadata": {},
   "source": [
    "## Test pmod_grove_dlight"
   ]
  },
  {
   "cell_type": "code",
   "execution_count": null,
   "metadata": {},
   "outputs": [],
   "source": [
    "from pynq.overlays.base import BaseOverlay\n",
    "from pynq.lib.pmod import Grove_Dlight\n",
    "from pynq.lib.pmod import PMOD_GROVE_G4\n",
    "\n",
    "ol = BaseOverlay('base.bit')\n",
    "dut = Grove_Dlight(ol.PMODB, PMOD_GROVE_G4)\n",
    "print(dut.read_raw_light())\n",
    "print(dut.read_lux())"
   ]
  },
  {
   "cell_type": "markdown",
   "metadata": {},
   "source": [
    "## Test arduino_grove_dlight"
   ]
  },
  {
   "cell_type": "code",
   "execution_count": null,
   "metadata": {},
   "outputs": [],
   "source": [
    "from pynq.overlays.base import BaseOverlay\n",
    "from pynq.lib.arduino import Grove_Dlight\n",
    "from pynq.lib.arduino import ARDUINO_GROVE_I2C\n",
    "\n",
    "ol = BaseOverlay('base.bit')\n",
    "dut = Grove_Dlight(ol.ARDUINO, ARDUINO_GROVE_I2C)\n",
    "print(dut.read_raw_light())\n",
    "print(dut.read_lux())"
   ]
  },
  {
   "cell_type": "markdown",
   "metadata": {},
   "source": [
    "## Test pmod_grove_haptic_motor"
   ]
  },
  {
   "cell_type": "code",
   "execution_count": null,
   "metadata": {},
   "outputs": [],
   "source": [
    "from pynq.overlays.base import BaseOverlay\n",
    "from pynq.lib.pmod import Grove_HapticMotor\n",
    "from pynq.lib.pmod import PMOD_GROVE_G4\n",
    "\n",
    "ol = BaseOverlay('base.bit')\n",
    "dut = Grove_HapticMotor(ol.PMODB, PMOD_GROVE_G4)\n",
    "dut.play_sequence([4,-100,50,-100])"
   ]
  },
  {
   "cell_type": "markdown",
   "metadata": {},
   "source": [
    "## Test arduino_grove_haptic_motor"
   ]
  },
  {
   "cell_type": "code",
   "execution_count": null,
   "metadata": {},
   "outputs": [],
   "source": [
    "from pynq.overlays.base import BaseOverlay\n",
    "from pynq.lib.arduino import Grove_HapticMotor\n",
    "from pynq.lib.arduino import ARDUINO_GROVE_I2C\n",
    "\n",
    "ol = BaseOverlay('base.bit')\n",
    "dut = Grove_HapticMotor(ol.ARDUINO, ARDUINO_GROVE_I2C)\n",
    "dut.play_sequence([4,-100,50,-100])"
   ]
  },
  {
   "cell_type": "markdown",
   "metadata": {},
   "source": [
    "## Test pmod_grove_th02"
   ]
  },
  {
   "cell_type": "code",
   "execution_count": null,
   "metadata": {},
   "outputs": [],
   "source": [
    "from pynq.overlays.base import BaseOverlay\n",
    "from pynq.lib.pmod import Grove_TH02\n",
    "from pynq.lib.pmod import PMOD_GROVE_G4\n",
    "\n",
    "ol = BaseOverlay('base.bit')\n",
    "dut = Grove_TH02(ol.PMODB, PMOD_GROVE_G4)\n",
    "dut.read()"
   ]
  },
  {
   "cell_type": "markdown",
   "metadata": {},
   "source": [
    "## Test arduino_grove_th02"
   ]
  },
  {
   "cell_type": "code",
   "execution_count": null,
   "metadata": {},
   "outputs": [],
   "source": [
    "from pynq.overlays.base import BaseOverlay\n",
    "from pynq.lib.arduino import Grove_TH02\n",
    "from pynq.lib.arduino import ARDUINO_GROVE_I2C\n",
    "\n",
    "ol = BaseOverlay('base.bit')\n",
    "dut = Grove_TH02(ol.ARDUINO, ARDUINO_GROVE_I2C)\n",
    "dut.read()"
   ]
  }
 ],
 "metadata": {
  "kernelspec": {
   "display_name": "Python 3",
   "language": "python",
   "name": "python3"
  },
  "language_info": {
   "codemirror_mode": {
    "name": "ipython",
    "version": 3
   },
   "file_extension": ".py",
   "mimetype": "text/x-python",
   "name": "python",
   "nbconvert_exporter": "python",
   "pygments_lexer": "ipython3",
   "version": "3.6.0"
  }
 },
 "nbformat": 4,
 "nbformat_minor": 2
}
