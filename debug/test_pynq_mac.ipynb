{
 "cells": [
  {
   "cell_type": "code",
   "execution_count": 1,
   "metadata": {},
   "outputs": [],
   "source": [
    "import subprocess\n",
    "\n",
    "def test_pynq_mac():\n",
    "    cmd = [ 'ethtool', '-P', 'eth0' ]\n",
    "    output = subprocess.Popen( cmd, stdout=subprocess.PIPE ).communicate()[0]\n",
    "    mac = str(output.decode(\"utf-8\").rstrip()).split()[-1]\n",
    "    if mac != '00:00:00:00:00:00':\n",
    "        print('PASS')\n",
    "    else:\n",
    "        print('FAILED')"
   ]
  },
  {
   "cell_type": "code",
   "execution_count": 2,
   "metadata": {},
   "outputs": [
    {
     "name": "stdout",
     "output_type": "stream",
     "text": [
      "PASS\n"
     ]
    }
   ],
   "source": [
    "test_pynq_mac()"
   ]
  }
 ],
 "metadata": {
  "kernelspec": {
   "display_name": "Python 3",
   "language": "python",
   "name": "python3"
  },
  "language_info": {
   "codemirror_mode": {
    "name": "ipython",
    "version": 3
   },
   "file_extension": ".py",
   "mimetype": "text/x-python",
   "name": "python",
   "nbconvert_exporter": "python",
   "pygments_lexer": "ipython3",
   "version": "3.6.0"
  }
 },
 "nbformat": 4,
 "nbformat_minor": 2
}
