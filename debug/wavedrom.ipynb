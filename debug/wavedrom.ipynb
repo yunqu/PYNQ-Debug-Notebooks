{
 "cells": [
  {
   "cell_type": "code",
   "execution_count": null,
   "metadata": {
    "collapsed": true
   },
   "outputs": [],
   "source": [
    "import re\n",
    "import os\n",
    "import json\n",
    "import IPython.core.display\n",
    "\n",
    "PYNQ_JUPYTER_NOTEBOOKS = '/home/xilinx/jupyter_notebooks'\n",
    "\n",
    "def draw_wavedrom(data):\n",
    "    \"\"\"Display the waveform using the Wavedrom package.\n",
    "\n",
    "    This method requires 2 javascript files to be present. We get the \n",
    "    relative paths for the 2 files in order to proceed.\n",
    "\n",
    "    Users can call this method directly to draw any wavedrom data.\n",
    "\n",
    "    Example usage:\n",
    "\n",
    "    >>> a = {\n",
    "        'signal': [\n",
    "            {'name': 'clk', 'wave': 'p.....|...'},\n",
    "            {'name': 'dat', 'wave': 'x.345x|=.x', \n",
    "                            'data': ['head', 'body', 'tail', 'data']},\n",
    "            {'name': 'req', 'wave': '0.1..0|1.0'},\n",
    "            {},\n",
    "            {'name': 'ack', 'wave': '1.....|01.'}\n",
    "        ]}\n",
    "    >>> draw_wavedrom(a)\n",
    "\n",
    "    \"\"\"\n",
    "    wavedrom_js = '/js/wavedrom.js'\n",
    "    wavedromskin_js = '/js/wavedromskin.js'\n",
    "    if not os.path.isfile(PYNQ_JUPYTER_NOTEBOOKS + wavedrom_js):\n",
    "        raise RuntimeError('Cannot locate {}.'.format(wavedrom_js))\n",
    "    if not os.path.isfile(PYNQ_JUPYTER_NOTEBOOKS + wavedromskin_js):\n",
    "        raise RuntimeError('Cannot locate {}.'.format(wavedromskin_js))\n",
    "    current_path = os.getcwd()\n",
    "    relative_path = os.path.relpath(PYNQ_JUPYTER_NOTEBOOKS, current_path)\n",
    "\n",
    "    htmldata = '<script type=\"WaveDrom\">' + json.dumps(data) + '</script>'\n",
    "    IPython.core.display.display_html(IPython.core.display.HTML(htmldata))\n",
    "    jsdata = 'WaveDrom.ProcessAll();'\n",
    "    IPython.core.display.display_javascript(\n",
    "        IPython.core.display.Javascript(\n",
    "            data=jsdata,\n",
    "            lib=[relative_path + '/js/wavedrom.js',\n",
    "                 relative_path + '/js/wavedromskin.js']))"
   ]
  },
  {
   "cell_type": "code",
   "execution_count": 1,
   "metadata": {
    "collapsed": true
   },
   "outputs": [],
   "source": [
    "from pynq.lib.logictools.waveform import draw_wavedrom"
   ]
  },
  {
   "cell_type": "code",
   "execution_count": 4,
   "metadata": {},
   "outputs": [
    {
     "data": {
      "image/svg+xml": [
       "<svg height=\"426\" id=\"svgcontent_0\" overflow=\"hidden\" viewBox=\"0 0 560 426\" width=\"560\" xmlns=\"http://www.w3.org/2000/svg\" xmlns:xlink=\"http://www.w3.org/1999/xlink\"><style type=\"text/css\">text{font-size:11pt;font-style:normal;font-variant:normal;font-weight:normal;font-stretch:normal;text-align:center;fill-opacity:1;font-family:Helvetica}.muted{fill:#aaa}.warning{fill:#f6b900}.error{fill:#f60000}.info{fill:#0041c4}.success{fill:#00ab00}.h1{font-size:33pt;font-weight:bold}.h2{font-size:27pt;font-weight:bold}.h3{font-size:20pt;font-weight:bold}.h4{font-size:14pt;font-weight:bold}.h5{font-size:11pt;font-weight:bold}.h6{font-size:8pt;font-weight:bold}.s1{fill:none;stroke:#000;stroke-width:1;stroke-linecap:round;stroke-linejoin:miter;stroke-miterlimit:4;stroke-opacity:1;stroke-dasharray:none}.s2{fill:none;stroke:#000;stroke-width:0.5;stroke-linecap:round;stroke-linejoin:miter;stroke-miterlimit:4;stroke-opacity:1;stroke-dasharray:none}.s3{color:#000;fill:none;stroke:#000;stroke-width:1;stroke-linecap:round;stroke-linejoin:miter;stroke-miterlimit:4;stroke-opacity:1;stroke-dasharray:1, 3;stroke-dashoffset:0;marker:none;visibility:visible;display:inline;overflow:visible;enable-background:accumulate}.s4{color:#000;fill:none;stroke:#000;stroke-width:1;stroke-linecap:round;stroke-linejoin:miter;stroke-miterlimit:4;stroke-opacity:1;stroke-dasharray:none;stroke-dashoffset:0;marker:none;visibility:visible;display:inline;overflow:visible}.s5{fill:#fff;stroke:none}.s6{color:#000;fill:#ffffb4;fill-opacity:1;fill-rule:nonzero;stroke:none;stroke-width:1px;marker:none;visibility:visible;display:inline;overflow:visible;enable-background:accumulate}.s7{color:#000;fill:#ffe0b9;fill-opacity:1;fill-rule:nonzero;stroke:none;stroke-width:1px;marker:none;visibility:visible;display:inline;overflow:visible;enable-background:accumulate}.s8{color:#000;fill:#b9e0ff;fill-opacity:1;fill-rule:nonzero;stroke:none;stroke-width:1px;marker:none;visibility:visible;display:inline;overflow:visible;enable-background:accumulate}.s9{fill:#000;fill-opacity:1;stroke:none}.s10{color:#000;fill:#fff;fill-opacity:1;fill-rule:nonzero;stroke:none;stroke-width:1px;marker:none;visibility:visible;display:inline;overflow:visible;enable-background:accumulate}.s11{fill:#0041c4;fill-opacity:1;stroke:none}.s12{fill:none;stroke:#0041c4;stroke-width:1;stroke-linecap:round;stroke-linejoin:miter;stroke-miterlimit:4;stroke-opacity:1;stroke-dasharray:none}</style><defs><g id=\"socket\"><rect height=\"20\" width=\"20\" x=\"6\" y=\"15\"/></g><g id=\"pclk\"><path class=\"s1\" d=\"M0,20 0,0 20,0\"/></g><g id=\"nclk\"><path class=\"s1\" d=\"m0,0 0,20 20,0\"/></g><g id=\"000\"><path class=\"s1\" d=\"m0,20 20,0\"/></g><g id=\"0m0\"><path class=\"s1\" d=\"m0,20 3,0 3,-10 3,10 11,0\"/></g><g id=\"0m1\"><path class=\"s1\" d=\"M0,20 3,20 9,0 20,0\"/></g><g id=\"0mx\"><path class=\"s1\" d=\"M3,20 9,0 20,0\"/><path class=\"s2\" d=\"m20,15 -5,5\"/><path class=\"s2\" d=\"M20,10 10,20\"/><path class=\"s2\" d=\"M20,5 5,20\"/><path class=\"s2\" d=\"M20,0 4,16\"/><path class=\"s2\" d=\"M15,0 6,9\"/><path class=\"s2\" d=\"M10,0 9,1\"/><path class=\"s1\" d=\"m0,20 20,0\"/></g><g id=\"0md\"><path class=\"s3\" d=\"m8,20 10,0\"/><path class=\"s1\" d=\"m0,20 5,0\"/></g><g id=\"0mu\"><path class=\"s1\" d=\"m0,20 3,0 C 7,10 10.107603,0 20,0\"/></g><g id=\"0mz\"><path class=\"s1\" d=\"m0,20 3,0 C 10,10 15,10 20,10\"/></g><g id=\"111\"><path class=\"s1\" d=\"M0,0 20,0\"/></g><g id=\"1m0\"><path class=\"s1\" d=\"m0,0 3,0 6,20 11,0\"/></g><g id=\"1m1\"><path class=\"s1\" d=\"M0,0 3,0 6,10 9,0 20,0\"/></g><g id=\"1mx\"><path class=\"s1\" d=\"m3,0 6,20 11,0\"/><path class=\"s1\" d=\"M0,0 20,0\"/><path class=\"s2\" d=\"m20,15 -5,5\"/><path class=\"s2\" d=\"M20,10 10,20\"/><path class=\"s2\" d=\"M20,5 8,17\"/><path class=\"s2\" d=\"M20,0 7,13\"/><path class=\"s2\" d=\"M15,0 6,9\"/><path class=\"s2\" d=\"M10,0 5,5\"/><path class=\"s2\" d=\"M3.5,1.5 5,0\"/></g><g id=\"1md\"><path class=\"s1\" d=\"m0,0 3,0 c 4,10 7,20 17,20\"/></g><g id=\"1mu\"><path class=\"s1\" d=\"M0,0 5,0\"/><path class=\"s3\" d=\"M8,0 18,0\"/></g><g id=\"1mz\"><path class=\"s1\" d=\"m0,0 3,0 c 7,10 12,10 17,10\"/></g><g id=\"xxx\"><path class=\"s1\" d=\"m0,20 20,0\"/><path class=\"s1\" d=\"M0,0 20,0\"/><path class=\"s2\" d=\"M0,5 5,0\"/><path class=\"s2\" d=\"M0,10 10,0\"/><path class=\"s2\" d=\"M0,15 15,0\"/><path class=\"s2\" d=\"M0,20 20,0\"/><path class=\"s2\" d=\"M5,20 20,5\"/><path class=\"s2\" d=\"M10,20 20,10\"/><path class=\"s2\" d=\"m15,20 5,-5\"/></g><g id=\"xm0\"><path class=\"s1\" d=\"M0,0 4,0 9,20\"/><path class=\"s1\" d=\"m0,20 20,0\"/><path class=\"s2\" d=\"M0,5 4,1\"/><path class=\"s2\" d=\"M0,10 5,5\"/><path class=\"s2\" d=\"M0,15 6,9\"/><path class=\"s2\" d=\"M0,20 7,13\"/><path class=\"s2\" d=\"M5,20 8,17\"/></g><g id=\"xm1\"><path class=\"s1\" d=\"M0,0 20,0\"/><path class=\"s1\" d=\"M0,20 4,20 9,0\"/><path class=\"s2\" d=\"M0,5 5,0\"/><path class=\"s2\" d=\"M0,10 9,1\"/><path class=\"s2\" d=\"M0,15 7,8\"/><path class=\"s2\" d=\"M0,20 5,15\"/></g><g id=\"xmx\"><path class=\"s1\" d=\"m0,20 20,0\"/><path class=\"s1\" d=\"M0,0 20,0\"/><path class=\"s2\" d=\"M0,5 5,0\"/><path class=\"s2\" d=\"M0,10 10,0\"/><path class=\"s2\" d=\"M0,15 15,0\"/><path class=\"s2\" d=\"M0,20 20,0\"/><path class=\"s2\" d=\"M5,20 20,5\"/><path class=\"s2\" d=\"M10,20 20,10\"/><path class=\"s2\" d=\"m15,20 5,-5\"/></g><g id=\"xmd\"><path class=\"s1\" d=\"m0,0 4,0 c 3,10 6,20 16,20\"/><path class=\"s1\" d=\"m0,20 20,0\"/><path class=\"s2\" d=\"M0,5 4,1\"/><path class=\"s2\" d=\"M0,10 5.5,4.5\"/><path class=\"s2\" d=\"M0,15 6.5,8.5\"/><path class=\"s2\" d=\"M0,20 8,12\"/><path class=\"s2\" d=\"m5,20 5,-5\"/><path class=\"s2\" d=\"m10,20 2.5,-2.5\"/></g><g id=\"xmu\"><path class=\"s1\" d=\"M0,0 20,0\"/><path class=\"s1\" d=\"m0,20 4,0 C 7,10 10,0 20,0\"/><path class=\"s2\" d=\"M0,5 5,0\"/><path class=\"s2\" d=\"M0,10 10,0\"/><path class=\"s2\" d=\"M0,15 10,5\"/><path class=\"s2\" d=\"M0,20 6,14\"/></g><g id=\"xmz\"><path class=\"s1\" d=\"m0,0 4,0 c 6,10 11,10 16,10\"/><path class=\"s1\" d=\"m0,20 4,0 C 10,10 15,10 20,10\"/><path class=\"s2\" d=\"M0,5 4.5,0.5\"/><path class=\"s2\" d=\"M0,10 6.5,3.5\"/><path class=\"s2\" d=\"M0,15 8.5,6.5\"/><path class=\"s2\" d=\"M0,20 11.5,8.5\"/></g><g id=\"ddd\"><path class=\"s3\" d=\"m0,20 20,0\"/></g><g id=\"dm0\"><path class=\"s3\" d=\"m0,20 10,0\"/><path class=\"s1\" d=\"m12,20 8,0\"/></g><g id=\"dm1\"><path class=\"s1\" d=\"M0,20 3,20 9,0 20,0\"/></g><g id=\"dmx\"><path class=\"s1\" d=\"M3,20 9,0 20,0\"/><path class=\"s2\" d=\"m20,15 -5,5\"/><path class=\"s2\" d=\"M20,10 10,20\"/><path class=\"s2\" d=\"M20,5 5,20\"/><path class=\"s2\" d=\"M20,0 4,16\"/><path class=\"s2\" d=\"M15,0 6,9\"/><path class=\"s2\" d=\"M10,0 9,1\"/><path class=\"s1\" d=\"m0,20 20,0\"/></g><g id=\"dmd\"><path class=\"s3\" d=\"m0,20 20,0\"/></g><g id=\"dmu\"><path class=\"s1\" d=\"m0,20 3,0 C 7,10 10.107603,0 20,0\"/></g><g id=\"dmz\"><path class=\"s1\" d=\"m0,20 3,0 C 10,10 15,10 20,10\"/></g><g id=\"uuu\"><path class=\"s3\" d=\"M0,0 20,0\"/></g><g id=\"um0\"><path class=\"s1\" d=\"m0,0 3,0 6,20 11,0\"/></g><g id=\"um1\"><path class=\"s3\" d=\"M0,0 10,0\"/><path class=\"s1\" d=\"m12,0 8,0\"/></g><g id=\"umx\"><path class=\"s1\" d=\"m3,0 6,20 11,0\"/><path class=\"s1\" d=\"M0,0 20,0\"/><path class=\"s2\" d=\"m20,15 -5,5\"/><path class=\"s2\" d=\"M20,10 10,20\"/><path class=\"s2\" d=\"M20,5 8,17\"/><path class=\"s2\" d=\"M20,0 7,13\"/><path class=\"s2\" d=\"M15,0 6,9\"/><path class=\"s2\" d=\"M10,0 5,5\"/><path class=\"s2\" d=\"M3.5,1.5 5,0\"/></g><g id=\"umd\"><path class=\"s1\" d=\"m0,0 3,0 c 4,10 7,20 17,20\"/></g><g id=\"umu\"><path class=\"s3\" d=\"M0,0 20,0\"/></g><g id=\"umz\"><path class=\"s4\" d=\"m0,0 3,0 c 7,10 12,10 17,10\"/></g><g id=\"zzz\"><path class=\"s1\" d=\"m0,10 20,0\"/></g><g id=\"zm0\"><path class=\"s1\" d=\"m0,10 6,0 3,10 11,0\"/></g><g id=\"zm1\"><path class=\"s1\" d=\"M0,10 6,10 9,0 20,0\"/></g><g id=\"zmx\"><path class=\"s1\" d=\"m6,10 3,10 11,0\"/><path class=\"s1\" d=\"M0,10 6,10 9,0 20,0\"/><path class=\"s2\" d=\"m20,15 -5,5\"/><path class=\"s2\" d=\"M20,10 10,20\"/><path class=\"s2\" d=\"M20,5 8,17\"/><path class=\"s2\" d=\"M20,0 7,13\"/><path class=\"s2\" d=\"M15,0 6.5,8.5\"/><path class=\"s2\" d=\"M10,0 9,1\"/></g><g id=\"zmd\"><path class=\"s1\" d=\"m0,10 7,0 c 3,5 8,10 13,10\"/></g><g id=\"zmu\"><path class=\"s1\" d=\"m0,10 7,0 C 10,5 15,0 20,0\"/></g><g id=\"zmz\"><path class=\"s1\" d=\"m0,10 20,0\"/></g><g id=\"gap\"><path class=\"s5\" d=\"m7,-2 -4,0 c -5,0 -5,24 -10,24 l 4,0 C 2,22 2,-2 7,-2 z\"/><path class=\"s1\" d=\"M-7,22 C -2,22 -2,-2 3,-2\"/><path class=\"s1\" d=\"M-3,22 C 2,22 2,-2 7,-2\"/></g><g id=\"0mv-3\"><path class=\"s6\" d=\"M9,0 20,0 20,20 3,20 z\"/><path class=\"s1\" d=\"M3,20 9,0 20,0\"/><path class=\"s1\" d=\"m0,20 20,0\"/></g><g id=\"1mv-3\"><path class=\"s6\" d=\"M2.875,0 20,0 20,20 9,20 z\"/><path class=\"s1\" d=\"m3,0 6,20 11,0\"/><path class=\"s1\" d=\"M0,0 20,0\"/></g><g id=\"xmv-3\"><path class=\"s6\" d=\"M9,0 20,0 20,20 9,20 6,10 z\"/><path class=\"s1\" d=\"M0,20 3,20 9,0 20,0\"/><path class=\"s1\" d=\"m0,0 3,0 6,20 11,0\"/><path class=\"s2\" d=\"M0,5 3.5,1.5\"/><path class=\"s2\" d=\"M0,10 4.5,5.5\"/><path class=\"s2\" d=\"M0,15 6,9\"/><path class=\"s2\" d=\"M0,20 4,16\"/></g><g id=\"dmv-3\"><path class=\"s6\" d=\"M9,0 20,0 20,20 3,20 z\"/><path class=\"s1\" d=\"M3,20 9,0 20,0\"/><path class=\"s1\" d=\"m0,20 20,0\"/></g><g id=\"umv-3\"><path class=\"s6\" d=\"M3,0 20,0 20,20 9,20 z\"/><path class=\"s1\" d=\"m3,0 6,20 11,0\"/><path class=\"s1\" d=\"M0,0 20,0\"/></g><g id=\"zmv-3\"><path class=\"s6\" d=\"M9,0 20,0 20,20 9,20 6,10 z\"/><path class=\"s1\" d=\"m6,10 3,10 11,0\"/><path class=\"s1\" d=\"M0,10 6,10 9,0 20,0\"/></g><g id=\"vvv-3\"><path class=\"s6\" d=\"M20,20 0,20 0,0 20,0\"/><path class=\"s1\" d=\"m0,20 20,0\"/><path class=\"s1\" d=\"M0,0 20,0\"/></g><g id=\"vm0-3\"><path class=\"s6\" d=\"M0,20 0,0 3,0 9,20\"/><path class=\"s1\" d=\"M0,0 3,0 9,20\"/><path class=\"s1\" d=\"m0,20 20,0\"/></g><g id=\"vm1-3\"><path class=\"s6\" d=\"M0,0 0,20 3,20 9,0\"/><path class=\"s1\" d=\"M0,0 20,0\"/><path class=\"s1\" d=\"M0,20 3,20 9,0\"/></g><g id=\"vmx-3\"><path class=\"s6\" d=\"M0,0 0,20 3,20 6,10 3,0\"/><path class=\"s1\" d=\"m0,0 3,0 6,20 11,0\"/><path class=\"s1\" d=\"M0,20 3,20 9,0 20,0\"/><path class=\"s2\" d=\"m20,15 -5,5\"/><path class=\"s2\" d=\"M20,10 10,20\"/><path class=\"s2\" d=\"M20,5 8,17\"/><path class=\"s2\" d=\"M20,0 7,13\"/><path class=\"s2\" d=\"M15,0 7,8\"/><path class=\"s2\" d=\"M10,0 9,1\"/></g><g id=\"vmd-3\"><path class=\"s6\" d=\"m0,0 0,20 20,0 C 10,20 7,10 3,0\"/><path class=\"s1\" d=\"m0,0 3,0 c 4,10 7,20 17,20\"/><path class=\"s1\" d=\"m0,20 20,0\"/></g><g id=\"vmu-3\"><path class=\"s6\" d=\"m0,0 0,20 3,0 C 7,10 10,0 20,0\"/><path class=\"s1\" d=\"m0,20 3,0 C 7,10 10,0 20,0\"/><path class=\"s1\" d=\"M0,0 20,0\"/></g><g id=\"vmz-3\"><path class=\"s6\" d=\"M0,0 3,0 C 10,10 15,10 20,10 15,10 10,10 3,20 L 0,20\"/><path class=\"s1\" d=\"m0,0 3,0 c 7,10 12,10 17,10\"/><path class=\"s1\" d=\"m0,20 3,0 C 10,10 15,10 20,10\"/></g><g id=\"vmv-3-3\"><path class=\"s6\" d=\"M9,0 20,0 20,20 9,20 6,10 z\"/><path class=\"s6\" d=\"M3,0 0,0 0,20 3,20 6,10 z\"/><path class=\"s1\" d=\"m0,0 3,0 6,20 11,0\"/><path class=\"s1\" d=\"M0,20 3,20 9,0 20,0\"/></g><g id=\"vmv-3-4\"><path class=\"s7\" d=\"M9,0 20,0 20,20 9,20 6,10 z\"/><path class=\"s6\" d=\"M3,0 0,0 0,20 3,20 6,10 z\"/><path class=\"s1\" d=\"m0,0 3,0 6,20 11,0\"/><path class=\"s1\" d=\"M0,20 3,20 9,0 20,0\"/></g><g id=\"vmv-3-5\"><path class=\"s8\" d=\"M9,0 20,0 20,20 9,20 6,10 z\"/><path class=\"s6\" d=\"M3,0 0,0 0,20 3,20 6,10 z\"/><path class=\"s1\" d=\"m0,0 3,0 6,20 11,0\"/><path class=\"s1\" d=\"M0,20 3,20 9,0 20,0\"/></g><g id=\"vmv-4-3\"><path class=\"s6\" d=\"M9,0 20,0 20,20 9,20 6,10 z\"/><path class=\"s7\" d=\"M3,0 0,0 0,20 3,20 6,10 z\"/><path class=\"s1\" d=\"m0,0 3,0 6,20 11,0\"/><path class=\"s1\" d=\"M0,20 3,20 9,0 20,0\"/></g><g id=\"vmv-4-4\"><path class=\"s7\" d=\"M9,0 20,0 20,20 9,20 6,10 z\"/><path class=\"s7\" d=\"M3,0 0,0 0,20 3,20 6,10 z\"/><path class=\"s1\" d=\"m0,0 3,0 6,20 11,0\"/><path class=\"s1\" d=\"M0,20 3,20 9,0 20,0\"/></g><g id=\"vmv-4-5\"><path class=\"s8\" d=\"M9,0 20,0 20,20 9,20 6,10 z\"/><path class=\"s7\" d=\"M3,0 0,0 0,20 3,20 6,10 z\"/><path class=\"s1\" d=\"m0,0 3,0 6,20 11,0\"/><path class=\"s1\" d=\"M0,20 3,20 9,0 20,0\"/></g><g id=\"vmv-5-3\"><path class=\"s6\" d=\"M9,0 20,0 20,20 9,20 6,10 z\"/><path class=\"s8\" d=\"M3,0 0,0 0,20 3,20 6,10 z\"/><path class=\"s1\" d=\"m0,0 3,0 6,20 11,0\"/><path class=\"s1\" d=\"M0,20 3,20 9,0 20,0\"/></g><g id=\"vmv-5-4\"><path class=\"s7\" d=\"M9,0 20,0 20,20 9,20 6,10 z\"/><path class=\"s8\" d=\"M3,0 0,0 0,20 3,20 6,10 z\"/><path class=\"s1\" d=\"m0,0 3,0 6,20 11,0\"/><path class=\"s1\" d=\"M0,20 3,20 9,0 20,0\"/></g><g id=\"vmv-5-5\"><path class=\"s8\" d=\"M9,0 20,0 20,20 9,20 6,10 z\"/><path class=\"s8\" d=\"M3,0 0,0 0,20 3,20 6,10 z\"/><path class=\"s1\" d=\"m0,0 3,0 6,20 11,0\"/><path class=\"s1\" d=\"M0,20 3,20 9,0 20,0\"/></g><g id=\"0mv-4\"><path class=\"s7\" d=\"M9,0 20,0 20,20 3,20 z\"/><path class=\"s1\" d=\"M3,20 9,0 20,0\"/><path class=\"s1\" d=\"m0,20 20,0\"/></g><g id=\"1mv-4\"><path class=\"s7\" d=\"M2.875,0 20,0 20,20 9,20 z\"/><path class=\"s1\" d=\"m3,0 6,20 11,0\"/><path class=\"s1\" d=\"M0,0 20,0\"/></g><g id=\"xmv-4\"><path class=\"s7\" d=\"M9,0 20,0 20,20 9,20 6,10 z\"/><path class=\"s1\" d=\"M0,20 3,20 9,0 20,0\"/><path class=\"s1\" d=\"m0,0 3,0 6,20 11,0\"/><path class=\"s2\" d=\"M0,5 3.5,1.5\"/><path class=\"s2\" d=\"M0,10 4.5,5.5\"/><path class=\"s2\" d=\"M0,15 6,9\"/><path class=\"s2\" d=\"M0,20 4,16\"/></g><g id=\"dmv-4\"><path class=\"s7\" d=\"M9,0 20,0 20,20 3,20 z\"/><path class=\"s1\" d=\"M3,20 9,0 20,0\"/><path class=\"s1\" d=\"m0,20 20,0\"/></g><g id=\"umv-4\"><path class=\"s7\" d=\"M3,0 20,0 20,20 9,20 z\"/><path class=\"s1\" d=\"m3,0 6,20 11,0\"/><path class=\"s1\" d=\"M0,0 20,0\"/></g><g id=\"zmv-4\"><path class=\"s7\" d=\"M9,0 20,0 20,20 9,20 6,10 z\"/><path class=\"s1\" d=\"m6,10 3,10 11,0\"/><path class=\"s1\" d=\"M0,10 6,10 9,0 20,0\"/></g><g id=\"0mv-5\"><path class=\"s8\" d=\"M9,0 20,0 20,20 3,20 z\"/><path class=\"s1\" d=\"M3,20 9,0 20,0\"/><path class=\"s1\" d=\"m0,20 20,0\"/></g><g id=\"1mv-5\"><path class=\"s8\" d=\"M2.875,0 20,0 20,20 9,20 z\"/><path class=\"s1\" d=\"m3,0 6,20 11,0\"/><path class=\"s1\" d=\"M0,0 20,0\"/></g><g id=\"xmv-5\"><path class=\"s8\" d=\"M9,0 20,0 20,20 9,20 6,10 z\"/><path class=\"s1\" d=\"M0,20 3,20 9,0 20,0\"/><path class=\"s1\" d=\"m0,0 3,0 6,20 11,0\"/><path class=\"s2\" d=\"M0,5 3.5,1.5\"/><path class=\"s2\" d=\"M0,10 4.5,5.5\"/><path class=\"s2\" d=\"M0,15 6,9\"/><path class=\"s2\" d=\"M0,20 4,16\"/></g><g id=\"dmv-5\"><path class=\"s8\" d=\"M9,0 20,0 20,20 3,20 z\"/><path class=\"s1\" d=\"M3,20 9,0 20,0\"/><path class=\"s1\" d=\"m0,20 20,0\"/></g><g id=\"umv-5\"><path class=\"s8\" d=\"M3,0 20,0 20,20 9,20 z\"/><path class=\"s1\" d=\"m3,0 6,20 11,0\"/><path class=\"s1\" d=\"M0,0 20,0\"/></g><g id=\"zmv-5\"><path class=\"s8\" d=\"M9,0 20,0 20,20 9,20 6,10 z\"/><path class=\"s1\" d=\"m6,10 3,10 11,0\"/><path class=\"s1\" d=\"M0,10 6,10 9,0 20,0\"/></g><g id=\"vvv-4\"><path class=\"s7\" d=\"M20,20 0,20 0,0 20,0\"/><path class=\"s1\" d=\"m0,20 20,0\"/><path class=\"s1\" d=\"M0,0 20,0\"/></g><g id=\"vm0-4\"><path class=\"s7\" d=\"M0,20 0,0 3,0 9,20\"/><path class=\"s1\" d=\"M0,0 3,0 9,20\"/><path class=\"s1\" d=\"m0,20 20,0\"/></g><g id=\"vm1-4\"><path class=\"s7\" d=\"M0,0 0,20 3,20 9,0\"/><path class=\"s1\" d=\"M0,0 20,0\"/><path class=\"s1\" d=\"M0,20 3,20 9,0\"/></g><g id=\"vmx-4\"><path class=\"s7\" d=\"M0,0 0,20 3,20 6,10 3,0\"/><path class=\"s1\" d=\"m0,0 3,0 6,20 11,0\"/><path class=\"s1\" d=\"M0,20 3,20 9,0 20,0\"/><path class=\"s2\" d=\"m20,15 -5,5\"/><path class=\"s2\" d=\"M20,10 10,20\"/><path class=\"s2\" d=\"M20,5 8,17\"/><path class=\"s2\" d=\"M20,0 7,13\"/><path class=\"s2\" d=\"M15,0 7,8\"/><path class=\"s2\" d=\"M10,0 9,1\"/></g><g id=\"vmd-4\"><path class=\"s7\" d=\"m0,0 0,20 20,0 C 10,20 7,10 3,0\"/><path class=\"s1\" d=\"m0,0 3,0 c 4,10 7,20 17,20\"/><path class=\"s1\" d=\"m0,20 20,0\"/></g><g id=\"vmu-4\"><path class=\"s7\" d=\"m0,0 0,20 3,0 C 7,10 10,0 20,0\"/><path class=\"s1\" d=\"m0,20 3,0 C 7,10 10,0 20,0\"/><path class=\"s1\" d=\"M0,0 20,0\"/></g><g id=\"vmz-4\"><path class=\"s7\" d=\"M0,0 3,0 C 10,10 15,10 20,10 15,10 10,10 3,20 L 0,20\"/><path class=\"s1\" d=\"m0,0 3,0 c 7,10 12,10 17,10\"/><path class=\"s1\" d=\"m0,20 3,0 C 10,10 15,10 20,10\"/></g><g id=\"vvv-5\"><path class=\"s8\" d=\"M20,20 0,20 0,0 20,0\"/><path class=\"s1\" d=\"m0,20 20,0\"/><path class=\"s1\" d=\"M0,0 20,0\"/></g><g id=\"vm0-5\"><path class=\"s8\" d=\"M0,20 0,0 3,0 9,20\"/><path class=\"s1\" d=\"M0,0 3,0 9,20\"/><path class=\"s1\" d=\"m0,20 20,0\"/></g><g id=\"vm1-5\"><path class=\"s8\" d=\"M0,0 0,20 3,20 9,0\"/><path class=\"s1\" d=\"M0,0 20,0\"/><path class=\"s1\" d=\"M0,20 3,20 9,0\"/></g><g id=\"vmx-5\"><path class=\"s8\" d=\"M0,0 0,20 3,20 6,10 3,0\"/><path class=\"s1\" d=\"m0,0 3,0 6,20 11,0\"/><path class=\"s1\" d=\"M0,20 3,20 9,0 20,0\"/><path class=\"s2\" d=\"m20,15 -5,5\"/><path class=\"s2\" d=\"M20,10 10,20\"/><path class=\"s2\" d=\"M20,5 8,17\"/><path class=\"s2\" d=\"M20,0 7,13\"/><path class=\"s2\" d=\"M15,0 7,8\"/><path class=\"s2\" d=\"M10,0 9,1\"/></g><g id=\"vmd-5\"><path class=\"s8\" d=\"m0,0 0,20 20,0 C 10,20 7,10 3,0\"/><path class=\"s1\" d=\"m0,0 3,0 c 4,10 7,20 17,20\"/><path class=\"s1\" d=\"m0,20 20,0\"/></g><g id=\"vmu-5\"><path class=\"s8\" d=\"m0,0 0,20 3,0 C 7,10 10,0 20,0\"/><path class=\"s1\" d=\"m0,20 3,0 C 7,10 10,0 20,0\"/><path class=\"s1\" d=\"M0,0 20,0\"/></g><g id=\"vmz-5\"><path class=\"s8\" d=\"M0,0 3,0 C 10,10 15,10 20,10 15,10 10,10 3,20 L 0,20\"/><path class=\"s1\" d=\"m0,0 3,0 c 7,10 12,10 17,10\"/><path class=\"s1\" d=\"m0,20 3,0 C 10,10 15,10 20,10\"/></g><g id=\"Pclk\"><path class=\"s9\" d=\"M-3,12 0,3 3,12 C 1,11 -1,11 -3,12 z\"/><path class=\"s1\" d=\"M0,20 0,0 20,0\"/></g><g id=\"Nclk\"><path class=\"s9\" d=\"M-3,8 0,17 3,8 C 1,9 -1,9 -3,8 z\"/><path class=\"s1\" d=\"m0,0 0,20 20,0\"/></g><g id=\"vvv-2\"><path class=\"s10\" d=\"M20,20 0,20 0,0 20,0\"/><path class=\"s1\" d=\"m0,20 20,0\"/><path class=\"s1\" d=\"M0,0 20,0\"/></g><g id=\"vm0-2\"><path class=\"s10\" d=\"M0,20 0,0 3,0 9,20\"/><path class=\"s1\" d=\"M0,0 3,0 9,20\"/><path class=\"s1\" d=\"m0,20 20,0\"/></g><g id=\"vm1-2\"><path class=\"s10\" d=\"M0,0 0,20 3,20 9,0\"/><path class=\"s1\" d=\"M0,0 20,0\"/><path class=\"s1\" d=\"M0,20 3,20 9,0\"/></g><g id=\"vmx-2\"><path class=\"s10\" d=\"M0,0 0,20 3,20 6,10 3,0\"/><path class=\"s1\" d=\"m0,0 3,0 6,20 11,0\"/><path class=\"s1\" d=\"M0,20 3,20 9,0 20,0\"/><path class=\"s2\" d=\"m20,15 -5,5\"/><path class=\"s2\" d=\"M20,10 10,20\"/><path class=\"s2\" d=\"M20,5 8,17\"/><path class=\"s2\" d=\"M20,0 7,13\"/><path class=\"s2\" d=\"M15,0 7,8\"/><path class=\"s2\" d=\"M10,0 9,1\"/></g><g id=\"vmd-2\"><path class=\"s10\" d=\"m0,0 0,20 20,0 C 10,20 7,10 3,0\"/><path class=\"s1\" d=\"m0,0 3,0 c 4,10 7,20 17,20\"/><path class=\"s1\" d=\"m0,20 20,0\"/></g><g id=\"vmu-2\"><path class=\"s10\" d=\"m0,0 0,20 3,0 C 7,10 10,0 20,0\"/><path class=\"s1\" d=\"m0,20 3,0 C 7,10 10,0 20,0\"/><path class=\"s1\" d=\"M0,0 20,0\"/></g><g id=\"vmz-2\"><path class=\"s10\" d=\"M0,0 3,0 C 10,10 15,10 20,10 15,10 10,10 3,20 L 0,20\"/><path class=\"s1\" d=\"m0,0 3,0 c 7,10 12,10 17,10\"/><path class=\"s1\" d=\"m0,20 3,0 C 10,10 15,10 20,10\"/></g><g id=\"0mv-2\"><path class=\"s10\" d=\"M9,0 20,0 20,20 3,20 z\"/><path class=\"s1\" d=\"M3,20 9,0 20,0\"/><path class=\"s1\" d=\"m0,20 20,0\"/></g><g id=\"1mv-2\"><path class=\"s10\" d=\"M2.875,0 20,0 20,20 9,20 z\"/><path class=\"s1\" d=\"m3,0 6,20 11,0\"/><path class=\"s1\" d=\"M0,0 20,0\"/></g><g id=\"xmv-2\"><path class=\"s10\" d=\"M9,0 20,0 20,20 9,20 6,10 z\"/><path class=\"s1\" d=\"M0,20 3,20 9,0 20,0\"/><path class=\"s1\" d=\"m0,0 3,0 6,20 11,0\"/><path class=\"s2\" d=\"M0,5 3.5,1.5\"/><path class=\"s2\" d=\"M0,10 4.5,5.5\"/><path class=\"s2\" d=\"M0,15 6,9\"/><path class=\"s2\" d=\"M0,20 4,16\"/></g><g id=\"dmv-2\"><path class=\"s10\" d=\"M9,0 20,0 20,20 3,20 z\"/><path class=\"s1\" d=\"M3,20 9,0 20,0\"/><path class=\"s1\" d=\"m0,20 20,0\"/></g><g id=\"umv-2\"><path class=\"s10\" d=\"M3,0 20,0 20,20 9,20 z\"/><path class=\"s1\" d=\"m3,0 6,20 11,0\"/><path class=\"s1\" d=\"M0,0 20,0\"/></g><g id=\"zmv-2\"><path class=\"s10\" d=\"M9,0 20,0 20,20 9,20 6,10 z\"/><path class=\"s1\" d=\"m6,10 3,10 11,0\"/><path class=\"s1\" d=\"M0,10 6,10 9,0 20,0\"/></g><g id=\"vmv-3-2\"><path class=\"s10\" d=\"M9,0 20,0 20,20 9,20 6,10 z\"/><path class=\"s6\" d=\"M3,0 0,0 0,20 3,20 6,10 z\"/><path class=\"s1\" d=\"m0,0 3,0 6,20 11,0\"/><path class=\"s1\" d=\"M0,20 3,20 9,0 20,0\"/></g><g id=\"vmv-4-2\"><path class=\"s10\" d=\"M9,0 20,0 20,20 9,20 6,10 z\"/><path class=\"s7\" d=\"M3,0 0,0 0,20 3,20 6,10 z\"/><path class=\"s1\" d=\"m0,0 3,0 6,20 11,0\"/><path class=\"s1\" d=\"M0,20 3,20 9,0 20,0\"/></g><g id=\"vmv-5-2\"><path class=\"s10\" d=\"M9,0 20,0 20,20 9,20 6,10 z\"/><path class=\"s8\" d=\"M3,0 0,0 0,20 3,20 6,10 z\"/><path class=\"s1\" d=\"m0,0 3,0 6,20 11,0\"/><path class=\"s1\" d=\"M0,20 3,20 9,0 20,0\"/></g><g id=\"vmv-2-3\"><path class=\"s6\" d=\"M9,0 20,0 20,20 9,20 6,10 z\"/><path class=\"s10\" d=\"M3,0 0,0 0,20 3,20 6,10 z\"/><path class=\"s1\" d=\"m0,0 3,0 6,20 11,0\"/><path class=\"s1\" d=\"M0,20 3,20 9,0 20,0\"/></g><g id=\"vmv-2-4\"><path class=\"s7\" d=\"M9,0 20,0 20,20 9,20 6,10 z\"/><path class=\"s10\" d=\"M3,0 0,0 0,20 3,20 6,10 z\"/><path class=\"s1\" d=\"m0,0 3,0 6,20 11,0\"/><path class=\"s1\" d=\"M0,20 3,20 9,0 20,0\"/></g><g id=\"vmv-2-5\"><path class=\"s8\" d=\"M9,0 20,0 20,20 9,20 6,10 z\"/><path class=\"s10\" d=\"M3,0 0,0 0,20 3,20 6,10 z\"/><path class=\"s1\" d=\"m0,0 3,0 6,20 11,0\"/><path class=\"s1\" d=\"M0,20 3,20 9,0 20,0\"/></g><g id=\"vmv-2-2\"><path class=\"s10\" d=\"M9,0 20,0 20,20 9,20 6,10 z\"/><path class=\"s10\" d=\"M3,0 0,0 0,20 3,20 6,10 z\"/><path class=\"s1\" d=\"m0,0 3,0 6,20 11,0\"/><path class=\"s1\" d=\"M0,20 3,20 9,0 20,0\"/></g><g id=\"arrow0\"><path class=\"s11\" d=\"m-12,-3 9,3 -9,3 c 1,-2 1,-4 0,-6 z\"/><path class=\"s12\" d=\"M0,0 -15,0\"/></g><marker id=\"arrowhead\" markerHeight=\"7\" markerUnits=\"strokeWidth\" markerWidth=\"10\" orient=\"auto\" refX=\"15\" refY=\"0\" style=\"fill: #0041c4;\" viewBox=\"0 -4 11 8\"><path d=\"M0 -4 11 0 0 4z\"/></marker><marker id=\"arrowtail\" markerHeight=\"7\" markerUnits=\"strokeWidth\" markerWidth=\"10\" orient=\"auto\" refX=\"-15\" refY=\"0\" style=\"fill: #0041c4;\" viewBox=\"-11 -4 11 8\"><path d=\"M0 -4 -11 0 0 4z\"/></marker></defs><g id=\"waves_0\"><g id=\"lanes_0\" transform=\"translate(60.5, 46.5)\"><g id=\"gmarks_0\"><path d=\"m 0,0 0,360\" id=\"gmark_0_0\" style=\"stroke: #888888; stroke-width: 0.5px; stroke-dasharray: 1px, 3px;\"/><path d=\"m 40,0 0,360\" id=\"gmark_1_0\" style=\"stroke: #888888; stroke-width: 0.5px; stroke-dasharray: 1px, 3px;\"/><path d=\"m 80,0 0,360\" id=\"gmark_2_0\" style=\"stroke: #888888; stroke-width: 0.5px; stroke-dasharray: 1px, 3px;\"/><path d=\"m 120,0 0,360\" id=\"gmark_3_0\" style=\"stroke: #888888; stroke-width: 0.5px; stroke-dasharray: 1px, 3px;\"/><path d=\"m 160,0 0,360\" id=\"gmark_4_0\" style=\"stroke: #888888; stroke-width: 0.5px; stroke-dasharray: 1px, 3px;\"/><path d=\"m 200,0 0,360\" id=\"gmark_5_0\" style=\"stroke: #888888; stroke-width: 0.5px; stroke-dasharray: 1px, 3px;\"/><path d=\"m 240,0 0,360\" id=\"gmark_6_0\" style=\"stroke: #888888; stroke-width: 0.5px; stroke-dasharray: 1px, 3px;\"/><path d=\"m 280,0 0,360\" id=\"gmark_7_0\" style=\"stroke: #888888; stroke-width: 0.5px; stroke-dasharray: 1px, 3px;\"/><path d=\"m 320,0 0,360\" id=\"gmark_8_0\" style=\"stroke: #888888; stroke-width: 0.5px; stroke-dasharray: 1px, 3px;\"/><path d=\"m 360,0 0,360\" id=\"gmark_9_0\" style=\"stroke: #888888; stroke-width: 0.5px; stroke-dasharray: 1px, 3px;\"/><path d=\"m 400,0 0,360\" id=\"gmark_10_0\" style=\"stroke: #888888; stroke-width: 0.5px; stroke-dasharray: 1px, 3px;\"/><path d=\"m 440,0 0,360\" id=\"gmark_11_0\" style=\"stroke: #888888; stroke-width: 0.5px; stroke-dasharray: 1px, 3px;\"/><path d=\"m 480,0 0,360\" id=\"gmark_12_0\" style=\"stroke: #888888; stroke-width: 0.5px; stroke-dasharray: 1px, 3px;\"/><text fill=\"#000\" text-anchor=\"middle\" x=\"240\" xml:space=\"preserve\" y=\"-13\"><tspan>Test Waveform</tspan></text><text class=\"muted\" text-anchor=\"middle\" x=\"20\" xml:space=\"preserve\" y=\"375\">1</text><text class=\"muted\" text-anchor=\"middle\" x=\"60\" xml:space=\"preserve\" y=\"375\">2</text><text class=\"muted\" text-anchor=\"middle\" x=\"100\" xml:space=\"preserve\" y=\"375\">3</text><text class=\"muted\" text-anchor=\"middle\" x=\"140\" xml:space=\"preserve\" y=\"375\">4</text><text class=\"muted\" text-anchor=\"middle\" x=\"180\" xml:space=\"preserve\" y=\"375\">5</text><text class=\"muted\" text-anchor=\"middle\" x=\"220\" xml:space=\"preserve\" y=\"375\">6</text><text class=\"muted\" text-anchor=\"middle\" x=\"260\" xml:space=\"preserve\" y=\"375\">7</text><text class=\"muted\" text-anchor=\"middle\" x=\"300\" xml:space=\"preserve\" y=\"375\">8</text><text class=\"muted\" text-anchor=\"middle\" x=\"340\" xml:space=\"preserve\" y=\"375\">9</text><text class=\"muted\" text-anchor=\"middle\" x=\"380\" xml:space=\"preserve\" y=\"375\">10</text><text class=\"muted\" text-anchor=\"middle\" x=\"420\" xml:space=\"preserve\" y=\"375\">11</text><text class=\"muted\" text-anchor=\"middle\" x=\"460\" xml:space=\"preserve\" y=\"375\">12</text></g><g id=\"wavelane_0_0\" transform=\"translate(0,5)\"><text class=\"info\" text-anchor=\"end\" x=\"-10\" xml:space=\"preserve\" y=\"15\"><tspan>clk</tspan></text><g id=\"wavelane_draw_0_0\" transform=\"translate(0, 0)\"><use transform=\"translate(0)\" xlink:href=\"#000\" xmlns:xlink=\"http://www.w3.org/1999/xlink\"/><use transform=\"translate(20)\" xlink:href=\"#000\" xmlns:xlink=\"http://www.w3.org/1999/xlink\"/><use transform=\"translate(40)\" xlink:href=\"#pclk\" xmlns:xlink=\"http://www.w3.org/1999/xlink\"/><use transform=\"translate(60)\" xlink:href=\"#111\" xmlns:xlink=\"http://www.w3.org/1999/xlink\"/><use transform=\"translate(80)\" xlink:href=\"#nclk\" xmlns:xlink=\"http://www.w3.org/1999/xlink\"/><use transform=\"translate(100)\" xlink:href=\"#000\" xmlns:xlink=\"http://www.w3.org/1999/xlink\"/><use transform=\"translate(120)\" xlink:href=\"#pclk\" xmlns:xlink=\"http://www.w3.org/1999/xlink\"/><use transform=\"translate(140)\" xlink:href=\"#111\" xmlns:xlink=\"http://www.w3.org/1999/xlink\"/><use transform=\"translate(160)\" xlink:href=\"#nclk\" xmlns:xlink=\"http://www.w3.org/1999/xlink\"/><use transform=\"translate(180)\" xlink:href=\"#000\" xmlns:xlink=\"http://www.w3.org/1999/xlink\"/><use transform=\"translate(200)\" xlink:href=\"#pclk\" xmlns:xlink=\"http://www.w3.org/1999/xlink\"/><use transform=\"translate(220)\" xlink:href=\"#111\" xmlns:xlink=\"http://www.w3.org/1999/xlink\"/><use transform=\"translate(240)\" xlink:href=\"#nclk\" xmlns:xlink=\"http://www.w3.org/1999/xlink\"/><use transform=\"translate(260)\" xlink:href=\"#000\" xmlns:xlink=\"http://www.w3.org/1999/xlink\"/><use transform=\"translate(280)\" xlink:href=\"#pclk\" xmlns:xlink=\"http://www.w3.org/1999/xlink\"/><use transform=\"translate(300)\" xlink:href=\"#111\" xmlns:xlink=\"http://www.w3.org/1999/xlink\"/><use transform=\"translate(320)\" xlink:href=\"#nclk\" xmlns:xlink=\"http://www.w3.org/1999/xlink\"/><use transform=\"translate(340)\" xlink:href=\"#000\" xmlns:xlink=\"http://www.w3.org/1999/xlink\"/><use transform=\"translate(360)\" xlink:href=\"#pclk\" xmlns:xlink=\"http://www.w3.org/1999/xlink\"/><use transform=\"translate(380)\" xlink:href=\"#111\" xmlns:xlink=\"http://www.w3.org/1999/xlink\"/><use transform=\"translate(400)\" xlink:href=\"#nclk\" xmlns:xlink=\"http://www.w3.org/1999/xlink\"/><use transform=\"translate(420)\" xlink:href=\"#000\" xmlns:xlink=\"http://www.w3.org/1999/xlink\"/><use transform=\"translate(440)\" xlink:href=\"#pclk\" xmlns:xlink=\"http://www.w3.org/1999/xlink\"/><use transform=\"translate(460)\" xlink:href=\"#111\" xmlns:xlink=\"http://www.w3.org/1999/xlink\"/></g></g><g id=\"wavelane_1_0\" transform=\"translate(0,35)\"><text class=\"info\" text-anchor=\"end\" x=\"-10\" xml:space=\"preserve\" y=\"15\"><tspan>dat</tspan></text><g id=\"wavelane_draw_1_0\" transform=\"translate(0, 0)\"><use transform=\"translate(0)\" xlink:href=\"#xxx\" xmlns:xlink=\"http://www.w3.org/1999/xlink\"/><use transform=\"translate(20)\" xlink:href=\"#xxx\" xmlns:xlink=\"http://www.w3.org/1999/xlink\"/><use transform=\"translate(40)\" xlink:href=\"#xxx\" xmlns:xlink=\"http://www.w3.org/1999/xlink\"/><use transform=\"translate(60)\" xlink:href=\"#xxx\" xmlns:xlink=\"http://www.w3.org/1999/xlink\"/><use transform=\"translate(80)\" xlink:href=\"#xmv-3\" xmlns:xlink=\"http://www.w3.org/1999/xlink\"/><use transform=\"translate(100)\" xlink:href=\"#vvv-3\" xmlns:xlink=\"http://www.w3.org/1999/xlink\"/><use transform=\"translate(120)\" xlink:href=\"#vmv-3-4\" xmlns:xlink=\"http://www.w3.org/1999/xlink\"/><use transform=\"translate(140)\" xlink:href=\"#vvv-4\" xmlns:xlink=\"http://www.w3.org/1999/xlink\"/><use transform=\"translate(160)\" xlink:href=\"#vmv-4-5\" xmlns:xlink=\"http://www.w3.org/1999/xlink\"/><use transform=\"translate(180)\" xlink:href=\"#vvv-5\" xmlns:xlink=\"http://www.w3.org/1999/xlink\"/><use transform=\"translate(200)\" xlink:href=\"#vmx-5\" xmlns:xlink=\"http://www.w3.org/1999/xlink\"/><use transform=\"translate(220)\" xlink:href=\"#xxx\" xmlns:xlink=\"http://www.w3.org/1999/xlink\"/><use transform=\"translate(240)\" xlink:href=\"#xxx\" xmlns:xlink=\"http://www.w3.org/1999/xlink\"/><use transform=\"translate(260)\" xlink:href=\"#xxx\" xmlns:xlink=\"http://www.w3.org/1999/xlink\"/><use transform=\"translate(280)\" xlink:href=\"#xmv-2\" xmlns:xlink=\"http://www.w3.org/1999/xlink\"/><use transform=\"translate(300)\" xlink:href=\"#vvv-2\" xmlns:xlink=\"http://www.w3.org/1999/xlink\"/><use transform=\"translate(320)\" xlink:href=\"#vvv-2\" xmlns:xlink=\"http://www.w3.org/1999/xlink\"/><use transform=\"translate(340)\" xlink:href=\"#vvv-2\" xmlns:xlink=\"http://www.w3.org/1999/xlink\"/><use transform=\"translate(360)\" xlink:href=\"#vmx-2\" xmlns:xlink=\"http://www.w3.org/1999/xlink\"/><use transform=\"translate(380)\" xlink:href=\"#xxx\" xmlns:xlink=\"http://www.w3.org/1999/xlink\"/><text text-anchor=\"middle\" x=\"106\" xml:space=\"preserve\" y=\"15\"><tspan>head</tspan></text><text text-anchor=\"middle\" x=\"146\" xml:space=\"preserve\" y=\"15\"><tspan>body</tspan></text><text text-anchor=\"middle\" x=\"186\" xml:space=\"preserve\" y=\"15\"><tspan>tail</tspan></text><text text-anchor=\"middle\" x=\"326\" xml:space=\"preserve\" y=\"15\"><tspan>data</tspan></text></g></g><g id=\"wavelane_2_0\" transform=\"translate(0,65)\"><text class=\"info\" text-anchor=\"end\" x=\"-10\" xml:space=\"preserve\" y=\"15\"><tspan>req</tspan></text><g id=\"wavelane_draw_2_0\" transform=\"translate(0, 0)\"><use transform=\"translate(0)\" xlink:href=\"#000\" xmlns:xlink=\"http://www.w3.org/1999/xlink\"/><use transform=\"translate(20)\" xlink:href=\"#000\" xmlns:xlink=\"http://www.w3.org/1999/xlink\"/><use transform=\"translate(40)\" xlink:href=\"#000\" xmlns:xlink=\"http://www.w3.org/1999/xlink\"/><use transform=\"translate(60)\" xlink:href=\"#000\" xmlns:xlink=\"http://www.w3.org/1999/xlink\"/><use transform=\"translate(80)\" xlink:href=\"#pclk\" xmlns:xlink=\"http://www.w3.org/1999/xlink\"/><use transform=\"translate(100)\" xlink:href=\"#111\" xmlns:xlink=\"http://www.w3.org/1999/xlink\"/><use transform=\"translate(120)\" xlink:href=\"#111\" xmlns:xlink=\"http://www.w3.org/1999/xlink\"/><use transform=\"translate(140)\" xlink:href=\"#111\" xmlns:xlink=\"http://www.w3.org/1999/xlink\"/><use transform=\"translate(160)\" xlink:href=\"#111\" xmlns:xlink=\"http://www.w3.org/1999/xlink\"/><use transform=\"translate(180)\" xlink:href=\"#111\" xmlns:xlink=\"http://www.w3.org/1999/xlink\"/><use transform=\"translate(200)\" xlink:href=\"#111\" xmlns:xlink=\"http://www.w3.org/1999/xlink\"/><use transform=\"translate(220)\" xlink:href=\"#111\" xmlns:xlink=\"http://www.w3.org/1999/xlink\"/><use transform=\"translate(240)\" xlink:href=\"#nclk\" xmlns:xlink=\"http://www.w3.org/1999/xlink\"/><use transform=\"translate(260)\" xlink:href=\"#000\" xmlns:xlink=\"http://www.w3.org/1999/xlink\"/></g></g><g id=\"wavelane_3_0\" transform=\"translate(0,95)\"><text class=\"info\" text-anchor=\"end\" x=\"-10\" xml:space=\"preserve\" y=\"15\"><tspan/></text><g id=\"wavelane_draw_3_0\" transform=\"translate(0, 0)\"/></g><g id=\"wavelane_4_0\" transform=\"translate(0,125)\"><text class=\"info\" text-anchor=\"end\" x=\"-10\" xml:space=\"preserve\" y=\"15\"><tspan>ack</tspan></text><g id=\"wavelane_draw_4_0\" transform=\"translate(0, 0)\"><use transform=\"translate(0)\" xlink:href=\"#111\" xmlns:xlink=\"http://www.w3.org/1999/xlink\"/><use transform=\"translate(20)\" xlink:href=\"#111\" xmlns:xlink=\"http://www.w3.org/1999/xlink\"/><use transform=\"translate(40)\" xlink:href=\"#111\" xmlns:xlink=\"http://www.w3.org/1999/xlink\"/><use transform=\"translate(60)\" xlink:href=\"#111\" xmlns:xlink=\"http://www.w3.org/1999/xlink\"/><use transform=\"translate(80)\" xlink:href=\"#111\" xmlns:xlink=\"http://www.w3.org/1999/xlink\"/><use transform=\"translate(100)\" xlink:href=\"#111\" xmlns:xlink=\"http://www.w3.org/1999/xlink\"/><use transform=\"translate(120)\" xlink:href=\"#111\" xmlns:xlink=\"http://www.w3.org/1999/xlink\"/><use transform=\"translate(140)\" xlink:href=\"#111\" xmlns:xlink=\"http://www.w3.org/1999/xlink\"/><use transform=\"translate(160)\" xlink:href=\"#111\" xmlns:xlink=\"http://www.w3.org/1999/xlink\"/><use transform=\"translate(180)\" xlink:href=\"#111\" xmlns:xlink=\"http://www.w3.org/1999/xlink\"/><use transform=\"translate(200)\" xlink:href=\"#111\" xmlns:xlink=\"http://www.w3.org/1999/xlink\"/><use transform=\"translate(220)\" xlink:href=\"#111\" xmlns:xlink=\"http://www.w3.org/1999/xlink\"/><use transform=\"translate(240)\" xlink:href=\"#111\" xmlns:xlink=\"http://www.w3.org/1999/xlink\"/><use transform=\"translate(260)\" xlink:href=\"#111\" xmlns:xlink=\"http://www.w3.org/1999/xlink\"/><use transform=\"translate(280)\" xlink:href=\"#1m0\" xmlns:xlink=\"http://www.w3.org/1999/xlink\"/><use transform=\"translate(300)\" xlink:href=\"#000\" xmlns:xlink=\"http://www.w3.org/1999/xlink\"/><use transform=\"translate(320)\" xlink:href=\"#0m1\" xmlns:xlink=\"http://www.w3.org/1999/xlink\"/><use transform=\"translate(340)\" xlink:href=\"#111\" xmlns:xlink=\"http://www.w3.org/1999/xlink\"/><use transform=\"translate(360)\" xlink:href=\"#111\" xmlns:xlink=\"http://www.w3.org/1999/xlink\"/><use transform=\"translate(380)\" xlink:href=\"#111\" xmlns:xlink=\"http://www.w3.org/1999/xlink\"/></g></g><g id=\"wavelane_5_0\" transform=\"translate(0,155)\"><text class=\"info\" text-anchor=\"end\" x=\"-10\" xml:space=\"preserve\" y=\"15\"><tspan>ack</tspan></text><g id=\"wavelane_draw_5_0\" transform=\"translate(0, 0)\"><use transform=\"translate(0)\" xlink:href=\"#111\" xmlns:xlink=\"http://www.w3.org/1999/xlink\"/><use transform=\"translate(20)\" xlink:href=\"#111\" xmlns:xlink=\"http://www.w3.org/1999/xlink\"/><use transform=\"translate(40)\" xlink:href=\"#111\" xmlns:xlink=\"http://www.w3.org/1999/xlink\"/><use transform=\"translate(60)\" xlink:href=\"#111\" xmlns:xlink=\"http://www.w3.org/1999/xlink\"/><use transform=\"translate(80)\" xlink:href=\"#111\" xmlns:xlink=\"http://www.w3.org/1999/xlink\"/><use transform=\"translate(100)\" xlink:href=\"#111\" xmlns:xlink=\"http://www.w3.org/1999/xlink\"/><use transform=\"translate(120)\" xlink:href=\"#111\" xmlns:xlink=\"http://www.w3.org/1999/xlink\"/><use transform=\"translate(140)\" xlink:href=\"#111\" xmlns:xlink=\"http://www.w3.org/1999/xlink\"/><use transform=\"translate(160)\" xlink:href=\"#111\" xmlns:xlink=\"http://www.w3.org/1999/xlink\"/><use transform=\"translate(180)\" xlink:href=\"#111\" xmlns:xlink=\"http://www.w3.org/1999/xlink\"/><use transform=\"translate(200)\" xlink:href=\"#111\" xmlns:xlink=\"http://www.w3.org/1999/xlink\"/><use transform=\"translate(220)\" xlink:href=\"#111\" xmlns:xlink=\"http://www.w3.org/1999/xlink\"/><use transform=\"translate(240)\" xlink:href=\"#111\" xmlns:xlink=\"http://www.w3.org/1999/xlink\"/><use transform=\"translate(260)\" xlink:href=\"#111\" xmlns:xlink=\"http://www.w3.org/1999/xlink\"/><use transform=\"translate(280)\" xlink:href=\"#1m0\" xmlns:xlink=\"http://www.w3.org/1999/xlink\"/><use transform=\"translate(300)\" xlink:href=\"#000\" xmlns:xlink=\"http://www.w3.org/1999/xlink\"/><use transform=\"translate(320)\" xlink:href=\"#0m1\" xmlns:xlink=\"http://www.w3.org/1999/xlink\"/><use transform=\"translate(340)\" xlink:href=\"#111\" xmlns:xlink=\"http://www.w3.org/1999/xlink\"/><use transform=\"translate(360)\" xlink:href=\"#111\" xmlns:xlink=\"http://www.w3.org/1999/xlink\"/><use transform=\"translate(380)\" xlink:href=\"#111\" xmlns:xlink=\"http://www.w3.org/1999/xlink\"/></g></g><g id=\"wavelane_6_0\" transform=\"translate(0,185)\"><text class=\"info\" text-anchor=\"end\" x=\"-10\" xml:space=\"preserve\" y=\"15\"><tspan>ack</tspan></text><g id=\"wavelane_draw_6_0\" transform=\"translate(0, 0)\"><use transform=\"translate(0)\" xlink:href=\"#111\" xmlns:xlink=\"http://www.w3.org/1999/xlink\"/><use transform=\"translate(20)\" xlink:href=\"#111\" xmlns:xlink=\"http://www.w3.org/1999/xlink\"/><use transform=\"translate(40)\" xlink:href=\"#111\" xmlns:xlink=\"http://www.w3.org/1999/xlink\"/><use transform=\"translate(60)\" xlink:href=\"#111\" xmlns:xlink=\"http://www.w3.org/1999/xlink\"/><use transform=\"translate(80)\" xlink:href=\"#111\" xmlns:xlink=\"http://www.w3.org/1999/xlink\"/><use transform=\"translate(100)\" xlink:href=\"#111\" xmlns:xlink=\"http://www.w3.org/1999/xlink\"/><use transform=\"translate(120)\" xlink:href=\"#111\" xmlns:xlink=\"http://www.w3.org/1999/xlink\"/><use transform=\"translate(140)\" xlink:href=\"#111\" xmlns:xlink=\"http://www.w3.org/1999/xlink\"/><use transform=\"translate(160)\" xlink:href=\"#111\" xmlns:xlink=\"http://www.w3.org/1999/xlink\"/><use transform=\"translate(180)\" xlink:href=\"#111\" xmlns:xlink=\"http://www.w3.org/1999/xlink\"/><use transform=\"translate(200)\" xlink:href=\"#111\" xmlns:xlink=\"http://www.w3.org/1999/xlink\"/><use transform=\"translate(220)\" xlink:href=\"#111\" xmlns:xlink=\"http://www.w3.org/1999/xlink\"/><use transform=\"translate(240)\" xlink:href=\"#111\" xmlns:xlink=\"http://www.w3.org/1999/xlink\"/><use transform=\"translate(260)\" xlink:href=\"#111\" xmlns:xlink=\"http://www.w3.org/1999/xlink\"/><use transform=\"translate(280)\" xlink:href=\"#1m0\" xmlns:xlink=\"http://www.w3.org/1999/xlink\"/><use transform=\"translate(300)\" xlink:href=\"#000\" xmlns:xlink=\"http://www.w3.org/1999/xlink\"/><use transform=\"translate(320)\" xlink:href=\"#0m1\" xmlns:xlink=\"http://www.w3.org/1999/xlink\"/><use transform=\"translate(340)\" xlink:href=\"#111\" xmlns:xlink=\"http://www.w3.org/1999/xlink\"/><use transform=\"translate(360)\" xlink:href=\"#111\" xmlns:xlink=\"http://www.w3.org/1999/xlink\"/><use transform=\"translate(380)\" xlink:href=\"#111\" xmlns:xlink=\"http://www.w3.org/1999/xlink\"/></g></g><g id=\"wavelane_7_0\" transform=\"translate(0,215)\"><text class=\"info\" text-anchor=\"end\" x=\"-10\" xml:space=\"preserve\" y=\"15\"><tspan>ack</tspan></text><g id=\"wavelane_draw_7_0\" transform=\"translate(0, 0)\"><use transform=\"translate(0)\" xlink:href=\"#111\" xmlns:xlink=\"http://www.w3.org/1999/xlink\"/><use transform=\"translate(20)\" xlink:href=\"#111\" xmlns:xlink=\"http://www.w3.org/1999/xlink\"/><use transform=\"translate(40)\" xlink:href=\"#111\" xmlns:xlink=\"http://www.w3.org/1999/xlink\"/><use transform=\"translate(60)\" xlink:href=\"#111\" xmlns:xlink=\"http://www.w3.org/1999/xlink\"/><use transform=\"translate(80)\" xlink:href=\"#111\" xmlns:xlink=\"http://www.w3.org/1999/xlink\"/><use transform=\"translate(100)\" xlink:href=\"#111\" xmlns:xlink=\"http://www.w3.org/1999/xlink\"/><use transform=\"translate(120)\" xlink:href=\"#111\" xmlns:xlink=\"http://www.w3.org/1999/xlink\"/><use transform=\"translate(140)\" xlink:href=\"#111\" xmlns:xlink=\"http://www.w3.org/1999/xlink\"/><use transform=\"translate(160)\" xlink:href=\"#111\" xmlns:xlink=\"http://www.w3.org/1999/xlink\"/><use transform=\"translate(180)\" xlink:href=\"#111\" xmlns:xlink=\"http://www.w3.org/1999/xlink\"/><use transform=\"translate(200)\" xlink:href=\"#111\" xmlns:xlink=\"http://www.w3.org/1999/xlink\"/><use transform=\"translate(220)\" xlink:href=\"#111\" xmlns:xlink=\"http://www.w3.org/1999/xlink\"/><use transform=\"translate(240)\" xlink:href=\"#111\" xmlns:xlink=\"http://www.w3.org/1999/xlink\"/><use transform=\"translate(260)\" xlink:href=\"#111\" xmlns:xlink=\"http://www.w3.org/1999/xlink\"/><use transform=\"translate(280)\" xlink:href=\"#1m0\" xmlns:xlink=\"http://www.w3.org/1999/xlink\"/><use transform=\"translate(300)\" xlink:href=\"#000\" xmlns:xlink=\"http://www.w3.org/1999/xlink\"/><use transform=\"translate(320)\" xlink:href=\"#0m1\" xmlns:xlink=\"http://www.w3.org/1999/xlink\"/><use transform=\"translate(340)\" xlink:href=\"#111\" xmlns:xlink=\"http://www.w3.org/1999/xlink\"/><use transform=\"translate(360)\" xlink:href=\"#111\" xmlns:xlink=\"http://www.w3.org/1999/xlink\"/><use transform=\"translate(380)\" xlink:href=\"#111\" xmlns:xlink=\"http://www.w3.org/1999/xlink\"/></g></g><g id=\"wavelane_8_0\" transform=\"translate(0,245)\"><text class=\"info\" text-anchor=\"end\" x=\"-10\" xml:space=\"preserve\" y=\"15\"><tspan>ack</tspan></text><g id=\"wavelane_draw_8_0\" transform=\"translate(0, 0)\"><use transform=\"translate(0)\" xlink:href=\"#111\" xmlns:xlink=\"http://www.w3.org/1999/xlink\"/><use transform=\"translate(20)\" xlink:href=\"#111\" xmlns:xlink=\"http://www.w3.org/1999/xlink\"/><use transform=\"translate(40)\" xlink:href=\"#111\" xmlns:xlink=\"http://www.w3.org/1999/xlink\"/><use transform=\"translate(60)\" xlink:href=\"#111\" xmlns:xlink=\"http://www.w3.org/1999/xlink\"/><use transform=\"translate(80)\" xlink:href=\"#111\" xmlns:xlink=\"http://www.w3.org/1999/xlink\"/><use transform=\"translate(100)\" xlink:href=\"#111\" xmlns:xlink=\"http://www.w3.org/1999/xlink\"/><use transform=\"translate(120)\" xlink:href=\"#111\" xmlns:xlink=\"http://www.w3.org/1999/xlink\"/><use transform=\"translate(140)\" xlink:href=\"#111\" xmlns:xlink=\"http://www.w3.org/1999/xlink\"/><use transform=\"translate(160)\" xlink:href=\"#111\" xmlns:xlink=\"http://www.w3.org/1999/xlink\"/><use transform=\"translate(180)\" xlink:href=\"#111\" xmlns:xlink=\"http://www.w3.org/1999/xlink\"/><use transform=\"translate(200)\" xlink:href=\"#111\" xmlns:xlink=\"http://www.w3.org/1999/xlink\"/><use transform=\"translate(220)\" xlink:href=\"#111\" xmlns:xlink=\"http://www.w3.org/1999/xlink\"/><use transform=\"translate(240)\" xlink:href=\"#111\" xmlns:xlink=\"http://www.w3.org/1999/xlink\"/><use transform=\"translate(260)\" xlink:href=\"#111\" xmlns:xlink=\"http://www.w3.org/1999/xlink\"/><use transform=\"translate(280)\" xlink:href=\"#1m0\" xmlns:xlink=\"http://www.w3.org/1999/xlink\"/><use transform=\"translate(300)\" xlink:href=\"#000\" xmlns:xlink=\"http://www.w3.org/1999/xlink\"/><use transform=\"translate(320)\" xlink:href=\"#0m1\" xmlns:xlink=\"http://www.w3.org/1999/xlink\"/><use transform=\"translate(340)\" xlink:href=\"#111\" xmlns:xlink=\"http://www.w3.org/1999/xlink\"/><use transform=\"translate(360)\" xlink:href=\"#111\" xmlns:xlink=\"http://www.w3.org/1999/xlink\"/><use transform=\"translate(380)\" xlink:href=\"#111\" xmlns:xlink=\"http://www.w3.org/1999/xlink\"/></g></g><g id=\"wavelane_9_0\" transform=\"translate(0,275)\"><text class=\"info\" text-anchor=\"end\" x=\"-10\" xml:space=\"preserve\" y=\"15\"><tspan>ack</tspan></text><g id=\"wavelane_draw_9_0\" transform=\"translate(0, 0)\"><use transform=\"translate(0)\" xlink:href=\"#111\" xmlns:xlink=\"http://www.w3.org/1999/xlink\"/><use transform=\"translate(20)\" xlink:href=\"#111\" xmlns:xlink=\"http://www.w3.org/1999/xlink\"/><use transform=\"translate(40)\" xlink:href=\"#111\" xmlns:xlink=\"http://www.w3.org/1999/xlink\"/><use transform=\"translate(60)\" xlink:href=\"#111\" xmlns:xlink=\"http://www.w3.org/1999/xlink\"/><use transform=\"translate(80)\" xlink:href=\"#111\" xmlns:xlink=\"http://www.w3.org/1999/xlink\"/><use transform=\"translate(100)\" xlink:href=\"#111\" xmlns:xlink=\"http://www.w3.org/1999/xlink\"/><use transform=\"translate(120)\" xlink:href=\"#111\" xmlns:xlink=\"http://www.w3.org/1999/xlink\"/><use transform=\"translate(140)\" xlink:href=\"#111\" xmlns:xlink=\"http://www.w3.org/1999/xlink\"/><use transform=\"translate(160)\" xlink:href=\"#111\" xmlns:xlink=\"http://www.w3.org/1999/xlink\"/><use transform=\"translate(180)\" xlink:href=\"#111\" xmlns:xlink=\"http://www.w3.org/1999/xlink\"/><use transform=\"translate(200)\" xlink:href=\"#111\" xmlns:xlink=\"http://www.w3.org/1999/xlink\"/><use transform=\"translate(220)\" xlink:href=\"#111\" xmlns:xlink=\"http://www.w3.org/1999/xlink\"/><use transform=\"translate(240)\" xlink:href=\"#111\" xmlns:xlink=\"http://www.w3.org/1999/xlink\"/><use transform=\"translate(260)\" xlink:href=\"#111\" xmlns:xlink=\"http://www.w3.org/1999/xlink\"/><use transform=\"translate(280)\" xlink:href=\"#1m0\" xmlns:xlink=\"http://www.w3.org/1999/xlink\"/><use transform=\"translate(300)\" xlink:href=\"#000\" xmlns:xlink=\"http://www.w3.org/1999/xlink\"/><use transform=\"translate(320)\" xlink:href=\"#0m1\" xmlns:xlink=\"http://www.w3.org/1999/xlink\"/><use transform=\"translate(340)\" xlink:href=\"#111\" xmlns:xlink=\"http://www.w3.org/1999/xlink\"/><use transform=\"translate(360)\" xlink:href=\"#111\" xmlns:xlink=\"http://www.w3.org/1999/xlink\"/><use transform=\"translate(380)\" xlink:href=\"#111\" xmlns:xlink=\"http://www.w3.org/1999/xlink\"/></g></g><g id=\"wavelane_10_0\" transform=\"translate(0,305)\"><text class=\"info\" text-anchor=\"end\" x=\"-10\" xml:space=\"preserve\" y=\"15\"><tspan>ack</tspan></text><g id=\"wavelane_draw_10_0\" transform=\"translate(0, 0)\"><use transform=\"translate(0)\" xlink:href=\"#111\" xmlns:xlink=\"http://www.w3.org/1999/xlink\"/><use transform=\"translate(20)\" xlink:href=\"#111\" xmlns:xlink=\"http://www.w3.org/1999/xlink\"/><use transform=\"translate(40)\" xlink:href=\"#111\" xmlns:xlink=\"http://www.w3.org/1999/xlink\"/><use transform=\"translate(60)\" xlink:href=\"#111\" xmlns:xlink=\"http://www.w3.org/1999/xlink\"/><use transform=\"translate(80)\" xlink:href=\"#111\" xmlns:xlink=\"http://www.w3.org/1999/xlink\"/><use transform=\"translate(100)\" xlink:href=\"#111\" xmlns:xlink=\"http://www.w3.org/1999/xlink\"/><use transform=\"translate(120)\" xlink:href=\"#111\" xmlns:xlink=\"http://www.w3.org/1999/xlink\"/><use transform=\"translate(140)\" xlink:href=\"#111\" xmlns:xlink=\"http://www.w3.org/1999/xlink\"/><use transform=\"translate(160)\" xlink:href=\"#111\" xmlns:xlink=\"http://www.w3.org/1999/xlink\"/><use transform=\"translate(180)\" xlink:href=\"#111\" xmlns:xlink=\"http://www.w3.org/1999/xlink\"/><use transform=\"translate(200)\" xlink:href=\"#111\" xmlns:xlink=\"http://www.w3.org/1999/xlink\"/><use transform=\"translate(220)\" xlink:href=\"#111\" xmlns:xlink=\"http://www.w3.org/1999/xlink\"/><use transform=\"translate(240)\" xlink:href=\"#111\" xmlns:xlink=\"http://www.w3.org/1999/xlink\"/><use transform=\"translate(260)\" xlink:href=\"#111\" xmlns:xlink=\"http://www.w3.org/1999/xlink\"/><use transform=\"translate(280)\" xlink:href=\"#1m0\" xmlns:xlink=\"http://www.w3.org/1999/xlink\"/><use transform=\"translate(300)\" xlink:href=\"#000\" xmlns:xlink=\"http://www.w3.org/1999/xlink\"/><use transform=\"translate(320)\" xlink:href=\"#0m1\" xmlns:xlink=\"http://www.w3.org/1999/xlink\"/><use transform=\"translate(340)\" xlink:href=\"#111\" xmlns:xlink=\"http://www.w3.org/1999/xlink\"/><use transform=\"translate(360)\" xlink:href=\"#111\" xmlns:xlink=\"http://www.w3.org/1999/xlink\"/><use transform=\"translate(380)\" xlink:href=\"#111\" xmlns:xlink=\"http://www.w3.org/1999/xlink\"/></g></g><g id=\"wavelane_11_0\" transform=\"translate(0,335)\"><text class=\"info\" text-anchor=\"end\" x=\"-10\" xml:space=\"preserve\" y=\"15\"><tspan>ack</tspan></text><g id=\"wavelane_draw_11_0\" transform=\"translate(0, 0)\"><use transform=\"translate(0)\" xlink:href=\"#111\" xmlns:xlink=\"http://www.w3.org/1999/xlink\"/><use transform=\"translate(20)\" xlink:href=\"#111\" xmlns:xlink=\"http://www.w3.org/1999/xlink\"/><use transform=\"translate(40)\" xlink:href=\"#111\" xmlns:xlink=\"http://www.w3.org/1999/xlink\"/><use transform=\"translate(60)\" xlink:href=\"#111\" xmlns:xlink=\"http://www.w3.org/1999/xlink\"/><use transform=\"translate(80)\" xlink:href=\"#111\" xmlns:xlink=\"http://www.w3.org/1999/xlink\"/><use transform=\"translate(100)\" xlink:href=\"#111\" xmlns:xlink=\"http://www.w3.org/1999/xlink\"/><use transform=\"translate(120)\" xlink:href=\"#111\" xmlns:xlink=\"http://www.w3.org/1999/xlink\"/><use transform=\"translate(140)\" xlink:href=\"#111\" xmlns:xlink=\"http://www.w3.org/1999/xlink\"/><use transform=\"translate(160)\" xlink:href=\"#111\" xmlns:xlink=\"http://www.w3.org/1999/xlink\"/><use transform=\"translate(180)\" xlink:href=\"#111\" xmlns:xlink=\"http://www.w3.org/1999/xlink\"/><use transform=\"translate(200)\" xlink:href=\"#111\" xmlns:xlink=\"http://www.w3.org/1999/xlink\"/><use transform=\"translate(220)\" xlink:href=\"#111\" xmlns:xlink=\"http://www.w3.org/1999/xlink\"/><use transform=\"translate(240)\" xlink:href=\"#111\" xmlns:xlink=\"http://www.w3.org/1999/xlink\"/><use transform=\"translate(260)\" xlink:href=\"#111\" xmlns:xlink=\"http://www.w3.org/1999/xlink\"/><use transform=\"translate(280)\" xlink:href=\"#1m0\" xmlns:xlink=\"http://www.w3.org/1999/xlink\"/><use transform=\"translate(300)\" xlink:href=\"#000\" xmlns:xlink=\"http://www.w3.org/1999/xlink\"/><use transform=\"translate(320)\" xlink:href=\"#0m1\" xmlns:xlink=\"http://www.w3.org/1999/xlink\"/><use transform=\"translate(340)\" xlink:href=\"#111\" xmlns:xlink=\"http://www.w3.org/1999/xlink\"/><use transform=\"translate(360)\" xlink:href=\"#111\" xmlns:xlink=\"http://www.w3.org/1999/xlink\"/><use transform=\"translate(380)\" xlink:href=\"#111\" xmlns:xlink=\"http://www.w3.org/1999/xlink\"/></g></g><g id=\"wavearcs_0\"/><g id=\"wavegaps_0\"><g id=\"wavegap_0_0\" transform=\"translate(0,5)\"/><g id=\"wavegap_1_0\" transform=\"translate(0,35)\"><use transform=\"translate(260)\" xlink:href=\"#gap\" xmlns:xlink=\"http://www.w3.org/1999/xlink\"/></g><g id=\"wavegap_2_0\" transform=\"translate(0,65)\"><use transform=\"translate(140)\" xlink:href=\"#gap\" xmlns:xlink=\"http://www.w3.org/1999/xlink\"/></g><g id=\"wavegap_3_0\" transform=\"translate(0,95)\"/><g id=\"wavegap_4_0\" transform=\"translate(0,125)\"><use transform=\"translate(260)\" xlink:href=\"#gap\" xmlns:xlink=\"http://www.w3.org/1999/xlink\"/></g><g id=\"wavegap_5_0\" transform=\"translate(0,155)\"><use transform=\"translate(260)\" xlink:href=\"#gap\" xmlns:xlink=\"http://www.w3.org/1999/xlink\"/></g><g id=\"wavegap_6_0\" transform=\"translate(0,185)\"><use transform=\"translate(260)\" xlink:href=\"#gap\" xmlns:xlink=\"http://www.w3.org/1999/xlink\"/></g><g id=\"wavegap_7_0\" transform=\"translate(0,215)\"><use transform=\"translate(260)\" xlink:href=\"#gap\" xmlns:xlink=\"http://www.w3.org/1999/xlink\"/></g><g id=\"wavegap_8_0\" transform=\"translate(0,245)\"><use transform=\"translate(260)\" xlink:href=\"#gap\" xmlns:xlink=\"http://www.w3.org/1999/xlink\"/></g><g id=\"wavegap_9_0\" transform=\"translate(0,275)\"><use transform=\"translate(260)\" xlink:href=\"#gap\" xmlns:xlink=\"http://www.w3.org/1999/xlink\"/></g><g id=\"wavegap_10_0\" transform=\"translate(0,305)\"><use transform=\"translate(260)\" xlink:href=\"#gap\" xmlns:xlink=\"http://www.w3.org/1999/xlink\"/></g><g id=\"wavegap_11_0\" transform=\"translate(0,335)\"><use transform=\"translate(260)\" xlink:href=\"#gap\" xmlns:xlink=\"http://www.w3.org/1999/xlink\"/></g></g></g><g id=\"groups_0\"><g/></g></g></svg>"
      ],
      "text/plain": [
       "<IPython.core.display.SVG object>"
      ]
     },
     "metadata": {},
     "output_type": "display_data"
    }
   ],
   "source": [
    "a = {\n",
    "        'signal': [\n",
    "            {'name': 'clk', 'wave': 'lh'*6},\n",
    "            {'name': 'dat', 'wave': 'x.345x|=.x', \n",
    "                            'data': ['head', 'body', 'tail', 'data']},\n",
    "            {'name': 'req', 'wave': 'l.h|..l'},\n",
    "            {},\n",
    "            {'name': 'ack', 'wave': '1.....|01.'},\n",
    "            {'name': 'ack', 'wave': '1.....|01.'},\n",
    "            {'name': 'ack', 'wave': '1.....|01.'},\n",
    "            {'name': 'ack', 'wave': '1.....|01.'},\n",
    "            {'name': 'ack', 'wave': '1.....|01.'},\n",
    "            {'name': 'ack', 'wave': '1.....|01.'},\n",
    "            {'name': 'ack', 'wave': '1.....|01.'},{'name': 'ack', 'wave': '1.....|01.'}\n",
    "        ],\n",
    "    'head': {'text': 'Test Waveform'},\n",
    "    'foot':{'tock':1}}\n",
    "draw_wavedrom(a)"
   ]
  },
  {
   "cell_type": "code",
   "execution_count": null,
   "metadata": {
    "collapsed": true
   },
   "outputs": [],
   "source": [
    "import json\n",
    "data = json.dumps(a)\n",
    "type(data)"
   ]
  },
  {
   "cell_type": "code",
   "execution_count": null,
   "metadata": {
    "collapsed": true
   },
   "outputs": [],
   "source": [
    "round(0.0137/(1/(0.8 * 1e6)))"
   ]
  },
  {
   "cell_type": "code",
   "execution_count": null,
   "metadata": {
    "collapsed": true
   },
   "outputs": [],
   "source": [
    "import numpy as np\n",
    "import re\n",
    "import copy\n",
    "\n",
    "def wave_to_bitstring(wave):\n",
    "    \"\"\"Function to convert a pattern consisting of `l`, `h`, and dot to a\n",
    "    sequence of `0` and `1`.\n",
    "\n",
    "    Parameters\n",
    "    ----------\n",
    "    wave : str\n",
    "        The input string to convert.\n",
    "\n",
    "    Returns\n",
    "    -------\n",
    "    list\n",
    "        A list of elements, each element being 0 or 1.\n",
    "\n",
    "    \"\"\"\n",
    "    substitution_map = {'l': '0', 'h': '1', '0': '0', '1': '1'}\n",
    "    def delete_dots(match):\n",
    "        return substitution_map[match.group()[0]] * len(match.group())\n",
    "\n",
    "    wave_regex = re.compile(r'[l]\\.*|[h]\\.*')\n",
    "    return re.sub(wave_regex, delete_dots, wave)\n",
    "\n",
    "wave_to_bitstring('l........h................01lh00hhlll11h')"
   ]
  },
  {
   "cell_type": "code",
   "execution_count": null,
   "metadata": {
    "collapsed": true
   },
   "outputs": [],
   "source": [
    "import numpy as np\n",
    "import re\n",
    "import copy\n",
    "\n",
    "def bitstring_to_wave(bitstring):\n",
    "    \"\"\"Function to convert a pattern consisting of `0`, `1` into a sequence\n",
    "    of `l`, `h`, and dots.\n",
    "    \n",
    "    For example, if the bit string is \"010011000111\", then the result will be\n",
    "    \"lhl.h.l..h..\".\n",
    "\n",
    "    Returns\n",
    "    -------\n",
    "    str\n",
    "        New wave tokens with valid tokens and dots.\n",
    "    \n",
    "    \"\"\"\n",
    "    substitution_map = {'0': 'l', '1': 'h', '.': '.'}\n",
    "    def insert_dots(match):\n",
    "        return substitution_map[match.group()[0]] + \\\n",
    "               '.' * (len(match.group()) - 1)\n",
    "\n",
    "    bitstr_regex = re.compile(r'[0][0]*|[1][1]*')\n",
    "    return re.sub(bitstr_regex, insert_dots, bitstring)\n",
    "\n",
    "bitstring_to_wave('00000000000000111111111111111111110000000000000000000000000000000000000000011100110101')"
   ]
  },
  {
   "cell_type": "code",
   "execution_count": null,
   "metadata": {
    "collapsed": true
   },
   "outputs": [],
   "source": [
    "import re\n",
    "pat_in = 'h.....l.....h.l..lh'\n",
    "regex0 = re.compile('([ln0]\\.*)')\n",
    "regex1 = re.compile('([hp1]\\.*)')\n",
    "matches0 = re.finditer(regex0, pat_in)\n",
    "matches1 = re.finditer(regex1, pat_in)\n",
    "for i in matches0:\n",
    "    pat_in = pat_in.replace(i.group(),\"0\"*len(i.group()))\n",
    "for i in matches1:\n",
    "    pat_in = pat_in.replace(i.group(),\"1\"*len(i.group()))\n",
    "print(pat_in)\n",
    "\n",
    "print(logic2level(pat_in))"
   ]
  },
  {
   "cell_type": "code",
   "execution_count": null,
   "metadata": {
    "collapsed": true
   },
   "outputs": [],
   "source": [
    "import re\n",
    "def level2logic(pat_in):\n",
    "    \"\"\"Function to convert a pattern consisting of `l`, `h`, and dot to a\n",
    "    sequence of `0` and `1`.\n",
    "\n",
    "    Parameters\n",
    "    ----------\n",
    "    pat_in : str\n",
    "        The input string to convert.\n",
    "\n",
    "    Returns\n",
    "    -------\n",
    "    pat_out : str\n",
    "        The sequence of 0's and 1's converted from the input string.\n",
    "\n",
    "    \"\"\"\n",
    "    regex0 = re.compile('([l0]\\.*)')\n",
    "    regex1 = re.compile('([h1]\\.*)')\n",
    "    pat_out = pat_in\n",
    "    matches0 = re.finditer(regex0, pat_out)\n",
    "    matches1 = re.finditer(regex1, pat_out)\n",
    "    for i in matches0:\n",
    "        pat_out = pat_out.replace(i.group(), \"0\" * len(i.group()))\n",
    "    for i in matches1:\n",
    "        pat_out = pat_out.replace(i.group(), \"1\" * len(i.group()))\n",
    "    return [int(i,10) for i in list(pat_out)]\n",
    "\n",
    "a = [{'name': 'dat', 'pin': 1, 'wave': '10..111...'},\n",
    "     {'name': 'req', 'pin': 2, 'wave': 'l.h..01.01'}]\n",
    "\n",
    "for i in a:\n",
    "    i['wave'] = level2logic(i['wave'])\n",
    "    \n",
    "print(a)"
   ]
  },
  {
   "cell_type": "code",
   "execution_count": null,
   "metadata": {
    "collapsed": true
   },
   "outputs": [],
   "source": [
    "a = np.array([[1, 0, 0, 0, 1, 1, 1, 1, 1, 1],\n",
    "     [0, 0, 1, 1, 1, 0, 1, 1, 0, 1]],dtype=np.uint8)\n",
    "b = a.T.copy()\n",
    "print(b)"
   ]
  },
  {
   "cell_type": "code",
   "execution_count": null,
   "metadata": {
    "collapsed": true
   },
   "outputs": [],
   "source": [
    "def bit2sample(bits):\n",
    "    \"\"\"Function to convert a bit list into a multi-bit sample.\n",
    "    \n",
    "    Example: [1, 1, 1, 0] will be converted to 15.\n",
    "    \n",
    "    Parameters\n",
    "    ----------\n",
    "    bits : list\n",
    "        A list of bits, each element being 0 or 1.\n",
    "    \n",
    "    Returns\n",
    "    -------\n",
    "    int\n",
    "        An integer converted from the bit samples.\n",
    "        \n",
    "    \"\"\"\n",
    "    return int(\"\".join(map(str, list(bits))), 2)\n",
    "\n",
    "print(bit2sample([1,1,1,0]))"
   ]
  },
  {
   "cell_type": "code",
   "execution_count": null,
   "metadata": {
    "collapsed": true
   },
   "outputs": [],
   "source": [
    "temp_samples = np.array([[1, 0, 0, 0, 1, 1, 1, 1, 1, 1],\n",
    "     [0, 0, 1, 1, 1, 0, 1, 1, 0, 1]],dtype=np.uint8)\n",
    "samples = np.apply_along_axis(bit2sample, 1, temp_samples)\n",
    "print(type(samples))"
   ]
  },
  {
   "cell_type": "code",
   "execution_count": null,
   "metadata": {
    "collapsed": true
   },
   "outputs": [],
   "source": [
    "x = np.array([1,3, 9])\n",
    "print(x)\n",
    "print(\"length is {}\".format(len(np.unpackbits(x.view(np.uint8)))))\n",
    "print(np.unpackbits(x.view(np.uint8)))"
   ]
  },
  {
   "cell_type": "code",
   "execution_count": null,
   "metadata": {
    "collapsed": true
   },
   "outputs": [],
   "source": [
    "x = np.array([1256,2048],dtype=np.uint8)\n",
    "reversed_x = x[::-1]\n",
    "print(reversed_x)\n",
    "print(np.unpackbits(reversed_x))"
   ]
  },
  {
   "cell_type": "code",
   "execution_count": null,
   "metadata": {
    "collapsed": true
   },
   "outputs": [],
   "source": [
    "data = b'\\xAD\\xDE\\xDE\\xC0'\n",
    "swap_data = bytearray(data)\n",
    "swap_data.reverse()\n",
    "print(swap_data)"
   ]
  },
  {
   "cell_type": "code",
   "execution_count": null,
   "metadata": {
    "collapsed": true
   },
   "outputs": [],
   "source": [
    "x = np.array([[100,101,102,103,104,105]],dtype='>i4')\n",
    "data = x.tobytes()\n",
    "y = bytearray(data)\n",
    "print(\"Byte array: {}\".format(y))\n",
    "rev = np.frombuffer(y,dtype=np.uint8)\n",
    "bit_array = np.unpackbits(rev)\n",
    "final = bit_array.reshape(6,32).T\n",
    "final[::-1]"
   ]
  },
  {
   "cell_type": "code",
   "execution_count": null,
   "metadata": {
    "collapsed": true
   },
   "outputs": [],
   "source": [
    "x = np.array([[100,101,102,103,104,105]],dtype='uint64')\n",
    "y = np.zeros((1,6),dtype='>i8')\n",
    "np.copyto(y,x)\n",
    "rev = np.frombuffer(y,dtype=np.uint8)\n",
    "bit_array = np.unpackbits(rev)\n",
    "final = bit_array.reshape(6,64).T\n",
    "final[::-1]"
   ]
  },
  {
   "cell_type": "code",
   "execution_count": null,
   "metadata": {
    "collapsed": true
   },
   "outputs": [],
   "source": [
    "x=np.arange(12).reshape(3,4).copy()\n",
    "print(f'no transpose: {x} {x.flags}')\n",
    "y = x.T.copy()\n",
    "print(f'after transpose: {y} {y.flags}')"
   ]
  },
  {
   "cell_type": "code",
   "execution_count": null,
   "metadata": {
    "collapsed": true
   },
   "outputs": [],
   "source": [
    "temp_lanes = np.zeros((5,10),dtype=np.uint8)\n",
    "temp_lanes[1] = [1]*10\n",
    "print(temp_lanes)\n",
    "print(f'{temp_lanes.flags}')"
   ]
  },
  {
   "cell_type": "code",
   "execution_count": null,
   "metadata": {
    "collapsed": true
   },
   "outputs": [],
   "source": [
    "a = int('11',2)\n",
    "b = np.uint32(a)\n",
    "print(b,type(b))"
   ]
  },
  {
   "cell_type": "code",
   "execution_count": null,
   "metadata": {
    "collapsed": true
   },
   "outputs": [],
   "source": [
    "dst_samples = np.zeros((2,1), dtype=np.uint64)\n",
    "dst_samples.flags"
   ]
  },
  {
   "cell_type": "code",
   "execution_count": null,
   "metadata": {
    "collapsed": true
   },
   "outputs": [],
   "source": [
    "a = np.zeros((5,1),dtype=np.uint64)\n",
    "j = 1\n",
    "for j in range(5):\n",
    "    a[j] = j\n",
    "    j+=1\n",
    "print(a, len(a))\n",
    "\n",
    "temp_samples = np.zeros((5,1),dtype='>i8')\n",
    "np.copyto(temp_samples, a)\n",
    "rev = np.frombuffer(temp_samples,dtype=np.uint8)\n",
    "bit_array = np.unpackbits(rev)\n",
    "final = bit_array.reshape(5,64).T[::-1].copy()\n",
    "print(final)\n",
    "for i in range(10):\n",
    "    xx = final[i].astype(str).tolist()\n",
    "    sample = ''.join(xx)\n",
    "    print(f'Lane{i} is {sample}')"
   ]
  },
  {
   "cell_type": "code",
   "execution_count": null,
   "metadata": {
    "collapsed": true
   },
   "outputs": [],
   "source": [
    "import numpy as np\n",
    "import ctypes\n",
    "a = np.ones(5000,dtype=np.uint32)\n",
    "print(a)\n",
    "pointer1, ro_flag = a.__array_interface__['data']\n",
    "print(f'Using interface: {pointer1}, {ro_flag}')\n",
    "pointer2 = a.ctypes.data\n",
    "print(f'using ctypes: {pointer2}')"
   ]
  },
  {
   "cell_type": "code",
   "execution_count": null,
   "metadata": {
    "collapsed": true,
    "scrolled": true
   },
   "outputs": [],
   "source": [
    "import cffi\n",
    "ffi = cffi.FFI()\n",
    "b = ffi.cast('uint32_t*',pointer2)\n",
    "b[4999]=99\n",
    "print(a)\n",
    "print(a.flags)"
   ]
  },
  {
   "cell_type": "code",
   "execution_count": null,
   "metadata": {
    "collapsed": true
   },
   "outputs": [],
   "source": [
    "import re\n",
    "m = re.match('h','hello')\n",
    "print(type(m))\n",
    "if m:\n",
    "    print(m.group())"
   ]
  },
  {
   "cell_type": "code",
   "execution_count": null,
   "metadata": {
    "collapsed": true
   },
   "outputs": [],
   "source": [
    "a = {1:1, 2:2}\n",
    "b = a.copy()\n",
    "b[1]=99\n",
    "print(a,b)"
   ]
  },
  {
   "cell_type": "markdown",
   "metadata": {
    "collapsed": true
   },
   "source": [
    "### Examples using Graphviz\n",
    "\n",
    "References: http://pygraphviz.github.io/documentation/latest/pygraphviz.pdf"
   ]
  },
  {
   "cell_type": "code",
   "execution_count": null,
   "metadata": {
    "collapsed": true
   },
   "outputs": [],
   "source": [
    "%%writefile test.dot\n",
    "digraph {\n",
    "    graph [splines=true overlap=false]\n",
    "    ratio=auto\n",
    "    START\n",
    "    offline\n",
    "    scanning\n",
    "    \"joining&#8260;000\"\n",
    "    online [peripheries=2]\n",
    "    START -> offline\n",
    "    offline -> scanning [label=\"scan&#8260;scan2\"]\n",
    "    offline -> offline [label=\"failed scan\"]\n",
    "    scanning -> \"joining&#8260;000\" [label=\"detected\"]\n",
    "    scanning -> offline [label=\"failed join\"]\n",
    "    \"joining&#8260;000\" -> online [label=\"handshake\"]\n",
    "    \"joining&#8260;000\" -> offline [label=\"failed handshake\"]\n",
    "    online -> offline [label=\"timeout\"]\n",
    "}"
   ]
  },
  {
   "cell_type": "code",
   "execution_count": null,
   "metadata": {
    "collapsed": true
   },
   "outputs": [],
   "source": [
    "import os\n",
    "import pygraphviz as pgv\n",
    "from IPython.display import Image, display\n",
    "B=pgv.AGraph('test.dot')\n",
    "B.layout(prog='dot')\n",
    "B.draw('test.png')\n",
    "display(Image(filename='test.png'))\n",
    "os.system(\"rm -rf test.png test.dot\")"
   ]
  },
  {
   "cell_type": "code",
   "execution_count": null,
   "metadata": {
    "collapsed": true
   },
   "outputs": [],
   "source": [
    "a = (0,1,2,3)\n",
    "print(a[0],a[3])"
   ]
  },
  {
   "cell_type": "code",
   "execution_count": null,
   "metadata": {
    "collapsed": true
   },
   "outputs": [],
   "source": [
    "OUTPUT_PIN_MAP = {'D0':0,\n",
    "                 'D1':1,\n",
    "                 'D2':2,\n",
    "                 'D3':3,\n",
    "                 'D4':4,\n",
    "                 'D5':5,\n",
    "                 'D6':6,\n",
    "                 'D7':7,\n",
    "                 'D8':8,\n",
    "                 'D9':9,\n",
    "                 'D10':10,\n",
    "                 'D11':11,\n",
    "                 'D12':12,\n",
    "                 'D13':13,\n",
    "                 'D14':14,\n",
    "                 'D15':15,\n",
    "                 'D16':16,\n",
    "                 'D17':17,\n",
    "                 'D18':18,\n",
    "                 'D19':19}\n",
    "\n",
    "fsm_spec = {'inputs': [('reset','D0'), ('direction','D1')],\n",
    "    'outputs': [('alpha','D3'), ('beta','D4'), ('gamma','D5')],\n",
    "    'states': ('S0', 'S1', 'S2', 'S3', 'S4', 'S5'),\n",
    "    'transitions': [['00', 'S0', 'S1', '000'],\n",
    "                    ['01', 'S0', 'S5', '000'],\n",
    "                    ['00', 'S1', 'S2', '001'],\n",
    "                    ['01', 'S1', 'S0', '001'],\n",
    "                    ['00', 'S2', 'S3', '010'],\n",
    "                    ['01', 'S2', 'S1', '010'],\n",
    "                    ['00', 'S3', 'S4', '011'],\n",
    "                    ['01', 'S3', 'S2', '011'],\n",
    "                    ['00', 'S4', 'S5', '100'],\n",
    "                    ['01', 'S4', 'S3', '100'],\n",
    "                    ['00', 'S5', 'S0', '101'],\n",
    "                    ['01', 'S5', 'S4', '101'],\n",
    "                    ['1-', '*',  'S0', '']]}"
   ]
  },
  {
   "cell_type": "code",
   "execution_count": null,
   "metadata": {
    "collapsed": true
   },
   "outputs": [],
   "source": [
    "def check_pins(fsm_spec, key):\n",
    "    \"\"\"Check whether the pins specified are in a valid range.\n",
    "\n",
    "    This method will raise an exception if `pin` is out of range.\n",
    "\n",
    "    Parameters\n",
    "    ----------\n",
    "    fsm_spec : dict\n",
    "        The dictionary where the check to be made.\n",
    "    key : object\n",
    "        The key to index the dictionary.\n",
    "\n",
    "    \"\"\"\n",
    "    for i in fsm_spec[key]:\n",
    "        if i[1] not in OUTPUT_PIN_MAP:\n",
    "            raise ValueError(\"Valid pins should be D0 - D19.\")\n",
    "                \n",
    "check_pins(fsm_spec,'outputs')"
   ]
  },
  {
   "cell_type": "code",
   "execution_count": null,
   "metadata": {
    "collapsed": true
   },
   "outputs": [],
   "source": [
    "import numpy as np\n",
    "tri = np.array([0,1,1,0])\n",
    "arr0 = np.array([1,3,5,7])\n",
    "arr1 = np.array([2,4,6,8])\n",
    "condlist = [tri==0, tri==1]\n",
    "choicelist = [arr0, arr1]\n",
    "np.select(condlist, choicelist)"
   ]
  },
  {
   "cell_type": "code",
   "execution_count": null,
   "metadata": {
    "collapsed": true
   },
   "outputs": [],
   "source": [
    "a = [1,2,3]\n",
    "b= [3,4]\n",
    "a += b\n",
    "print(a)"
   ]
  },
  {
   "cell_type": "code",
   "execution_count": null,
   "metadata": {
    "collapsed": true
   },
   "outputs": [],
   "source": [
    "a = [1,2,3]\n",
    "b = [4,5,6,7]\n",
    "\n",
    "def merge_to_length(a,b,length):\n",
    "    temp = b[:]\n",
    "    for index,item in enumerate(a):\n",
    "        if len(temp)<length:\n",
    "            temp.insert(index,item)\n",
    "        else:\n",
    "            break\n",
    "    return temp\n",
    "    \n",
    "\n",
    "print(merge_to_length(a,b,9))"
   ]
  },
  {
   "cell_type": "code",
   "execution_count": null,
   "metadata": {
    "collapsed": true
   },
   "outputs": [],
   "source": [
    "a = '011'\n",
    "b = '000'\n",
    "print(''.join(merge_to_length(list(a),list(b),5)))"
   ]
  },
  {
   "cell_type": "code",
   "execution_count": null,
   "metadata": {
    "collapsed": true
   },
   "outputs": [],
   "source": [
    "a = (1,0)\n",
    "b = (2,a[1])\n",
    "print(b)"
   ]
  },
  {
   "cell_type": "code",
   "execution_count": null,
   "metadata": {
    "collapsed": true
   },
   "outputs": [],
   "source": [
    "import re\n",
    "expr_in = \"D5 & ~(D6 | ~D7)\"\n",
    "pin_id = re.split(\"\\||\\^|\\&\", expr_in.strip())\n",
    "print(pin_id)"
   ]
  },
  {
   "cell_type": "code",
   "execution_count": null,
   "metadata": {
    "collapsed": true
   },
   "outputs": [],
   "source": [
    "expr_in = \"D5 & ~(D6 | ~D7)\"\n",
    "pin_id = re.sub(\"\\W+\", \" \", expr_in).strip().split(' ')\n",
    "print(pin_id)"
   ]
  },
  {
   "cell_type": "code",
   "execution_count": null,
   "metadata": {
    "collapsed": true
   },
   "outputs": [],
   "source": [
    "import difflib\n",
    "\n",
    "d = difflib.Differ()\n",
    "diff = d.compare(string1, string2)\n",
    "print(list(diff))"
   ]
  },
  {
   "cell_type": "code",
   "execution_count": null,
   "metadata": {
    "collapsed": true
   },
   "outputs": [],
   "source": [
    "dif = [i for i in range(len(string1)) if string1[i]!=string2[i]]\n",
    "if len(dif)==1:\n",
    "    res_list = list(string1)\n",
    "    res_list[dif[0]]='-'\n",
    "    result = ''.join(res_list)\n",
    "print(result)"
   ]
  },
  {
   "cell_type": "code",
   "execution_count": null,
   "metadata": {
    "collapsed": true
   },
   "outputs": [],
   "source": [
    "import itertools\n",
    "\n",
    "def merge_to_wildcards(str_list):\n",
    "    \"\"\"Merge all the strings inside a list into wildcard representation.\n",
    "\n",
    "    This method will check every pair inside the string list, and merge the\n",
    "    strings based on wildcard representation. For example, the list \n",
    "    ['100101', '000101', '000111', '100111'] will be merged to ['-001-1'];\n",
    "    the list ['10','00','01'] will be merged to ['1-', '0-'].\n",
    "\n",
    "    Parameters\n",
    "    ----------\n",
    "    str_list : list\n",
    "        A list of strings, where all the elements have the same length.\n",
    "\n",
    "    Returns\n",
    "    -------\n",
    "    list\n",
    "        A merged list, where strings are expressed in wildcard format.\n",
    "\n",
    "    \"\"\"\n",
    "    output_list = str_list[:]\n",
    "    new_pattern = True\n",
    "    while new_pattern:\n",
    "        new_pattern = False\n",
    "        input_list = output_list[:]\n",
    "        output_list = []\n",
    "        for string1, string2 in itertools.combinations(input_list, 2):\n",
    "            dif = [i for i in range(len(string1)) if string1[i] != string2[i]]\n",
    "            if len(dif) == 1:\n",
    "                temp_list = list(string1)\n",
    "                temp_list[dif[0]] = '-'\n",
    "                output_list.append(''.join(temp_list))\n",
    "                new_pattern = True\n",
    "\n",
    "    return list(set(input_list))"
   ]
  },
  {
   "cell_type": "code",
   "execution_count": null,
   "metadata": {
    "collapsed": true
   },
   "outputs": [],
   "source": [
    "my_list = ['100101',\n",
    "        '000101',\n",
    "        '000111',\n",
    "        '100111']\n",
    "print(merge_to_wildcards(my_list))"
   ]
  },
  {
   "cell_type": "code",
   "execution_count": null,
   "metadata": {
    "collapsed": true
   },
   "outputs": [],
   "source": [
    "my_list = ['01','00','10']\n",
    "print(merge_to_wildcards(my_list))"
   ]
  },
  {
   "cell_type": "code",
   "execution_count": null,
   "metadata": {
    "collapsed": true
   },
   "outputs": [],
   "source": [
    "from time import time\n",
    "\n",
    "x = list()\n",
    "y = list()\n",
    "z = list()\n",
    "\n",
    "t1 = time()\n",
    "for i in range(1,101):\n",
    "    x.append(int('1'*i,2))\n",
    "t2 = time()\n",
    "print(f'Time used for type 1: {t2-t1}')\n",
    "\n",
    "t1 = time()\n",
    "for i in range(1,101):\n",
    "    y.append(2**i-1)\n",
    "t2 = time()\n",
    "print(f'Time used for type 2: {t2-t1}')\n",
    "\n",
    "t1 = time()\n",
    "for i in range(1,101):\n",
    "    z.append((1<<i)-1)\n",
    "t2 = time()\n",
    "print(f'Time used for type 3: {t2-t1}')\n",
    "\n",
    "for i,_ in enumerate(x):\n",
    "    assert x[i]==y[i]==z[i]"
   ]
  },
  {
   "cell_type": "code",
   "execution_count": null,
   "metadata": {
    "collapsed": true
   },
   "outputs": [],
   "source": [
    "from time import time\n",
    "import numpy as np\n",
    "\n",
    "a = list()\n",
    "b = [0]*10000\n",
    "c = dict()\n",
    "d = np.zeros(10000,dtype=np.uint32)\n",
    "\n",
    "t1 = time()\n",
    "for i in range(10000):\n",
    "    a.append(i)\n",
    "t2 = time()\n",
    "for i in range(10000):\n",
    "    b[i] = i\n",
    "t3 = time()\n",
    "for i in range(10000):\n",
    "    c[i] = i\n",
    "t4 = time()\n",
    "for i in range(10000):\n",
    "    d[i] = i\n",
    "t5 = time()\n",
    "\n",
    "for i in range(10000):\n",
    "    assert a[i]==b[i]==c[i]==d[i]==i\n",
    "\n",
    "print(f'Time used for empty list: {t2-t1}')\n",
    "print(f'Time used for zero list:  {t3-t2}')\n",
    "print(f'Time used for dictionary: {t4-t3}')\n",
    "print(f'Time used for numpy array:{t5-t4}')"
   ]
  },
  {
   "cell_type": "code",
   "execution_count": null,
   "metadata": {
    "collapsed": true
   },
   "outputs": [],
   "source": [
    "a = {1:1, 2:3, 3:5}\n",
    "for i,j in a.items():\n",
    "    print(i,j)"
   ]
  },
  {
   "cell_type": "code",
   "execution_count": null,
   "metadata": {
    "collapsed": true
   },
   "outputs": [],
   "source": [
    "class person:\n",
    "    def __init__(self, age, gender):\n",
    "        self.age = age\n",
    "        self.gender = gender\n",
    "    def __repr__(self):\n",
    "        L = [self.age, self.gender]\n",
    "        s = \", \".join(map(str, L))\n",
    "        s = f'pynq.{self.__class__.__name__}({s})'\n",
    "        return s\n",
    "    #def __str__(self):\n",
    "    #    return f'A {self.age}-year old person.'"
   ]
  },
  {
   "cell_type": "code",
   "execution_count": null,
   "metadata": {
    "collapsed": true
   },
   "outputs": [],
   "source": [
    "a = person(72,'male')\n",
    "str(a)"
   ]
  },
  {
   "cell_type": "code",
   "execution_count": null,
   "metadata": {
    "collapsed": true
   },
   "outputs": [],
   "source": [
    "a = 0x29\n",
    "b = format(a, '0{}b'.format(7))"
   ]
  },
  {
   "cell_type": "code",
   "execution_count": null,
   "metadata": {
    "collapsed": true
   },
   "outputs": [],
   "source": [
    "list(b)"
   ]
  },
  {
   "cell_type": "code",
   "execution_count": null,
   "metadata": {
    "collapsed": true
   },
   "outputs": [],
   "source": [
    "waveform_dict = {'signal': [\n",
    "            ['stimulus',\n",
    "             {'name': 'SCL', 'pin': 'SCL', 'wave': ''},\n",
    "             {'name': 'SDA0', 'pin': 'D0', 'wave': ''},\n",
    "             {'name': 'SDA1', 'pin': 'D2', 'wave': ''}],\n",
    "            ['analysis',\n",
    "             {'name': 'SCL', 'pin': 'SCL'}]],\n",
    "            'foot': {'tock': 1},\n",
    "            'head': {'text': 'IIC Pattern'}}"
   ]
  },
  {
   "cell_type": "code",
   "execution_count": null,
   "metadata": {
    "collapsed": true
   },
   "outputs": [],
   "source": [
    "def append_stimulus(scl_pattern, sda_pattern):\n",
    "    \"\"\"This method append the pattern to the waveform dictionary.\n",
    "\n",
    "    The desired SCL and SDA patterns will be append to the stimulus\n",
    "    wavelane group.\n",
    "\n",
    "    Parameters\n",
    "    ----------\n",
    "    scl_pattern : str\n",
    "        A string sequence of SCL pattern in wavedrom representation.\n",
    "    sda_pattern : str\n",
    "         A string sequence of SDA pattern in wavedrom representation.\n",
    "\n",
    "    \"\"\"\n",
    "    for index, wavelane_group in enumerate(waveform_dict['signal']):\n",
    "        if wavelane_group and wavelane_group[0] == 'stimulus':\n",
    "            for wavelane in wavelane_group[1:]:\n",
    "                if 'SDA' in wavelane['name']:\n",
    "                    wavelane['wave'] += sda_pattern\n",
    "                elif 'SCL' in wavelane['name']:\n",
    "                    wavelane['wave'] += scl_pattern\n",
    "        waveform_dict['signal'][index] = wavelane_group"
   ]
  },
  {
   "cell_type": "code",
   "execution_count": null,
   "metadata": {
    "collapsed": true
   },
   "outputs": [],
   "source": [
    "append_stimulus('lll', 'hhh')\n",
    "print(waveform_dict)"
   ]
  },
  {
   "cell_type": "code",
   "execution_count": null,
   "metadata": {
    "collapsed": true
   },
   "outputs": [],
   "source": [
    "from IPython.display import SVG, display\n",
    "def show_svg():\n",
    "    display(SVG(url='http://upload.wikimedia.org/wikipedia/en/a/a4/Flag_of_the_United_States.svg'))"
   ]
  },
  {
   "cell_type": "code",
   "execution_count": null,
   "metadata": {
    "collapsed": true
   },
   "outputs": [],
   "source": [
    "show_svg()"
   ]
  },
  {
   "cell_type": "code",
   "execution_count": null,
   "metadata": {
    "collapsed": true
   },
   "outputs": [],
   "source": []
  }
 ],
 "metadata": {
  "kernelspec": {
   "display_name": "Python 3",
   "language": "python",
   "name": "python3"
  },
  "language_info": {
   "codemirror_mode": {
    "name": "ipython",
    "version": 3
   },
   "file_extension": ".py",
   "mimetype": "text/x-python",
   "name": "python",
   "nbconvert_exporter": "python",
   "pygments_lexer": "ipython3",
   "version": "3.6.0"
  }
 },
 "nbformat": 4,
 "nbformat_minor": 2
}
