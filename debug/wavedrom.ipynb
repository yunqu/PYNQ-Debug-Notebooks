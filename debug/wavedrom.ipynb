{
 "cells": [
  {
   "cell_type": "code",
   "execution_count": null,
   "metadata": {
    "collapsed": true
   },
   "outputs": [],
   "source": [
    "import re\n",
    "import os\n",
    "import json\n",
    "import IPython.core.display\n",
    "\n",
    "PYNQ_JUPYTER_NOTEBOOKS = '/home/xilinx/jupyter_notebooks'\n",
    "\n",
    "def draw_wavedrom(data):\n",
    "    \"\"\"Display the waveform using the Wavedrom package.\n",
    "\n",
    "    This method requires 2 javascript files to be present. We get the \n",
    "    relative paths for the 2 files in order to proceed.\n",
    "\n",
    "    Users can call this method directly to draw any wavedrom data.\n",
    "\n",
    "    Example usage:\n",
    "\n",
    "    >>> a = {\n",
    "        'signal': [\n",
    "            {'name': 'clk', 'wave': 'p.....|...'},\n",
    "            {'name': 'dat', 'wave': 'x.345x|=.x', \n",
    "                            'data': ['head', 'body', 'tail', 'data']},\n",
    "            {'name': 'req', 'wave': '0.1..0|1.0'},\n",
    "            {},\n",
    "            {'name': 'ack', 'wave': '1.....|01.'}\n",
    "        ]}\n",
    "    >>> draw_wavedrom(a)\n",
    "\n",
    "    \"\"\"\n",
    "    wavedrom_js = '/js/wavedrom.js'\n",
    "    wavedromskin_js = '/js/wavedromskin.js'\n",
    "    if not os.path.isfile(PYNQ_JUPYTER_NOTEBOOKS + wavedrom_js):\n",
    "        raise RuntimeError('Cannot locate {}.'.format(wavedrom_js))\n",
    "    if not os.path.isfile(PYNQ_JUPYTER_NOTEBOOKS + wavedromskin_js):\n",
    "        raise RuntimeError('Cannot locate {}.'.format(wavedromskin_js))\n",
    "    current_path = os.getcwd()\n",
    "    relative_path = os.path.relpath(PYNQ_JUPYTER_NOTEBOOKS, current_path)\n",
    "\n",
    "    htmldata = '<script type=\"WaveDrom\">' + json.dumps(data) + '</script>'\n",
    "    IPython.core.display.display_html(IPython.core.display.HTML(htmldata))\n",
    "    jsdata = 'WaveDrom.ProcessAll();'\n",
    "    IPython.core.display.display_javascript(\n",
    "        IPython.core.display.Javascript(\n",
    "            data=jsdata,\n",
    "            lib=[relative_path + '/js/wavedrom.js',\n",
    "                 relative_path + '/js/wavedromskin.js']))"
   ]
  },
  {
   "cell_type": "code",
   "execution_count": 1,
   "metadata": {
    "collapsed": true
   },
   "outputs": [],
   "source": [
    "from pynq.lib.logictools.waveform import draw_wavedrom"
   ]
  },
  {
   "cell_type": "code",
   "execution_count": 2,
   "metadata": {},
   "outputs": [
    {
     "data": {
      "image/svg+xml": [
       "<svg height=\"426\" id=\"svgcontent_0\" overflow=\"hidden\" viewBox=\"0 0 10320 426\" width=\"10320\" xmlns=\"http://www.w3.org/2000/svg\" xmlns:xlink=\"http://www.w3.org/1999/xlink\"><style type=\"text/css\">text{font-size:11pt;font-style:normal;font-variant:normal;font-weight:normal;font-stretch:normal;text-align:center;fill-opacity:1;font-family:Helvetica}.muted{fill:#aaa}.warning{fill:#f6b900}.error{fill:#f60000}.info{fill:#0041c4}.success{fill:#00ab00}.h1{font-size:33pt;font-weight:bold}.h2{font-size:27pt;font-weight:bold}.h3{font-size:20pt;font-weight:bold}.h4{font-size:14pt;font-weight:bold}.h5{font-size:11pt;font-weight:bold}.h6{font-size:8pt;font-weight:bold}.s1{fill:none;stroke:#000;stroke-width:1;stroke-linecap:round;stroke-linejoin:miter;stroke-miterlimit:4;stroke-opacity:1;stroke-dasharray:none}.s2{fill:none;stroke:#000;stroke-width:0.5;stroke-linecap:round;stroke-linejoin:miter;stroke-miterlimit:4;stroke-opacity:1;stroke-dasharray:none}.s3{color:#000;fill:none;stroke:#000;stroke-width:1;stroke-linecap:round;stroke-linejoin:miter;stroke-miterlimit:4;stroke-opacity:1;stroke-dasharray:1, 3;stroke-dashoffset:0;marker:none;visibility:visible;display:inline;overflow:visible;enable-background:accumulate}.s4{color:#000;fill:none;stroke:#000;stroke-width:1;stroke-linecap:round;stroke-linejoin:miter;stroke-miterlimit:4;stroke-opacity:1;stroke-dasharray:none;stroke-dashoffset:0;marker:none;visibility:visible;display:inline;overflow:visible}.s5{fill:#fff;stroke:none}.s6{color:#000;fill:#ffffb4;fill-opacity:1;fill-rule:nonzero;stroke:none;stroke-width:1px;marker:none;visibility:visible;display:inline;overflow:visible;enable-background:accumulate}.s7{color:#000;fill:#ffe0b9;fill-opacity:1;fill-rule:nonzero;stroke:none;stroke-width:1px;marker:none;visibility:visible;display:inline;overflow:visible;enable-background:accumulate}.s8{color:#000;fill:#b9e0ff;fill-opacity:1;fill-rule:nonzero;stroke:none;stroke-width:1px;marker:none;visibility:visible;display:inline;overflow:visible;enable-background:accumulate}.s9{fill:#000;fill-opacity:1;stroke:none}.s10{color:#000;fill:#fff;fill-opacity:1;fill-rule:nonzero;stroke:none;stroke-width:1px;marker:none;visibility:visible;display:inline;overflow:visible;enable-background:accumulate}.s11{fill:#0041c4;fill-opacity:1;stroke:none}.s12{fill:none;stroke:#0041c4;stroke-width:1;stroke-linecap:round;stroke-linejoin:miter;stroke-miterlimit:4;stroke-opacity:1;stroke-dasharray:none}</style><defs><g id=\"socket\"><rect height=\"20\" width=\"20\" x=\"6\" y=\"15\"/></g><g id=\"pclk\"><path class=\"s1\" d=\"M0,20 0,0 20,0\"/></g><g id=\"nclk\"><path class=\"s1\" d=\"m0,0 0,20 20,0\"/></g><g id=\"000\"><path class=\"s1\" d=\"m0,20 20,0\"/></g><g id=\"0m0\"><path class=\"s1\" d=\"m0,20 3,0 3,-10 3,10 11,0\"/></g><g id=\"0m1\"><path class=\"s1\" d=\"M0,20 3,20 9,0 20,0\"/></g><g id=\"0mx\"><path class=\"s1\" d=\"M3,20 9,0 20,0\"/><path class=\"s2\" d=\"m20,15 -5,5\"/><path class=\"s2\" d=\"M20,10 10,20\"/><path class=\"s2\" d=\"M20,5 5,20\"/><path class=\"s2\" d=\"M20,0 4,16\"/><path class=\"s2\" d=\"M15,0 6,9\"/><path class=\"s2\" d=\"M10,0 9,1\"/><path class=\"s1\" d=\"m0,20 20,0\"/></g><g id=\"0md\"><path class=\"s3\" d=\"m8,20 10,0\"/><path class=\"s1\" d=\"m0,20 5,0\"/></g><g id=\"0mu\"><path class=\"s1\" d=\"m0,20 3,0 C 7,10 10.107603,0 20,0\"/></g><g id=\"0mz\"><path class=\"s1\" d=\"m0,20 3,0 C 10,10 15,10 20,10\"/></g><g id=\"111\"><path class=\"s1\" d=\"M0,0 20,0\"/></g><g id=\"1m0\"><path class=\"s1\" d=\"m0,0 3,0 6,20 11,0\"/></g><g id=\"1m1\"><path class=\"s1\" d=\"M0,0 3,0 6,10 9,0 20,0\"/></g><g id=\"1mx\"><path class=\"s1\" d=\"m3,0 6,20 11,0\"/><path class=\"s1\" d=\"M0,0 20,0\"/><path class=\"s2\" d=\"m20,15 -5,5\"/><path class=\"s2\" d=\"M20,10 10,20\"/><path class=\"s2\" d=\"M20,5 8,17\"/><path class=\"s2\" d=\"M20,0 7,13\"/><path class=\"s2\" d=\"M15,0 6,9\"/><path class=\"s2\" d=\"M10,0 5,5\"/><path class=\"s2\" d=\"M3.5,1.5 5,0\"/></g><g id=\"1md\"><path class=\"s1\" d=\"m0,0 3,0 c 4,10 7,20 17,20\"/></g><g id=\"1mu\"><path class=\"s1\" d=\"M0,0 5,0\"/><path class=\"s3\" d=\"M8,0 18,0\"/></g><g id=\"1mz\"><path class=\"s1\" d=\"m0,0 3,0 c 7,10 12,10 17,10\"/></g><g id=\"xxx\"><path class=\"s1\" d=\"m0,20 20,0\"/><path class=\"s1\" d=\"M0,0 20,0\"/><path class=\"s2\" d=\"M0,5 5,0\"/><path class=\"s2\" d=\"M0,10 10,0\"/><path class=\"s2\" d=\"M0,15 15,0\"/><path class=\"s2\" d=\"M0,20 20,0\"/><path class=\"s2\" d=\"M5,20 20,5\"/><path class=\"s2\" d=\"M10,20 20,10\"/><path class=\"s2\" d=\"m15,20 5,-5\"/></g><g id=\"xm0\"><path class=\"s1\" d=\"M0,0 4,0 9,20\"/><path class=\"s1\" d=\"m0,20 20,0\"/><path class=\"s2\" d=\"M0,5 4,1\"/><path class=\"s2\" d=\"M0,10 5,5\"/><path class=\"s2\" d=\"M0,15 6,9\"/><path class=\"s2\" d=\"M0,20 7,13\"/><path class=\"s2\" d=\"M5,20 8,17\"/></g><g id=\"xm1\"><path class=\"s1\" d=\"M0,0 20,0\"/><path class=\"s1\" d=\"M0,20 4,20 9,0\"/><path class=\"s2\" d=\"M0,5 5,0\"/><path class=\"s2\" d=\"M0,10 9,1\"/><path class=\"s2\" d=\"M0,15 7,8\"/><path class=\"s2\" d=\"M0,20 5,15\"/></g><g id=\"xmx\"><path class=\"s1\" d=\"m0,20 20,0\"/><path class=\"s1\" d=\"M0,0 20,0\"/><path class=\"s2\" d=\"M0,5 5,0\"/><path class=\"s2\" d=\"M0,10 10,0\"/><path class=\"s2\" d=\"M0,15 15,0\"/><path class=\"s2\" d=\"M0,20 20,0\"/><path class=\"s2\" d=\"M5,20 20,5\"/><path class=\"s2\" d=\"M10,20 20,10\"/><path class=\"s2\" d=\"m15,20 5,-5\"/></g><g id=\"xmd\"><path class=\"s1\" d=\"m0,0 4,0 c 3,10 6,20 16,20\"/><path class=\"s1\" d=\"m0,20 20,0\"/><path class=\"s2\" d=\"M0,5 4,1\"/><path class=\"s2\" d=\"M0,10 5.5,4.5\"/><path class=\"s2\" d=\"M0,15 6.5,8.5\"/><path class=\"s2\" d=\"M0,20 8,12\"/><path class=\"s2\" d=\"m5,20 5,-5\"/><path class=\"s2\" d=\"m10,20 2.5,-2.5\"/></g><g id=\"xmu\"><path class=\"s1\" d=\"M0,0 20,0\"/><path class=\"s1\" d=\"m0,20 4,0 C 7,10 10,0 20,0\"/><path class=\"s2\" d=\"M0,5 5,0\"/><path class=\"s2\" d=\"M0,10 10,0\"/><path class=\"s2\" d=\"M0,15 10,5\"/><path class=\"s2\" d=\"M0,20 6,14\"/></g><g id=\"xmz\"><path class=\"s1\" d=\"m0,0 4,0 c 6,10 11,10 16,10\"/><path class=\"s1\" d=\"m0,20 4,0 C 10,10 15,10 20,10\"/><path class=\"s2\" d=\"M0,5 4.5,0.5\"/><path class=\"s2\" d=\"M0,10 6.5,3.5\"/><path class=\"s2\" d=\"M0,15 8.5,6.5\"/><path class=\"s2\" d=\"M0,20 11.5,8.5\"/></g><g id=\"ddd\"><path class=\"s3\" d=\"m0,20 20,0\"/></g><g id=\"dm0\"><path class=\"s3\" d=\"m0,20 10,0\"/><path class=\"s1\" d=\"m12,20 8,0\"/></g><g id=\"dm1\"><path class=\"s1\" d=\"M0,20 3,20 9,0 20,0\"/></g><g id=\"dmx\"><path class=\"s1\" d=\"M3,20 9,0 20,0\"/><path class=\"s2\" d=\"m20,15 -5,5\"/><path class=\"s2\" d=\"M20,10 10,20\"/><path class=\"s2\" d=\"M20,5 5,20\"/><path class=\"s2\" d=\"M20,0 4,16\"/><path class=\"s2\" d=\"M15,0 6,9\"/><path class=\"s2\" d=\"M10,0 9,1\"/><path class=\"s1\" d=\"m0,20 20,0\"/></g><g id=\"dmd\"><path class=\"s3\" d=\"m0,20 20,0\"/></g><g id=\"dmu\"><path class=\"s1\" d=\"m0,20 3,0 C 7,10 10.107603,0 20,0\"/></g><g id=\"dmz\"><path class=\"s1\" d=\"m0,20 3,0 C 10,10 15,10 20,10\"/></g><g id=\"uuu\"><path class=\"s3\" d=\"M0,0 20,0\"/></g><g id=\"um0\"><path class=\"s1\" d=\"m0,0 3,0 6,20 11,0\"/></g><g id=\"um1\"><path class=\"s3\" d=\"M0,0 10,0\"/><path class=\"s1\" d=\"m12,0 8,0\"/></g><g id=\"umx\"><path class=\"s1\" d=\"m3,0 6,20 11,0\"/><path class=\"s1\" d=\"M0,0 20,0\"/><path class=\"s2\" d=\"m20,15 -5,5\"/><path class=\"s2\" d=\"M20,10 10,20\"/><path class=\"s2\" d=\"M20,5 8,17\"/><path class=\"s2\" d=\"M20,0 7,13\"/><path class=\"s2\" d=\"M15,0 6,9\"/><path class=\"s2\" d=\"M10,0 5,5\"/><path class=\"s2\" d=\"M3.5,1.5 5,0\"/></g><g id=\"umd\"><path class=\"s1\" d=\"m0,0 3,0 c 4,10 7,20 17,20\"/></g><g id=\"umu\"><path class=\"s3\" d=\"M0,0 20,0\"/></g><g id=\"umz\"><path class=\"s4\" d=\"m0,0 3,0 c 7,10 12,10 17,10\"/></g><g id=\"zzz\"><path class=\"s1\" d=\"m0,10 20,0\"/></g><g id=\"zm0\"><path class=\"s1\" d=\"m0,10 6,0 3,10 11,0\"/></g><g id=\"zm1\"><path class=\"s1\" d=\"M0,10 6,10 9,0 20,0\"/></g><g id=\"zmx\"><path class=\"s1\" d=\"m6,10 3,10 11,0\"/><path class=\"s1\" d=\"M0,10 6,10 9,0 20,0\"/><path class=\"s2\" d=\"m20,15 -5,5\"/><path class=\"s2\" d=\"M20,10 10,20\"/><path class=\"s2\" d=\"M20,5 8,17\"/><path class=\"s2\" d=\"M20,0 7,13\"/><path class=\"s2\" d=\"M15,0 6.5,8.5\"/><path class=\"s2\" d=\"M10,0 9,1\"/></g><g id=\"zmd\"><path class=\"s1\" d=\"m0,10 7,0 c 3,5 8,10 13,10\"/></g><g id=\"zmu\"><path class=\"s1\" d=\"m0,10 7,0 C 10,5 15,0 20,0\"/></g><g id=\"zmz\"><path class=\"s1\" d=\"m0,10 20,0\"/></g><g id=\"gap\"><path class=\"s5\" d=\"m7,-2 -4,0 c -5,0 -5,24 -10,24 l 4,0 C 2,22 2,-2 7,-2 z\"/><path class=\"s1\" d=\"M-7,22 C -2,22 -2,-2 3,-2\"/><path class=\"s1\" d=\"M-3,22 C 2,22 2,-2 7,-2\"/></g><g id=\"0mv-3\"><path class=\"s6\" d=\"M9,0 20,0 20,20 3,20 z\"/><path class=\"s1\" d=\"M3,20 9,0 20,0\"/><path class=\"s1\" d=\"m0,20 20,0\"/></g><g id=\"1mv-3\"><path class=\"s6\" d=\"M2.875,0 20,0 20,20 9,20 z\"/><path class=\"s1\" d=\"m3,0 6,20 11,0\"/><path class=\"s1\" d=\"M0,0 20,0\"/></g><g id=\"xmv-3\"><path class=\"s6\" d=\"M9,0 20,0 20,20 9,20 6,10 z\"/><path class=\"s1\" d=\"M0,20 3,20 9,0 20,0\"/><path class=\"s1\" d=\"m0,0 3,0 6,20 11,0\"/><path class=\"s2\" d=\"M0,5 3.5,1.5\"/><path class=\"s2\" d=\"M0,10 4.5,5.5\"/><path class=\"s2\" d=\"M0,15 6,9\"/><path class=\"s2\" d=\"M0,20 4,16\"/></g><g id=\"dmv-3\"><path class=\"s6\" d=\"M9,0 20,0 20,20 3,20 z\"/><path class=\"s1\" d=\"M3,20 9,0 20,0\"/><path class=\"s1\" d=\"m0,20 20,0\"/></g><g id=\"umv-3\"><path class=\"s6\" d=\"M3,0 20,0 20,20 9,20 z\"/><path class=\"s1\" d=\"m3,0 6,20 11,0\"/><path class=\"s1\" d=\"M0,0 20,0\"/></g><g id=\"zmv-3\"><path class=\"s6\" d=\"M9,0 20,0 20,20 9,20 6,10 z\"/><path class=\"s1\" d=\"m6,10 3,10 11,0\"/><path class=\"s1\" d=\"M0,10 6,10 9,0 20,0\"/></g><g id=\"vvv-3\"><path class=\"s6\" d=\"M20,20 0,20 0,0 20,0\"/><path class=\"s1\" d=\"m0,20 20,0\"/><path class=\"s1\" d=\"M0,0 20,0\"/></g><g id=\"vm0-3\"><path class=\"s6\" d=\"M0,20 0,0 3,0 9,20\"/><path class=\"s1\" d=\"M0,0 3,0 9,20\"/><path class=\"s1\" d=\"m0,20 20,0\"/></g><g id=\"vm1-3\"><path class=\"s6\" d=\"M0,0 0,20 3,20 9,0\"/><path class=\"s1\" d=\"M0,0 20,0\"/><path class=\"s1\" d=\"M0,20 3,20 9,0\"/></g><g id=\"vmx-3\"><path class=\"s6\" d=\"M0,0 0,20 3,20 6,10 3,0\"/><path class=\"s1\" d=\"m0,0 3,0 6,20 11,0\"/><path class=\"s1\" d=\"M0,20 3,20 9,0 20,0\"/><path class=\"s2\" d=\"m20,15 -5,5\"/><path class=\"s2\" d=\"M20,10 10,20\"/><path class=\"s2\" d=\"M20,5 8,17\"/><path class=\"s2\" d=\"M20,0 7,13\"/><path class=\"s2\" d=\"M15,0 7,8\"/><path class=\"s2\" d=\"M10,0 9,1\"/></g><g id=\"vmd-3\"><path class=\"s6\" d=\"m0,0 0,20 20,0 C 10,20 7,10 3,0\"/><path class=\"s1\" d=\"m0,0 3,0 c 4,10 7,20 17,20\"/><path class=\"s1\" d=\"m0,20 20,0\"/></g><g id=\"vmu-3\"><path class=\"s6\" d=\"m0,0 0,20 3,0 C 7,10 10,0 20,0\"/><path class=\"s1\" d=\"m0,20 3,0 C 7,10 10,0 20,0\"/><path class=\"s1\" d=\"M0,0 20,0\"/></g><g id=\"vmz-3\"><path class=\"s6\" d=\"M0,0 3,0 C 10,10 15,10 20,10 15,10 10,10 3,20 L 0,20\"/><path class=\"s1\" d=\"m0,0 3,0 c 7,10 12,10 17,10\"/><path class=\"s1\" d=\"m0,20 3,0 C 10,10 15,10 20,10\"/></g><g id=\"vmv-3-3\"><path class=\"s6\" d=\"M9,0 20,0 20,20 9,20 6,10 z\"/><path class=\"s6\" d=\"M3,0 0,0 0,20 3,20 6,10 z\"/><path class=\"s1\" d=\"m0,0 3,0 6,20 11,0\"/><path class=\"s1\" d=\"M0,20 3,20 9,0 20,0\"/></g><g id=\"vmv-3-4\"><path class=\"s7\" d=\"M9,0 20,0 20,20 9,20 6,10 z\"/><path class=\"s6\" d=\"M3,0 0,0 0,20 3,20 6,10 z\"/><path class=\"s1\" d=\"m0,0 3,0 6,20 11,0\"/><path class=\"s1\" d=\"M0,20 3,20 9,0 20,0\"/></g><g id=\"vmv-3-5\"><path class=\"s8\" d=\"M9,0 20,0 20,20 9,20 6,10 z\"/><path class=\"s6\" d=\"M3,0 0,0 0,20 3,20 6,10 z\"/><path class=\"s1\" d=\"m0,0 3,0 6,20 11,0\"/><path class=\"s1\" d=\"M0,20 3,20 9,0 20,0\"/></g><g id=\"vmv-4-3\"><path class=\"s6\" d=\"M9,0 20,0 20,20 9,20 6,10 z\"/><path class=\"s7\" d=\"M3,0 0,0 0,20 3,20 6,10 z\"/><path class=\"s1\" d=\"m0,0 3,0 6,20 11,0\"/><path class=\"s1\" d=\"M0,20 3,20 9,0 20,0\"/></g><g id=\"vmv-4-4\"><path class=\"s7\" d=\"M9,0 20,0 20,20 9,20 6,10 z\"/><path class=\"s7\" d=\"M3,0 0,0 0,20 3,20 6,10 z\"/><path class=\"s1\" d=\"m0,0 3,0 6,20 11,0\"/><path class=\"s1\" d=\"M0,20 3,20 9,0 20,0\"/></g><g id=\"vmv-4-5\"><path class=\"s8\" d=\"M9,0 20,0 20,20 9,20 6,10 z\"/><path class=\"s7\" d=\"M3,0 0,0 0,20 3,20 6,10 z\"/><path class=\"s1\" d=\"m0,0 3,0 6,20 11,0\"/><path class=\"s1\" d=\"M0,20 3,20 9,0 20,0\"/></g><g id=\"vmv-5-3\"><path class=\"s6\" d=\"M9,0 20,0 20,20 9,20 6,10 z\"/><path class=\"s8\" d=\"M3,0 0,0 0,20 3,20 6,10 z\"/><path class=\"s1\" d=\"m0,0 3,0 6,20 11,0\"/><path class=\"s1\" d=\"M0,20 3,20 9,0 20,0\"/></g><g id=\"vmv-5-4\"><path class=\"s7\" d=\"M9,0 20,0 20,20 9,20 6,10 z\"/><path class=\"s8\" d=\"M3,0 0,0 0,20 3,20 6,10 z\"/><path class=\"s1\" d=\"m0,0 3,0 6,20 11,0\"/><path class=\"s1\" d=\"M0,20 3,20 9,0 20,0\"/></g><g id=\"vmv-5-5\"><path class=\"s8\" d=\"M9,0 20,0 20,20 9,20 6,10 z\"/><path class=\"s8\" d=\"M3,0 0,0 0,20 3,20 6,10 z\"/><path class=\"s1\" d=\"m0,0 3,0 6,20 11,0\"/><path class=\"s1\" d=\"M0,20 3,20 9,0 20,0\"/></g><g id=\"0mv-4\"><path class=\"s7\" d=\"M9,0 20,0 20,20 3,20 z\"/><path class=\"s1\" d=\"M3,20 9,0 20,0\"/><path class=\"s1\" d=\"m0,20 20,0\"/></g><g id=\"1mv-4\"><path class=\"s7\" d=\"M2.875,0 20,0 20,20 9,20 z\"/><path class=\"s1\" d=\"m3,0 6,20 11,0\"/><path class=\"s1\" d=\"M0,0 20,0\"/></g><g id=\"xmv-4\"><path class=\"s7\" d=\"M9,0 20,0 20,20 9,20 6,10 z\"/><path class=\"s1\" d=\"M0,20 3,20 9,0 20,0\"/><path class=\"s1\" d=\"m0,0 3,0 6,20 11,0\"/><path class=\"s2\" d=\"M0,5 3.5,1.5\"/><path class=\"s2\" d=\"M0,10 4.5,5.5\"/><path class=\"s2\" d=\"M0,15 6,9\"/><path class=\"s2\" d=\"M0,20 4,16\"/></g><g id=\"dmv-4\"><path class=\"s7\" d=\"M9,0 20,0 20,20 3,20 z\"/><path class=\"s1\" d=\"M3,20 9,0 20,0\"/><path class=\"s1\" d=\"m0,20 20,0\"/></g><g id=\"umv-4\"><path class=\"s7\" d=\"M3,0 20,0 20,20 9,20 z\"/><path class=\"s1\" d=\"m3,0 6,20 11,0\"/><path class=\"s1\" d=\"M0,0 20,0\"/></g><g id=\"zmv-4\"><path class=\"s7\" d=\"M9,0 20,0 20,20 9,20 6,10 z\"/><path class=\"s1\" d=\"m6,10 3,10 11,0\"/><path class=\"s1\" d=\"M0,10 6,10 9,0 20,0\"/></g><g id=\"0mv-5\"><path class=\"s8\" d=\"M9,0 20,0 20,20 3,20 z\"/><path class=\"s1\" d=\"M3,20 9,0 20,0\"/><path class=\"s1\" d=\"m0,20 20,0\"/></g><g id=\"1mv-5\"><path class=\"s8\" d=\"M2.875,0 20,0 20,20 9,20 z\"/><path class=\"s1\" d=\"m3,0 6,20 11,0\"/><path class=\"s1\" d=\"M0,0 20,0\"/></g><g id=\"xmv-5\"><path class=\"s8\" d=\"M9,0 20,0 20,20 9,20 6,10 z\"/><path class=\"s1\" d=\"M0,20 3,20 9,0 20,0\"/><path class=\"s1\" d=\"m0,0 3,0 6,20 11,0\"/><path class=\"s2\" d=\"M0,5 3.5,1.5\"/><path class=\"s2\" d=\"M0,10 4.5,5.5\"/><path class=\"s2\" d=\"M0,15 6,9\"/><path class=\"s2\" d=\"M0,20 4,16\"/></g><g id=\"dmv-5\"><path class=\"s8\" d=\"M9,0 20,0 20,20 3,20 z\"/><path class=\"s1\" d=\"M3,20 9,0 20,0\"/><path class=\"s1\" d=\"m0,20 20,0\"/></g><g id=\"umv-5\"><path class=\"s8\" d=\"M3,0 20,0 20,20 9,20 z\"/><path class=\"s1\" d=\"m3,0 6,20 11,0\"/><path class=\"s1\" d=\"M0,0 20,0\"/></g><g id=\"zmv-5\"><path class=\"s8\" d=\"M9,0 20,0 20,20 9,20 6,10 z\"/><path class=\"s1\" d=\"m6,10 3,10 11,0\"/><path class=\"s1\" d=\"M0,10 6,10 9,0 20,0\"/></g><g id=\"vvv-4\"><path class=\"s7\" d=\"M20,20 0,20 0,0 20,0\"/><path class=\"s1\" d=\"m0,20 20,0\"/><path class=\"s1\" d=\"M0,0 20,0\"/></g><g id=\"vm0-4\"><path class=\"s7\" d=\"M0,20 0,0 3,0 9,20\"/><path class=\"s1\" d=\"M0,0 3,0 9,20\"/><path class=\"s1\" d=\"m0,20 20,0\"/></g><g id=\"vm1-4\"><path class=\"s7\" d=\"M0,0 0,20 3,20 9,0\"/><path class=\"s1\" d=\"M0,0 20,0\"/><path class=\"s1\" d=\"M0,20 3,20 9,0\"/></g><g id=\"vmx-4\"><path class=\"s7\" d=\"M0,0 0,20 3,20 6,10 3,0\"/><path class=\"s1\" d=\"m0,0 3,0 6,20 11,0\"/><path class=\"s1\" d=\"M0,20 3,20 9,0 20,0\"/><path class=\"s2\" d=\"m20,15 -5,5\"/><path class=\"s2\" d=\"M20,10 10,20\"/><path class=\"s2\" d=\"M20,5 8,17\"/><path class=\"s2\" d=\"M20,0 7,13\"/><path class=\"s2\" d=\"M15,0 7,8\"/><path class=\"s2\" d=\"M10,0 9,1\"/></g><g id=\"vmd-4\"><path class=\"s7\" d=\"m0,0 0,20 20,0 C 10,20 7,10 3,0\"/><path class=\"s1\" d=\"m0,0 3,0 c 4,10 7,20 17,20\"/><path class=\"s1\" d=\"m0,20 20,0\"/></g><g id=\"vmu-4\"><path class=\"s7\" d=\"m0,0 0,20 3,0 C 7,10 10,0 20,0\"/><path class=\"s1\" d=\"m0,20 3,0 C 7,10 10,0 20,0\"/><path class=\"s1\" d=\"M0,0 20,0\"/></g><g id=\"vmz-4\"><path class=\"s7\" d=\"M0,0 3,0 C 10,10 15,10 20,10 15,10 10,10 3,20 L 0,20\"/><path class=\"s1\" d=\"m0,0 3,0 c 7,10 12,10 17,10\"/><path class=\"s1\" d=\"m0,20 3,0 C 10,10 15,10 20,10\"/></g><g id=\"vvv-5\"><path class=\"s8\" d=\"M20,20 0,20 0,0 20,0\"/><path class=\"s1\" d=\"m0,20 20,0\"/><path class=\"s1\" d=\"M0,0 20,0\"/></g><g id=\"vm0-5\"><path class=\"s8\" d=\"M0,20 0,0 3,0 9,20\"/><path class=\"s1\" d=\"M0,0 3,0 9,20\"/><path class=\"s1\" d=\"m0,20 20,0\"/></g><g id=\"vm1-5\"><path class=\"s8\" d=\"M0,0 0,20 3,20 9,0\"/><path class=\"s1\" d=\"M0,0 20,0\"/><path class=\"s1\" d=\"M0,20 3,20 9,0\"/></g><g id=\"vmx-5\"><path class=\"s8\" d=\"M0,0 0,20 3,20 6,10 3,0\"/><path class=\"s1\" d=\"m0,0 3,0 6,20 11,0\"/><path class=\"s1\" d=\"M0,20 3,20 9,0 20,0\"/><path class=\"s2\" d=\"m20,15 -5,5\"/><path class=\"s2\" d=\"M20,10 10,20\"/><path class=\"s2\" d=\"M20,5 8,17\"/><path class=\"s2\" d=\"M20,0 7,13\"/><path class=\"s2\" d=\"M15,0 7,8\"/><path class=\"s2\" d=\"M10,0 9,1\"/></g><g id=\"vmd-5\"><path class=\"s8\" d=\"m0,0 0,20 20,0 C 10,20 7,10 3,0\"/><path class=\"s1\" d=\"m0,0 3,0 c 4,10 7,20 17,20\"/><path class=\"s1\" d=\"m0,20 20,0\"/></g><g id=\"vmu-5\"><path class=\"s8\" d=\"m0,0 0,20 3,0 C 7,10 10,0 20,0\"/><path class=\"s1\" d=\"m0,20 3,0 C 7,10 10,0 20,0\"/><path class=\"s1\" d=\"M0,0 20,0\"/></g><g id=\"vmz-5\"><path class=\"s8\" d=\"M0,0 3,0 C 10,10 15,10 20,10 15,10 10,10 3,20 L 0,20\"/><path class=\"s1\" d=\"m0,0 3,0 c 7,10 12,10 17,10\"/><path class=\"s1\" d=\"m0,20 3,0 C 10,10 15,10 20,10\"/></g><g id=\"Pclk\"><path class=\"s9\" d=\"M-3,12 0,3 3,12 C 1,11 -1,11 -3,12 z\"/><path class=\"s1\" d=\"M0,20 0,0 20,0\"/></g><g id=\"Nclk\"><path class=\"s9\" d=\"M-3,8 0,17 3,8 C 1,9 -1,9 -3,8 z\"/><path class=\"s1\" d=\"m0,0 0,20 20,0\"/></g><g id=\"vvv-2\"><path class=\"s10\" d=\"M20,20 0,20 0,0 20,0\"/><path class=\"s1\" d=\"m0,20 20,0\"/><path class=\"s1\" d=\"M0,0 20,0\"/></g><g id=\"vm0-2\"><path class=\"s10\" d=\"M0,20 0,0 3,0 9,20\"/><path class=\"s1\" d=\"M0,0 3,0 9,20\"/><path class=\"s1\" d=\"m0,20 20,0\"/></g><g id=\"vm1-2\"><path class=\"s10\" d=\"M0,0 0,20 3,20 9,0\"/><path class=\"s1\" d=\"M0,0 20,0\"/><path class=\"s1\" d=\"M0,20 3,20 9,0\"/></g><g id=\"vmx-2\"><path class=\"s10\" d=\"M0,0 0,20 3,20 6,10 3,0\"/><path class=\"s1\" d=\"m0,0 3,0 6,20 11,0\"/><path class=\"s1\" d=\"M0,20 3,20 9,0 20,0\"/><path class=\"s2\" d=\"m20,15 -5,5\"/><path class=\"s2\" d=\"M20,10 10,20\"/><path class=\"s2\" d=\"M20,5 8,17\"/><path class=\"s2\" d=\"M20,0 7,13\"/><path class=\"s2\" d=\"M15,0 7,8\"/><path class=\"s2\" d=\"M10,0 9,1\"/></g><g id=\"vmd-2\"><path class=\"s10\" d=\"m0,0 0,20 20,0 C 10,20 7,10 3,0\"/><path class=\"s1\" d=\"m0,0 3,0 c 4,10 7,20 17,20\"/><path class=\"s1\" d=\"m0,20 20,0\"/></g><g id=\"vmu-2\"><path class=\"s10\" d=\"m0,0 0,20 3,0 C 7,10 10,0 20,0\"/><path class=\"s1\" d=\"m0,20 3,0 C 7,10 10,0 20,0\"/><path class=\"s1\" d=\"M0,0 20,0\"/></g><g id=\"vmz-2\"><path class=\"s10\" d=\"M0,0 3,0 C 10,10 15,10 20,10 15,10 10,10 3,20 L 0,20\"/><path class=\"s1\" d=\"m0,0 3,0 c 7,10 12,10 17,10\"/><path class=\"s1\" d=\"m0,20 3,0 C 10,10 15,10 20,10\"/></g><g id=\"0mv-2\"><path class=\"s10\" d=\"M9,0 20,0 20,20 3,20 z\"/><path class=\"s1\" d=\"M3,20 9,0 20,0\"/><path class=\"s1\" d=\"m0,20 20,0\"/></g><g id=\"1mv-2\"><path class=\"s10\" d=\"M2.875,0 20,0 20,20 9,20 z\"/><path class=\"s1\" d=\"m3,0 6,20 11,0\"/><path class=\"s1\" d=\"M0,0 20,0\"/></g><g id=\"xmv-2\"><path class=\"s10\" d=\"M9,0 20,0 20,20 9,20 6,10 z\"/><path class=\"s1\" d=\"M0,20 3,20 9,0 20,0\"/><path class=\"s1\" d=\"m0,0 3,0 6,20 11,0\"/><path class=\"s2\" d=\"M0,5 3.5,1.5\"/><path class=\"s2\" d=\"M0,10 4.5,5.5\"/><path class=\"s2\" d=\"M0,15 6,9\"/><path class=\"s2\" d=\"M0,20 4,16\"/></g><g id=\"dmv-2\"><path class=\"s10\" d=\"M9,0 20,0 20,20 3,20 z\"/><path class=\"s1\" d=\"M3,20 9,0 20,0\"/><path class=\"s1\" d=\"m0,20 20,0\"/></g><g id=\"umv-2\"><path class=\"s10\" d=\"M3,0 20,0 20,20 9,20 z\"/><path class=\"s1\" d=\"m3,0 6,20 11,0\"/><path class=\"s1\" d=\"M0,0 20,0\"/></g><g id=\"zmv-2\"><path class=\"s10\" d=\"M9,0 20,0 20,20 9,20 6,10 z\"/><path class=\"s1\" d=\"m6,10 3,10 11,0\"/><path class=\"s1\" d=\"M0,10 6,10 9,0 20,0\"/></g><g id=\"vmv-3-2\"><path class=\"s10\" d=\"M9,0 20,0 20,20 9,20 6,10 z\"/><path class=\"s6\" d=\"M3,0 0,0 0,20 3,20 6,10 z\"/><path class=\"s1\" d=\"m0,0 3,0 6,20 11,0\"/><path class=\"s1\" d=\"M0,20 3,20 9,0 20,0\"/></g><g id=\"vmv-4-2\"><path class=\"s10\" d=\"M9,0 20,0 20,20 9,20 6,10 z\"/><path class=\"s7\" d=\"M3,0 0,0 0,20 3,20 6,10 z\"/><path class=\"s1\" d=\"m0,0 3,0 6,20 11,0\"/><path class=\"s1\" d=\"M0,20 3,20 9,0 20,0\"/></g><g id=\"vmv-5-2\"><path class=\"s10\" d=\"M9,0 20,0 20,20 9,20 6,10 z\"/><path class=\"s8\" d=\"M3,0 0,0 0,20 3,20 6,10 z\"/><path class=\"s1\" d=\"m0,0 3,0 6,20 11,0\"/><path class=\"s1\" d=\"M0,20 3,20 9,0 20,0\"/></g><g id=\"vmv-2-3\"><path class=\"s6\" d=\"M9,0 20,0 20,20 9,20 6,10 z\"/><path class=\"s10\" d=\"M3,0 0,0 0,20 3,20 6,10 z\"/><path class=\"s1\" d=\"m0,0 3,0 6,20 11,0\"/><path class=\"s1\" d=\"M0,20 3,20 9,0 20,0\"/></g><g id=\"vmv-2-4\"><path class=\"s7\" d=\"M9,0 20,0 20,20 9,20 6,10 z\"/><path class=\"s10\" d=\"M3,0 0,0 0,20 3,20 6,10 z\"/><path class=\"s1\" d=\"m0,0 3,0 6,20 11,0\"/><path class=\"s1\" d=\"M0,20 3,20 9,0 20,0\"/></g><g id=\"vmv-2-5\"><path class=\"s8\" d=\"M9,0 20,0 20,20 9,20 6,10 z\"/><path class=\"s10\" d=\"M3,0 0,0 0,20 3,20 6,10 z\"/><path class=\"s1\" d=\"m0,0 3,0 6,20 11,0\"/><path class=\"s1\" d=\"M0,20 3,20 9,0 20,0\"/></g><g id=\"vmv-2-2\"><path class=\"s10\" d=\"M9,0 20,0 20,20 9,20 6,10 z\"/><path class=\"s10\" d=\"M3,0 0,0 0,20 3,20 6,10 z\"/><path class=\"s1\" d=\"m0,0 3,0 6,20 11,0\"/><path class=\"s1\" d=\"M0,20 3,20 9,0 20,0\"/></g><g id=\"arrow0\"><path class=\"s11\" d=\"m-12,-3 9,3 -9,3 c 1,-2 1,-4 0,-6 z\"/><path class=\"s12\" d=\"M0,0 -15,0\"/></g><marker id=\"arrowhead\" markerHeight=\"7\" markerUnits=\"strokeWidth\" markerWidth=\"10\" orient=\"auto\" refX=\"15\" refY=\"0\" style=\"fill: #0041c4;\" viewBox=\"0 -4 11 8\"><path d=\"M0 -4 11 0 0 4z\"/></marker><marker id=\"arrowtail\" markerHeight=\"7\" markerUnits=\"strokeWidth\" markerWidth=\"10\" orient=\"auto\" refX=\"-15\" refY=\"0\" style=\"fill: #0041c4;\" viewBox=\"-11 -4 11 8\"><path d=\"M0 -4 -11 0 0 4z\"/></marker></defs><g id=\"waves_0\"><g id=\"lanes_0\" transform=\"translate(60.5, 46.5)\"><g id=\"gmarks_0\"><path d=\"m 0,0 0,360\" id=\"gmark_0_0\" style=\"stroke: #888888; stroke-width: 0.5px; stroke-dasharray: 1px, 3px;\"/><path d=\"m 40,0 0,360\" id=\"gmark_1_0\" style=\"stroke: #888888; stroke-width: 0.5px; stroke-dasharray: 1px, 3px;\"/><path d=\"m 80,0 0,360\" id=\"gmark_2_0\" style=\"stroke: #888888; stroke-width: 0.5px; stroke-dasharray: 1px, 3px;\"/><path d=\"m 120,0 0,360\" id=\"gmark_3_0\" style=\"stroke: #888888; stroke-width: 0.5px; stroke-dasharray: 1px, 3px;\"/><path d=\"m 160,0 0,360\" id=\"gmark_4_0\" style=\"stroke: #888888; stroke-width: 0.5px; stroke-dasharray: 1px, 3px;\"/><path d=\"m 200,0 0,360\" id=\"gmark_5_0\" style=\"stroke: #888888; stroke-width: 0.5px; stroke-dasharray: 1px, 3px;\"/><path d=\"m 240,0 0,360\" id=\"gmark_6_0\" style=\"stroke: #888888; stroke-width: 0.5px; stroke-dasharray: 1px, 3px;\"/><path d=\"m 280,0 0,360\" id=\"gmark_7_0\" style=\"stroke: #888888; stroke-width: 0.5px; stroke-dasharray: 1px, 3px;\"/><path d=\"m 320,0 0,360\" id=\"gmark_8_0\" style=\"stroke: #888888; stroke-width: 0.5px; stroke-dasharray: 1px, 3px;\"/><path d=\"m 360,0 0,360\" id=\"gmark_9_0\" style=\"stroke: #888888; stroke-width: 0.5px; stroke-dasharray: 1px, 3px;\"/><path d=\"m 400,0 0,360\" id=\"gmark_10_0\" style=\"stroke: #888888; stroke-width: 0.5px; stroke-dasharray: 1px, 3px;\"/><path d=\"m 440,0 0,360\" id=\"gmark_11_0\" style=\"stroke: #888888; stroke-width: 0.5px; stroke-dasharray: 1px, 3px;\"/><path d=\"m 480,0 0,360\" id=\"gmark_12_0\" style=\"stroke: #888888; stroke-width: 0.5px; stroke-dasharray: 1px, 3px;\"/><path d=\"m 520,0 0,360\" id=\"gmark_13_0\" style=\"stroke: #888888; stroke-width: 0.5px; stroke-dasharray: 1px, 3px;\"/><path d=\"m 560,0 0,360\" id=\"gmark_14_0\" style=\"stroke: #888888; stroke-width: 0.5px; stroke-dasharray: 1px, 3px;\"/><path d=\"m 600,0 0,360\" id=\"gmark_15_0\" style=\"stroke: #888888; stroke-width: 0.5px; stroke-dasharray: 1px, 3px;\"/><path d=\"m 640,0 0,360\" id=\"gmark_16_0\" style=\"stroke: #888888; stroke-width: 0.5px; stroke-dasharray: 1px, 3px;\"/><path d=\"m 680,0 0,360\" id=\"gmark_17_0\" style=\"stroke: #888888; stroke-width: 0.5px; stroke-dasharray: 1px, 3px;\"/><path d=\"m 720,0 0,360\" id=\"gmark_18_0\" style=\"stroke: #888888; stroke-width: 0.5px; stroke-dasharray: 1px, 3px;\"/><path d=\"m 760,0 0,360\" id=\"gmark_19_0\" style=\"stroke: #888888; stroke-width: 0.5px; stroke-dasharray: 1px, 3px;\"/><path d=\"m 800,0 0,360\" id=\"gmark_20_0\" style=\"stroke: #888888; stroke-width: 0.5px; stroke-dasharray: 1px, 3px;\"/><path d=\"m 840,0 0,360\" id=\"gmark_21_0\" style=\"stroke: #888888; stroke-width: 0.5px; stroke-dasharray: 1px, 3px;\"/><path d=\"m 880,0 0,360\" id=\"gmark_22_0\" style=\"stroke: #888888; stroke-width: 0.5px; stroke-dasharray: 1px, 3px;\"/><path d=\"m 920,0 0,360\" id=\"gmark_23_0\" style=\"stroke: #888888; stroke-width: 0.5px; stroke-dasharray: 1px, 3px;\"/><path d=\"m 960,0 0,360\" id=\"gmark_24_0\" style=\"stroke: #888888; stroke-width: 0.5px; stroke-dasharray: 1px, 3px;\"/><path d=\"m 1000,0 0,360\" id=\"gmark_25_0\" style=\"stroke: #888888; stroke-width: 0.5px; stroke-dasharray: 1px, 3px;\"/><path d=\"m 1040,0 0,360\" id=\"gmark_26_0\" style=\"stroke: #888888; stroke-width: 0.5px; stroke-dasharray: 1px, 3px;\"/><path d=\"m 1080,0 0,360\" id=\"gmark_27_0\" style=\"stroke: #888888; stroke-width: 0.5px; stroke-dasharray: 1px, 3px;\"/><path d=\"m 1120,0 0,360\" id=\"gmark_28_0\" style=\"stroke: #888888; stroke-width: 0.5px; stroke-dasharray: 1px, 3px;\"/><path d=\"m 1160,0 0,360\" id=\"gmark_29_0\" style=\"stroke: #888888; stroke-width: 0.5px; stroke-dasharray: 1px, 3px;\"/><path d=\"m 1200,0 0,360\" id=\"gmark_30_0\" style=\"stroke: #888888; stroke-width: 0.5px; stroke-dasharray: 1px, 3px;\"/><path d=\"m 1240,0 0,360\" id=\"gmark_31_0\" style=\"stroke: #888888; stroke-width: 0.5px; stroke-dasharray: 1px, 3px;\"/><path d=\"m 1280,0 0,360\" id=\"gmark_32_0\" style=\"stroke: #888888; stroke-width: 0.5px; stroke-dasharray: 1px, 3px;\"/><path d=\"m 1320,0 0,360\" id=\"gmark_33_0\" style=\"stroke: #888888; stroke-width: 0.5px; stroke-dasharray: 1px, 3px;\"/><path d=\"m 1360,0 0,360\" id=\"gmark_34_0\" style=\"stroke: #888888; stroke-width: 0.5px; stroke-dasharray: 1px, 3px;\"/><path d=\"m 1400,0 0,360\" id=\"gmark_35_0\" style=\"stroke: #888888; stroke-width: 0.5px; stroke-dasharray: 1px, 3px;\"/><path d=\"m 1440,0 0,360\" id=\"gmark_36_0\" style=\"stroke: #888888; stroke-width: 0.5px; stroke-dasharray: 1px, 3px;\"/><path d=\"m 1480,0 0,360\" id=\"gmark_37_0\" style=\"stroke: #888888; stroke-width: 0.5px; stroke-dasharray: 1px, 3px;\"/><path d=\"m 1520,0 0,360\" id=\"gmark_38_0\" style=\"stroke: #888888; stroke-width: 0.5px; stroke-dasharray: 1px, 3px;\"/><path d=\"m 1560,0 0,360\" id=\"gmark_39_0\" style=\"stroke: #888888; stroke-width: 0.5px; stroke-dasharray: 1px, 3px;\"/><path d=\"m 1600,0 0,360\" id=\"gmark_40_0\" style=\"stroke: #888888; stroke-width: 0.5px; stroke-dasharray: 1px, 3px;\"/><path d=\"m 1640,0 0,360\" id=\"gmark_41_0\" style=\"stroke: #888888; stroke-width: 0.5px; stroke-dasharray: 1px, 3px;\"/><path d=\"m 1680,0 0,360\" id=\"gmark_42_0\" style=\"stroke: #888888; stroke-width: 0.5px; stroke-dasharray: 1px, 3px;\"/><path d=\"m 1720,0 0,360\" id=\"gmark_43_0\" style=\"stroke: #888888; stroke-width: 0.5px; stroke-dasharray: 1px, 3px;\"/><path d=\"m 1760,0 0,360\" id=\"gmark_44_0\" style=\"stroke: #888888; stroke-width: 0.5px; stroke-dasharray: 1px, 3px;\"/><path d=\"m 1800,0 0,360\" id=\"gmark_45_0\" style=\"stroke: #888888; stroke-width: 0.5px; stroke-dasharray: 1px, 3px;\"/><path d=\"m 1840,0 0,360\" id=\"gmark_46_0\" style=\"stroke: #888888; stroke-width: 0.5px; stroke-dasharray: 1px, 3px;\"/><path d=\"m 1880,0 0,360\" id=\"gmark_47_0\" style=\"stroke: #888888; stroke-width: 0.5px; stroke-dasharray: 1px, 3px;\"/><path d=\"m 1920,0 0,360\" id=\"gmark_48_0\" style=\"stroke: #888888; stroke-width: 0.5px; stroke-dasharray: 1px, 3px;\"/><path d=\"m 1960,0 0,360\" id=\"gmark_49_0\" style=\"stroke: #888888; stroke-width: 0.5px; stroke-dasharray: 1px, 3px;\"/><path d=\"m 2000,0 0,360\" id=\"gmark_50_0\" style=\"stroke: #888888; stroke-width: 0.5px; stroke-dasharray: 1px, 3px;\"/><path d=\"m 2040,0 0,360\" id=\"gmark_51_0\" style=\"stroke: #888888; stroke-width: 0.5px; stroke-dasharray: 1px, 3px;\"/><path d=\"m 2080,0 0,360\" id=\"gmark_52_0\" style=\"stroke: #888888; stroke-width: 0.5px; stroke-dasharray: 1px, 3px;\"/><path d=\"m 2120,0 0,360\" id=\"gmark_53_0\" style=\"stroke: #888888; stroke-width: 0.5px; stroke-dasharray: 1px, 3px;\"/><path d=\"m 2160,0 0,360\" id=\"gmark_54_0\" style=\"stroke: #888888; stroke-width: 0.5px; stroke-dasharray: 1px, 3px;\"/><path d=\"m 2200,0 0,360\" id=\"gmark_55_0\" style=\"stroke: #888888; stroke-width: 0.5px; stroke-dasharray: 1px, 3px;\"/><path d=\"m 2240,0 0,360\" id=\"gmark_56_0\" style=\"stroke: #888888; stroke-width: 0.5px; stroke-dasharray: 1px, 3px;\"/><path d=\"m 2280,0 0,360\" id=\"gmark_57_0\" style=\"stroke: #888888; stroke-width: 0.5px; stroke-dasharray: 1px, 3px;\"/><path d=\"m 2320,0 0,360\" id=\"gmark_58_0\" style=\"stroke: #888888; stroke-width: 0.5px; stroke-dasharray: 1px, 3px;\"/><path d=\"m 2360,0 0,360\" id=\"gmark_59_0\" style=\"stroke: #888888; stroke-width: 0.5px; stroke-dasharray: 1px, 3px;\"/><path d=\"m 2400,0 0,360\" id=\"gmark_60_0\" style=\"stroke: #888888; stroke-width: 0.5px; stroke-dasharray: 1px, 3px;\"/><path d=\"m 2440,0 0,360\" id=\"gmark_61_0\" style=\"stroke: #888888; stroke-width: 0.5px; stroke-dasharray: 1px, 3px;\"/><path d=\"m 2480,0 0,360\" id=\"gmark_62_0\" style=\"stroke: #888888; stroke-width: 0.5px; stroke-dasharray: 1px, 3px;\"/><path d=\"m 2520,0 0,360\" id=\"gmark_63_0\" style=\"stroke: #888888; stroke-width: 0.5px; stroke-dasharray: 1px, 3px;\"/><path d=\"m 2560,0 0,360\" id=\"gmark_64_0\" style=\"stroke: #888888; stroke-width: 0.5px; stroke-dasharray: 1px, 3px;\"/><path d=\"m 2600,0 0,360\" id=\"gmark_65_0\" style=\"stroke: #888888; stroke-width: 0.5px; stroke-dasharray: 1px, 3px;\"/><path d=\"m 2640,0 0,360\" id=\"gmark_66_0\" style=\"stroke: #888888; stroke-width: 0.5px; stroke-dasharray: 1px, 3px;\"/><path d=\"m 2680,0 0,360\" id=\"gmark_67_0\" style=\"stroke: #888888; stroke-width: 0.5px; stroke-dasharray: 1px, 3px;\"/><path d=\"m 2720,0 0,360\" id=\"gmark_68_0\" style=\"stroke: #888888; stroke-width: 0.5px; stroke-dasharray: 1px, 3px;\"/><path d=\"m 2760,0 0,360\" id=\"gmark_69_0\" style=\"stroke: #888888; stroke-width: 0.5px; stroke-dasharray: 1px, 3px;\"/><path d=\"m 2800,0 0,360\" id=\"gmark_70_0\" style=\"stroke: #888888; stroke-width: 0.5px; stroke-dasharray: 1px, 3px;\"/><path d=\"m 2840,0 0,360\" id=\"gmark_71_0\" style=\"stroke: #888888; stroke-width: 0.5px; stroke-dasharray: 1px, 3px;\"/><path d=\"m 2880,0 0,360\" id=\"gmark_72_0\" style=\"stroke: #888888; stroke-width: 0.5px; stroke-dasharray: 1px, 3px;\"/><path d=\"m 2920,0 0,360\" id=\"gmark_73_0\" style=\"stroke: #888888; stroke-width: 0.5px; stroke-dasharray: 1px, 3px;\"/><path d=\"m 2960,0 0,360\" id=\"gmark_74_0\" style=\"stroke: #888888; stroke-width: 0.5px; stroke-dasharray: 1px, 3px;\"/><path d=\"m 3000,0 0,360\" id=\"gmark_75_0\" style=\"stroke: #888888; stroke-width: 0.5px; stroke-dasharray: 1px, 3px;\"/><path d=\"m 3040,0 0,360\" id=\"gmark_76_0\" style=\"stroke: #888888; stroke-width: 0.5px; stroke-dasharray: 1px, 3px;\"/><path d=\"m 3080,0 0,360\" id=\"gmark_77_0\" style=\"stroke: #888888; stroke-width: 0.5px; stroke-dasharray: 1px, 3px;\"/><path d=\"m 3120,0 0,360\" id=\"gmark_78_0\" style=\"stroke: #888888; stroke-width: 0.5px; stroke-dasharray: 1px, 3px;\"/><path d=\"m 3160,0 0,360\" id=\"gmark_79_0\" style=\"stroke: #888888; stroke-width: 0.5px; stroke-dasharray: 1px, 3px;\"/><path d=\"m 3200,0 0,360\" id=\"gmark_80_0\" style=\"stroke: #888888; stroke-width: 0.5px; stroke-dasharray: 1px, 3px;\"/><path d=\"m 3240,0 0,360\" id=\"gmark_81_0\" style=\"stroke: #888888; stroke-width: 0.5px; stroke-dasharray: 1px, 3px;\"/><path d=\"m 3280,0 0,360\" id=\"gmark_82_0\" style=\"stroke: #888888; stroke-width: 0.5px; stroke-dasharray: 1px, 3px;\"/><path d=\"m 3320,0 0,360\" id=\"gmark_83_0\" style=\"stroke: #888888; stroke-width: 0.5px; stroke-dasharray: 1px, 3px;\"/><path d=\"m 3360,0 0,360\" id=\"gmark_84_0\" style=\"stroke: #888888; stroke-width: 0.5px; stroke-dasharray: 1px, 3px;\"/><path d=\"m 3400,0 0,360\" id=\"gmark_85_0\" style=\"stroke: #888888; stroke-width: 0.5px; stroke-dasharray: 1px, 3px;\"/><path d=\"m 3440,0 0,360\" id=\"gmark_86_0\" style=\"stroke: #888888; stroke-width: 0.5px; stroke-dasharray: 1px, 3px;\"/><path d=\"m 3480,0 0,360\" id=\"gmark_87_0\" style=\"stroke: #888888; stroke-width: 0.5px; stroke-dasharray: 1px, 3px;\"/><path d=\"m 3520,0 0,360\" id=\"gmark_88_0\" style=\"stroke: #888888; stroke-width: 0.5px; stroke-dasharray: 1px, 3px;\"/><path d=\"m 3560,0 0,360\" id=\"gmark_89_0\" style=\"stroke: #888888; stroke-width: 0.5px; stroke-dasharray: 1px, 3px;\"/><path d=\"m 3600,0 0,360\" id=\"gmark_90_0\" style=\"stroke: #888888; stroke-width: 0.5px; stroke-dasharray: 1px, 3px;\"/><path d=\"m 3640,0 0,360\" id=\"gmark_91_0\" style=\"stroke: #888888; stroke-width: 0.5px; stroke-dasharray: 1px, 3px;\"/><path d=\"m 3680,0 0,360\" id=\"gmark_92_0\" style=\"stroke: #888888; stroke-width: 0.5px; stroke-dasharray: 1px, 3px;\"/><path d=\"m 3720,0 0,360\" id=\"gmark_93_0\" style=\"stroke: #888888; stroke-width: 0.5px; stroke-dasharray: 1px, 3px;\"/><path d=\"m 3760,0 0,360\" id=\"gmark_94_0\" style=\"stroke: #888888; stroke-width: 0.5px; stroke-dasharray: 1px, 3px;\"/><path d=\"m 3800,0 0,360\" id=\"gmark_95_0\" style=\"stroke: #888888; stroke-width: 0.5px; stroke-dasharray: 1px, 3px;\"/><path d=\"m 3840,0 0,360\" id=\"gmark_96_0\" style=\"stroke: #888888; stroke-width: 0.5px; stroke-dasharray: 1px, 3px;\"/><path d=\"m 3880,0 0,360\" id=\"gmark_97_0\" style=\"stroke: #888888; stroke-width: 0.5px; stroke-dasharray: 1px, 3px;\"/><path d=\"m 3920,0 0,360\" id=\"gmark_98_0\" style=\"stroke: #888888; stroke-width: 0.5px; stroke-dasharray: 1px, 3px;\"/><path d=\"m 3960,0 0,360\" id=\"gmark_99_0\" style=\"stroke: #888888; stroke-width: 0.5px; stroke-dasharray: 1px, 3px;\"/><path d=\"m 4000,0 0,360\" id=\"gmark_100_0\" style=\"stroke: #888888; stroke-width: 0.5px; stroke-dasharray: 1px, 3px;\"/><path d=\"m 4040,0 0,360\" id=\"gmark_101_0\" style=\"stroke: #888888; stroke-width: 0.5px; stroke-dasharray: 1px, 3px;\"/><path d=\"m 4080,0 0,360\" id=\"gmark_102_0\" style=\"stroke: #888888; stroke-width: 0.5px; stroke-dasharray: 1px, 3px;\"/><path d=\"m 4120,0 0,360\" id=\"gmark_103_0\" style=\"stroke: #888888; stroke-width: 0.5px; stroke-dasharray: 1px, 3px;\"/><path d=\"m 4160,0 0,360\" id=\"gmark_104_0\" style=\"stroke: #888888; stroke-width: 0.5px; stroke-dasharray: 1px, 3px;\"/><path d=\"m 4200,0 0,360\" id=\"gmark_105_0\" style=\"stroke: #888888; stroke-width: 0.5px; stroke-dasharray: 1px, 3px;\"/><path d=\"m 4240,0 0,360\" id=\"gmark_106_0\" style=\"stroke: #888888; stroke-width: 0.5px; stroke-dasharray: 1px, 3px;\"/><path d=\"m 4280,0 0,360\" id=\"gmark_107_0\" style=\"stroke: #888888; stroke-width: 0.5px; stroke-dasharray: 1px, 3px;\"/><path d=\"m 4320,0 0,360\" id=\"gmark_108_0\" style=\"stroke: #888888; stroke-width: 0.5px; stroke-dasharray: 1px, 3px;\"/><path d=\"m 4360,0 0,360\" id=\"gmark_109_0\" style=\"stroke: #888888; stroke-width: 0.5px; stroke-dasharray: 1px, 3px;\"/><path d=\"m 4400,0 0,360\" id=\"gmark_110_0\" style=\"stroke: #888888; stroke-width: 0.5px; stroke-dasharray: 1px, 3px;\"/><path d=\"m 4440,0 0,360\" id=\"gmark_111_0\" style=\"stroke: #888888; stroke-width: 0.5px; stroke-dasharray: 1px, 3px;\"/><path d=\"m 4480,0 0,360\" id=\"gmark_112_0\" style=\"stroke: #888888; stroke-width: 0.5px; stroke-dasharray: 1px, 3px;\"/><path d=\"m 4520,0 0,360\" id=\"gmark_113_0\" style=\"stroke: #888888; stroke-width: 0.5px; stroke-dasharray: 1px, 3px;\"/><path d=\"m 4560,0 0,360\" id=\"gmark_114_0\" style=\"stroke: #888888; stroke-width: 0.5px; stroke-dasharray: 1px, 3px;\"/><path d=\"m 4600,0 0,360\" id=\"gmark_115_0\" style=\"stroke: #888888; stroke-width: 0.5px; stroke-dasharray: 1px, 3px;\"/><path d=\"m 4640,0 0,360\" id=\"gmark_116_0\" style=\"stroke: #888888; stroke-width: 0.5px; stroke-dasharray: 1px, 3px;\"/><path d=\"m 4680,0 0,360\" id=\"gmark_117_0\" style=\"stroke: #888888; stroke-width: 0.5px; stroke-dasharray: 1px, 3px;\"/><path d=\"m 4720,0 0,360\" id=\"gmark_118_0\" style=\"stroke: #888888; stroke-width: 0.5px; stroke-dasharray: 1px, 3px;\"/><path d=\"m 4760,0 0,360\" id=\"gmark_119_0\" style=\"stroke: #888888; stroke-width: 0.5px; stroke-dasharray: 1px, 3px;\"/><path d=\"m 4800,0 0,360\" id=\"gmark_120_0\" style=\"stroke: #888888; stroke-width: 0.5px; stroke-dasharray: 1px, 3px;\"/><path d=\"m 4840,0 0,360\" id=\"gmark_121_0\" style=\"stroke: #888888; stroke-width: 0.5px; stroke-dasharray: 1px, 3px;\"/><path d=\"m 4880,0 0,360\" id=\"gmark_122_0\" style=\"stroke: #888888; stroke-width: 0.5px; stroke-dasharray: 1px, 3px;\"/><path d=\"m 4920,0 0,360\" id=\"gmark_123_0\" style=\"stroke: #888888; stroke-width: 0.5px; stroke-dasharray: 1px, 3px;\"/><path d=\"m 4960,0 0,360\" id=\"gmark_124_0\" style=\"stroke: #888888; stroke-width: 0.5px; stroke-dasharray: 1px, 3px;\"/><path d=\"m 5000,0 0,360\" id=\"gmark_125_0\" style=\"stroke: #888888; stroke-width: 0.5px; stroke-dasharray: 1px, 3px;\"/><path d=\"m 5040,0 0,360\" id=\"gmark_126_0\" style=\"stroke: #888888; stroke-width: 0.5px; stroke-dasharray: 1px, 3px;\"/><path d=\"m 5080,0 0,360\" id=\"gmark_127_0\" style=\"stroke: #888888; stroke-width: 0.5px; stroke-dasharray: 1px, 3px;\"/><path d=\"m 5120,0 0,360\" id=\"gmark_128_0\" style=\"stroke: #888888; stroke-width: 0.5px; stroke-dasharray: 1px, 3px;\"/><path d=\"m 5160,0 0,360\" id=\"gmark_129_0\" style=\"stroke: #888888; stroke-width: 0.5px; stroke-dasharray: 1px, 3px;\"/><path d=\"m 5200,0 0,360\" id=\"gmark_130_0\" style=\"stroke: #888888; stroke-width: 0.5px; stroke-dasharray: 1px, 3px;\"/><path d=\"m 5240,0 0,360\" id=\"gmark_131_0\" style=\"stroke: #888888; stroke-width: 0.5px; stroke-dasharray: 1px, 3px;\"/><path d=\"m 5280,0 0,360\" id=\"gmark_132_0\" style=\"stroke: #888888; stroke-width: 0.5px; stroke-dasharray: 1px, 3px;\"/><path d=\"m 5320,0 0,360\" id=\"gmark_133_0\" style=\"stroke: #888888; stroke-width: 0.5px; stroke-dasharray: 1px, 3px;\"/><path d=\"m 5360,0 0,360\" id=\"gmark_134_0\" style=\"stroke: #888888; stroke-width: 0.5px; stroke-dasharray: 1px, 3px;\"/><path d=\"m 5400,0 0,360\" id=\"gmark_135_0\" style=\"stroke: #888888; stroke-width: 0.5px; stroke-dasharray: 1px, 3px;\"/><path d=\"m 5440,0 0,360\" id=\"gmark_136_0\" style=\"stroke: #888888; stroke-width: 0.5px; stroke-dasharray: 1px, 3px;\"/><path d=\"m 5480,0 0,360\" id=\"gmark_137_0\" style=\"stroke: #888888; stroke-width: 0.5px; stroke-dasharray: 1px, 3px;\"/><path d=\"m 5520,0 0,360\" id=\"gmark_138_0\" style=\"stroke: #888888; stroke-width: 0.5px; stroke-dasharray: 1px, 3px;\"/><path d=\"m 5560,0 0,360\" id=\"gmark_139_0\" style=\"stroke: #888888; stroke-width: 0.5px; stroke-dasharray: 1px, 3px;\"/><path d=\"m 5600,0 0,360\" id=\"gmark_140_0\" style=\"stroke: #888888; stroke-width: 0.5px; stroke-dasharray: 1px, 3px;\"/><path d=\"m 5640,0 0,360\" id=\"gmark_141_0\" style=\"stroke: #888888; stroke-width: 0.5px; stroke-dasharray: 1px, 3px;\"/><path d=\"m 5680,0 0,360\" id=\"gmark_142_0\" style=\"stroke: #888888; stroke-width: 0.5px; stroke-dasharray: 1px, 3px;\"/><path d=\"m 5720,0 0,360\" id=\"gmark_143_0\" style=\"stroke: #888888; stroke-width: 0.5px; stroke-dasharray: 1px, 3px;\"/><path d=\"m 5760,0 0,360\" id=\"gmark_144_0\" style=\"stroke: #888888; stroke-width: 0.5px; stroke-dasharray: 1px, 3px;\"/><path d=\"m 5800,0 0,360\" id=\"gmark_145_0\" style=\"stroke: #888888; stroke-width: 0.5px; stroke-dasharray: 1px, 3px;\"/><path d=\"m 5840,0 0,360\" id=\"gmark_146_0\" style=\"stroke: #888888; stroke-width: 0.5px; stroke-dasharray: 1px, 3px;\"/><path d=\"m 5880,0 0,360\" id=\"gmark_147_0\" style=\"stroke: #888888; stroke-width: 0.5px; stroke-dasharray: 1px, 3px;\"/><path d=\"m 5920,0 0,360\" id=\"gmark_148_0\" style=\"stroke: #888888; stroke-width: 0.5px; stroke-dasharray: 1px, 3px;\"/><path d=\"m 5960,0 0,360\" id=\"gmark_149_0\" style=\"stroke: #888888; stroke-width: 0.5px; stroke-dasharray: 1px, 3px;\"/><path d=\"m 6000,0 0,360\" id=\"gmark_150_0\" style=\"stroke: #888888; stroke-width: 0.5px; stroke-dasharray: 1px, 3px;\"/><path d=\"m 6040,0 0,360\" id=\"gmark_151_0\" style=\"stroke: #888888; stroke-width: 0.5px; stroke-dasharray: 1px, 3px;\"/><path d=\"m 6080,0 0,360\" id=\"gmark_152_0\" style=\"stroke: #888888; stroke-width: 0.5px; stroke-dasharray: 1px, 3px;\"/><path d=\"m 6120,0 0,360\" id=\"gmark_153_0\" style=\"stroke: #888888; stroke-width: 0.5px; stroke-dasharray: 1px, 3px;\"/><path d=\"m 6160,0 0,360\" id=\"gmark_154_0\" style=\"stroke: #888888; stroke-width: 0.5px; stroke-dasharray: 1px, 3px;\"/><path d=\"m 6200,0 0,360\" id=\"gmark_155_0\" style=\"stroke: #888888; stroke-width: 0.5px; stroke-dasharray: 1px, 3px;\"/><path d=\"m 6240,0 0,360\" id=\"gmark_156_0\" style=\"stroke: #888888; stroke-width: 0.5px; stroke-dasharray: 1px, 3px;\"/><path d=\"m 6280,0 0,360\" id=\"gmark_157_0\" style=\"stroke: #888888; stroke-width: 0.5px; stroke-dasharray: 1px, 3px;\"/><path d=\"m 6320,0 0,360\" id=\"gmark_158_0\" style=\"stroke: #888888; stroke-width: 0.5px; stroke-dasharray: 1px, 3px;\"/><path d=\"m 6360,0 0,360\" id=\"gmark_159_0\" style=\"stroke: #888888; stroke-width: 0.5px; stroke-dasharray: 1px, 3px;\"/><path d=\"m 6400,0 0,360\" id=\"gmark_160_0\" style=\"stroke: #888888; stroke-width: 0.5px; stroke-dasharray: 1px, 3px;\"/><path d=\"m 6440,0 0,360\" id=\"gmark_161_0\" style=\"stroke: #888888; stroke-width: 0.5px; stroke-dasharray: 1px, 3px;\"/><path d=\"m 6480,0 0,360\" id=\"gmark_162_0\" style=\"stroke: #888888; stroke-width: 0.5px; stroke-dasharray: 1px, 3px;\"/><path d=\"m 6520,0 0,360\" id=\"gmark_163_0\" style=\"stroke: #888888; stroke-width: 0.5px; stroke-dasharray: 1px, 3px;\"/><path d=\"m 6560,0 0,360\" id=\"gmark_164_0\" style=\"stroke: #888888; stroke-width: 0.5px; stroke-dasharray: 1px, 3px;\"/><path d=\"m 6600,0 0,360\" id=\"gmark_165_0\" style=\"stroke: #888888; stroke-width: 0.5px; stroke-dasharray: 1px, 3px;\"/><path d=\"m 6640,0 0,360\" id=\"gmark_166_0\" style=\"stroke: #888888; stroke-width: 0.5px; stroke-dasharray: 1px, 3px;\"/><path d=\"m 6680,0 0,360\" id=\"gmark_167_0\" style=\"stroke: #888888; stroke-width: 0.5px; stroke-dasharray: 1px, 3px;\"/><path d=\"m 6720,0 0,360\" id=\"gmark_168_0\" style=\"stroke: #888888; stroke-width: 0.5px; stroke-dasharray: 1px, 3px;\"/><path d=\"m 6760,0 0,360\" id=\"gmark_169_0\" style=\"stroke: #888888; stroke-width: 0.5px; stroke-dasharray: 1px, 3px;\"/><path d=\"m 6800,0 0,360\" id=\"gmark_170_0\" style=\"stroke: #888888; stroke-width: 0.5px; stroke-dasharray: 1px, 3px;\"/><path d=\"m 6840,0 0,360\" id=\"gmark_171_0\" style=\"stroke: #888888; stroke-width: 0.5px; stroke-dasharray: 1px, 3px;\"/><path d=\"m 6880,0 0,360\" id=\"gmark_172_0\" style=\"stroke: #888888; stroke-width: 0.5px; stroke-dasharray: 1px, 3px;\"/><path d=\"m 6920,0 0,360\" id=\"gmark_173_0\" style=\"stroke: #888888; stroke-width: 0.5px; stroke-dasharray: 1px, 3px;\"/><path d=\"m 6960,0 0,360\" id=\"gmark_174_0\" style=\"stroke: #888888; stroke-width: 0.5px; stroke-dasharray: 1px, 3px;\"/><path d=\"m 7000,0 0,360\" id=\"gmark_175_0\" style=\"stroke: #888888; stroke-width: 0.5px; stroke-dasharray: 1px, 3px;\"/><path d=\"m 7040,0 0,360\" id=\"gmark_176_0\" style=\"stroke: #888888; stroke-width: 0.5px; stroke-dasharray: 1px, 3px;\"/><path d=\"m 7080,0 0,360\" id=\"gmark_177_0\" style=\"stroke: #888888; stroke-width: 0.5px; stroke-dasharray: 1px, 3px;\"/><path d=\"m 7120,0 0,360\" id=\"gmark_178_0\" style=\"stroke: #888888; stroke-width: 0.5px; stroke-dasharray: 1px, 3px;\"/><path d=\"m 7160,0 0,360\" id=\"gmark_179_0\" style=\"stroke: #888888; stroke-width: 0.5px; stroke-dasharray: 1px, 3px;\"/><path d=\"m 7200,0 0,360\" id=\"gmark_180_0\" style=\"stroke: #888888; stroke-width: 0.5px; stroke-dasharray: 1px, 3px;\"/><path d=\"m 7240,0 0,360\" id=\"gmark_181_0\" style=\"stroke: #888888; stroke-width: 0.5px; stroke-dasharray: 1px, 3px;\"/><path d=\"m 7280,0 0,360\" id=\"gmark_182_0\" style=\"stroke: #888888; stroke-width: 0.5px; stroke-dasharray: 1px, 3px;\"/><path d=\"m 7320,0 0,360\" id=\"gmark_183_0\" style=\"stroke: #888888; stroke-width: 0.5px; stroke-dasharray: 1px, 3px;\"/><path d=\"m 7360,0 0,360\" id=\"gmark_184_0\" style=\"stroke: #888888; stroke-width: 0.5px; stroke-dasharray: 1px, 3px;\"/><path d=\"m 7400,0 0,360\" id=\"gmark_185_0\" style=\"stroke: #888888; stroke-width: 0.5px; stroke-dasharray: 1px, 3px;\"/><path d=\"m 7440,0 0,360\" id=\"gmark_186_0\" style=\"stroke: #888888; stroke-width: 0.5px; stroke-dasharray: 1px, 3px;\"/><path d=\"m 7480,0 0,360\" id=\"gmark_187_0\" style=\"stroke: #888888; stroke-width: 0.5px; stroke-dasharray: 1px, 3px;\"/><path d=\"m 7520,0 0,360\" id=\"gmark_188_0\" style=\"stroke: #888888; stroke-width: 0.5px; stroke-dasharray: 1px, 3px;\"/><path d=\"m 7560,0 0,360\" id=\"gmark_189_0\" style=\"stroke: #888888; stroke-width: 0.5px; stroke-dasharray: 1px, 3px;\"/><path d=\"m 7600,0 0,360\" id=\"gmark_190_0\" style=\"stroke: #888888; stroke-width: 0.5px; stroke-dasharray: 1px, 3px;\"/><path d=\"m 7640,0 0,360\" id=\"gmark_191_0\" style=\"stroke: #888888; stroke-width: 0.5px; stroke-dasharray: 1px, 3px;\"/><path d=\"m 7680,0 0,360\" id=\"gmark_192_0\" style=\"stroke: #888888; stroke-width: 0.5px; stroke-dasharray: 1px, 3px;\"/><path d=\"m 7720,0 0,360\" id=\"gmark_193_0\" style=\"stroke: #888888; stroke-width: 0.5px; stroke-dasharray: 1px, 3px;\"/><path d=\"m 7760,0 0,360\" id=\"gmark_194_0\" style=\"stroke: #888888; stroke-width: 0.5px; stroke-dasharray: 1px, 3px;\"/><path d=\"m 7800,0 0,360\" id=\"gmark_195_0\" style=\"stroke: #888888; stroke-width: 0.5px; stroke-dasharray: 1px, 3px;\"/><path d=\"m 7840,0 0,360\" id=\"gmark_196_0\" style=\"stroke: #888888; stroke-width: 0.5px; stroke-dasharray: 1px, 3px;\"/><path d=\"m 7880,0 0,360\" id=\"gmark_197_0\" style=\"stroke: #888888; stroke-width: 0.5px; stroke-dasharray: 1px, 3px;\"/><path d=\"m 7920,0 0,360\" id=\"gmark_198_0\" style=\"stroke: #888888; stroke-width: 0.5px; stroke-dasharray: 1px, 3px;\"/><path d=\"m 7960,0 0,360\" id=\"gmark_199_0\" style=\"stroke: #888888; stroke-width: 0.5px; stroke-dasharray: 1px, 3px;\"/><path d=\"m 8000,0 0,360\" id=\"gmark_200_0\" style=\"stroke: #888888; stroke-width: 0.5px; stroke-dasharray: 1px, 3px;\"/><path d=\"m 8040,0 0,360\" id=\"gmark_201_0\" style=\"stroke: #888888; stroke-width: 0.5px; stroke-dasharray: 1px, 3px;\"/><path d=\"m 8080,0 0,360\" id=\"gmark_202_0\" style=\"stroke: #888888; stroke-width: 0.5px; stroke-dasharray: 1px, 3px;\"/><path d=\"m 8120,0 0,360\" id=\"gmark_203_0\" style=\"stroke: #888888; stroke-width: 0.5px; stroke-dasharray: 1px, 3px;\"/><path d=\"m 8160,0 0,360\" id=\"gmark_204_0\" style=\"stroke: #888888; stroke-width: 0.5px; stroke-dasharray: 1px, 3px;\"/><path d=\"m 8200,0 0,360\" id=\"gmark_205_0\" style=\"stroke: #888888; stroke-width: 0.5px; stroke-dasharray: 1px, 3px;\"/><path d=\"m 8240,0 0,360\" id=\"gmark_206_0\" style=\"stroke: #888888; stroke-width: 0.5px; stroke-dasharray: 1px, 3px;\"/><path d=\"m 8280,0 0,360\" id=\"gmark_207_0\" style=\"stroke: #888888; stroke-width: 0.5px; stroke-dasharray: 1px, 3px;\"/><path d=\"m 8320,0 0,360\" id=\"gmark_208_0\" style=\"stroke: #888888; stroke-width: 0.5px; stroke-dasharray: 1px, 3px;\"/><path d=\"m 8360,0 0,360\" id=\"gmark_209_0\" style=\"stroke: #888888; stroke-width: 0.5px; stroke-dasharray: 1px, 3px;\"/><path d=\"m 8400,0 0,360\" id=\"gmark_210_0\" style=\"stroke: #888888; stroke-width: 0.5px; stroke-dasharray: 1px, 3px;\"/><path d=\"m 8440,0 0,360\" id=\"gmark_211_0\" style=\"stroke: #888888; stroke-width: 0.5px; stroke-dasharray: 1px, 3px;\"/><path d=\"m 8480,0 0,360\" id=\"gmark_212_0\" style=\"stroke: #888888; stroke-width: 0.5px; stroke-dasharray: 1px, 3px;\"/><path d=\"m 8520,0 0,360\" id=\"gmark_213_0\" style=\"stroke: #888888; stroke-width: 0.5px; stroke-dasharray: 1px, 3px;\"/><path d=\"m 8560,0 0,360\" id=\"gmark_214_0\" style=\"stroke: #888888; stroke-width: 0.5px; stroke-dasharray: 1px, 3px;\"/><path d=\"m 8600,0 0,360\" id=\"gmark_215_0\" style=\"stroke: #888888; stroke-width: 0.5px; stroke-dasharray: 1px, 3px;\"/><path d=\"m 8640,0 0,360\" id=\"gmark_216_0\" style=\"stroke: #888888; stroke-width: 0.5px; stroke-dasharray: 1px, 3px;\"/><path d=\"m 8680,0 0,360\" id=\"gmark_217_0\" style=\"stroke: #888888; stroke-width: 0.5px; stroke-dasharray: 1px, 3px;\"/><path d=\"m 8720,0 0,360\" id=\"gmark_218_0\" style=\"stroke: #888888; stroke-width: 0.5px; stroke-dasharray: 1px, 3px;\"/><path d=\"m 8760,0 0,360\" id=\"gmark_219_0\" style=\"stroke: #888888; stroke-width: 0.5px; stroke-dasharray: 1px, 3px;\"/><path d=\"m 8800,0 0,360\" id=\"gmark_220_0\" style=\"stroke: #888888; stroke-width: 0.5px; stroke-dasharray: 1px, 3px;\"/><path d=\"m 8840,0 0,360\" id=\"gmark_221_0\" style=\"stroke: #888888; stroke-width: 0.5px; stroke-dasharray: 1px, 3px;\"/><path d=\"m 8880,0 0,360\" id=\"gmark_222_0\" style=\"stroke: #888888; stroke-width: 0.5px; stroke-dasharray: 1px, 3px;\"/><path d=\"m 8920,0 0,360\" id=\"gmark_223_0\" style=\"stroke: #888888; stroke-width: 0.5px; stroke-dasharray: 1px, 3px;\"/><path d=\"m 8960,0 0,360\" id=\"gmark_224_0\" style=\"stroke: #888888; stroke-width: 0.5px; stroke-dasharray: 1px, 3px;\"/><path d=\"m 9000,0 0,360\" id=\"gmark_225_0\" style=\"stroke: #888888; stroke-width: 0.5px; stroke-dasharray: 1px, 3px;\"/><path d=\"m 9040,0 0,360\" id=\"gmark_226_0\" style=\"stroke: #888888; stroke-width: 0.5px; stroke-dasharray: 1px, 3px;\"/><path d=\"m 9080,0 0,360\" id=\"gmark_227_0\" style=\"stroke: #888888; stroke-width: 0.5px; stroke-dasharray: 1px, 3px;\"/><path d=\"m 9120,0 0,360\" id=\"gmark_228_0\" style=\"stroke: #888888; stroke-width: 0.5px; stroke-dasharray: 1px, 3px;\"/><path d=\"m 9160,0 0,360\" id=\"gmark_229_0\" style=\"stroke: #888888; stroke-width: 0.5px; stroke-dasharray: 1px, 3px;\"/><path d=\"m 9200,0 0,360\" id=\"gmark_230_0\" style=\"stroke: #888888; stroke-width: 0.5px; stroke-dasharray: 1px, 3px;\"/><path d=\"m 9240,0 0,360\" id=\"gmark_231_0\" style=\"stroke: #888888; stroke-width: 0.5px; stroke-dasharray: 1px, 3px;\"/><path d=\"m 9280,0 0,360\" id=\"gmark_232_0\" style=\"stroke: #888888; stroke-width: 0.5px; stroke-dasharray: 1px, 3px;\"/><path d=\"m 9320,0 0,360\" id=\"gmark_233_0\" style=\"stroke: #888888; stroke-width: 0.5px; stroke-dasharray: 1px, 3px;\"/><path d=\"m 9360,0 0,360\" id=\"gmark_234_0\" style=\"stroke: #888888; stroke-width: 0.5px; stroke-dasharray: 1px, 3px;\"/><path d=\"m 9400,0 0,360\" id=\"gmark_235_0\" style=\"stroke: #888888; stroke-width: 0.5px; stroke-dasharray: 1px, 3px;\"/><path d=\"m 9440,0 0,360\" id=\"gmark_236_0\" style=\"stroke: #888888; stroke-width: 0.5px; stroke-dasharray: 1px, 3px;\"/><path d=\"m 9480,0 0,360\" id=\"gmark_237_0\" style=\"stroke: #888888; stroke-width: 0.5px; stroke-dasharray: 1px, 3px;\"/><path d=\"m 9520,0 0,360\" id=\"gmark_238_0\" style=\"stroke: #888888; stroke-width: 0.5px; stroke-dasharray: 1px, 3px;\"/><path d=\"m 9560,0 0,360\" id=\"gmark_239_0\" style=\"stroke: #888888; stroke-width: 0.5px; stroke-dasharray: 1px, 3px;\"/><path d=\"m 9600,0 0,360\" id=\"gmark_240_0\" style=\"stroke: #888888; stroke-width: 0.5px; stroke-dasharray: 1px, 3px;\"/><path d=\"m 9640,0 0,360\" id=\"gmark_241_0\" style=\"stroke: #888888; stroke-width: 0.5px; stroke-dasharray: 1px, 3px;\"/><path d=\"m 9680,0 0,360\" id=\"gmark_242_0\" style=\"stroke: #888888; stroke-width: 0.5px; stroke-dasharray: 1px, 3px;\"/><path d=\"m 9720,0 0,360\" id=\"gmark_243_0\" style=\"stroke: #888888; stroke-width: 0.5px; stroke-dasharray: 1px, 3px;\"/><path d=\"m 9760,0 0,360\" id=\"gmark_244_0\" style=\"stroke: #888888; stroke-width: 0.5px; stroke-dasharray: 1px, 3px;\"/><path d=\"m 9800,0 0,360\" id=\"gmark_245_0\" style=\"stroke: #888888; stroke-width: 0.5px; stroke-dasharray: 1px, 3px;\"/><path d=\"m 9840,0 0,360\" id=\"gmark_246_0\" style=\"stroke: #888888; stroke-width: 0.5px; stroke-dasharray: 1px, 3px;\"/><path d=\"m 9880,0 0,360\" id=\"gmark_247_0\" style=\"stroke: #888888; stroke-width: 0.5px; stroke-dasharray: 1px, 3px;\"/><path d=\"m 9920,0 0,360\" id=\"gmark_248_0\" style=\"stroke: #888888; stroke-width: 0.5px; stroke-dasharray: 1px, 3px;\"/><path d=\"m 9960,0 0,360\" id=\"gmark_249_0\" style=\"stroke: #888888; stroke-width: 0.5px; stroke-dasharray: 1px, 3px;\"/><path d=\"m 10000,0 0,360\" id=\"gmark_250_0\" style=\"stroke: #888888; stroke-width: 0.5px; stroke-dasharray: 1px, 3px;\"/><path d=\"m 10040,0 0,360\" id=\"gmark_251_0\" style=\"stroke: #888888; stroke-width: 0.5px; stroke-dasharray: 1px, 3px;\"/><path d=\"m 10080,0 0,360\" id=\"gmark_252_0\" style=\"stroke: #888888; stroke-width: 0.5px; stroke-dasharray: 1px, 3px;\"/><path d=\"m 10120,0 0,360\" id=\"gmark_253_0\" style=\"stroke: #888888; stroke-width: 0.5px; stroke-dasharray: 1px, 3px;\"/><path d=\"m 10160,0 0,360\" id=\"gmark_254_0\" style=\"stroke: #888888; stroke-width: 0.5px; stroke-dasharray: 1px, 3px;\"/><path d=\"m 10200,0 0,360\" id=\"gmark_255_0\" style=\"stroke: #888888; stroke-width: 0.5px; stroke-dasharray: 1px, 3px;\"/><path d=\"m 10240,0 0,360\" id=\"gmark_256_0\" style=\"stroke: #888888; stroke-width: 0.5px; stroke-dasharray: 1px, 3px;\"/><text fill=\"#000\" text-anchor=\"middle\" x=\"5120\" xml:space=\"preserve\" y=\"-13\"><tspan>Test Waveform</tspan></text><text class=\"muted\" text-anchor=\"middle\" x=\"20\" xml:space=\"preserve\" y=\"375\">1</text><text class=\"muted\" text-anchor=\"middle\" x=\"60\" xml:space=\"preserve\" y=\"375\">2</text><text class=\"muted\" text-anchor=\"middle\" x=\"100\" xml:space=\"preserve\" y=\"375\">3</text><text class=\"muted\" text-anchor=\"middle\" x=\"140\" xml:space=\"preserve\" y=\"375\">4</text><text class=\"muted\" text-anchor=\"middle\" x=\"180\" xml:space=\"preserve\" y=\"375\">5</text><text class=\"muted\" text-anchor=\"middle\" x=\"220\" xml:space=\"preserve\" y=\"375\">6</text><text class=\"muted\" text-anchor=\"middle\" x=\"260\" xml:space=\"preserve\" y=\"375\">7</text><text class=\"muted\" text-anchor=\"middle\" x=\"300\" xml:space=\"preserve\" y=\"375\">8</text><text class=\"muted\" text-anchor=\"middle\" x=\"340\" xml:space=\"preserve\" y=\"375\">9</text><text class=\"muted\" text-anchor=\"middle\" x=\"380\" xml:space=\"preserve\" y=\"375\">10</text><text class=\"muted\" text-anchor=\"middle\" x=\"420\" xml:space=\"preserve\" y=\"375\">11</text><text class=\"muted\" text-anchor=\"middle\" x=\"460\" xml:space=\"preserve\" y=\"375\">12</text><text class=\"muted\" text-anchor=\"middle\" x=\"500\" xml:space=\"preserve\" y=\"375\">13</text><text class=\"muted\" text-anchor=\"middle\" x=\"540\" xml:space=\"preserve\" y=\"375\">14</text><text class=\"muted\" text-anchor=\"middle\" x=\"580\" xml:space=\"preserve\" y=\"375\">15</text><text class=\"muted\" text-anchor=\"middle\" x=\"620\" xml:space=\"preserve\" y=\"375\">16</text><text class=\"muted\" text-anchor=\"middle\" x=\"660\" xml:space=\"preserve\" y=\"375\">17</text><text class=\"muted\" text-anchor=\"middle\" x=\"700\" xml:space=\"preserve\" y=\"375\">18</text><text class=\"muted\" text-anchor=\"middle\" x=\"740\" xml:space=\"preserve\" y=\"375\">19</text><text class=\"muted\" text-anchor=\"middle\" x=\"780\" xml:space=\"preserve\" y=\"375\">20</text><text class=\"muted\" text-anchor=\"middle\" x=\"820\" xml:space=\"preserve\" y=\"375\">21</text><text class=\"muted\" text-anchor=\"middle\" x=\"860\" xml:space=\"preserve\" y=\"375\">22</text><text class=\"muted\" text-anchor=\"middle\" x=\"900\" xml:space=\"preserve\" y=\"375\">23</text><text class=\"muted\" text-anchor=\"middle\" x=\"940\" xml:space=\"preserve\" y=\"375\">24</text><text class=\"muted\" text-anchor=\"middle\" x=\"980\" xml:space=\"preserve\" y=\"375\">25</text><text class=\"muted\" text-anchor=\"middle\" x=\"1020\" xml:space=\"preserve\" y=\"375\">26</text><text class=\"muted\" text-anchor=\"middle\" x=\"1060\" xml:space=\"preserve\" y=\"375\">27</text><text class=\"muted\" text-anchor=\"middle\" x=\"1100\" xml:space=\"preserve\" y=\"375\">28</text><text class=\"muted\" text-anchor=\"middle\" x=\"1140\" xml:space=\"preserve\" y=\"375\">29</text><text class=\"muted\" text-anchor=\"middle\" x=\"1180\" xml:space=\"preserve\" y=\"375\">30</text><text class=\"muted\" text-anchor=\"middle\" x=\"1220\" xml:space=\"preserve\" y=\"375\">31</text><text class=\"muted\" text-anchor=\"middle\" x=\"1260\" xml:space=\"preserve\" y=\"375\">32</text><text class=\"muted\" text-anchor=\"middle\" x=\"1300\" xml:space=\"preserve\" y=\"375\">33</text><text class=\"muted\" text-anchor=\"middle\" x=\"1340\" xml:space=\"preserve\" y=\"375\">34</text><text class=\"muted\" text-anchor=\"middle\" x=\"1380\" xml:space=\"preserve\" y=\"375\">35</text><text class=\"muted\" text-anchor=\"middle\" x=\"1420\" xml:space=\"preserve\" y=\"375\">36</text><text class=\"muted\" text-anchor=\"middle\" x=\"1460\" xml:space=\"preserve\" y=\"375\">37</text><text class=\"muted\" text-anchor=\"middle\" x=\"1500\" xml:space=\"preserve\" y=\"375\">38</text><text class=\"muted\" text-anchor=\"middle\" x=\"1540\" xml:space=\"preserve\" y=\"375\">39</text><text class=\"muted\" text-anchor=\"middle\" x=\"1580\" xml:space=\"preserve\" y=\"375\">40</text><text class=\"muted\" text-anchor=\"middle\" x=\"1620\" xml:space=\"preserve\" y=\"375\">41</text><text class=\"muted\" text-anchor=\"middle\" x=\"1660\" xml:space=\"preserve\" y=\"375\">42</text><text class=\"muted\" text-anchor=\"middle\" x=\"1700\" xml:space=\"preserve\" y=\"375\">43</text><text class=\"muted\" text-anchor=\"middle\" x=\"1740\" xml:space=\"preserve\" y=\"375\">44</text><text class=\"muted\" text-anchor=\"middle\" x=\"1780\" xml:space=\"preserve\" y=\"375\">45</text><text class=\"muted\" text-anchor=\"middle\" x=\"1820\" xml:space=\"preserve\" y=\"375\">46</text><text class=\"muted\" text-anchor=\"middle\" x=\"1860\" xml:space=\"preserve\" y=\"375\">47</text><text class=\"muted\" text-anchor=\"middle\" x=\"1900\" xml:space=\"preserve\" y=\"375\">48</text><text class=\"muted\" text-anchor=\"middle\" x=\"1940\" xml:space=\"preserve\" y=\"375\">49</text><text class=\"muted\" text-anchor=\"middle\" x=\"1980\" xml:space=\"preserve\" y=\"375\">50</text><text class=\"muted\" text-anchor=\"middle\" x=\"2020\" xml:space=\"preserve\" y=\"375\">51</text><text class=\"muted\" text-anchor=\"middle\" x=\"2060\" xml:space=\"preserve\" y=\"375\">52</text><text class=\"muted\" text-anchor=\"middle\" x=\"2100\" xml:space=\"preserve\" y=\"375\">53</text><text class=\"muted\" text-anchor=\"middle\" x=\"2140\" xml:space=\"preserve\" y=\"375\">54</text><text class=\"muted\" text-anchor=\"middle\" x=\"2180\" xml:space=\"preserve\" y=\"375\">55</text><text class=\"muted\" text-anchor=\"middle\" x=\"2220\" xml:space=\"preserve\" y=\"375\">56</text><text class=\"muted\" text-anchor=\"middle\" x=\"2260\" xml:space=\"preserve\" y=\"375\">57</text><text class=\"muted\" text-anchor=\"middle\" x=\"2300\" xml:space=\"preserve\" y=\"375\">58</text><text class=\"muted\" text-anchor=\"middle\" x=\"2340\" xml:space=\"preserve\" y=\"375\">59</text><text class=\"muted\" text-anchor=\"middle\" x=\"2380\" xml:space=\"preserve\" y=\"375\">60</text><text class=\"muted\" text-anchor=\"middle\" x=\"2420\" xml:space=\"preserve\" y=\"375\">61</text><text class=\"muted\" text-anchor=\"middle\" x=\"2460\" xml:space=\"preserve\" y=\"375\">62</text><text class=\"muted\" text-anchor=\"middle\" x=\"2500\" xml:space=\"preserve\" y=\"375\">63</text><text class=\"muted\" text-anchor=\"middle\" x=\"2540\" xml:space=\"preserve\" y=\"375\">64</text><text class=\"muted\" text-anchor=\"middle\" x=\"2580\" xml:space=\"preserve\" y=\"375\">65</text><text class=\"muted\" text-anchor=\"middle\" x=\"2620\" xml:space=\"preserve\" y=\"375\">66</text><text class=\"muted\" text-anchor=\"middle\" x=\"2660\" xml:space=\"preserve\" y=\"375\">67</text><text class=\"muted\" text-anchor=\"middle\" x=\"2700\" xml:space=\"preserve\" y=\"375\">68</text><text class=\"muted\" text-anchor=\"middle\" x=\"2740\" xml:space=\"preserve\" y=\"375\">69</text><text class=\"muted\" text-anchor=\"middle\" x=\"2780\" xml:space=\"preserve\" y=\"375\">70</text><text class=\"muted\" text-anchor=\"middle\" x=\"2820\" xml:space=\"preserve\" y=\"375\">71</text><text class=\"muted\" text-anchor=\"middle\" x=\"2860\" xml:space=\"preserve\" y=\"375\">72</text><text class=\"muted\" text-anchor=\"middle\" x=\"2900\" xml:space=\"preserve\" y=\"375\">73</text><text class=\"muted\" text-anchor=\"middle\" x=\"2940\" xml:space=\"preserve\" y=\"375\">74</text><text class=\"muted\" text-anchor=\"middle\" x=\"2980\" xml:space=\"preserve\" y=\"375\">75</text><text class=\"muted\" text-anchor=\"middle\" x=\"3020\" xml:space=\"preserve\" y=\"375\">76</text><text class=\"muted\" text-anchor=\"middle\" x=\"3060\" xml:space=\"preserve\" y=\"375\">77</text><text class=\"muted\" text-anchor=\"middle\" x=\"3100\" xml:space=\"preserve\" y=\"375\">78</text><text class=\"muted\" text-anchor=\"middle\" x=\"3140\" xml:space=\"preserve\" y=\"375\">79</text><text class=\"muted\" text-anchor=\"middle\" x=\"3180\" xml:space=\"preserve\" y=\"375\">80</text><text class=\"muted\" text-anchor=\"middle\" x=\"3220\" xml:space=\"preserve\" y=\"375\">81</text><text class=\"muted\" text-anchor=\"middle\" x=\"3260\" xml:space=\"preserve\" y=\"375\">82</text><text class=\"muted\" text-anchor=\"middle\" x=\"3300\" xml:space=\"preserve\" y=\"375\">83</text><text class=\"muted\" text-anchor=\"middle\" x=\"3340\" xml:space=\"preserve\" y=\"375\">84</text><text class=\"muted\" text-anchor=\"middle\" x=\"3380\" xml:space=\"preserve\" y=\"375\">85</text><text class=\"muted\" text-anchor=\"middle\" x=\"3420\" xml:space=\"preserve\" y=\"375\">86</text><text class=\"muted\" text-anchor=\"middle\" x=\"3460\" xml:space=\"preserve\" y=\"375\">87</text><text class=\"muted\" text-anchor=\"middle\" x=\"3500\" xml:space=\"preserve\" y=\"375\">88</text><text class=\"muted\" text-anchor=\"middle\" x=\"3540\" xml:space=\"preserve\" y=\"375\">89</text><text class=\"muted\" text-anchor=\"middle\" x=\"3580\" xml:space=\"preserve\" y=\"375\">90</text><text class=\"muted\" text-anchor=\"middle\" x=\"3620\" xml:space=\"preserve\" y=\"375\">91</text><text class=\"muted\" text-anchor=\"middle\" x=\"3660\" xml:space=\"preserve\" y=\"375\">92</text><text class=\"muted\" text-anchor=\"middle\" x=\"3700\" xml:space=\"preserve\" y=\"375\">93</text><text class=\"muted\" text-anchor=\"middle\" x=\"3740\" xml:space=\"preserve\" y=\"375\">94</text><text class=\"muted\" text-anchor=\"middle\" x=\"3780\" xml:space=\"preserve\" y=\"375\">95</text><text class=\"muted\" text-anchor=\"middle\" x=\"3820\" xml:space=\"preserve\" y=\"375\">96</text><text class=\"muted\" text-anchor=\"middle\" x=\"3860\" xml:space=\"preserve\" y=\"375\">97</text><text class=\"muted\" text-anchor=\"middle\" x=\"3900\" xml:space=\"preserve\" y=\"375\">98</text><text class=\"muted\" text-anchor=\"middle\" x=\"3940\" xml:space=\"preserve\" y=\"375\">99</text><text class=\"muted\" text-anchor=\"middle\" x=\"3980\" xml:space=\"preserve\" y=\"375\">100</text><text class=\"muted\" text-anchor=\"middle\" x=\"4020\" xml:space=\"preserve\" y=\"375\">101</text><text class=\"muted\" text-anchor=\"middle\" x=\"4060\" xml:space=\"preserve\" y=\"375\">102</text><text class=\"muted\" text-anchor=\"middle\" x=\"4100\" xml:space=\"preserve\" y=\"375\">103</text><text class=\"muted\" text-anchor=\"middle\" x=\"4140\" xml:space=\"preserve\" y=\"375\">104</text><text class=\"muted\" text-anchor=\"middle\" x=\"4180\" xml:space=\"preserve\" y=\"375\">105</text><text class=\"muted\" text-anchor=\"middle\" x=\"4220\" xml:space=\"preserve\" y=\"375\">106</text><text class=\"muted\" text-anchor=\"middle\" x=\"4260\" xml:space=\"preserve\" y=\"375\">107</text><text class=\"muted\" text-anchor=\"middle\" x=\"4300\" xml:space=\"preserve\" y=\"375\">108</text><text class=\"muted\" text-anchor=\"middle\" x=\"4340\" xml:space=\"preserve\" y=\"375\">109</text><text class=\"muted\" text-anchor=\"middle\" x=\"4380\" xml:space=\"preserve\" y=\"375\">110</text><text class=\"muted\" text-anchor=\"middle\" x=\"4420\" xml:space=\"preserve\" y=\"375\">111</text><text class=\"muted\" text-anchor=\"middle\" x=\"4460\" xml:space=\"preserve\" y=\"375\">112</text><text class=\"muted\" text-anchor=\"middle\" x=\"4500\" xml:space=\"preserve\" y=\"375\">113</text><text class=\"muted\" text-anchor=\"middle\" x=\"4540\" xml:space=\"preserve\" y=\"375\">114</text><text class=\"muted\" text-anchor=\"middle\" x=\"4580\" xml:space=\"preserve\" y=\"375\">115</text><text class=\"muted\" text-anchor=\"middle\" x=\"4620\" xml:space=\"preserve\" y=\"375\">116</text><text class=\"muted\" text-anchor=\"middle\" x=\"4660\" xml:space=\"preserve\" y=\"375\">117</text><text class=\"muted\" text-anchor=\"middle\" x=\"4700\" xml:space=\"preserve\" y=\"375\">118</text><text class=\"muted\" text-anchor=\"middle\" x=\"4740\" xml:space=\"preserve\" y=\"375\">119</text><text class=\"muted\" text-anchor=\"middle\" x=\"4780\" xml:space=\"preserve\" y=\"375\">120</text><text class=\"muted\" text-anchor=\"middle\" x=\"4820\" xml:space=\"preserve\" y=\"375\">121</text><text class=\"muted\" text-anchor=\"middle\" x=\"4860\" xml:space=\"preserve\" y=\"375\">122</text><text class=\"muted\" text-anchor=\"middle\" x=\"4900\" xml:space=\"preserve\" y=\"375\">123</text><text class=\"muted\" text-anchor=\"middle\" x=\"4940\" xml:space=\"preserve\" y=\"375\">124</text><text class=\"muted\" text-anchor=\"middle\" x=\"4980\" xml:space=\"preserve\" y=\"375\">125</text><text class=\"muted\" text-anchor=\"middle\" x=\"5020\" xml:space=\"preserve\" y=\"375\">126</text><text class=\"muted\" text-anchor=\"middle\" x=\"5060\" xml:space=\"preserve\" y=\"375\">127</text><text class=\"muted\" text-anchor=\"middle\" x=\"5100\" xml:space=\"preserve\" y=\"375\">128</text><text class=\"muted\" text-anchor=\"middle\" x=\"5140\" xml:space=\"preserve\" y=\"375\">129</text><text class=\"muted\" text-anchor=\"middle\" x=\"5180\" xml:space=\"preserve\" y=\"375\">130</text><text class=\"muted\" text-anchor=\"middle\" x=\"5220\" xml:space=\"preserve\" y=\"375\">131</text><text class=\"muted\" text-anchor=\"middle\" x=\"5260\" xml:space=\"preserve\" y=\"375\">132</text><text class=\"muted\" text-anchor=\"middle\" x=\"5300\" xml:space=\"preserve\" y=\"375\">133</text><text class=\"muted\" text-anchor=\"middle\" x=\"5340\" xml:space=\"preserve\" y=\"375\">134</text><text class=\"muted\" text-anchor=\"middle\" x=\"5380\" xml:space=\"preserve\" y=\"375\">135</text><text class=\"muted\" text-anchor=\"middle\" x=\"5420\" xml:space=\"preserve\" y=\"375\">136</text><text class=\"muted\" text-anchor=\"middle\" x=\"5460\" xml:space=\"preserve\" y=\"375\">137</text><text class=\"muted\" text-anchor=\"middle\" x=\"5500\" xml:space=\"preserve\" y=\"375\">138</text><text class=\"muted\" text-anchor=\"middle\" x=\"5540\" xml:space=\"preserve\" y=\"375\">139</text><text class=\"muted\" text-anchor=\"middle\" x=\"5580\" xml:space=\"preserve\" y=\"375\">140</text><text class=\"muted\" text-anchor=\"middle\" x=\"5620\" xml:space=\"preserve\" y=\"375\">141</text><text class=\"muted\" text-anchor=\"middle\" x=\"5660\" xml:space=\"preserve\" y=\"375\">142</text><text class=\"muted\" text-anchor=\"middle\" x=\"5700\" xml:space=\"preserve\" y=\"375\">143</text><text class=\"muted\" text-anchor=\"middle\" x=\"5740\" xml:space=\"preserve\" y=\"375\">144</text><text class=\"muted\" text-anchor=\"middle\" x=\"5780\" xml:space=\"preserve\" y=\"375\">145</text><text class=\"muted\" text-anchor=\"middle\" x=\"5820\" xml:space=\"preserve\" y=\"375\">146</text><text class=\"muted\" text-anchor=\"middle\" x=\"5860\" xml:space=\"preserve\" y=\"375\">147</text><text class=\"muted\" text-anchor=\"middle\" x=\"5900\" xml:space=\"preserve\" y=\"375\">148</text><text class=\"muted\" text-anchor=\"middle\" x=\"5940\" xml:space=\"preserve\" y=\"375\">149</text><text class=\"muted\" text-anchor=\"middle\" x=\"5980\" xml:space=\"preserve\" y=\"375\">150</text><text class=\"muted\" text-anchor=\"middle\" x=\"6020\" xml:space=\"preserve\" y=\"375\">151</text><text class=\"muted\" text-anchor=\"middle\" x=\"6060\" xml:space=\"preserve\" y=\"375\">152</text><text class=\"muted\" text-anchor=\"middle\" x=\"6100\" xml:space=\"preserve\" y=\"375\">153</text><text class=\"muted\" text-anchor=\"middle\" x=\"6140\" xml:space=\"preserve\" y=\"375\">154</text><text class=\"muted\" text-anchor=\"middle\" x=\"6180\" xml:space=\"preserve\" y=\"375\">155</text><text class=\"muted\" text-anchor=\"middle\" x=\"6220\" xml:space=\"preserve\" y=\"375\">156</text><text class=\"muted\" text-anchor=\"middle\" x=\"6260\" xml:space=\"preserve\" y=\"375\">157</text><text class=\"muted\" text-anchor=\"middle\" x=\"6300\" xml:space=\"preserve\" y=\"375\">158</text><text class=\"muted\" text-anchor=\"middle\" x=\"6340\" xml:space=\"preserve\" y=\"375\">159</text><text class=\"muted\" text-anchor=\"middle\" x=\"6380\" xml:space=\"preserve\" y=\"375\">160</text><text class=\"muted\" text-anchor=\"middle\" x=\"6420\" xml:space=\"preserve\" y=\"375\">161</text><text class=\"muted\" text-anchor=\"middle\" x=\"6460\" xml:space=\"preserve\" y=\"375\">162</text><text class=\"muted\" text-anchor=\"middle\" x=\"6500\" xml:space=\"preserve\" y=\"375\">163</text><text class=\"muted\" text-anchor=\"middle\" x=\"6540\" xml:space=\"preserve\" y=\"375\">164</text><text class=\"muted\" text-anchor=\"middle\" x=\"6580\" xml:space=\"preserve\" y=\"375\">165</text><text class=\"muted\" text-anchor=\"middle\" x=\"6620\" xml:space=\"preserve\" y=\"375\">166</text><text class=\"muted\" text-anchor=\"middle\" x=\"6660\" xml:space=\"preserve\" y=\"375\">167</text><text class=\"muted\" text-anchor=\"middle\" x=\"6700\" xml:space=\"preserve\" y=\"375\">168</text><text class=\"muted\" text-anchor=\"middle\" x=\"6740\" xml:space=\"preserve\" y=\"375\">169</text><text class=\"muted\" text-anchor=\"middle\" x=\"6780\" xml:space=\"preserve\" y=\"375\">170</text><text class=\"muted\" text-anchor=\"middle\" x=\"6820\" xml:space=\"preserve\" y=\"375\">171</text><text class=\"muted\" text-anchor=\"middle\" x=\"6860\" xml:space=\"preserve\" y=\"375\">172</text><text class=\"muted\" text-anchor=\"middle\" x=\"6900\" xml:space=\"preserve\" y=\"375\">173</text><text class=\"muted\" text-anchor=\"middle\" x=\"6940\" xml:space=\"preserve\" y=\"375\">174</text><text class=\"muted\" text-anchor=\"middle\" x=\"6980\" xml:space=\"preserve\" y=\"375\">175</text><text class=\"muted\" text-anchor=\"middle\" x=\"7020\" xml:space=\"preserve\" y=\"375\">176</text><text class=\"muted\" text-anchor=\"middle\" x=\"7060\" xml:space=\"preserve\" y=\"375\">177</text><text class=\"muted\" text-anchor=\"middle\" x=\"7100\" xml:space=\"preserve\" y=\"375\">178</text><text class=\"muted\" text-anchor=\"middle\" x=\"7140\" xml:space=\"preserve\" y=\"375\">179</text><text class=\"muted\" text-anchor=\"middle\" x=\"7180\" xml:space=\"preserve\" y=\"375\">180</text><text class=\"muted\" text-anchor=\"middle\" x=\"7220\" xml:space=\"preserve\" y=\"375\">181</text><text class=\"muted\" text-anchor=\"middle\" x=\"7260\" xml:space=\"preserve\" y=\"375\">182</text><text class=\"muted\" text-anchor=\"middle\" x=\"7300\" xml:space=\"preserve\" y=\"375\">183</text><text class=\"muted\" text-anchor=\"middle\" x=\"7340\" xml:space=\"preserve\" y=\"375\">184</text><text class=\"muted\" text-anchor=\"middle\" x=\"7380\" xml:space=\"preserve\" y=\"375\">185</text><text class=\"muted\" text-anchor=\"middle\" x=\"7420\" xml:space=\"preserve\" y=\"375\">186</text><text class=\"muted\" text-anchor=\"middle\" x=\"7460\" xml:space=\"preserve\" y=\"375\">187</text><text class=\"muted\" text-anchor=\"middle\" x=\"7500\" xml:space=\"preserve\" y=\"375\">188</text><text class=\"muted\" text-anchor=\"middle\" x=\"7540\" xml:space=\"preserve\" y=\"375\">189</text><text class=\"muted\" text-anchor=\"middle\" x=\"7580\" xml:space=\"preserve\" y=\"375\">190</text><text class=\"muted\" text-anchor=\"middle\" x=\"7620\" xml:space=\"preserve\" y=\"375\">191</text><text class=\"muted\" text-anchor=\"middle\" x=\"7660\" xml:space=\"preserve\" y=\"375\">192</text><text class=\"muted\" text-anchor=\"middle\" x=\"7700\" xml:space=\"preserve\" y=\"375\">193</text><text class=\"muted\" text-anchor=\"middle\" x=\"7740\" xml:space=\"preserve\" y=\"375\">194</text><text class=\"muted\" text-anchor=\"middle\" x=\"7780\" xml:space=\"preserve\" y=\"375\">195</text><text class=\"muted\" text-anchor=\"middle\" x=\"7820\" xml:space=\"preserve\" y=\"375\">196</text><text class=\"muted\" text-anchor=\"middle\" x=\"7860\" xml:space=\"preserve\" y=\"375\">197</text><text class=\"muted\" text-anchor=\"middle\" x=\"7900\" xml:space=\"preserve\" y=\"375\">198</text><text class=\"muted\" text-anchor=\"middle\" x=\"7940\" xml:space=\"preserve\" y=\"375\">199</text><text class=\"muted\" text-anchor=\"middle\" x=\"7980\" xml:space=\"preserve\" y=\"375\">200</text><text class=\"muted\" text-anchor=\"middle\" x=\"8020\" xml:space=\"preserve\" y=\"375\">201</text><text class=\"muted\" text-anchor=\"middle\" x=\"8060\" xml:space=\"preserve\" y=\"375\">202</text><text class=\"muted\" text-anchor=\"middle\" x=\"8100\" xml:space=\"preserve\" y=\"375\">203</text><text class=\"muted\" text-anchor=\"middle\" x=\"8140\" xml:space=\"preserve\" y=\"375\">204</text><text class=\"muted\" text-anchor=\"middle\" x=\"8180\" xml:space=\"preserve\" y=\"375\">205</text><text class=\"muted\" text-anchor=\"middle\" x=\"8220\" xml:space=\"preserve\" y=\"375\">206</text><text class=\"muted\" text-anchor=\"middle\" x=\"8260\" xml:space=\"preserve\" y=\"375\">207</text><text class=\"muted\" text-anchor=\"middle\" x=\"8300\" xml:space=\"preserve\" y=\"375\">208</text><text class=\"muted\" text-anchor=\"middle\" x=\"8340\" xml:space=\"preserve\" y=\"375\">209</text><text class=\"muted\" text-anchor=\"middle\" x=\"8380\" xml:space=\"preserve\" y=\"375\">210</text><text class=\"muted\" text-anchor=\"middle\" x=\"8420\" xml:space=\"preserve\" y=\"375\">211</text><text class=\"muted\" text-anchor=\"middle\" x=\"8460\" xml:space=\"preserve\" y=\"375\">212</text><text class=\"muted\" text-anchor=\"middle\" x=\"8500\" xml:space=\"preserve\" y=\"375\">213</text><text class=\"muted\" text-anchor=\"middle\" x=\"8540\" xml:space=\"preserve\" y=\"375\">214</text><text class=\"muted\" text-anchor=\"middle\" x=\"8580\" xml:space=\"preserve\" y=\"375\">215</text><text class=\"muted\" text-anchor=\"middle\" x=\"8620\" xml:space=\"preserve\" y=\"375\">216</text><text class=\"muted\" text-anchor=\"middle\" x=\"8660\" xml:space=\"preserve\" y=\"375\">217</text><text class=\"muted\" text-anchor=\"middle\" x=\"8700\" xml:space=\"preserve\" y=\"375\">218</text><text class=\"muted\" text-anchor=\"middle\" x=\"8740\" xml:space=\"preserve\" y=\"375\">219</text><text class=\"muted\" text-anchor=\"middle\" x=\"8780\" xml:space=\"preserve\" y=\"375\">220</text><text class=\"muted\" text-anchor=\"middle\" x=\"8820\" xml:space=\"preserve\" y=\"375\">221</text><text class=\"muted\" text-anchor=\"middle\" x=\"8860\" xml:space=\"preserve\" y=\"375\">222</text><text class=\"muted\" text-anchor=\"middle\" x=\"8900\" xml:space=\"preserve\" y=\"375\">223</text><text class=\"muted\" text-anchor=\"middle\" x=\"8940\" xml:space=\"preserve\" y=\"375\">224</text><text class=\"muted\" text-anchor=\"middle\" x=\"8980\" xml:space=\"preserve\" y=\"375\">225</text><text class=\"muted\" text-anchor=\"middle\" x=\"9020\" xml:space=\"preserve\" y=\"375\">226</text><text class=\"muted\" text-anchor=\"middle\" x=\"9060\" xml:space=\"preserve\" y=\"375\">227</text><text class=\"muted\" text-anchor=\"middle\" x=\"9100\" xml:space=\"preserve\" y=\"375\">228</text><text class=\"muted\" text-anchor=\"middle\" x=\"9140\" xml:space=\"preserve\" y=\"375\">229</text><text class=\"muted\" text-anchor=\"middle\" x=\"9180\" xml:space=\"preserve\" y=\"375\">230</text><text class=\"muted\" text-anchor=\"middle\" x=\"9220\" xml:space=\"preserve\" y=\"375\">231</text><text class=\"muted\" text-anchor=\"middle\" x=\"9260\" xml:space=\"preserve\" y=\"375\">232</text><text class=\"muted\" text-anchor=\"middle\" x=\"9300\" xml:space=\"preserve\" y=\"375\">233</text><text class=\"muted\" text-anchor=\"middle\" x=\"9340\" xml:space=\"preserve\" y=\"375\">234</text><text class=\"muted\" text-anchor=\"middle\" x=\"9380\" xml:space=\"preserve\" y=\"375\">235</text><text class=\"muted\" text-anchor=\"middle\" x=\"9420\" xml:space=\"preserve\" y=\"375\">236</text><text class=\"muted\" text-anchor=\"middle\" x=\"9460\" xml:space=\"preserve\" y=\"375\">237</text><text class=\"muted\" text-anchor=\"middle\" x=\"9500\" xml:space=\"preserve\" y=\"375\">238</text><text class=\"muted\" text-anchor=\"middle\" x=\"9540\" xml:space=\"preserve\" y=\"375\">239</text><text class=\"muted\" text-anchor=\"middle\" x=\"9580\" xml:space=\"preserve\" y=\"375\">240</text><text class=\"muted\" text-anchor=\"middle\" x=\"9620\" xml:space=\"preserve\" y=\"375\">241</text><text class=\"muted\" text-anchor=\"middle\" x=\"9660\" xml:space=\"preserve\" y=\"375\">242</text><text class=\"muted\" text-anchor=\"middle\" x=\"9700\" xml:space=\"preserve\" y=\"375\">243</text><text class=\"muted\" text-anchor=\"middle\" x=\"9740\" xml:space=\"preserve\" y=\"375\">244</text><text class=\"muted\" text-anchor=\"middle\" x=\"9780\" xml:space=\"preserve\" y=\"375\">245</text><text class=\"muted\" text-anchor=\"middle\" x=\"9820\" xml:space=\"preserve\" y=\"375\">246</text><text class=\"muted\" text-anchor=\"middle\" x=\"9860\" xml:space=\"preserve\" y=\"375\">247</text><text class=\"muted\" text-anchor=\"middle\" x=\"9900\" xml:space=\"preserve\" y=\"375\">248</text><text class=\"muted\" text-anchor=\"middle\" x=\"9940\" xml:space=\"preserve\" y=\"375\">249</text><text class=\"muted\" text-anchor=\"middle\" x=\"9980\" xml:space=\"preserve\" y=\"375\">250</text><text class=\"muted\" text-anchor=\"middle\" x=\"10020\" xml:space=\"preserve\" y=\"375\">251</text><text class=\"muted\" text-anchor=\"middle\" x=\"10060\" xml:space=\"preserve\" y=\"375\">252</text><text class=\"muted\" text-anchor=\"middle\" x=\"10100\" xml:space=\"preserve\" y=\"375\">253</text><text class=\"muted\" text-anchor=\"middle\" x=\"10140\" xml:space=\"preserve\" y=\"375\">254</text><text class=\"muted\" text-anchor=\"middle\" x=\"10180\" xml:space=\"preserve\" y=\"375\">255</text><text class=\"muted\" text-anchor=\"middle\" x=\"10220\" xml:space=\"preserve\" y=\"375\">256</text></g><g id=\"wavelane_0_0\" transform=\"translate(0,5)\"><text class=\"info\" text-anchor=\"end\" x=\"-10\" xml:space=\"preserve\" y=\"15\"><tspan>clk</tspan></text><g id=\"wavelane_draw_0_0\" transform=\"translate(0, 0)\"><use transform=\"translate(0)\" xlink:href=\"#000\" xmlns:xlink=\"http://www.w3.org/1999/xlink\"/><use transform=\"translate(20)\" xlink:href=\"#000\" xmlns:xlink=\"http://www.w3.org/1999/xlink\"/><use transform=\"translate(40)\" xlink:href=\"#pclk\" xmlns:xlink=\"http://www.w3.org/1999/xlink\"/><use transform=\"translate(60)\" xlink:href=\"#111\" xmlns:xlink=\"http://www.w3.org/1999/xlink\"/><use transform=\"translate(80)\" xlink:href=\"#nclk\" xmlns:xlink=\"http://www.w3.org/1999/xlink\"/><use transform=\"translate(100)\" xlink:href=\"#000\" xmlns:xlink=\"http://www.w3.org/1999/xlink\"/><use transform=\"translate(120)\" xlink:href=\"#pclk\" xmlns:xlink=\"http://www.w3.org/1999/xlink\"/><use transform=\"translate(140)\" xlink:href=\"#111\" xmlns:xlink=\"http://www.w3.org/1999/xlink\"/><use transform=\"translate(160)\" xlink:href=\"#nclk\" xmlns:xlink=\"http://www.w3.org/1999/xlink\"/><use transform=\"translate(180)\" xlink:href=\"#000\" xmlns:xlink=\"http://www.w3.org/1999/xlink\"/><use transform=\"translate(200)\" xlink:href=\"#pclk\" xmlns:xlink=\"http://www.w3.org/1999/xlink\"/><use transform=\"translate(220)\" xlink:href=\"#111\" xmlns:xlink=\"http://www.w3.org/1999/xlink\"/><use transform=\"translate(240)\" xlink:href=\"#nclk\" xmlns:xlink=\"http://www.w3.org/1999/xlink\"/><use transform=\"translate(260)\" xlink:href=\"#000\" xmlns:xlink=\"http://www.w3.org/1999/xlink\"/><use transform=\"translate(280)\" xlink:href=\"#pclk\" xmlns:xlink=\"http://www.w3.org/1999/xlink\"/><use transform=\"translate(300)\" xlink:href=\"#111\" xmlns:xlink=\"http://www.w3.org/1999/xlink\"/><use transform=\"translate(320)\" xlink:href=\"#nclk\" xmlns:xlink=\"http://www.w3.org/1999/xlink\"/><use transform=\"translate(340)\" xlink:href=\"#000\" xmlns:xlink=\"http://www.w3.org/1999/xlink\"/><use transform=\"translate(360)\" xlink:href=\"#pclk\" xmlns:xlink=\"http://www.w3.org/1999/xlink\"/><use transform=\"translate(380)\" xlink:href=\"#111\" xmlns:xlink=\"http://www.w3.org/1999/xlink\"/><use transform=\"translate(400)\" xlink:href=\"#nclk\" xmlns:xlink=\"http://www.w3.org/1999/xlink\"/><use transform=\"translate(420)\" xlink:href=\"#000\" xmlns:xlink=\"http://www.w3.org/1999/xlink\"/><use transform=\"translate(440)\" xlink:href=\"#pclk\" xmlns:xlink=\"http://www.w3.org/1999/xlink\"/><use transform=\"translate(460)\" xlink:href=\"#111\" xmlns:xlink=\"http://www.w3.org/1999/xlink\"/><use transform=\"translate(480)\" xlink:href=\"#nclk\" xmlns:xlink=\"http://www.w3.org/1999/xlink\"/><use transform=\"translate(500)\" xlink:href=\"#000\" xmlns:xlink=\"http://www.w3.org/1999/xlink\"/><use transform=\"translate(520)\" xlink:href=\"#pclk\" xmlns:xlink=\"http://www.w3.org/1999/xlink\"/><use transform=\"translate(540)\" xlink:href=\"#111\" xmlns:xlink=\"http://www.w3.org/1999/xlink\"/><use transform=\"translate(560)\" xlink:href=\"#nclk\" xmlns:xlink=\"http://www.w3.org/1999/xlink\"/><use transform=\"translate(580)\" xlink:href=\"#000\" xmlns:xlink=\"http://www.w3.org/1999/xlink\"/><use transform=\"translate(600)\" xlink:href=\"#pclk\" xmlns:xlink=\"http://www.w3.org/1999/xlink\"/><use transform=\"translate(620)\" xlink:href=\"#111\" xmlns:xlink=\"http://www.w3.org/1999/xlink\"/><use transform=\"translate(640)\" xlink:href=\"#nclk\" xmlns:xlink=\"http://www.w3.org/1999/xlink\"/><use transform=\"translate(660)\" xlink:href=\"#000\" xmlns:xlink=\"http://www.w3.org/1999/xlink\"/><use transform=\"translate(680)\" xlink:href=\"#pclk\" xmlns:xlink=\"http://www.w3.org/1999/xlink\"/><use transform=\"translate(700)\" xlink:href=\"#111\" xmlns:xlink=\"http://www.w3.org/1999/xlink\"/><use transform=\"translate(720)\" xlink:href=\"#nclk\" xmlns:xlink=\"http://www.w3.org/1999/xlink\"/><use transform=\"translate(740)\" xlink:href=\"#000\" xmlns:xlink=\"http://www.w3.org/1999/xlink\"/><use transform=\"translate(760)\" xlink:href=\"#pclk\" xmlns:xlink=\"http://www.w3.org/1999/xlink\"/><use transform=\"translate(780)\" xlink:href=\"#111\" xmlns:xlink=\"http://www.w3.org/1999/xlink\"/><use transform=\"translate(800)\" xlink:href=\"#nclk\" xmlns:xlink=\"http://www.w3.org/1999/xlink\"/><use transform=\"translate(820)\" xlink:href=\"#000\" xmlns:xlink=\"http://www.w3.org/1999/xlink\"/><use transform=\"translate(840)\" xlink:href=\"#pclk\" xmlns:xlink=\"http://www.w3.org/1999/xlink\"/><use transform=\"translate(860)\" xlink:href=\"#111\" xmlns:xlink=\"http://www.w3.org/1999/xlink\"/><use transform=\"translate(880)\" xlink:href=\"#nclk\" xmlns:xlink=\"http://www.w3.org/1999/xlink\"/><use transform=\"translate(900)\" xlink:href=\"#000\" xmlns:xlink=\"http://www.w3.org/1999/xlink\"/><use transform=\"translate(920)\" xlink:href=\"#pclk\" xmlns:xlink=\"http://www.w3.org/1999/xlink\"/><use transform=\"translate(940)\" xlink:href=\"#111\" xmlns:xlink=\"http://www.w3.org/1999/xlink\"/><use transform=\"translate(960)\" xlink:href=\"#nclk\" xmlns:xlink=\"http://www.w3.org/1999/xlink\"/><use transform=\"translate(980)\" xlink:href=\"#000\" xmlns:xlink=\"http://www.w3.org/1999/xlink\"/><use transform=\"translate(1000)\" xlink:href=\"#pclk\" xmlns:xlink=\"http://www.w3.org/1999/xlink\"/><use transform=\"translate(1020)\" xlink:href=\"#111\" xmlns:xlink=\"http://www.w3.org/1999/xlink\"/><use transform=\"translate(1040)\" xlink:href=\"#nclk\" xmlns:xlink=\"http://www.w3.org/1999/xlink\"/><use transform=\"translate(1060)\" xlink:href=\"#000\" xmlns:xlink=\"http://www.w3.org/1999/xlink\"/><use transform=\"translate(1080)\" xlink:href=\"#pclk\" xmlns:xlink=\"http://www.w3.org/1999/xlink\"/><use transform=\"translate(1100)\" xlink:href=\"#111\" xmlns:xlink=\"http://www.w3.org/1999/xlink\"/><use transform=\"translate(1120)\" xlink:href=\"#nclk\" xmlns:xlink=\"http://www.w3.org/1999/xlink\"/><use transform=\"translate(1140)\" xlink:href=\"#000\" xmlns:xlink=\"http://www.w3.org/1999/xlink\"/><use transform=\"translate(1160)\" xlink:href=\"#pclk\" xmlns:xlink=\"http://www.w3.org/1999/xlink\"/><use transform=\"translate(1180)\" xlink:href=\"#111\" xmlns:xlink=\"http://www.w3.org/1999/xlink\"/><use transform=\"translate(1200)\" xlink:href=\"#nclk\" xmlns:xlink=\"http://www.w3.org/1999/xlink\"/><use transform=\"translate(1220)\" xlink:href=\"#000\" xmlns:xlink=\"http://www.w3.org/1999/xlink\"/><use transform=\"translate(1240)\" xlink:href=\"#pclk\" xmlns:xlink=\"http://www.w3.org/1999/xlink\"/><use transform=\"translate(1260)\" xlink:href=\"#111\" xmlns:xlink=\"http://www.w3.org/1999/xlink\"/><use transform=\"translate(1280)\" xlink:href=\"#nclk\" xmlns:xlink=\"http://www.w3.org/1999/xlink\"/><use transform=\"translate(1300)\" xlink:href=\"#000\" xmlns:xlink=\"http://www.w3.org/1999/xlink\"/><use transform=\"translate(1320)\" xlink:href=\"#pclk\" xmlns:xlink=\"http://www.w3.org/1999/xlink\"/><use transform=\"translate(1340)\" xlink:href=\"#111\" xmlns:xlink=\"http://www.w3.org/1999/xlink\"/><use transform=\"translate(1360)\" xlink:href=\"#nclk\" xmlns:xlink=\"http://www.w3.org/1999/xlink\"/><use transform=\"translate(1380)\" xlink:href=\"#000\" xmlns:xlink=\"http://www.w3.org/1999/xlink\"/><use transform=\"translate(1400)\" xlink:href=\"#pclk\" xmlns:xlink=\"http://www.w3.org/1999/xlink\"/><use transform=\"translate(1420)\" xlink:href=\"#111\" xmlns:xlink=\"http://www.w3.org/1999/xlink\"/><use transform=\"translate(1440)\" xlink:href=\"#nclk\" xmlns:xlink=\"http://www.w3.org/1999/xlink\"/><use transform=\"translate(1460)\" xlink:href=\"#000\" xmlns:xlink=\"http://www.w3.org/1999/xlink\"/><use transform=\"translate(1480)\" xlink:href=\"#pclk\" xmlns:xlink=\"http://www.w3.org/1999/xlink\"/><use transform=\"translate(1500)\" xlink:href=\"#111\" xmlns:xlink=\"http://www.w3.org/1999/xlink\"/><use transform=\"translate(1520)\" xlink:href=\"#nclk\" xmlns:xlink=\"http://www.w3.org/1999/xlink\"/><use transform=\"translate(1540)\" xlink:href=\"#000\" xmlns:xlink=\"http://www.w3.org/1999/xlink\"/><use transform=\"translate(1560)\" xlink:href=\"#pclk\" xmlns:xlink=\"http://www.w3.org/1999/xlink\"/><use transform=\"translate(1580)\" xlink:href=\"#111\" xmlns:xlink=\"http://www.w3.org/1999/xlink\"/><use transform=\"translate(1600)\" xlink:href=\"#nclk\" xmlns:xlink=\"http://www.w3.org/1999/xlink\"/><use transform=\"translate(1620)\" xlink:href=\"#000\" xmlns:xlink=\"http://www.w3.org/1999/xlink\"/><use transform=\"translate(1640)\" xlink:href=\"#pclk\" xmlns:xlink=\"http://www.w3.org/1999/xlink\"/><use transform=\"translate(1660)\" xlink:href=\"#111\" xmlns:xlink=\"http://www.w3.org/1999/xlink\"/><use transform=\"translate(1680)\" xlink:href=\"#nclk\" xmlns:xlink=\"http://www.w3.org/1999/xlink\"/><use transform=\"translate(1700)\" xlink:href=\"#000\" xmlns:xlink=\"http://www.w3.org/1999/xlink\"/><use transform=\"translate(1720)\" xlink:href=\"#pclk\" xmlns:xlink=\"http://www.w3.org/1999/xlink\"/><use transform=\"translate(1740)\" xlink:href=\"#111\" xmlns:xlink=\"http://www.w3.org/1999/xlink\"/><use transform=\"translate(1760)\" xlink:href=\"#nclk\" xmlns:xlink=\"http://www.w3.org/1999/xlink\"/><use transform=\"translate(1780)\" xlink:href=\"#000\" xmlns:xlink=\"http://www.w3.org/1999/xlink\"/><use transform=\"translate(1800)\" xlink:href=\"#pclk\" xmlns:xlink=\"http://www.w3.org/1999/xlink\"/><use transform=\"translate(1820)\" xlink:href=\"#111\" xmlns:xlink=\"http://www.w3.org/1999/xlink\"/><use transform=\"translate(1840)\" xlink:href=\"#nclk\" xmlns:xlink=\"http://www.w3.org/1999/xlink\"/><use transform=\"translate(1860)\" xlink:href=\"#000\" xmlns:xlink=\"http://www.w3.org/1999/xlink\"/><use transform=\"translate(1880)\" xlink:href=\"#pclk\" xmlns:xlink=\"http://www.w3.org/1999/xlink\"/><use transform=\"translate(1900)\" xlink:href=\"#111\" xmlns:xlink=\"http://www.w3.org/1999/xlink\"/><use transform=\"translate(1920)\" xlink:href=\"#nclk\" xmlns:xlink=\"http://www.w3.org/1999/xlink\"/><use transform=\"translate(1940)\" xlink:href=\"#000\" xmlns:xlink=\"http://www.w3.org/1999/xlink\"/><use transform=\"translate(1960)\" xlink:href=\"#pclk\" xmlns:xlink=\"http://www.w3.org/1999/xlink\"/><use transform=\"translate(1980)\" xlink:href=\"#111\" xmlns:xlink=\"http://www.w3.org/1999/xlink\"/><use transform=\"translate(2000)\" xlink:href=\"#nclk\" xmlns:xlink=\"http://www.w3.org/1999/xlink\"/><use transform=\"translate(2020)\" xlink:href=\"#000\" xmlns:xlink=\"http://www.w3.org/1999/xlink\"/><use transform=\"translate(2040)\" xlink:href=\"#pclk\" xmlns:xlink=\"http://www.w3.org/1999/xlink\"/><use transform=\"translate(2060)\" xlink:href=\"#111\" xmlns:xlink=\"http://www.w3.org/1999/xlink\"/><use transform=\"translate(2080)\" xlink:href=\"#nclk\" xmlns:xlink=\"http://www.w3.org/1999/xlink\"/><use transform=\"translate(2100)\" xlink:href=\"#000\" xmlns:xlink=\"http://www.w3.org/1999/xlink\"/><use transform=\"translate(2120)\" xlink:href=\"#pclk\" xmlns:xlink=\"http://www.w3.org/1999/xlink\"/><use transform=\"translate(2140)\" xlink:href=\"#111\" xmlns:xlink=\"http://www.w3.org/1999/xlink\"/><use transform=\"translate(2160)\" xlink:href=\"#nclk\" xmlns:xlink=\"http://www.w3.org/1999/xlink\"/><use transform=\"translate(2180)\" xlink:href=\"#000\" xmlns:xlink=\"http://www.w3.org/1999/xlink\"/><use transform=\"translate(2200)\" xlink:href=\"#pclk\" xmlns:xlink=\"http://www.w3.org/1999/xlink\"/><use transform=\"translate(2220)\" xlink:href=\"#111\" xmlns:xlink=\"http://www.w3.org/1999/xlink\"/><use transform=\"translate(2240)\" xlink:href=\"#nclk\" xmlns:xlink=\"http://www.w3.org/1999/xlink\"/><use transform=\"translate(2260)\" xlink:href=\"#000\" xmlns:xlink=\"http://www.w3.org/1999/xlink\"/><use transform=\"translate(2280)\" xlink:href=\"#pclk\" xmlns:xlink=\"http://www.w3.org/1999/xlink\"/><use transform=\"translate(2300)\" xlink:href=\"#111\" xmlns:xlink=\"http://www.w3.org/1999/xlink\"/><use transform=\"translate(2320)\" xlink:href=\"#nclk\" xmlns:xlink=\"http://www.w3.org/1999/xlink\"/><use transform=\"translate(2340)\" xlink:href=\"#000\" xmlns:xlink=\"http://www.w3.org/1999/xlink\"/><use transform=\"translate(2360)\" xlink:href=\"#pclk\" xmlns:xlink=\"http://www.w3.org/1999/xlink\"/><use transform=\"translate(2380)\" xlink:href=\"#111\" xmlns:xlink=\"http://www.w3.org/1999/xlink\"/><use transform=\"translate(2400)\" xlink:href=\"#nclk\" xmlns:xlink=\"http://www.w3.org/1999/xlink\"/><use transform=\"translate(2420)\" xlink:href=\"#000\" xmlns:xlink=\"http://www.w3.org/1999/xlink\"/><use transform=\"translate(2440)\" xlink:href=\"#pclk\" xmlns:xlink=\"http://www.w3.org/1999/xlink\"/><use transform=\"translate(2460)\" xlink:href=\"#111\" xmlns:xlink=\"http://www.w3.org/1999/xlink\"/><use transform=\"translate(2480)\" xlink:href=\"#nclk\" xmlns:xlink=\"http://www.w3.org/1999/xlink\"/><use transform=\"translate(2500)\" xlink:href=\"#000\" xmlns:xlink=\"http://www.w3.org/1999/xlink\"/><use transform=\"translate(2520)\" xlink:href=\"#pclk\" xmlns:xlink=\"http://www.w3.org/1999/xlink\"/><use transform=\"translate(2540)\" xlink:href=\"#111\" xmlns:xlink=\"http://www.w3.org/1999/xlink\"/><use transform=\"translate(2560)\" xlink:href=\"#nclk\" xmlns:xlink=\"http://www.w3.org/1999/xlink\"/><use transform=\"translate(2580)\" xlink:href=\"#000\" xmlns:xlink=\"http://www.w3.org/1999/xlink\"/><use transform=\"translate(2600)\" xlink:href=\"#pclk\" xmlns:xlink=\"http://www.w3.org/1999/xlink\"/><use transform=\"translate(2620)\" xlink:href=\"#111\" xmlns:xlink=\"http://www.w3.org/1999/xlink\"/><use transform=\"translate(2640)\" xlink:href=\"#nclk\" xmlns:xlink=\"http://www.w3.org/1999/xlink\"/><use transform=\"translate(2660)\" xlink:href=\"#000\" xmlns:xlink=\"http://www.w3.org/1999/xlink\"/><use transform=\"translate(2680)\" xlink:href=\"#pclk\" xmlns:xlink=\"http://www.w3.org/1999/xlink\"/><use transform=\"translate(2700)\" xlink:href=\"#111\" xmlns:xlink=\"http://www.w3.org/1999/xlink\"/><use transform=\"translate(2720)\" xlink:href=\"#nclk\" xmlns:xlink=\"http://www.w3.org/1999/xlink\"/><use transform=\"translate(2740)\" xlink:href=\"#000\" xmlns:xlink=\"http://www.w3.org/1999/xlink\"/><use transform=\"translate(2760)\" xlink:href=\"#pclk\" xmlns:xlink=\"http://www.w3.org/1999/xlink\"/><use transform=\"translate(2780)\" xlink:href=\"#111\" xmlns:xlink=\"http://www.w3.org/1999/xlink\"/><use transform=\"translate(2800)\" xlink:href=\"#nclk\" xmlns:xlink=\"http://www.w3.org/1999/xlink\"/><use transform=\"translate(2820)\" xlink:href=\"#000\" xmlns:xlink=\"http://www.w3.org/1999/xlink\"/><use transform=\"translate(2840)\" xlink:href=\"#pclk\" xmlns:xlink=\"http://www.w3.org/1999/xlink\"/><use transform=\"translate(2860)\" xlink:href=\"#111\" xmlns:xlink=\"http://www.w3.org/1999/xlink\"/><use transform=\"translate(2880)\" xlink:href=\"#nclk\" xmlns:xlink=\"http://www.w3.org/1999/xlink\"/><use transform=\"translate(2900)\" xlink:href=\"#000\" xmlns:xlink=\"http://www.w3.org/1999/xlink\"/><use transform=\"translate(2920)\" xlink:href=\"#pclk\" xmlns:xlink=\"http://www.w3.org/1999/xlink\"/><use transform=\"translate(2940)\" xlink:href=\"#111\" xmlns:xlink=\"http://www.w3.org/1999/xlink\"/><use transform=\"translate(2960)\" xlink:href=\"#nclk\" xmlns:xlink=\"http://www.w3.org/1999/xlink\"/><use transform=\"translate(2980)\" xlink:href=\"#000\" xmlns:xlink=\"http://www.w3.org/1999/xlink\"/><use transform=\"translate(3000)\" xlink:href=\"#pclk\" xmlns:xlink=\"http://www.w3.org/1999/xlink\"/><use transform=\"translate(3020)\" xlink:href=\"#111\" xmlns:xlink=\"http://www.w3.org/1999/xlink\"/><use transform=\"translate(3040)\" xlink:href=\"#nclk\" xmlns:xlink=\"http://www.w3.org/1999/xlink\"/><use transform=\"translate(3060)\" xlink:href=\"#000\" xmlns:xlink=\"http://www.w3.org/1999/xlink\"/><use transform=\"translate(3080)\" xlink:href=\"#pclk\" xmlns:xlink=\"http://www.w3.org/1999/xlink\"/><use transform=\"translate(3100)\" xlink:href=\"#111\" xmlns:xlink=\"http://www.w3.org/1999/xlink\"/><use transform=\"translate(3120)\" xlink:href=\"#nclk\" xmlns:xlink=\"http://www.w3.org/1999/xlink\"/><use transform=\"translate(3140)\" xlink:href=\"#000\" xmlns:xlink=\"http://www.w3.org/1999/xlink\"/><use transform=\"translate(3160)\" xlink:href=\"#pclk\" xmlns:xlink=\"http://www.w3.org/1999/xlink\"/><use transform=\"translate(3180)\" xlink:href=\"#111\" xmlns:xlink=\"http://www.w3.org/1999/xlink\"/><use transform=\"translate(3200)\" xlink:href=\"#nclk\" xmlns:xlink=\"http://www.w3.org/1999/xlink\"/><use transform=\"translate(3220)\" xlink:href=\"#000\" xmlns:xlink=\"http://www.w3.org/1999/xlink\"/><use transform=\"translate(3240)\" xlink:href=\"#pclk\" xmlns:xlink=\"http://www.w3.org/1999/xlink\"/><use transform=\"translate(3260)\" xlink:href=\"#111\" xmlns:xlink=\"http://www.w3.org/1999/xlink\"/><use transform=\"translate(3280)\" xlink:href=\"#nclk\" xmlns:xlink=\"http://www.w3.org/1999/xlink\"/><use transform=\"translate(3300)\" xlink:href=\"#000\" xmlns:xlink=\"http://www.w3.org/1999/xlink\"/><use transform=\"translate(3320)\" xlink:href=\"#pclk\" xmlns:xlink=\"http://www.w3.org/1999/xlink\"/><use transform=\"translate(3340)\" xlink:href=\"#111\" xmlns:xlink=\"http://www.w3.org/1999/xlink\"/><use transform=\"translate(3360)\" xlink:href=\"#nclk\" xmlns:xlink=\"http://www.w3.org/1999/xlink\"/><use transform=\"translate(3380)\" xlink:href=\"#000\" xmlns:xlink=\"http://www.w3.org/1999/xlink\"/><use transform=\"translate(3400)\" xlink:href=\"#pclk\" xmlns:xlink=\"http://www.w3.org/1999/xlink\"/><use transform=\"translate(3420)\" xlink:href=\"#111\" xmlns:xlink=\"http://www.w3.org/1999/xlink\"/><use transform=\"translate(3440)\" xlink:href=\"#nclk\" xmlns:xlink=\"http://www.w3.org/1999/xlink\"/><use transform=\"translate(3460)\" xlink:href=\"#000\" xmlns:xlink=\"http://www.w3.org/1999/xlink\"/><use transform=\"translate(3480)\" xlink:href=\"#pclk\" xmlns:xlink=\"http://www.w3.org/1999/xlink\"/><use transform=\"translate(3500)\" xlink:href=\"#111\" xmlns:xlink=\"http://www.w3.org/1999/xlink\"/><use transform=\"translate(3520)\" xlink:href=\"#nclk\" xmlns:xlink=\"http://www.w3.org/1999/xlink\"/><use transform=\"translate(3540)\" xlink:href=\"#000\" xmlns:xlink=\"http://www.w3.org/1999/xlink\"/><use transform=\"translate(3560)\" xlink:href=\"#pclk\" xmlns:xlink=\"http://www.w3.org/1999/xlink\"/><use transform=\"translate(3580)\" xlink:href=\"#111\" xmlns:xlink=\"http://www.w3.org/1999/xlink\"/><use transform=\"translate(3600)\" xlink:href=\"#nclk\" xmlns:xlink=\"http://www.w3.org/1999/xlink\"/><use transform=\"translate(3620)\" xlink:href=\"#000\" xmlns:xlink=\"http://www.w3.org/1999/xlink\"/><use transform=\"translate(3640)\" xlink:href=\"#pclk\" xmlns:xlink=\"http://www.w3.org/1999/xlink\"/><use transform=\"translate(3660)\" xlink:href=\"#111\" xmlns:xlink=\"http://www.w3.org/1999/xlink\"/><use transform=\"translate(3680)\" xlink:href=\"#nclk\" xmlns:xlink=\"http://www.w3.org/1999/xlink\"/><use transform=\"translate(3700)\" xlink:href=\"#000\" xmlns:xlink=\"http://www.w3.org/1999/xlink\"/><use transform=\"translate(3720)\" xlink:href=\"#pclk\" xmlns:xlink=\"http://www.w3.org/1999/xlink\"/><use transform=\"translate(3740)\" xlink:href=\"#111\" xmlns:xlink=\"http://www.w3.org/1999/xlink\"/><use transform=\"translate(3760)\" xlink:href=\"#nclk\" xmlns:xlink=\"http://www.w3.org/1999/xlink\"/><use transform=\"translate(3780)\" xlink:href=\"#000\" xmlns:xlink=\"http://www.w3.org/1999/xlink\"/><use transform=\"translate(3800)\" xlink:href=\"#pclk\" xmlns:xlink=\"http://www.w3.org/1999/xlink\"/><use transform=\"translate(3820)\" xlink:href=\"#111\" xmlns:xlink=\"http://www.w3.org/1999/xlink\"/><use transform=\"translate(3840)\" xlink:href=\"#nclk\" xmlns:xlink=\"http://www.w3.org/1999/xlink\"/><use transform=\"translate(3860)\" xlink:href=\"#000\" xmlns:xlink=\"http://www.w3.org/1999/xlink\"/><use transform=\"translate(3880)\" xlink:href=\"#pclk\" xmlns:xlink=\"http://www.w3.org/1999/xlink\"/><use transform=\"translate(3900)\" xlink:href=\"#111\" xmlns:xlink=\"http://www.w3.org/1999/xlink\"/><use transform=\"translate(3920)\" xlink:href=\"#nclk\" xmlns:xlink=\"http://www.w3.org/1999/xlink\"/><use transform=\"translate(3940)\" xlink:href=\"#000\" xmlns:xlink=\"http://www.w3.org/1999/xlink\"/><use transform=\"translate(3960)\" xlink:href=\"#pclk\" xmlns:xlink=\"http://www.w3.org/1999/xlink\"/><use transform=\"translate(3980)\" xlink:href=\"#111\" xmlns:xlink=\"http://www.w3.org/1999/xlink\"/><use transform=\"translate(4000)\" xlink:href=\"#nclk\" xmlns:xlink=\"http://www.w3.org/1999/xlink\"/><use transform=\"translate(4020)\" xlink:href=\"#000\" xmlns:xlink=\"http://www.w3.org/1999/xlink\"/><use transform=\"translate(4040)\" xlink:href=\"#pclk\" xmlns:xlink=\"http://www.w3.org/1999/xlink\"/><use transform=\"translate(4060)\" xlink:href=\"#111\" xmlns:xlink=\"http://www.w3.org/1999/xlink\"/><use transform=\"translate(4080)\" xlink:href=\"#nclk\" xmlns:xlink=\"http://www.w3.org/1999/xlink\"/><use transform=\"translate(4100)\" xlink:href=\"#000\" xmlns:xlink=\"http://www.w3.org/1999/xlink\"/><use transform=\"translate(4120)\" xlink:href=\"#pclk\" xmlns:xlink=\"http://www.w3.org/1999/xlink\"/><use transform=\"translate(4140)\" xlink:href=\"#111\" xmlns:xlink=\"http://www.w3.org/1999/xlink\"/><use transform=\"translate(4160)\" xlink:href=\"#nclk\" xmlns:xlink=\"http://www.w3.org/1999/xlink\"/><use transform=\"translate(4180)\" xlink:href=\"#000\" xmlns:xlink=\"http://www.w3.org/1999/xlink\"/><use transform=\"translate(4200)\" xlink:href=\"#pclk\" xmlns:xlink=\"http://www.w3.org/1999/xlink\"/><use transform=\"translate(4220)\" xlink:href=\"#111\" xmlns:xlink=\"http://www.w3.org/1999/xlink\"/><use transform=\"translate(4240)\" xlink:href=\"#nclk\" xmlns:xlink=\"http://www.w3.org/1999/xlink\"/><use transform=\"translate(4260)\" xlink:href=\"#000\" xmlns:xlink=\"http://www.w3.org/1999/xlink\"/><use transform=\"translate(4280)\" xlink:href=\"#pclk\" xmlns:xlink=\"http://www.w3.org/1999/xlink\"/><use transform=\"translate(4300)\" xlink:href=\"#111\" xmlns:xlink=\"http://www.w3.org/1999/xlink\"/><use transform=\"translate(4320)\" xlink:href=\"#nclk\" xmlns:xlink=\"http://www.w3.org/1999/xlink\"/><use transform=\"translate(4340)\" xlink:href=\"#000\" xmlns:xlink=\"http://www.w3.org/1999/xlink\"/><use transform=\"translate(4360)\" xlink:href=\"#pclk\" xmlns:xlink=\"http://www.w3.org/1999/xlink\"/><use transform=\"translate(4380)\" xlink:href=\"#111\" xmlns:xlink=\"http://www.w3.org/1999/xlink\"/><use transform=\"translate(4400)\" xlink:href=\"#nclk\" xmlns:xlink=\"http://www.w3.org/1999/xlink\"/><use transform=\"translate(4420)\" xlink:href=\"#000\" xmlns:xlink=\"http://www.w3.org/1999/xlink\"/><use transform=\"translate(4440)\" xlink:href=\"#pclk\" xmlns:xlink=\"http://www.w3.org/1999/xlink\"/><use transform=\"translate(4460)\" xlink:href=\"#111\" xmlns:xlink=\"http://www.w3.org/1999/xlink\"/><use transform=\"translate(4480)\" xlink:href=\"#nclk\" xmlns:xlink=\"http://www.w3.org/1999/xlink\"/><use transform=\"translate(4500)\" xlink:href=\"#000\" xmlns:xlink=\"http://www.w3.org/1999/xlink\"/><use transform=\"translate(4520)\" xlink:href=\"#pclk\" xmlns:xlink=\"http://www.w3.org/1999/xlink\"/><use transform=\"translate(4540)\" xlink:href=\"#111\" xmlns:xlink=\"http://www.w3.org/1999/xlink\"/><use transform=\"translate(4560)\" xlink:href=\"#nclk\" xmlns:xlink=\"http://www.w3.org/1999/xlink\"/><use transform=\"translate(4580)\" xlink:href=\"#000\" xmlns:xlink=\"http://www.w3.org/1999/xlink\"/><use transform=\"translate(4600)\" xlink:href=\"#pclk\" xmlns:xlink=\"http://www.w3.org/1999/xlink\"/><use transform=\"translate(4620)\" xlink:href=\"#111\" xmlns:xlink=\"http://www.w3.org/1999/xlink\"/><use transform=\"translate(4640)\" xlink:href=\"#nclk\" xmlns:xlink=\"http://www.w3.org/1999/xlink\"/><use transform=\"translate(4660)\" xlink:href=\"#000\" xmlns:xlink=\"http://www.w3.org/1999/xlink\"/><use transform=\"translate(4680)\" xlink:href=\"#pclk\" xmlns:xlink=\"http://www.w3.org/1999/xlink\"/><use transform=\"translate(4700)\" xlink:href=\"#111\" xmlns:xlink=\"http://www.w3.org/1999/xlink\"/><use transform=\"translate(4720)\" xlink:href=\"#nclk\" xmlns:xlink=\"http://www.w3.org/1999/xlink\"/><use transform=\"translate(4740)\" xlink:href=\"#000\" xmlns:xlink=\"http://www.w3.org/1999/xlink\"/><use transform=\"translate(4760)\" xlink:href=\"#pclk\" xmlns:xlink=\"http://www.w3.org/1999/xlink\"/><use transform=\"translate(4780)\" xlink:href=\"#111\" xmlns:xlink=\"http://www.w3.org/1999/xlink\"/><use transform=\"translate(4800)\" xlink:href=\"#nclk\" xmlns:xlink=\"http://www.w3.org/1999/xlink\"/><use transform=\"translate(4820)\" xlink:href=\"#000\" xmlns:xlink=\"http://www.w3.org/1999/xlink\"/><use transform=\"translate(4840)\" xlink:href=\"#pclk\" xmlns:xlink=\"http://www.w3.org/1999/xlink\"/><use transform=\"translate(4860)\" xlink:href=\"#111\" xmlns:xlink=\"http://www.w3.org/1999/xlink\"/><use transform=\"translate(4880)\" xlink:href=\"#nclk\" xmlns:xlink=\"http://www.w3.org/1999/xlink\"/><use transform=\"translate(4900)\" xlink:href=\"#000\" xmlns:xlink=\"http://www.w3.org/1999/xlink\"/><use transform=\"translate(4920)\" xlink:href=\"#pclk\" xmlns:xlink=\"http://www.w3.org/1999/xlink\"/><use transform=\"translate(4940)\" xlink:href=\"#111\" xmlns:xlink=\"http://www.w3.org/1999/xlink\"/><use transform=\"translate(4960)\" xlink:href=\"#nclk\" xmlns:xlink=\"http://www.w3.org/1999/xlink\"/><use transform=\"translate(4980)\" xlink:href=\"#000\" xmlns:xlink=\"http://www.w3.org/1999/xlink\"/><use transform=\"translate(5000)\" xlink:href=\"#pclk\" xmlns:xlink=\"http://www.w3.org/1999/xlink\"/><use transform=\"translate(5020)\" xlink:href=\"#111\" xmlns:xlink=\"http://www.w3.org/1999/xlink\"/><use transform=\"translate(5040)\" xlink:href=\"#nclk\" xmlns:xlink=\"http://www.w3.org/1999/xlink\"/><use transform=\"translate(5060)\" xlink:href=\"#000\" xmlns:xlink=\"http://www.w3.org/1999/xlink\"/><use transform=\"translate(5080)\" xlink:href=\"#pclk\" xmlns:xlink=\"http://www.w3.org/1999/xlink\"/><use transform=\"translate(5100)\" xlink:href=\"#111\" xmlns:xlink=\"http://www.w3.org/1999/xlink\"/><use transform=\"translate(5120)\" xlink:href=\"#nclk\" xmlns:xlink=\"http://www.w3.org/1999/xlink\"/><use transform=\"translate(5140)\" xlink:href=\"#000\" xmlns:xlink=\"http://www.w3.org/1999/xlink\"/><use transform=\"translate(5160)\" xlink:href=\"#pclk\" xmlns:xlink=\"http://www.w3.org/1999/xlink\"/><use transform=\"translate(5180)\" xlink:href=\"#111\" xmlns:xlink=\"http://www.w3.org/1999/xlink\"/><use transform=\"translate(5200)\" xlink:href=\"#nclk\" xmlns:xlink=\"http://www.w3.org/1999/xlink\"/><use transform=\"translate(5220)\" xlink:href=\"#000\" xmlns:xlink=\"http://www.w3.org/1999/xlink\"/><use transform=\"translate(5240)\" xlink:href=\"#pclk\" xmlns:xlink=\"http://www.w3.org/1999/xlink\"/><use transform=\"translate(5260)\" xlink:href=\"#111\" xmlns:xlink=\"http://www.w3.org/1999/xlink\"/><use transform=\"translate(5280)\" xlink:href=\"#nclk\" xmlns:xlink=\"http://www.w3.org/1999/xlink\"/><use transform=\"translate(5300)\" xlink:href=\"#000\" xmlns:xlink=\"http://www.w3.org/1999/xlink\"/><use transform=\"translate(5320)\" xlink:href=\"#pclk\" xmlns:xlink=\"http://www.w3.org/1999/xlink\"/><use transform=\"translate(5340)\" xlink:href=\"#111\" xmlns:xlink=\"http://www.w3.org/1999/xlink\"/><use transform=\"translate(5360)\" xlink:href=\"#nclk\" xmlns:xlink=\"http://www.w3.org/1999/xlink\"/><use transform=\"translate(5380)\" xlink:href=\"#000\" xmlns:xlink=\"http://www.w3.org/1999/xlink\"/><use transform=\"translate(5400)\" xlink:href=\"#pclk\" xmlns:xlink=\"http://www.w3.org/1999/xlink\"/><use transform=\"translate(5420)\" xlink:href=\"#111\" xmlns:xlink=\"http://www.w3.org/1999/xlink\"/><use transform=\"translate(5440)\" xlink:href=\"#nclk\" xmlns:xlink=\"http://www.w3.org/1999/xlink\"/><use transform=\"translate(5460)\" xlink:href=\"#000\" xmlns:xlink=\"http://www.w3.org/1999/xlink\"/><use transform=\"translate(5480)\" xlink:href=\"#pclk\" xmlns:xlink=\"http://www.w3.org/1999/xlink\"/><use transform=\"translate(5500)\" xlink:href=\"#111\" xmlns:xlink=\"http://www.w3.org/1999/xlink\"/><use transform=\"translate(5520)\" xlink:href=\"#nclk\" xmlns:xlink=\"http://www.w3.org/1999/xlink\"/><use transform=\"translate(5540)\" xlink:href=\"#000\" xmlns:xlink=\"http://www.w3.org/1999/xlink\"/><use transform=\"translate(5560)\" xlink:href=\"#pclk\" xmlns:xlink=\"http://www.w3.org/1999/xlink\"/><use transform=\"translate(5580)\" xlink:href=\"#111\" xmlns:xlink=\"http://www.w3.org/1999/xlink\"/><use transform=\"translate(5600)\" xlink:href=\"#nclk\" xmlns:xlink=\"http://www.w3.org/1999/xlink\"/><use transform=\"translate(5620)\" xlink:href=\"#000\" xmlns:xlink=\"http://www.w3.org/1999/xlink\"/><use transform=\"translate(5640)\" xlink:href=\"#pclk\" xmlns:xlink=\"http://www.w3.org/1999/xlink\"/><use transform=\"translate(5660)\" xlink:href=\"#111\" xmlns:xlink=\"http://www.w3.org/1999/xlink\"/><use transform=\"translate(5680)\" xlink:href=\"#nclk\" xmlns:xlink=\"http://www.w3.org/1999/xlink\"/><use transform=\"translate(5700)\" xlink:href=\"#000\" xmlns:xlink=\"http://www.w3.org/1999/xlink\"/><use transform=\"translate(5720)\" xlink:href=\"#pclk\" xmlns:xlink=\"http://www.w3.org/1999/xlink\"/><use transform=\"translate(5740)\" xlink:href=\"#111\" xmlns:xlink=\"http://www.w3.org/1999/xlink\"/><use transform=\"translate(5760)\" xlink:href=\"#nclk\" xmlns:xlink=\"http://www.w3.org/1999/xlink\"/><use transform=\"translate(5780)\" xlink:href=\"#000\" xmlns:xlink=\"http://www.w3.org/1999/xlink\"/><use transform=\"translate(5800)\" xlink:href=\"#pclk\" xmlns:xlink=\"http://www.w3.org/1999/xlink\"/><use transform=\"translate(5820)\" xlink:href=\"#111\" xmlns:xlink=\"http://www.w3.org/1999/xlink\"/><use transform=\"translate(5840)\" xlink:href=\"#nclk\" xmlns:xlink=\"http://www.w3.org/1999/xlink\"/><use transform=\"translate(5860)\" xlink:href=\"#000\" xmlns:xlink=\"http://www.w3.org/1999/xlink\"/><use transform=\"translate(5880)\" xlink:href=\"#pclk\" xmlns:xlink=\"http://www.w3.org/1999/xlink\"/><use transform=\"translate(5900)\" xlink:href=\"#111\" xmlns:xlink=\"http://www.w3.org/1999/xlink\"/><use transform=\"translate(5920)\" xlink:href=\"#nclk\" xmlns:xlink=\"http://www.w3.org/1999/xlink\"/><use transform=\"translate(5940)\" xlink:href=\"#000\" xmlns:xlink=\"http://www.w3.org/1999/xlink\"/><use transform=\"translate(5960)\" xlink:href=\"#pclk\" xmlns:xlink=\"http://www.w3.org/1999/xlink\"/><use transform=\"translate(5980)\" xlink:href=\"#111\" xmlns:xlink=\"http://www.w3.org/1999/xlink\"/><use transform=\"translate(6000)\" xlink:href=\"#nclk\" xmlns:xlink=\"http://www.w3.org/1999/xlink\"/><use transform=\"translate(6020)\" xlink:href=\"#000\" xmlns:xlink=\"http://www.w3.org/1999/xlink\"/><use transform=\"translate(6040)\" xlink:href=\"#pclk\" xmlns:xlink=\"http://www.w3.org/1999/xlink\"/><use transform=\"translate(6060)\" xlink:href=\"#111\" xmlns:xlink=\"http://www.w3.org/1999/xlink\"/><use transform=\"translate(6080)\" xlink:href=\"#nclk\" xmlns:xlink=\"http://www.w3.org/1999/xlink\"/><use transform=\"translate(6100)\" xlink:href=\"#000\" xmlns:xlink=\"http://www.w3.org/1999/xlink\"/><use transform=\"translate(6120)\" xlink:href=\"#pclk\" xmlns:xlink=\"http://www.w3.org/1999/xlink\"/><use transform=\"translate(6140)\" xlink:href=\"#111\" xmlns:xlink=\"http://www.w3.org/1999/xlink\"/><use transform=\"translate(6160)\" xlink:href=\"#nclk\" xmlns:xlink=\"http://www.w3.org/1999/xlink\"/><use transform=\"translate(6180)\" xlink:href=\"#000\" xmlns:xlink=\"http://www.w3.org/1999/xlink\"/><use transform=\"translate(6200)\" xlink:href=\"#pclk\" xmlns:xlink=\"http://www.w3.org/1999/xlink\"/><use transform=\"translate(6220)\" xlink:href=\"#111\" xmlns:xlink=\"http://www.w3.org/1999/xlink\"/><use transform=\"translate(6240)\" xlink:href=\"#nclk\" xmlns:xlink=\"http://www.w3.org/1999/xlink\"/><use transform=\"translate(6260)\" xlink:href=\"#000\" xmlns:xlink=\"http://www.w3.org/1999/xlink\"/><use transform=\"translate(6280)\" xlink:href=\"#pclk\" xmlns:xlink=\"http://www.w3.org/1999/xlink\"/><use transform=\"translate(6300)\" xlink:href=\"#111\" xmlns:xlink=\"http://www.w3.org/1999/xlink\"/><use transform=\"translate(6320)\" xlink:href=\"#nclk\" xmlns:xlink=\"http://www.w3.org/1999/xlink\"/><use transform=\"translate(6340)\" xlink:href=\"#000\" xmlns:xlink=\"http://www.w3.org/1999/xlink\"/><use transform=\"translate(6360)\" xlink:href=\"#pclk\" xmlns:xlink=\"http://www.w3.org/1999/xlink\"/><use transform=\"translate(6380)\" xlink:href=\"#111\" xmlns:xlink=\"http://www.w3.org/1999/xlink\"/><use transform=\"translate(6400)\" xlink:href=\"#nclk\" xmlns:xlink=\"http://www.w3.org/1999/xlink\"/><use transform=\"translate(6420)\" xlink:href=\"#000\" xmlns:xlink=\"http://www.w3.org/1999/xlink\"/><use transform=\"translate(6440)\" xlink:href=\"#pclk\" xmlns:xlink=\"http://www.w3.org/1999/xlink\"/><use transform=\"translate(6460)\" xlink:href=\"#111\" xmlns:xlink=\"http://www.w3.org/1999/xlink\"/><use transform=\"translate(6480)\" xlink:href=\"#nclk\" xmlns:xlink=\"http://www.w3.org/1999/xlink\"/><use transform=\"translate(6500)\" xlink:href=\"#000\" xmlns:xlink=\"http://www.w3.org/1999/xlink\"/><use transform=\"translate(6520)\" xlink:href=\"#pclk\" xmlns:xlink=\"http://www.w3.org/1999/xlink\"/><use transform=\"translate(6540)\" xlink:href=\"#111\" xmlns:xlink=\"http://www.w3.org/1999/xlink\"/><use transform=\"translate(6560)\" xlink:href=\"#nclk\" xmlns:xlink=\"http://www.w3.org/1999/xlink\"/><use transform=\"translate(6580)\" xlink:href=\"#000\" xmlns:xlink=\"http://www.w3.org/1999/xlink\"/><use transform=\"translate(6600)\" xlink:href=\"#pclk\" xmlns:xlink=\"http://www.w3.org/1999/xlink\"/><use transform=\"translate(6620)\" xlink:href=\"#111\" xmlns:xlink=\"http://www.w3.org/1999/xlink\"/><use transform=\"translate(6640)\" xlink:href=\"#nclk\" xmlns:xlink=\"http://www.w3.org/1999/xlink\"/><use transform=\"translate(6660)\" xlink:href=\"#000\" xmlns:xlink=\"http://www.w3.org/1999/xlink\"/><use transform=\"translate(6680)\" xlink:href=\"#pclk\" xmlns:xlink=\"http://www.w3.org/1999/xlink\"/><use transform=\"translate(6700)\" xlink:href=\"#111\" xmlns:xlink=\"http://www.w3.org/1999/xlink\"/><use transform=\"translate(6720)\" xlink:href=\"#nclk\" xmlns:xlink=\"http://www.w3.org/1999/xlink\"/><use transform=\"translate(6740)\" xlink:href=\"#000\" xmlns:xlink=\"http://www.w3.org/1999/xlink\"/><use transform=\"translate(6760)\" xlink:href=\"#pclk\" xmlns:xlink=\"http://www.w3.org/1999/xlink\"/><use transform=\"translate(6780)\" xlink:href=\"#111\" xmlns:xlink=\"http://www.w3.org/1999/xlink\"/><use transform=\"translate(6800)\" xlink:href=\"#nclk\" xmlns:xlink=\"http://www.w3.org/1999/xlink\"/><use transform=\"translate(6820)\" xlink:href=\"#000\" xmlns:xlink=\"http://www.w3.org/1999/xlink\"/><use transform=\"translate(6840)\" xlink:href=\"#pclk\" xmlns:xlink=\"http://www.w3.org/1999/xlink\"/><use transform=\"translate(6860)\" xlink:href=\"#111\" xmlns:xlink=\"http://www.w3.org/1999/xlink\"/><use transform=\"translate(6880)\" xlink:href=\"#nclk\" xmlns:xlink=\"http://www.w3.org/1999/xlink\"/><use transform=\"translate(6900)\" xlink:href=\"#000\" xmlns:xlink=\"http://www.w3.org/1999/xlink\"/><use transform=\"translate(6920)\" xlink:href=\"#pclk\" xmlns:xlink=\"http://www.w3.org/1999/xlink\"/><use transform=\"translate(6940)\" xlink:href=\"#111\" xmlns:xlink=\"http://www.w3.org/1999/xlink\"/><use transform=\"translate(6960)\" xlink:href=\"#nclk\" xmlns:xlink=\"http://www.w3.org/1999/xlink\"/><use transform=\"translate(6980)\" xlink:href=\"#000\" xmlns:xlink=\"http://www.w3.org/1999/xlink\"/><use transform=\"translate(7000)\" xlink:href=\"#pclk\" xmlns:xlink=\"http://www.w3.org/1999/xlink\"/><use transform=\"translate(7020)\" xlink:href=\"#111\" xmlns:xlink=\"http://www.w3.org/1999/xlink\"/><use transform=\"translate(7040)\" xlink:href=\"#nclk\" xmlns:xlink=\"http://www.w3.org/1999/xlink\"/><use transform=\"translate(7060)\" xlink:href=\"#000\" xmlns:xlink=\"http://www.w3.org/1999/xlink\"/><use transform=\"translate(7080)\" xlink:href=\"#pclk\" xmlns:xlink=\"http://www.w3.org/1999/xlink\"/><use transform=\"translate(7100)\" xlink:href=\"#111\" xmlns:xlink=\"http://www.w3.org/1999/xlink\"/><use transform=\"translate(7120)\" xlink:href=\"#nclk\" xmlns:xlink=\"http://www.w3.org/1999/xlink\"/><use transform=\"translate(7140)\" xlink:href=\"#000\" xmlns:xlink=\"http://www.w3.org/1999/xlink\"/><use transform=\"translate(7160)\" xlink:href=\"#pclk\" xmlns:xlink=\"http://www.w3.org/1999/xlink\"/><use transform=\"translate(7180)\" xlink:href=\"#111\" xmlns:xlink=\"http://www.w3.org/1999/xlink\"/><use transform=\"translate(7200)\" xlink:href=\"#nclk\" xmlns:xlink=\"http://www.w3.org/1999/xlink\"/><use transform=\"translate(7220)\" xlink:href=\"#000\" xmlns:xlink=\"http://www.w3.org/1999/xlink\"/><use transform=\"translate(7240)\" xlink:href=\"#pclk\" xmlns:xlink=\"http://www.w3.org/1999/xlink\"/><use transform=\"translate(7260)\" xlink:href=\"#111\" xmlns:xlink=\"http://www.w3.org/1999/xlink\"/><use transform=\"translate(7280)\" xlink:href=\"#nclk\" xmlns:xlink=\"http://www.w3.org/1999/xlink\"/><use transform=\"translate(7300)\" xlink:href=\"#000\" xmlns:xlink=\"http://www.w3.org/1999/xlink\"/><use transform=\"translate(7320)\" xlink:href=\"#pclk\" xmlns:xlink=\"http://www.w3.org/1999/xlink\"/><use transform=\"translate(7340)\" xlink:href=\"#111\" xmlns:xlink=\"http://www.w3.org/1999/xlink\"/><use transform=\"translate(7360)\" xlink:href=\"#nclk\" xmlns:xlink=\"http://www.w3.org/1999/xlink\"/><use transform=\"translate(7380)\" xlink:href=\"#000\" xmlns:xlink=\"http://www.w3.org/1999/xlink\"/><use transform=\"translate(7400)\" xlink:href=\"#pclk\" xmlns:xlink=\"http://www.w3.org/1999/xlink\"/><use transform=\"translate(7420)\" xlink:href=\"#111\" xmlns:xlink=\"http://www.w3.org/1999/xlink\"/><use transform=\"translate(7440)\" xlink:href=\"#nclk\" xmlns:xlink=\"http://www.w3.org/1999/xlink\"/><use transform=\"translate(7460)\" xlink:href=\"#000\" xmlns:xlink=\"http://www.w3.org/1999/xlink\"/><use transform=\"translate(7480)\" xlink:href=\"#pclk\" xmlns:xlink=\"http://www.w3.org/1999/xlink\"/><use transform=\"translate(7500)\" xlink:href=\"#111\" xmlns:xlink=\"http://www.w3.org/1999/xlink\"/><use transform=\"translate(7520)\" xlink:href=\"#nclk\" xmlns:xlink=\"http://www.w3.org/1999/xlink\"/><use transform=\"translate(7540)\" xlink:href=\"#000\" xmlns:xlink=\"http://www.w3.org/1999/xlink\"/><use transform=\"translate(7560)\" xlink:href=\"#pclk\" xmlns:xlink=\"http://www.w3.org/1999/xlink\"/><use transform=\"translate(7580)\" xlink:href=\"#111\" xmlns:xlink=\"http://www.w3.org/1999/xlink\"/><use transform=\"translate(7600)\" xlink:href=\"#nclk\" xmlns:xlink=\"http://www.w3.org/1999/xlink\"/><use transform=\"translate(7620)\" xlink:href=\"#000\" xmlns:xlink=\"http://www.w3.org/1999/xlink\"/><use transform=\"translate(7640)\" xlink:href=\"#pclk\" xmlns:xlink=\"http://www.w3.org/1999/xlink\"/><use transform=\"translate(7660)\" xlink:href=\"#111\" xmlns:xlink=\"http://www.w3.org/1999/xlink\"/><use transform=\"translate(7680)\" xlink:href=\"#nclk\" xmlns:xlink=\"http://www.w3.org/1999/xlink\"/><use transform=\"translate(7700)\" xlink:href=\"#000\" xmlns:xlink=\"http://www.w3.org/1999/xlink\"/><use transform=\"translate(7720)\" xlink:href=\"#pclk\" xmlns:xlink=\"http://www.w3.org/1999/xlink\"/><use transform=\"translate(7740)\" xlink:href=\"#111\" xmlns:xlink=\"http://www.w3.org/1999/xlink\"/><use transform=\"translate(7760)\" xlink:href=\"#nclk\" xmlns:xlink=\"http://www.w3.org/1999/xlink\"/><use transform=\"translate(7780)\" xlink:href=\"#000\" xmlns:xlink=\"http://www.w3.org/1999/xlink\"/><use transform=\"translate(7800)\" xlink:href=\"#pclk\" xmlns:xlink=\"http://www.w3.org/1999/xlink\"/><use transform=\"translate(7820)\" xlink:href=\"#111\" xmlns:xlink=\"http://www.w3.org/1999/xlink\"/><use transform=\"translate(7840)\" xlink:href=\"#nclk\" xmlns:xlink=\"http://www.w3.org/1999/xlink\"/><use transform=\"translate(7860)\" xlink:href=\"#000\" xmlns:xlink=\"http://www.w3.org/1999/xlink\"/><use transform=\"translate(7880)\" xlink:href=\"#pclk\" xmlns:xlink=\"http://www.w3.org/1999/xlink\"/><use transform=\"translate(7900)\" xlink:href=\"#111\" xmlns:xlink=\"http://www.w3.org/1999/xlink\"/><use transform=\"translate(7920)\" xlink:href=\"#nclk\" xmlns:xlink=\"http://www.w3.org/1999/xlink\"/><use transform=\"translate(7940)\" xlink:href=\"#000\" xmlns:xlink=\"http://www.w3.org/1999/xlink\"/><use transform=\"translate(7960)\" xlink:href=\"#pclk\" xmlns:xlink=\"http://www.w3.org/1999/xlink\"/><use transform=\"translate(7980)\" xlink:href=\"#111\" xmlns:xlink=\"http://www.w3.org/1999/xlink\"/><use transform=\"translate(8000)\" xlink:href=\"#nclk\" xmlns:xlink=\"http://www.w3.org/1999/xlink\"/><use transform=\"translate(8020)\" xlink:href=\"#000\" xmlns:xlink=\"http://www.w3.org/1999/xlink\"/><use transform=\"translate(8040)\" xlink:href=\"#pclk\" xmlns:xlink=\"http://www.w3.org/1999/xlink\"/><use transform=\"translate(8060)\" xlink:href=\"#111\" xmlns:xlink=\"http://www.w3.org/1999/xlink\"/><use transform=\"translate(8080)\" xlink:href=\"#nclk\" xmlns:xlink=\"http://www.w3.org/1999/xlink\"/><use transform=\"translate(8100)\" xlink:href=\"#000\" xmlns:xlink=\"http://www.w3.org/1999/xlink\"/><use transform=\"translate(8120)\" xlink:href=\"#pclk\" xmlns:xlink=\"http://www.w3.org/1999/xlink\"/><use transform=\"translate(8140)\" xlink:href=\"#111\" xmlns:xlink=\"http://www.w3.org/1999/xlink\"/><use transform=\"translate(8160)\" xlink:href=\"#nclk\" xmlns:xlink=\"http://www.w3.org/1999/xlink\"/><use transform=\"translate(8180)\" xlink:href=\"#000\" xmlns:xlink=\"http://www.w3.org/1999/xlink\"/><use transform=\"translate(8200)\" xlink:href=\"#pclk\" xmlns:xlink=\"http://www.w3.org/1999/xlink\"/><use transform=\"translate(8220)\" xlink:href=\"#111\" xmlns:xlink=\"http://www.w3.org/1999/xlink\"/><use transform=\"translate(8240)\" xlink:href=\"#nclk\" xmlns:xlink=\"http://www.w3.org/1999/xlink\"/><use transform=\"translate(8260)\" xlink:href=\"#000\" xmlns:xlink=\"http://www.w3.org/1999/xlink\"/><use transform=\"translate(8280)\" xlink:href=\"#pclk\" xmlns:xlink=\"http://www.w3.org/1999/xlink\"/><use transform=\"translate(8300)\" xlink:href=\"#111\" xmlns:xlink=\"http://www.w3.org/1999/xlink\"/><use transform=\"translate(8320)\" xlink:href=\"#nclk\" xmlns:xlink=\"http://www.w3.org/1999/xlink\"/><use transform=\"translate(8340)\" xlink:href=\"#000\" xmlns:xlink=\"http://www.w3.org/1999/xlink\"/><use transform=\"translate(8360)\" xlink:href=\"#pclk\" xmlns:xlink=\"http://www.w3.org/1999/xlink\"/><use transform=\"translate(8380)\" xlink:href=\"#111\" xmlns:xlink=\"http://www.w3.org/1999/xlink\"/><use transform=\"translate(8400)\" xlink:href=\"#nclk\" xmlns:xlink=\"http://www.w3.org/1999/xlink\"/><use transform=\"translate(8420)\" xlink:href=\"#000\" xmlns:xlink=\"http://www.w3.org/1999/xlink\"/><use transform=\"translate(8440)\" xlink:href=\"#pclk\" xmlns:xlink=\"http://www.w3.org/1999/xlink\"/><use transform=\"translate(8460)\" xlink:href=\"#111\" xmlns:xlink=\"http://www.w3.org/1999/xlink\"/><use transform=\"translate(8480)\" xlink:href=\"#nclk\" xmlns:xlink=\"http://www.w3.org/1999/xlink\"/><use transform=\"translate(8500)\" xlink:href=\"#000\" xmlns:xlink=\"http://www.w3.org/1999/xlink\"/><use transform=\"translate(8520)\" xlink:href=\"#pclk\" xmlns:xlink=\"http://www.w3.org/1999/xlink\"/><use transform=\"translate(8540)\" xlink:href=\"#111\" xmlns:xlink=\"http://www.w3.org/1999/xlink\"/><use transform=\"translate(8560)\" xlink:href=\"#nclk\" xmlns:xlink=\"http://www.w3.org/1999/xlink\"/><use transform=\"translate(8580)\" xlink:href=\"#000\" xmlns:xlink=\"http://www.w3.org/1999/xlink\"/><use transform=\"translate(8600)\" xlink:href=\"#pclk\" xmlns:xlink=\"http://www.w3.org/1999/xlink\"/><use transform=\"translate(8620)\" xlink:href=\"#111\" xmlns:xlink=\"http://www.w3.org/1999/xlink\"/><use transform=\"translate(8640)\" xlink:href=\"#nclk\" xmlns:xlink=\"http://www.w3.org/1999/xlink\"/><use transform=\"translate(8660)\" xlink:href=\"#000\" xmlns:xlink=\"http://www.w3.org/1999/xlink\"/><use transform=\"translate(8680)\" xlink:href=\"#pclk\" xmlns:xlink=\"http://www.w3.org/1999/xlink\"/><use transform=\"translate(8700)\" xlink:href=\"#111\" xmlns:xlink=\"http://www.w3.org/1999/xlink\"/><use transform=\"translate(8720)\" xlink:href=\"#nclk\" xmlns:xlink=\"http://www.w3.org/1999/xlink\"/><use transform=\"translate(8740)\" xlink:href=\"#000\" xmlns:xlink=\"http://www.w3.org/1999/xlink\"/><use transform=\"translate(8760)\" xlink:href=\"#pclk\" xmlns:xlink=\"http://www.w3.org/1999/xlink\"/><use transform=\"translate(8780)\" xlink:href=\"#111\" xmlns:xlink=\"http://www.w3.org/1999/xlink\"/><use transform=\"translate(8800)\" xlink:href=\"#nclk\" xmlns:xlink=\"http://www.w3.org/1999/xlink\"/><use transform=\"translate(8820)\" xlink:href=\"#000\" xmlns:xlink=\"http://www.w3.org/1999/xlink\"/><use transform=\"translate(8840)\" xlink:href=\"#pclk\" xmlns:xlink=\"http://www.w3.org/1999/xlink\"/><use transform=\"translate(8860)\" xlink:href=\"#111\" xmlns:xlink=\"http://www.w3.org/1999/xlink\"/><use transform=\"translate(8880)\" xlink:href=\"#nclk\" xmlns:xlink=\"http://www.w3.org/1999/xlink\"/><use transform=\"translate(8900)\" xlink:href=\"#000\" xmlns:xlink=\"http://www.w3.org/1999/xlink\"/><use transform=\"translate(8920)\" xlink:href=\"#pclk\" xmlns:xlink=\"http://www.w3.org/1999/xlink\"/><use transform=\"translate(8940)\" xlink:href=\"#111\" xmlns:xlink=\"http://www.w3.org/1999/xlink\"/><use transform=\"translate(8960)\" xlink:href=\"#nclk\" xmlns:xlink=\"http://www.w3.org/1999/xlink\"/><use transform=\"translate(8980)\" xlink:href=\"#000\" xmlns:xlink=\"http://www.w3.org/1999/xlink\"/><use transform=\"translate(9000)\" xlink:href=\"#pclk\" xmlns:xlink=\"http://www.w3.org/1999/xlink\"/><use transform=\"translate(9020)\" xlink:href=\"#111\" xmlns:xlink=\"http://www.w3.org/1999/xlink\"/><use transform=\"translate(9040)\" xlink:href=\"#nclk\" xmlns:xlink=\"http://www.w3.org/1999/xlink\"/><use transform=\"translate(9060)\" xlink:href=\"#000\" xmlns:xlink=\"http://www.w3.org/1999/xlink\"/><use transform=\"translate(9080)\" xlink:href=\"#pclk\" xmlns:xlink=\"http://www.w3.org/1999/xlink\"/><use transform=\"translate(9100)\" xlink:href=\"#111\" xmlns:xlink=\"http://www.w3.org/1999/xlink\"/><use transform=\"translate(9120)\" xlink:href=\"#nclk\" xmlns:xlink=\"http://www.w3.org/1999/xlink\"/><use transform=\"translate(9140)\" xlink:href=\"#000\" xmlns:xlink=\"http://www.w3.org/1999/xlink\"/><use transform=\"translate(9160)\" xlink:href=\"#pclk\" xmlns:xlink=\"http://www.w3.org/1999/xlink\"/><use transform=\"translate(9180)\" xlink:href=\"#111\" xmlns:xlink=\"http://www.w3.org/1999/xlink\"/><use transform=\"translate(9200)\" xlink:href=\"#nclk\" xmlns:xlink=\"http://www.w3.org/1999/xlink\"/><use transform=\"translate(9220)\" xlink:href=\"#000\" xmlns:xlink=\"http://www.w3.org/1999/xlink\"/><use transform=\"translate(9240)\" xlink:href=\"#pclk\" xmlns:xlink=\"http://www.w3.org/1999/xlink\"/><use transform=\"translate(9260)\" xlink:href=\"#111\" xmlns:xlink=\"http://www.w3.org/1999/xlink\"/><use transform=\"translate(9280)\" xlink:href=\"#nclk\" xmlns:xlink=\"http://www.w3.org/1999/xlink\"/><use transform=\"translate(9300)\" xlink:href=\"#000\" xmlns:xlink=\"http://www.w3.org/1999/xlink\"/><use transform=\"translate(9320)\" xlink:href=\"#pclk\" xmlns:xlink=\"http://www.w3.org/1999/xlink\"/><use transform=\"translate(9340)\" xlink:href=\"#111\" xmlns:xlink=\"http://www.w3.org/1999/xlink\"/><use transform=\"translate(9360)\" xlink:href=\"#nclk\" xmlns:xlink=\"http://www.w3.org/1999/xlink\"/><use transform=\"translate(9380)\" xlink:href=\"#000\" xmlns:xlink=\"http://www.w3.org/1999/xlink\"/><use transform=\"translate(9400)\" xlink:href=\"#pclk\" xmlns:xlink=\"http://www.w3.org/1999/xlink\"/><use transform=\"translate(9420)\" xlink:href=\"#111\" xmlns:xlink=\"http://www.w3.org/1999/xlink\"/><use transform=\"translate(9440)\" xlink:href=\"#nclk\" xmlns:xlink=\"http://www.w3.org/1999/xlink\"/><use transform=\"translate(9460)\" xlink:href=\"#000\" xmlns:xlink=\"http://www.w3.org/1999/xlink\"/><use transform=\"translate(9480)\" xlink:href=\"#pclk\" xmlns:xlink=\"http://www.w3.org/1999/xlink\"/><use transform=\"translate(9500)\" xlink:href=\"#111\" xmlns:xlink=\"http://www.w3.org/1999/xlink\"/><use transform=\"translate(9520)\" xlink:href=\"#nclk\" xmlns:xlink=\"http://www.w3.org/1999/xlink\"/><use transform=\"translate(9540)\" xlink:href=\"#000\" xmlns:xlink=\"http://www.w3.org/1999/xlink\"/><use transform=\"translate(9560)\" xlink:href=\"#pclk\" xmlns:xlink=\"http://www.w3.org/1999/xlink\"/><use transform=\"translate(9580)\" xlink:href=\"#111\" xmlns:xlink=\"http://www.w3.org/1999/xlink\"/><use transform=\"translate(9600)\" xlink:href=\"#nclk\" xmlns:xlink=\"http://www.w3.org/1999/xlink\"/><use transform=\"translate(9620)\" xlink:href=\"#000\" xmlns:xlink=\"http://www.w3.org/1999/xlink\"/><use transform=\"translate(9640)\" xlink:href=\"#pclk\" xmlns:xlink=\"http://www.w3.org/1999/xlink\"/><use transform=\"translate(9660)\" xlink:href=\"#111\" xmlns:xlink=\"http://www.w3.org/1999/xlink\"/><use transform=\"translate(9680)\" xlink:href=\"#nclk\" xmlns:xlink=\"http://www.w3.org/1999/xlink\"/><use transform=\"translate(9700)\" xlink:href=\"#000\" xmlns:xlink=\"http://www.w3.org/1999/xlink\"/><use transform=\"translate(9720)\" xlink:href=\"#pclk\" xmlns:xlink=\"http://www.w3.org/1999/xlink\"/><use transform=\"translate(9740)\" xlink:href=\"#111\" xmlns:xlink=\"http://www.w3.org/1999/xlink\"/><use transform=\"translate(9760)\" xlink:href=\"#nclk\" xmlns:xlink=\"http://www.w3.org/1999/xlink\"/><use transform=\"translate(9780)\" xlink:href=\"#000\" xmlns:xlink=\"http://www.w3.org/1999/xlink\"/><use transform=\"translate(9800)\" xlink:href=\"#pclk\" xmlns:xlink=\"http://www.w3.org/1999/xlink\"/><use transform=\"translate(9820)\" xlink:href=\"#111\" xmlns:xlink=\"http://www.w3.org/1999/xlink\"/><use transform=\"translate(9840)\" xlink:href=\"#nclk\" xmlns:xlink=\"http://www.w3.org/1999/xlink\"/><use transform=\"translate(9860)\" xlink:href=\"#000\" xmlns:xlink=\"http://www.w3.org/1999/xlink\"/><use transform=\"translate(9880)\" xlink:href=\"#pclk\" xmlns:xlink=\"http://www.w3.org/1999/xlink\"/><use transform=\"translate(9900)\" xlink:href=\"#111\" xmlns:xlink=\"http://www.w3.org/1999/xlink\"/><use transform=\"translate(9920)\" xlink:href=\"#nclk\" xmlns:xlink=\"http://www.w3.org/1999/xlink\"/><use transform=\"translate(9940)\" xlink:href=\"#000\" xmlns:xlink=\"http://www.w3.org/1999/xlink\"/><use transform=\"translate(9960)\" xlink:href=\"#pclk\" xmlns:xlink=\"http://www.w3.org/1999/xlink\"/><use transform=\"translate(9980)\" xlink:href=\"#111\" xmlns:xlink=\"http://www.w3.org/1999/xlink\"/><use transform=\"translate(10000)\" xlink:href=\"#nclk\" xmlns:xlink=\"http://www.w3.org/1999/xlink\"/><use transform=\"translate(10020)\" xlink:href=\"#000\" xmlns:xlink=\"http://www.w3.org/1999/xlink\"/><use transform=\"translate(10040)\" xlink:href=\"#pclk\" xmlns:xlink=\"http://www.w3.org/1999/xlink\"/><use transform=\"translate(10060)\" xlink:href=\"#111\" xmlns:xlink=\"http://www.w3.org/1999/xlink\"/><use transform=\"translate(10080)\" xlink:href=\"#nclk\" xmlns:xlink=\"http://www.w3.org/1999/xlink\"/><use transform=\"translate(10100)\" xlink:href=\"#000\" xmlns:xlink=\"http://www.w3.org/1999/xlink\"/><use transform=\"translate(10120)\" xlink:href=\"#pclk\" xmlns:xlink=\"http://www.w3.org/1999/xlink\"/><use transform=\"translate(10140)\" xlink:href=\"#111\" xmlns:xlink=\"http://www.w3.org/1999/xlink\"/><use transform=\"translate(10160)\" xlink:href=\"#nclk\" xmlns:xlink=\"http://www.w3.org/1999/xlink\"/><use transform=\"translate(10180)\" xlink:href=\"#000\" xmlns:xlink=\"http://www.w3.org/1999/xlink\"/><use transform=\"translate(10200)\" xlink:href=\"#pclk\" xmlns:xlink=\"http://www.w3.org/1999/xlink\"/><use transform=\"translate(10220)\" xlink:href=\"#111\" xmlns:xlink=\"http://www.w3.org/1999/xlink\"/></g></g><g id=\"wavelane_1_0\" transform=\"translate(0,35)\"><text class=\"info\" text-anchor=\"end\" x=\"-10\" xml:space=\"preserve\" y=\"15\"><tspan>dat</tspan></text><g id=\"wavelane_draw_1_0\" transform=\"translate(0, 0)\"><use transform=\"translate(0)\" xlink:href=\"#xxx\" xmlns:xlink=\"http://www.w3.org/1999/xlink\"/><use transform=\"translate(20)\" xlink:href=\"#xxx\" xmlns:xlink=\"http://www.w3.org/1999/xlink\"/><use transform=\"translate(40)\" xlink:href=\"#xxx\" xmlns:xlink=\"http://www.w3.org/1999/xlink\"/><use transform=\"translate(60)\" xlink:href=\"#xxx\" xmlns:xlink=\"http://www.w3.org/1999/xlink\"/><use transform=\"translate(80)\" xlink:href=\"#xmv-3\" xmlns:xlink=\"http://www.w3.org/1999/xlink\"/><use transform=\"translate(100)\" xlink:href=\"#vvv-3\" xmlns:xlink=\"http://www.w3.org/1999/xlink\"/><use transform=\"translate(120)\" xlink:href=\"#vmv-3-4\" xmlns:xlink=\"http://www.w3.org/1999/xlink\"/><use transform=\"translate(140)\" xlink:href=\"#vvv-4\" xmlns:xlink=\"http://www.w3.org/1999/xlink\"/><use transform=\"translate(160)\" xlink:href=\"#vmv-4-5\" xmlns:xlink=\"http://www.w3.org/1999/xlink\"/><use transform=\"translate(180)\" xlink:href=\"#vvv-5\" xmlns:xlink=\"http://www.w3.org/1999/xlink\"/><use transform=\"translate(200)\" xlink:href=\"#vmx-5\" xmlns:xlink=\"http://www.w3.org/1999/xlink\"/><use transform=\"translate(220)\" xlink:href=\"#xxx\" xmlns:xlink=\"http://www.w3.org/1999/xlink\"/><use transform=\"translate(240)\" xlink:href=\"#xxx\" xmlns:xlink=\"http://www.w3.org/1999/xlink\"/><use transform=\"translate(260)\" xlink:href=\"#xxx\" xmlns:xlink=\"http://www.w3.org/1999/xlink\"/><use transform=\"translate(280)\" xlink:href=\"#xmv-2\" xmlns:xlink=\"http://www.w3.org/1999/xlink\"/><use transform=\"translate(300)\" xlink:href=\"#vvv-2\" xmlns:xlink=\"http://www.w3.org/1999/xlink\"/><use transform=\"translate(320)\" xlink:href=\"#vvv-2\" xmlns:xlink=\"http://www.w3.org/1999/xlink\"/><use transform=\"translate(340)\" xlink:href=\"#vvv-2\" xmlns:xlink=\"http://www.w3.org/1999/xlink\"/><use transform=\"translate(360)\" xlink:href=\"#vmx-2\" xmlns:xlink=\"http://www.w3.org/1999/xlink\"/><use transform=\"translate(380)\" xlink:href=\"#xxx\" xmlns:xlink=\"http://www.w3.org/1999/xlink\"/><text text-anchor=\"middle\" x=\"106\" xml:space=\"preserve\" y=\"15\"><tspan>head</tspan></text><text text-anchor=\"middle\" x=\"146\" xml:space=\"preserve\" y=\"15\"><tspan>body</tspan></text><text text-anchor=\"middle\" x=\"186\" xml:space=\"preserve\" y=\"15\"><tspan>tail</tspan></text><text text-anchor=\"middle\" x=\"326\" xml:space=\"preserve\" y=\"15\"><tspan>data</tspan></text></g></g><g id=\"wavelane_2_0\" transform=\"translate(0,65)\"><text class=\"info\" text-anchor=\"end\" x=\"-10\" xml:space=\"preserve\" y=\"15\"><tspan>req</tspan></text><g id=\"wavelane_draw_2_0\" transform=\"translate(0, 0)\"><use transform=\"translate(0)\" xlink:href=\"#000\" xmlns:xlink=\"http://www.w3.org/1999/xlink\"/><use transform=\"translate(20)\" xlink:href=\"#000\" xmlns:xlink=\"http://www.w3.org/1999/xlink\"/><use transform=\"translate(40)\" xlink:href=\"#000\" xmlns:xlink=\"http://www.w3.org/1999/xlink\"/><use transform=\"translate(60)\" xlink:href=\"#000\" xmlns:xlink=\"http://www.w3.org/1999/xlink\"/><use transform=\"translate(80)\" xlink:href=\"#pclk\" xmlns:xlink=\"http://www.w3.org/1999/xlink\"/><use transform=\"translate(100)\" xlink:href=\"#111\" xmlns:xlink=\"http://www.w3.org/1999/xlink\"/><use transform=\"translate(120)\" xlink:href=\"#111\" xmlns:xlink=\"http://www.w3.org/1999/xlink\"/><use transform=\"translate(140)\" xlink:href=\"#111\" xmlns:xlink=\"http://www.w3.org/1999/xlink\"/><use transform=\"translate(160)\" xlink:href=\"#111\" xmlns:xlink=\"http://www.w3.org/1999/xlink\"/><use transform=\"translate(180)\" xlink:href=\"#111\" xmlns:xlink=\"http://www.w3.org/1999/xlink\"/><use transform=\"translate(200)\" xlink:href=\"#111\" xmlns:xlink=\"http://www.w3.org/1999/xlink\"/><use transform=\"translate(220)\" xlink:href=\"#111\" xmlns:xlink=\"http://www.w3.org/1999/xlink\"/><use transform=\"translate(240)\" xlink:href=\"#nclk\" xmlns:xlink=\"http://www.w3.org/1999/xlink\"/><use transform=\"translate(260)\" xlink:href=\"#000\" xmlns:xlink=\"http://www.w3.org/1999/xlink\"/></g></g><g id=\"wavelane_3_0\" transform=\"translate(0,95)\"><text class=\"info\" text-anchor=\"end\" x=\"-10\" xml:space=\"preserve\" y=\"15\"><tspan/></text><g id=\"wavelane_draw_3_0\" transform=\"translate(0, 0)\"/></g><g id=\"wavelane_4_0\" transform=\"translate(0,125)\"><text class=\"info\" text-anchor=\"end\" x=\"-10\" xml:space=\"preserve\" y=\"15\"><tspan>ack</tspan></text><g id=\"wavelane_draw_4_0\" transform=\"translate(0, 0)\"><use transform=\"translate(0)\" xlink:href=\"#111\" xmlns:xlink=\"http://www.w3.org/1999/xlink\"/><use transform=\"translate(20)\" xlink:href=\"#111\" xmlns:xlink=\"http://www.w3.org/1999/xlink\"/><use transform=\"translate(40)\" xlink:href=\"#111\" xmlns:xlink=\"http://www.w3.org/1999/xlink\"/><use transform=\"translate(60)\" xlink:href=\"#111\" xmlns:xlink=\"http://www.w3.org/1999/xlink\"/><use transform=\"translate(80)\" xlink:href=\"#111\" xmlns:xlink=\"http://www.w3.org/1999/xlink\"/><use transform=\"translate(100)\" xlink:href=\"#111\" xmlns:xlink=\"http://www.w3.org/1999/xlink\"/><use transform=\"translate(120)\" xlink:href=\"#111\" xmlns:xlink=\"http://www.w3.org/1999/xlink\"/><use transform=\"translate(140)\" xlink:href=\"#111\" xmlns:xlink=\"http://www.w3.org/1999/xlink\"/><use transform=\"translate(160)\" xlink:href=\"#111\" xmlns:xlink=\"http://www.w3.org/1999/xlink\"/><use transform=\"translate(180)\" xlink:href=\"#111\" xmlns:xlink=\"http://www.w3.org/1999/xlink\"/><use transform=\"translate(200)\" xlink:href=\"#111\" xmlns:xlink=\"http://www.w3.org/1999/xlink\"/><use transform=\"translate(220)\" xlink:href=\"#111\" xmlns:xlink=\"http://www.w3.org/1999/xlink\"/><use transform=\"translate(240)\" xlink:href=\"#111\" xmlns:xlink=\"http://www.w3.org/1999/xlink\"/><use transform=\"translate(260)\" xlink:href=\"#111\" xmlns:xlink=\"http://www.w3.org/1999/xlink\"/><use transform=\"translate(280)\" xlink:href=\"#1m0\" xmlns:xlink=\"http://www.w3.org/1999/xlink\"/><use transform=\"translate(300)\" xlink:href=\"#000\" xmlns:xlink=\"http://www.w3.org/1999/xlink\"/><use transform=\"translate(320)\" xlink:href=\"#0m1\" xmlns:xlink=\"http://www.w3.org/1999/xlink\"/><use transform=\"translate(340)\" xlink:href=\"#111\" xmlns:xlink=\"http://www.w3.org/1999/xlink\"/><use transform=\"translate(360)\" xlink:href=\"#111\" xmlns:xlink=\"http://www.w3.org/1999/xlink\"/><use transform=\"translate(380)\" xlink:href=\"#111\" xmlns:xlink=\"http://www.w3.org/1999/xlink\"/></g></g><g id=\"wavelane_5_0\" transform=\"translate(0,155)\"><text class=\"info\" text-anchor=\"end\" x=\"-10\" xml:space=\"preserve\" y=\"15\"><tspan>ack</tspan></text><g id=\"wavelane_draw_5_0\" transform=\"translate(0, 0)\"><use transform=\"translate(0)\" xlink:href=\"#111\" xmlns:xlink=\"http://www.w3.org/1999/xlink\"/><use transform=\"translate(20)\" xlink:href=\"#111\" xmlns:xlink=\"http://www.w3.org/1999/xlink\"/><use transform=\"translate(40)\" xlink:href=\"#111\" xmlns:xlink=\"http://www.w3.org/1999/xlink\"/><use transform=\"translate(60)\" xlink:href=\"#111\" xmlns:xlink=\"http://www.w3.org/1999/xlink\"/><use transform=\"translate(80)\" xlink:href=\"#111\" xmlns:xlink=\"http://www.w3.org/1999/xlink\"/><use transform=\"translate(100)\" xlink:href=\"#111\" xmlns:xlink=\"http://www.w3.org/1999/xlink\"/><use transform=\"translate(120)\" xlink:href=\"#111\" xmlns:xlink=\"http://www.w3.org/1999/xlink\"/><use transform=\"translate(140)\" xlink:href=\"#111\" xmlns:xlink=\"http://www.w3.org/1999/xlink\"/><use transform=\"translate(160)\" xlink:href=\"#111\" xmlns:xlink=\"http://www.w3.org/1999/xlink\"/><use transform=\"translate(180)\" xlink:href=\"#111\" xmlns:xlink=\"http://www.w3.org/1999/xlink\"/><use transform=\"translate(200)\" xlink:href=\"#111\" xmlns:xlink=\"http://www.w3.org/1999/xlink\"/><use transform=\"translate(220)\" xlink:href=\"#111\" xmlns:xlink=\"http://www.w3.org/1999/xlink\"/><use transform=\"translate(240)\" xlink:href=\"#111\" xmlns:xlink=\"http://www.w3.org/1999/xlink\"/><use transform=\"translate(260)\" xlink:href=\"#111\" xmlns:xlink=\"http://www.w3.org/1999/xlink\"/><use transform=\"translate(280)\" xlink:href=\"#1m0\" xmlns:xlink=\"http://www.w3.org/1999/xlink\"/><use transform=\"translate(300)\" xlink:href=\"#000\" xmlns:xlink=\"http://www.w3.org/1999/xlink\"/><use transform=\"translate(320)\" xlink:href=\"#0m1\" xmlns:xlink=\"http://www.w3.org/1999/xlink\"/><use transform=\"translate(340)\" xlink:href=\"#111\" xmlns:xlink=\"http://www.w3.org/1999/xlink\"/><use transform=\"translate(360)\" xlink:href=\"#111\" xmlns:xlink=\"http://www.w3.org/1999/xlink\"/><use transform=\"translate(380)\" xlink:href=\"#111\" xmlns:xlink=\"http://www.w3.org/1999/xlink\"/></g></g><g id=\"wavelane_6_0\" transform=\"translate(0,185)\"><text class=\"info\" text-anchor=\"end\" x=\"-10\" xml:space=\"preserve\" y=\"15\"><tspan>ack</tspan></text><g id=\"wavelane_draw_6_0\" transform=\"translate(0, 0)\"><use transform=\"translate(0)\" xlink:href=\"#111\" xmlns:xlink=\"http://www.w3.org/1999/xlink\"/><use transform=\"translate(20)\" xlink:href=\"#111\" xmlns:xlink=\"http://www.w3.org/1999/xlink\"/><use transform=\"translate(40)\" xlink:href=\"#111\" xmlns:xlink=\"http://www.w3.org/1999/xlink\"/><use transform=\"translate(60)\" xlink:href=\"#111\" xmlns:xlink=\"http://www.w3.org/1999/xlink\"/><use transform=\"translate(80)\" xlink:href=\"#111\" xmlns:xlink=\"http://www.w3.org/1999/xlink\"/><use transform=\"translate(100)\" xlink:href=\"#111\" xmlns:xlink=\"http://www.w3.org/1999/xlink\"/><use transform=\"translate(120)\" xlink:href=\"#111\" xmlns:xlink=\"http://www.w3.org/1999/xlink\"/><use transform=\"translate(140)\" xlink:href=\"#111\" xmlns:xlink=\"http://www.w3.org/1999/xlink\"/><use transform=\"translate(160)\" xlink:href=\"#111\" xmlns:xlink=\"http://www.w3.org/1999/xlink\"/><use transform=\"translate(180)\" xlink:href=\"#111\" xmlns:xlink=\"http://www.w3.org/1999/xlink\"/><use transform=\"translate(200)\" xlink:href=\"#111\" xmlns:xlink=\"http://www.w3.org/1999/xlink\"/><use transform=\"translate(220)\" xlink:href=\"#111\" xmlns:xlink=\"http://www.w3.org/1999/xlink\"/><use transform=\"translate(240)\" xlink:href=\"#111\" xmlns:xlink=\"http://www.w3.org/1999/xlink\"/><use transform=\"translate(260)\" xlink:href=\"#111\" xmlns:xlink=\"http://www.w3.org/1999/xlink\"/><use transform=\"translate(280)\" xlink:href=\"#1m0\" xmlns:xlink=\"http://www.w3.org/1999/xlink\"/><use transform=\"translate(300)\" xlink:href=\"#000\" xmlns:xlink=\"http://www.w3.org/1999/xlink\"/><use transform=\"translate(320)\" xlink:href=\"#0m1\" xmlns:xlink=\"http://www.w3.org/1999/xlink\"/><use transform=\"translate(340)\" xlink:href=\"#111\" xmlns:xlink=\"http://www.w3.org/1999/xlink\"/><use transform=\"translate(360)\" xlink:href=\"#111\" xmlns:xlink=\"http://www.w3.org/1999/xlink\"/><use transform=\"translate(380)\" xlink:href=\"#111\" xmlns:xlink=\"http://www.w3.org/1999/xlink\"/></g></g><g id=\"wavelane_7_0\" transform=\"translate(0,215)\"><text class=\"info\" text-anchor=\"end\" x=\"-10\" xml:space=\"preserve\" y=\"15\"><tspan>ack</tspan></text><g id=\"wavelane_draw_7_0\" transform=\"translate(0, 0)\"><use transform=\"translate(0)\" xlink:href=\"#111\" xmlns:xlink=\"http://www.w3.org/1999/xlink\"/><use transform=\"translate(20)\" xlink:href=\"#111\" xmlns:xlink=\"http://www.w3.org/1999/xlink\"/><use transform=\"translate(40)\" xlink:href=\"#111\" xmlns:xlink=\"http://www.w3.org/1999/xlink\"/><use transform=\"translate(60)\" xlink:href=\"#111\" xmlns:xlink=\"http://www.w3.org/1999/xlink\"/><use transform=\"translate(80)\" xlink:href=\"#111\" xmlns:xlink=\"http://www.w3.org/1999/xlink\"/><use transform=\"translate(100)\" xlink:href=\"#111\" xmlns:xlink=\"http://www.w3.org/1999/xlink\"/><use transform=\"translate(120)\" xlink:href=\"#111\" xmlns:xlink=\"http://www.w3.org/1999/xlink\"/><use transform=\"translate(140)\" xlink:href=\"#111\" xmlns:xlink=\"http://www.w3.org/1999/xlink\"/><use transform=\"translate(160)\" xlink:href=\"#111\" xmlns:xlink=\"http://www.w3.org/1999/xlink\"/><use transform=\"translate(180)\" xlink:href=\"#111\" xmlns:xlink=\"http://www.w3.org/1999/xlink\"/><use transform=\"translate(200)\" xlink:href=\"#111\" xmlns:xlink=\"http://www.w3.org/1999/xlink\"/><use transform=\"translate(220)\" xlink:href=\"#111\" xmlns:xlink=\"http://www.w3.org/1999/xlink\"/><use transform=\"translate(240)\" xlink:href=\"#111\" xmlns:xlink=\"http://www.w3.org/1999/xlink\"/><use transform=\"translate(260)\" xlink:href=\"#111\" xmlns:xlink=\"http://www.w3.org/1999/xlink\"/><use transform=\"translate(280)\" xlink:href=\"#1m0\" xmlns:xlink=\"http://www.w3.org/1999/xlink\"/><use transform=\"translate(300)\" xlink:href=\"#000\" xmlns:xlink=\"http://www.w3.org/1999/xlink\"/><use transform=\"translate(320)\" xlink:href=\"#0m1\" xmlns:xlink=\"http://www.w3.org/1999/xlink\"/><use transform=\"translate(340)\" xlink:href=\"#111\" xmlns:xlink=\"http://www.w3.org/1999/xlink\"/><use transform=\"translate(360)\" xlink:href=\"#111\" xmlns:xlink=\"http://www.w3.org/1999/xlink\"/><use transform=\"translate(380)\" xlink:href=\"#111\" xmlns:xlink=\"http://www.w3.org/1999/xlink\"/></g></g><g id=\"wavelane_8_0\" transform=\"translate(0,245)\"><text class=\"info\" text-anchor=\"end\" x=\"-10\" xml:space=\"preserve\" y=\"15\"><tspan>ack</tspan></text><g id=\"wavelane_draw_8_0\" transform=\"translate(0, 0)\"><use transform=\"translate(0)\" xlink:href=\"#111\" xmlns:xlink=\"http://www.w3.org/1999/xlink\"/><use transform=\"translate(20)\" xlink:href=\"#111\" xmlns:xlink=\"http://www.w3.org/1999/xlink\"/><use transform=\"translate(40)\" xlink:href=\"#111\" xmlns:xlink=\"http://www.w3.org/1999/xlink\"/><use transform=\"translate(60)\" xlink:href=\"#111\" xmlns:xlink=\"http://www.w3.org/1999/xlink\"/><use transform=\"translate(80)\" xlink:href=\"#111\" xmlns:xlink=\"http://www.w3.org/1999/xlink\"/><use transform=\"translate(100)\" xlink:href=\"#111\" xmlns:xlink=\"http://www.w3.org/1999/xlink\"/><use transform=\"translate(120)\" xlink:href=\"#111\" xmlns:xlink=\"http://www.w3.org/1999/xlink\"/><use transform=\"translate(140)\" xlink:href=\"#111\" xmlns:xlink=\"http://www.w3.org/1999/xlink\"/><use transform=\"translate(160)\" xlink:href=\"#111\" xmlns:xlink=\"http://www.w3.org/1999/xlink\"/><use transform=\"translate(180)\" xlink:href=\"#111\" xmlns:xlink=\"http://www.w3.org/1999/xlink\"/><use transform=\"translate(200)\" xlink:href=\"#111\" xmlns:xlink=\"http://www.w3.org/1999/xlink\"/><use transform=\"translate(220)\" xlink:href=\"#111\" xmlns:xlink=\"http://www.w3.org/1999/xlink\"/><use transform=\"translate(240)\" xlink:href=\"#111\" xmlns:xlink=\"http://www.w3.org/1999/xlink\"/><use transform=\"translate(260)\" xlink:href=\"#111\" xmlns:xlink=\"http://www.w3.org/1999/xlink\"/><use transform=\"translate(280)\" xlink:href=\"#1m0\" xmlns:xlink=\"http://www.w3.org/1999/xlink\"/><use transform=\"translate(300)\" xlink:href=\"#000\" xmlns:xlink=\"http://www.w3.org/1999/xlink\"/><use transform=\"translate(320)\" xlink:href=\"#0m1\" xmlns:xlink=\"http://www.w3.org/1999/xlink\"/><use transform=\"translate(340)\" xlink:href=\"#111\" xmlns:xlink=\"http://www.w3.org/1999/xlink\"/><use transform=\"translate(360)\" xlink:href=\"#111\" xmlns:xlink=\"http://www.w3.org/1999/xlink\"/><use transform=\"translate(380)\" xlink:href=\"#111\" xmlns:xlink=\"http://www.w3.org/1999/xlink\"/></g></g><g id=\"wavelane_9_0\" transform=\"translate(0,275)\"><text class=\"info\" text-anchor=\"end\" x=\"-10\" xml:space=\"preserve\" y=\"15\"><tspan>ack</tspan></text><g id=\"wavelane_draw_9_0\" transform=\"translate(0, 0)\"><use transform=\"translate(0)\" xlink:href=\"#111\" xmlns:xlink=\"http://www.w3.org/1999/xlink\"/><use transform=\"translate(20)\" xlink:href=\"#111\" xmlns:xlink=\"http://www.w3.org/1999/xlink\"/><use transform=\"translate(40)\" xlink:href=\"#111\" xmlns:xlink=\"http://www.w3.org/1999/xlink\"/><use transform=\"translate(60)\" xlink:href=\"#111\" xmlns:xlink=\"http://www.w3.org/1999/xlink\"/><use transform=\"translate(80)\" xlink:href=\"#111\" xmlns:xlink=\"http://www.w3.org/1999/xlink\"/><use transform=\"translate(100)\" xlink:href=\"#111\" xmlns:xlink=\"http://www.w3.org/1999/xlink\"/><use transform=\"translate(120)\" xlink:href=\"#111\" xmlns:xlink=\"http://www.w3.org/1999/xlink\"/><use transform=\"translate(140)\" xlink:href=\"#111\" xmlns:xlink=\"http://www.w3.org/1999/xlink\"/><use transform=\"translate(160)\" xlink:href=\"#111\" xmlns:xlink=\"http://www.w3.org/1999/xlink\"/><use transform=\"translate(180)\" xlink:href=\"#111\" xmlns:xlink=\"http://www.w3.org/1999/xlink\"/><use transform=\"translate(200)\" xlink:href=\"#111\" xmlns:xlink=\"http://www.w3.org/1999/xlink\"/><use transform=\"translate(220)\" xlink:href=\"#111\" xmlns:xlink=\"http://www.w3.org/1999/xlink\"/><use transform=\"translate(240)\" xlink:href=\"#111\" xmlns:xlink=\"http://www.w3.org/1999/xlink\"/><use transform=\"translate(260)\" xlink:href=\"#111\" xmlns:xlink=\"http://www.w3.org/1999/xlink\"/><use transform=\"translate(280)\" xlink:href=\"#1m0\" xmlns:xlink=\"http://www.w3.org/1999/xlink\"/><use transform=\"translate(300)\" xlink:href=\"#000\" xmlns:xlink=\"http://www.w3.org/1999/xlink\"/><use transform=\"translate(320)\" xlink:href=\"#0m1\" xmlns:xlink=\"http://www.w3.org/1999/xlink\"/><use transform=\"translate(340)\" xlink:href=\"#111\" xmlns:xlink=\"http://www.w3.org/1999/xlink\"/><use transform=\"translate(360)\" xlink:href=\"#111\" xmlns:xlink=\"http://www.w3.org/1999/xlink\"/><use transform=\"translate(380)\" xlink:href=\"#111\" xmlns:xlink=\"http://www.w3.org/1999/xlink\"/></g></g><g id=\"wavelane_10_0\" transform=\"translate(0,305)\"><text class=\"info\" text-anchor=\"end\" x=\"-10\" xml:space=\"preserve\" y=\"15\"><tspan>ack</tspan></text><g id=\"wavelane_draw_10_0\" transform=\"translate(0, 0)\"><use transform=\"translate(0)\" xlink:href=\"#111\" xmlns:xlink=\"http://www.w3.org/1999/xlink\"/><use transform=\"translate(20)\" xlink:href=\"#111\" xmlns:xlink=\"http://www.w3.org/1999/xlink\"/><use transform=\"translate(40)\" xlink:href=\"#111\" xmlns:xlink=\"http://www.w3.org/1999/xlink\"/><use transform=\"translate(60)\" xlink:href=\"#111\" xmlns:xlink=\"http://www.w3.org/1999/xlink\"/><use transform=\"translate(80)\" xlink:href=\"#111\" xmlns:xlink=\"http://www.w3.org/1999/xlink\"/><use transform=\"translate(100)\" xlink:href=\"#111\" xmlns:xlink=\"http://www.w3.org/1999/xlink\"/><use transform=\"translate(120)\" xlink:href=\"#111\" xmlns:xlink=\"http://www.w3.org/1999/xlink\"/><use transform=\"translate(140)\" xlink:href=\"#111\" xmlns:xlink=\"http://www.w3.org/1999/xlink\"/><use transform=\"translate(160)\" xlink:href=\"#111\" xmlns:xlink=\"http://www.w3.org/1999/xlink\"/><use transform=\"translate(180)\" xlink:href=\"#111\" xmlns:xlink=\"http://www.w3.org/1999/xlink\"/><use transform=\"translate(200)\" xlink:href=\"#111\" xmlns:xlink=\"http://www.w3.org/1999/xlink\"/><use transform=\"translate(220)\" xlink:href=\"#111\" xmlns:xlink=\"http://www.w3.org/1999/xlink\"/><use transform=\"translate(240)\" xlink:href=\"#111\" xmlns:xlink=\"http://www.w3.org/1999/xlink\"/><use transform=\"translate(260)\" xlink:href=\"#111\" xmlns:xlink=\"http://www.w3.org/1999/xlink\"/><use transform=\"translate(280)\" xlink:href=\"#1m0\" xmlns:xlink=\"http://www.w3.org/1999/xlink\"/><use transform=\"translate(300)\" xlink:href=\"#000\" xmlns:xlink=\"http://www.w3.org/1999/xlink\"/><use transform=\"translate(320)\" xlink:href=\"#0m1\" xmlns:xlink=\"http://www.w3.org/1999/xlink\"/><use transform=\"translate(340)\" xlink:href=\"#111\" xmlns:xlink=\"http://www.w3.org/1999/xlink\"/><use transform=\"translate(360)\" xlink:href=\"#111\" xmlns:xlink=\"http://www.w3.org/1999/xlink\"/><use transform=\"translate(380)\" xlink:href=\"#111\" xmlns:xlink=\"http://www.w3.org/1999/xlink\"/></g></g><g id=\"wavelane_11_0\" transform=\"translate(0,335)\"><text class=\"info\" text-anchor=\"end\" x=\"-10\" xml:space=\"preserve\" y=\"15\"><tspan>ack</tspan></text><g id=\"wavelane_draw_11_0\" transform=\"translate(0, 0)\"><use transform=\"translate(0)\" xlink:href=\"#111\" xmlns:xlink=\"http://www.w3.org/1999/xlink\"/><use transform=\"translate(20)\" xlink:href=\"#111\" xmlns:xlink=\"http://www.w3.org/1999/xlink\"/><use transform=\"translate(40)\" xlink:href=\"#111\" xmlns:xlink=\"http://www.w3.org/1999/xlink\"/><use transform=\"translate(60)\" xlink:href=\"#111\" xmlns:xlink=\"http://www.w3.org/1999/xlink\"/><use transform=\"translate(80)\" xlink:href=\"#111\" xmlns:xlink=\"http://www.w3.org/1999/xlink\"/><use transform=\"translate(100)\" xlink:href=\"#111\" xmlns:xlink=\"http://www.w3.org/1999/xlink\"/><use transform=\"translate(120)\" xlink:href=\"#111\" xmlns:xlink=\"http://www.w3.org/1999/xlink\"/><use transform=\"translate(140)\" xlink:href=\"#111\" xmlns:xlink=\"http://www.w3.org/1999/xlink\"/><use transform=\"translate(160)\" xlink:href=\"#111\" xmlns:xlink=\"http://www.w3.org/1999/xlink\"/><use transform=\"translate(180)\" xlink:href=\"#111\" xmlns:xlink=\"http://www.w3.org/1999/xlink\"/><use transform=\"translate(200)\" xlink:href=\"#111\" xmlns:xlink=\"http://www.w3.org/1999/xlink\"/><use transform=\"translate(220)\" xlink:href=\"#111\" xmlns:xlink=\"http://www.w3.org/1999/xlink\"/><use transform=\"translate(240)\" xlink:href=\"#111\" xmlns:xlink=\"http://www.w3.org/1999/xlink\"/><use transform=\"translate(260)\" xlink:href=\"#111\" xmlns:xlink=\"http://www.w3.org/1999/xlink\"/><use transform=\"translate(280)\" xlink:href=\"#1m0\" xmlns:xlink=\"http://www.w3.org/1999/xlink\"/><use transform=\"translate(300)\" xlink:href=\"#000\" xmlns:xlink=\"http://www.w3.org/1999/xlink\"/><use transform=\"translate(320)\" xlink:href=\"#0m1\" xmlns:xlink=\"http://www.w3.org/1999/xlink\"/><use transform=\"translate(340)\" xlink:href=\"#111\" xmlns:xlink=\"http://www.w3.org/1999/xlink\"/><use transform=\"translate(360)\" xlink:href=\"#111\" xmlns:xlink=\"http://www.w3.org/1999/xlink\"/><use transform=\"translate(380)\" xlink:href=\"#111\" xmlns:xlink=\"http://www.w3.org/1999/xlink\"/></g></g><g id=\"wavearcs_0\"/><g id=\"wavegaps_0\"><g id=\"wavegap_0_0\" transform=\"translate(0,5)\"/><g id=\"wavegap_1_0\" transform=\"translate(0,35)\"><use transform=\"translate(260)\" xlink:href=\"#gap\" xmlns:xlink=\"http://www.w3.org/1999/xlink\"/></g><g id=\"wavegap_2_0\" transform=\"translate(0,65)\"><use transform=\"translate(140)\" xlink:href=\"#gap\" xmlns:xlink=\"http://www.w3.org/1999/xlink\"/></g><g id=\"wavegap_3_0\" transform=\"translate(0,95)\"/><g id=\"wavegap_4_0\" transform=\"translate(0,125)\"><use transform=\"translate(260)\" xlink:href=\"#gap\" xmlns:xlink=\"http://www.w3.org/1999/xlink\"/></g><g id=\"wavegap_5_0\" transform=\"translate(0,155)\"><use transform=\"translate(260)\" xlink:href=\"#gap\" xmlns:xlink=\"http://www.w3.org/1999/xlink\"/></g><g id=\"wavegap_6_0\" transform=\"translate(0,185)\"><use transform=\"translate(260)\" xlink:href=\"#gap\" xmlns:xlink=\"http://www.w3.org/1999/xlink\"/></g><g id=\"wavegap_7_0\" transform=\"translate(0,215)\"><use transform=\"translate(260)\" xlink:href=\"#gap\" xmlns:xlink=\"http://www.w3.org/1999/xlink\"/></g><g id=\"wavegap_8_0\" transform=\"translate(0,245)\"><use transform=\"translate(260)\" xlink:href=\"#gap\" xmlns:xlink=\"http://www.w3.org/1999/xlink\"/></g><g id=\"wavegap_9_0\" transform=\"translate(0,275)\"><use transform=\"translate(260)\" xlink:href=\"#gap\" xmlns:xlink=\"http://www.w3.org/1999/xlink\"/></g><g id=\"wavegap_10_0\" transform=\"translate(0,305)\"><use transform=\"translate(260)\" xlink:href=\"#gap\" xmlns:xlink=\"http://www.w3.org/1999/xlink\"/></g><g id=\"wavegap_11_0\" transform=\"translate(0,335)\"><use transform=\"translate(260)\" xlink:href=\"#gap\" xmlns:xlink=\"http://www.w3.org/1999/xlink\"/></g></g></g><g id=\"groups_0\"><g/></g></g></svg>"
      ],
      "text/plain": [
       "<IPython.core.display.SVG object>"
      ]
     },
     "metadata": {},
     "output_type": "display_data"
    }
   ],
   "source": [
    "a = {\n",
    "        'signal': [\n",
    "            {'name': 'clk', 'wave': 'lh'*128},\n",
    "            {'name': 'dat', 'wave': 'x.345x|=.x', \n",
    "                            'data': ['head', 'body', 'tail', 'data']},\n",
    "            {'name': 'req', 'wave': 'l.h|..l'},\n",
    "            {},\n",
    "            {'name': 'ack', 'wave': '1.....|01.'},\n",
    "            {'name': 'ack', 'wave': '1.....|01.'},\n",
    "            {'name': 'ack', 'wave': '1.....|01.'},\n",
    "            {'name': 'ack', 'wave': '1.....|01.'},\n",
    "            {'name': 'ack', 'wave': '1.....|01.'},\n",
    "            {'name': 'ack', 'wave': '1.....|01.'},\n",
    "            {'name': 'ack', 'wave': '1.....|01.'},{'name': 'ack', 'wave': '1.....|01.'}\n",
    "        ],\n",
    "    'head': {'text': 'Test Waveform'},\n",
    "    'foot':{'tock':1}}\n",
    "draw_wavedrom(a)"
   ]
  },
  {
   "cell_type": "code",
   "execution_count": null,
   "metadata": {
    "collapsed": true
   },
   "outputs": [],
   "source": [
    "import json\n",
    "data = json.dumps(a)\n",
    "type(data)"
   ]
  },
  {
   "cell_type": "code",
   "execution_count": null,
   "metadata": {
    "collapsed": true
   },
   "outputs": [],
   "source": [
    "round(0.0137/(1/(0.8 * 1e6)))"
   ]
  },
  {
   "cell_type": "code",
   "execution_count": null,
   "metadata": {
    "collapsed": true
   },
   "outputs": [],
   "source": [
    "import numpy as np\n",
    "import re\n",
    "import copy\n",
    "\n",
    "def wave_to_bitstring(wave):\n",
    "    \"\"\"Function to convert a pattern consisting of `l`, `h`, and dot to a\n",
    "    sequence of `0` and `1`.\n",
    "\n",
    "    Parameters\n",
    "    ----------\n",
    "    wave : str\n",
    "        The input string to convert.\n",
    "\n",
    "    Returns\n",
    "    -------\n",
    "    list\n",
    "        A list of elements, each element being 0 or 1.\n",
    "\n",
    "    \"\"\"\n",
    "    substitution_map = {'l': '0', 'h': '1', '0': '0', '1': '1'}\n",
    "    def delete_dots(match):\n",
    "        return substitution_map[match.group()[0]] * len(match.group())\n",
    "\n",
    "    wave_regex = re.compile(r'[l]\\.*|[h]\\.*')\n",
    "    return re.sub(wave_regex, delete_dots, wave)\n",
    "\n",
    "wave_to_bitstring('l........h................01lh00hhlll11h')"
   ]
  },
  {
   "cell_type": "code",
   "execution_count": null,
   "metadata": {
    "collapsed": true
   },
   "outputs": [],
   "source": [
    "import numpy as np\n",
    "import re\n",
    "import copy\n",
    "\n",
    "def bitstring_to_wave(bitstring):\n",
    "    \"\"\"Function to convert a pattern consisting of `0`, `1` into a sequence\n",
    "    of `l`, `h`, and dots.\n",
    "    \n",
    "    For example, if the bit string is \"010011000111\", then the result will be\n",
    "    \"lhl.h.l..h..\".\n",
    "\n",
    "    Returns\n",
    "    -------\n",
    "    str\n",
    "        New wave tokens with valid tokens and dots.\n",
    "    \n",
    "    \"\"\"\n",
    "    substitution_map = {'0': 'l', '1': 'h', '.': '.'}\n",
    "    def insert_dots(match):\n",
    "        return substitution_map[match.group()[0]] + \\\n",
    "               '.' * (len(match.group()) - 1)\n",
    "\n",
    "    bitstr_regex = re.compile(r'[0][0]*|[1][1]*')\n",
    "    return re.sub(bitstr_regex, insert_dots, bitstring)\n",
    "\n",
    "bitstring_to_wave('00000000000000111111111111111111110000000000000000000000000000000000000000011100110101')"
   ]
  },
  {
   "cell_type": "code",
   "execution_count": null,
   "metadata": {
    "collapsed": true
   },
   "outputs": [],
   "source": [
    "import re\n",
    "pat_in = 'h.....l.....h.l..lh'\n",
    "regex0 = re.compile('([ln0]\\.*)')\n",
    "regex1 = re.compile('([hp1]\\.*)')\n",
    "matches0 = re.finditer(regex0, pat_in)\n",
    "matches1 = re.finditer(regex1, pat_in)\n",
    "for i in matches0:\n",
    "    pat_in = pat_in.replace(i.group(),\"0\"*len(i.group()))\n",
    "for i in matches1:\n",
    "    pat_in = pat_in.replace(i.group(),\"1\"*len(i.group()))\n",
    "print(pat_in)\n",
    "\n",
    "print(logic2level(pat_in))"
   ]
  },
  {
   "cell_type": "code",
   "execution_count": null,
   "metadata": {
    "collapsed": true
   },
   "outputs": [],
   "source": [
    "import re\n",
    "def level2logic(pat_in):\n",
    "    \"\"\"Function to convert a pattern consisting of `l`, `h`, and dot to a\n",
    "    sequence of `0` and `1`.\n",
    "\n",
    "    Parameters\n",
    "    ----------\n",
    "    pat_in : str\n",
    "        The input string to convert.\n",
    "\n",
    "    Returns\n",
    "    -------\n",
    "    pat_out : str\n",
    "        The sequence of 0's and 1's converted from the input string.\n",
    "\n",
    "    \"\"\"\n",
    "    regex0 = re.compile('([l0]\\.*)')\n",
    "    regex1 = re.compile('([h1]\\.*)')\n",
    "    pat_out = pat_in\n",
    "    matches0 = re.finditer(regex0, pat_out)\n",
    "    matches1 = re.finditer(regex1, pat_out)\n",
    "    for i in matches0:\n",
    "        pat_out = pat_out.replace(i.group(), \"0\" * len(i.group()))\n",
    "    for i in matches1:\n",
    "        pat_out = pat_out.replace(i.group(), \"1\" * len(i.group()))\n",
    "    return [int(i,10) for i in list(pat_out)]\n",
    "\n",
    "a = [{'name': 'dat', 'pin': 1, 'wave': '10..111...'},\n",
    "     {'name': 'req', 'pin': 2, 'wave': 'l.h..01.01'}]\n",
    "\n",
    "for i in a:\n",
    "    i['wave'] = level2logic(i['wave'])\n",
    "    \n",
    "print(a)"
   ]
  },
  {
   "cell_type": "code",
   "execution_count": null,
   "metadata": {
    "collapsed": true
   },
   "outputs": [],
   "source": [
    "a = np.array([[1, 0, 0, 0, 1, 1, 1, 1, 1, 1],\n",
    "     [0, 0, 1, 1, 1, 0, 1, 1, 0, 1]],dtype=np.uint8)\n",
    "b = a.T.copy()\n",
    "print(b)"
   ]
  },
  {
   "cell_type": "code",
   "execution_count": null,
   "metadata": {
    "collapsed": true
   },
   "outputs": [],
   "source": [
    "def bit2sample(bits):\n",
    "    \"\"\"Function to convert a bit list into a multi-bit sample.\n",
    "    \n",
    "    Example: [1, 1, 1, 0] will be converted to 15.\n",
    "    \n",
    "    Parameters\n",
    "    ----------\n",
    "    bits : list\n",
    "        A list of bits, each element being 0 or 1.\n",
    "    \n",
    "    Returns\n",
    "    -------\n",
    "    int\n",
    "        An integer converted from the bit samples.\n",
    "        \n",
    "    \"\"\"\n",
    "    return int(\"\".join(map(str, list(bits))), 2)\n",
    "\n",
    "print(bit2sample([1,1,1,0]))"
   ]
  },
  {
   "cell_type": "code",
   "execution_count": null,
   "metadata": {
    "collapsed": true
   },
   "outputs": [],
   "source": [
    "temp_samples = np.array([[1, 0, 0, 0, 1, 1, 1, 1, 1, 1],\n",
    "     [0, 0, 1, 1, 1, 0, 1, 1, 0, 1]],dtype=np.uint8)\n",
    "samples = np.apply_along_axis(bit2sample, 1, temp_samples)\n",
    "print(type(samples))"
   ]
  },
  {
   "cell_type": "code",
   "execution_count": null,
   "metadata": {
    "collapsed": true
   },
   "outputs": [],
   "source": [
    "x = np.array([1,3, 9])\n",
    "print(x)\n",
    "print(\"length is {}\".format(len(np.unpackbits(x.view(np.uint8)))))\n",
    "print(np.unpackbits(x.view(np.uint8)))"
   ]
  },
  {
   "cell_type": "code",
   "execution_count": null,
   "metadata": {
    "collapsed": true
   },
   "outputs": [],
   "source": [
    "x = np.array([1256,2048],dtype=np.uint8)\n",
    "reversed_x = x[::-1]\n",
    "print(reversed_x)\n",
    "print(np.unpackbits(reversed_x))"
   ]
  },
  {
   "cell_type": "code",
   "execution_count": null,
   "metadata": {
    "collapsed": true
   },
   "outputs": [],
   "source": [
    "data = b'\\xAD\\xDE\\xDE\\xC0'\n",
    "swap_data = bytearray(data)\n",
    "swap_data.reverse()\n",
    "print(swap_data)"
   ]
  },
  {
   "cell_type": "code",
   "execution_count": null,
   "metadata": {
    "collapsed": true
   },
   "outputs": [],
   "source": [
    "x = np.array([[100,101,102,103,104,105]],dtype='>i4')\n",
    "data = x.tobytes()\n",
    "y = bytearray(data)\n",
    "print(\"Byte array: {}\".format(y))\n",
    "rev = np.frombuffer(y,dtype=np.uint8)\n",
    "bit_array = np.unpackbits(rev)\n",
    "final = bit_array.reshape(6,32).T\n",
    "final[::-1]"
   ]
  },
  {
   "cell_type": "code",
   "execution_count": null,
   "metadata": {
    "collapsed": true
   },
   "outputs": [],
   "source": [
    "x = np.array([[100,101,102,103,104,105]],dtype='uint64')\n",
    "y = np.zeros((1,6),dtype='>i8')\n",
    "np.copyto(y,x)\n",
    "rev = np.frombuffer(y,dtype=np.uint8)\n",
    "bit_array = np.unpackbits(rev)\n",
    "final = bit_array.reshape(6,64).T\n",
    "final[::-1]"
   ]
  },
  {
   "cell_type": "code",
   "execution_count": null,
   "metadata": {
    "collapsed": true
   },
   "outputs": [],
   "source": [
    "x=np.arange(12).reshape(3,4).copy()\n",
    "print(f'no transpose: {x} {x.flags}')\n",
    "y = x.T.copy()\n",
    "print(f'after transpose: {y} {y.flags}')"
   ]
  },
  {
   "cell_type": "code",
   "execution_count": null,
   "metadata": {
    "collapsed": true
   },
   "outputs": [],
   "source": [
    "temp_lanes = np.zeros((5,10),dtype=np.uint8)\n",
    "temp_lanes[1] = [1]*10\n",
    "print(temp_lanes)\n",
    "print(f'{temp_lanes.flags}')"
   ]
  },
  {
   "cell_type": "code",
   "execution_count": null,
   "metadata": {
    "collapsed": true
   },
   "outputs": [],
   "source": [
    "a = int('11',2)\n",
    "b = np.uint32(a)\n",
    "print(b,type(b))"
   ]
  },
  {
   "cell_type": "code",
   "execution_count": null,
   "metadata": {
    "collapsed": true
   },
   "outputs": [],
   "source": [
    "dst_samples = np.zeros((2,1), dtype=np.uint64)\n",
    "dst_samples.flags"
   ]
  },
  {
   "cell_type": "code",
   "execution_count": null,
   "metadata": {
    "collapsed": true
   },
   "outputs": [],
   "source": [
    "a = np.zeros((5,1),dtype=np.uint64)\n",
    "j = 1\n",
    "for j in range(5):\n",
    "    a[j] = j\n",
    "    j+=1\n",
    "print(a, len(a))\n",
    "\n",
    "temp_samples = np.zeros((5,1),dtype='>i8')\n",
    "np.copyto(temp_samples, a)\n",
    "rev = np.frombuffer(temp_samples,dtype=np.uint8)\n",
    "bit_array = np.unpackbits(rev)\n",
    "final = bit_array.reshape(5,64).T[::-1].copy()\n",
    "print(final)\n",
    "for i in range(10):\n",
    "    xx = final[i].astype(str).tolist()\n",
    "    sample = ''.join(xx)\n",
    "    print(f'Lane{i} is {sample}')"
   ]
  },
  {
   "cell_type": "code",
   "execution_count": null,
   "metadata": {
    "collapsed": true
   },
   "outputs": [],
   "source": [
    "import numpy as np\n",
    "import ctypes\n",
    "a = np.ones(5000,dtype=np.uint32)\n",
    "print(a)\n",
    "pointer1, ro_flag = a.__array_interface__['data']\n",
    "print(f'Using interface: {pointer1}, {ro_flag}')\n",
    "pointer2 = a.ctypes.data\n",
    "print(f'using ctypes: {pointer2}')"
   ]
  },
  {
   "cell_type": "code",
   "execution_count": null,
   "metadata": {
    "collapsed": true,
    "scrolled": true
   },
   "outputs": [],
   "source": [
    "import cffi\n",
    "ffi = cffi.FFI()\n",
    "b = ffi.cast('uint32_t*',pointer2)\n",
    "b[4999]=99\n",
    "print(a)\n",
    "print(a.flags)"
   ]
  },
  {
   "cell_type": "code",
   "execution_count": null,
   "metadata": {
    "collapsed": true
   },
   "outputs": [],
   "source": [
    "import re\n",
    "m = re.match('h','hello')\n",
    "print(type(m))\n",
    "if m:\n",
    "    print(m.group())"
   ]
  },
  {
   "cell_type": "code",
   "execution_count": null,
   "metadata": {
    "collapsed": true
   },
   "outputs": [],
   "source": [
    "a = {1:1, 2:2}\n",
    "b = a.copy()\n",
    "b[1]=99\n",
    "print(a,b)"
   ]
  },
  {
   "cell_type": "markdown",
   "metadata": {
    "collapsed": true
   },
   "source": [
    "### Examples using Graphviz\n",
    "\n",
    "References: http://pygraphviz.github.io/documentation/latest/pygraphviz.pdf"
   ]
  },
  {
   "cell_type": "code",
   "execution_count": null,
   "metadata": {
    "collapsed": true
   },
   "outputs": [],
   "source": [
    "%%writefile test.dot\n",
    "digraph {\n",
    "    graph [splines=true overlap=false]\n",
    "    ratio=auto\n",
    "    START\n",
    "    offline\n",
    "    scanning\n",
    "    \"joining&#8260;000\"\n",
    "    online [peripheries=2]\n",
    "    START -> offline\n",
    "    offline -> scanning [label=\"scan&#8260;scan2\"]\n",
    "    offline -> offline [label=\"failed scan\"]\n",
    "    scanning -> \"joining&#8260;000\" [label=\"detected\"]\n",
    "    scanning -> offline [label=\"failed join\"]\n",
    "    \"joining&#8260;000\" -> online [label=\"handshake\"]\n",
    "    \"joining&#8260;000\" -> offline [label=\"failed handshake\"]\n",
    "    online -> offline [label=\"timeout\"]\n",
    "}"
   ]
  },
  {
   "cell_type": "code",
   "execution_count": null,
   "metadata": {
    "collapsed": true
   },
   "outputs": [],
   "source": [
    "import os\n",
    "import pygraphviz as pgv\n",
    "from IPython.display import Image, display\n",
    "B=pgv.AGraph('test.dot')\n",
    "B.layout(prog='dot')\n",
    "B.draw('test.png')\n",
    "display(Image(filename='test.png'))\n",
    "os.system(\"rm -rf test.png test.dot\")"
   ]
  },
  {
   "cell_type": "code",
   "execution_count": null,
   "metadata": {
    "collapsed": true
   },
   "outputs": [],
   "source": [
    "a = (0,1,2,3)\n",
    "print(a[0],a[3])"
   ]
  },
  {
   "cell_type": "code",
   "execution_count": null,
   "metadata": {
    "collapsed": true
   },
   "outputs": [],
   "source": [
    "OUTPUT_PIN_MAP = {'D0':0,\n",
    "                 'D1':1,\n",
    "                 'D2':2,\n",
    "                 'D3':3,\n",
    "                 'D4':4,\n",
    "                 'D5':5,\n",
    "                 'D6':6,\n",
    "                 'D7':7,\n",
    "                 'D8':8,\n",
    "                 'D9':9,\n",
    "                 'D10':10,\n",
    "                 'D11':11,\n",
    "                 'D12':12,\n",
    "                 'D13':13,\n",
    "                 'D14':14,\n",
    "                 'D15':15,\n",
    "                 'D16':16,\n",
    "                 'D17':17,\n",
    "                 'D18':18,\n",
    "                 'D19':19}\n",
    "\n",
    "fsm_spec = {'inputs': [('reset','D0'), ('direction','D1')],\n",
    "    'outputs': [('alpha','D3'), ('beta','D4'), ('gamma','D5')],\n",
    "    'states': ('S0', 'S1', 'S2', 'S3', 'S4', 'S5'),\n",
    "    'transitions': [['00', 'S0', 'S1', '000'],\n",
    "                    ['01', 'S0', 'S5', '000'],\n",
    "                    ['00', 'S1', 'S2', '001'],\n",
    "                    ['01', 'S1', 'S0', '001'],\n",
    "                    ['00', 'S2', 'S3', '010'],\n",
    "                    ['01', 'S2', 'S1', '010'],\n",
    "                    ['00', 'S3', 'S4', '011'],\n",
    "                    ['01', 'S3', 'S2', '011'],\n",
    "                    ['00', 'S4', 'S5', '100'],\n",
    "                    ['01', 'S4', 'S3', '100'],\n",
    "                    ['00', 'S5', 'S0', '101'],\n",
    "                    ['01', 'S5', 'S4', '101'],\n",
    "                    ['1-', '*',  'S0', '']]}"
   ]
  },
  {
   "cell_type": "code",
   "execution_count": null,
   "metadata": {
    "collapsed": true
   },
   "outputs": [],
   "source": [
    "def check_pins(fsm_spec, key):\n",
    "    \"\"\"Check whether the pins specified are in a valid range.\n",
    "\n",
    "    This method will raise an exception if `pin` is out of range.\n",
    "\n",
    "    Parameters\n",
    "    ----------\n",
    "    fsm_spec : dict\n",
    "        The dictionary where the check to be made.\n",
    "    key : object\n",
    "        The key to index the dictionary.\n",
    "\n",
    "    \"\"\"\n",
    "    for i in fsm_spec[key]:\n",
    "        if i[1] not in OUTPUT_PIN_MAP:\n",
    "            raise ValueError(\"Valid pins should be D0 - D19.\")\n",
    "                \n",
    "check_pins(fsm_spec,'outputs')"
   ]
  },
  {
   "cell_type": "code",
   "execution_count": null,
   "metadata": {
    "collapsed": true
   },
   "outputs": [],
   "source": [
    "import numpy as np\n",
    "tri = np.array([0,1,1,0])\n",
    "arr0 = np.array([1,3,5,7])\n",
    "arr1 = np.array([2,4,6,8])\n",
    "condlist = [tri==0, tri==1]\n",
    "choicelist = [arr0, arr1]\n",
    "np.select(condlist, choicelist)"
   ]
  },
  {
   "cell_type": "code",
   "execution_count": null,
   "metadata": {
    "collapsed": true
   },
   "outputs": [],
   "source": [
    "a = [1,2,3]\n",
    "b= [3,4]\n",
    "a += b\n",
    "print(a)"
   ]
  },
  {
   "cell_type": "code",
   "execution_count": null,
   "metadata": {
    "collapsed": true
   },
   "outputs": [],
   "source": [
    "a = [1,2,3]\n",
    "b = [4,5,6,7]\n",
    "\n",
    "def merge_to_length(a,b,length):\n",
    "    temp = b[:]\n",
    "    for index,item in enumerate(a):\n",
    "        if len(temp)<length:\n",
    "            temp.insert(index,item)\n",
    "        else:\n",
    "            break\n",
    "    return temp\n",
    "    \n",
    "\n",
    "print(merge_to_length(a,b,9))"
   ]
  },
  {
   "cell_type": "code",
   "execution_count": null,
   "metadata": {
    "collapsed": true
   },
   "outputs": [],
   "source": [
    "a = '011'\n",
    "b = '000'\n",
    "print(''.join(merge_to_length(list(a),list(b),5)))"
   ]
  },
  {
   "cell_type": "code",
   "execution_count": null,
   "metadata": {
    "collapsed": true
   },
   "outputs": [],
   "source": [
    "a = (1,0)\n",
    "b = (2,a[1])\n",
    "print(b)"
   ]
  },
  {
   "cell_type": "code",
   "execution_count": null,
   "metadata": {
    "collapsed": true
   },
   "outputs": [],
   "source": [
    "import re\n",
    "expr_in = \"D5 & ~(D6 | ~D7)\"\n",
    "pin_id = re.split(\"\\||\\^|\\&\", expr_in.strip())\n",
    "print(pin_id)"
   ]
  },
  {
   "cell_type": "code",
   "execution_count": null,
   "metadata": {
    "collapsed": true
   },
   "outputs": [],
   "source": [
    "expr_in = \"D5 & ~(D6 | ~D7)\"\n",
    "pin_id = re.sub(\"\\W+\", \" \", expr_in).strip().split(' ')\n",
    "print(pin_id)"
   ]
  },
  {
   "cell_type": "code",
   "execution_count": null,
   "metadata": {
    "collapsed": true
   },
   "outputs": [],
   "source": [
    "import difflib\n",
    "\n",
    "d = difflib.Differ()\n",
    "diff = d.compare(string1, string2)\n",
    "print(list(diff))"
   ]
  },
  {
   "cell_type": "code",
   "execution_count": null,
   "metadata": {
    "collapsed": true
   },
   "outputs": [],
   "source": [
    "dif = [i for i in range(len(string1)) if string1[i]!=string2[i]]\n",
    "if len(dif)==1:\n",
    "    res_list = list(string1)\n",
    "    res_list[dif[0]]='-'\n",
    "    result = ''.join(res_list)\n",
    "print(result)"
   ]
  },
  {
   "cell_type": "code",
   "execution_count": null,
   "metadata": {
    "collapsed": true
   },
   "outputs": [],
   "source": [
    "import itertools\n",
    "\n",
    "def merge_to_wildcards(str_list):\n",
    "    \"\"\"Merge all the strings inside a list into wildcard representation.\n",
    "\n",
    "    This method will check every pair inside the string list, and merge the\n",
    "    strings based on wildcard representation. For example, the list \n",
    "    ['100101', '000101', '000111', '100111'] will be merged to ['-001-1'];\n",
    "    the list ['10','00','01'] will be merged to ['1-', '0-'].\n",
    "\n",
    "    Parameters\n",
    "    ----------\n",
    "    str_list : list\n",
    "        A list of strings, where all the elements have the same length.\n",
    "\n",
    "    Returns\n",
    "    -------\n",
    "    list\n",
    "        A merged list, where strings are expressed in wildcard format.\n",
    "\n",
    "    \"\"\"\n",
    "    output_list = str_list[:]\n",
    "    new_pattern = True\n",
    "    while new_pattern:\n",
    "        new_pattern = False\n",
    "        input_list = output_list[:]\n",
    "        output_list = []\n",
    "        for string1, string2 in itertools.combinations(input_list, 2):\n",
    "            dif = [i for i in range(len(string1)) if string1[i] != string2[i]]\n",
    "            if len(dif) == 1:\n",
    "                temp_list = list(string1)\n",
    "                temp_list[dif[0]] = '-'\n",
    "                output_list.append(''.join(temp_list))\n",
    "                new_pattern = True\n",
    "\n",
    "    return list(set(input_list))"
   ]
  },
  {
   "cell_type": "code",
   "execution_count": null,
   "metadata": {
    "collapsed": true
   },
   "outputs": [],
   "source": [
    "my_list = ['100101',\n",
    "        '000101',\n",
    "        '000111',\n",
    "        '100111']\n",
    "print(merge_to_wildcards(my_list))"
   ]
  },
  {
   "cell_type": "code",
   "execution_count": null,
   "metadata": {
    "collapsed": true
   },
   "outputs": [],
   "source": [
    "my_list = ['01','00','10']\n",
    "print(merge_to_wildcards(my_list))"
   ]
  },
  {
   "cell_type": "code",
   "execution_count": null,
   "metadata": {
    "collapsed": true
   },
   "outputs": [],
   "source": [
    "from time import time\n",
    "\n",
    "x = list()\n",
    "y = list()\n",
    "z = list()\n",
    "\n",
    "t1 = time()\n",
    "for i in range(1,101):\n",
    "    x.append(int('1'*i,2))\n",
    "t2 = time()\n",
    "print(f'Time used for type 1: {t2-t1}')\n",
    "\n",
    "t1 = time()\n",
    "for i in range(1,101):\n",
    "    y.append(2**i-1)\n",
    "t2 = time()\n",
    "print(f'Time used for type 2: {t2-t1}')\n",
    "\n",
    "t1 = time()\n",
    "for i in range(1,101):\n",
    "    z.append((1<<i)-1)\n",
    "t2 = time()\n",
    "print(f'Time used for type 3: {t2-t1}')\n",
    "\n",
    "for i,_ in enumerate(x):\n",
    "    assert x[i]==y[i]==z[i]"
   ]
  },
  {
   "cell_type": "code",
   "execution_count": null,
   "metadata": {
    "collapsed": true
   },
   "outputs": [],
   "source": [
    "from time import time\n",
    "import numpy as np\n",
    "\n",
    "a = list()\n",
    "b = [0]*10000\n",
    "c = dict()\n",
    "d = np.zeros(10000,dtype=np.uint32)\n",
    "\n",
    "t1 = time()\n",
    "for i in range(10000):\n",
    "    a.append(i)\n",
    "t2 = time()\n",
    "for i in range(10000):\n",
    "    b[i] = i\n",
    "t3 = time()\n",
    "for i in range(10000):\n",
    "    c[i] = i\n",
    "t4 = time()\n",
    "for i in range(10000):\n",
    "    d[i] = i\n",
    "t5 = time()\n",
    "\n",
    "for i in range(10000):\n",
    "    assert a[i]==b[i]==c[i]==d[i]==i\n",
    "\n",
    "print(f'Time used for empty list: {t2-t1}')\n",
    "print(f'Time used for zero list:  {t3-t2}')\n",
    "print(f'Time used for dictionary: {t4-t3}')\n",
    "print(f'Time used for numpy array:{t5-t4}')"
   ]
  },
  {
   "cell_type": "code",
   "execution_count": null,
   "metadata": {
    "collapsed": true
   },
   "outputs": [],
   "source": [
    "a = {1:1, 2:3, 3:5}\n",
    "for i,j in a.items():\n",
    "    print(i,j)"
   ]
  },
  {
   "cell_type": "code",
   "execution_count": null,
   "metadata": {
    "collapsed": true
   },
   "outputs": [],
   "source": [
    "class person:\n",
    "    def __init__(self, age, gender):\n",
    "        self.age = age\n",
    "        self.gender = gender\n",
    "    def __repr__(self):\n",
    "        L = [self.age, self.gender]\n",
    "        s = \", \".join(map(str, L))\n",
    "        s = f'pynq.{self.__class__.__name__}({s})'\n",
    "        return s\n",
    "    #def __str__(self):\n",
    "    #    return f'A {self.age}-year old person.'"
   ]
  },
  {
   "cell_type": "code",
   "execution_count": null,
   "metadata": {
    "collapsed": true
   },
   "outputs": [],
   "source": [
    "a = person(72,'male')\n",
    "str(a)"
   ]
  },
  {
   "cell_type": "code",
   "execution_count": null,
   "metadata": {
    "collapsed": true
   },
   "outputs": [],
   "source": [
    "a = 0x29\n",
    "b = format(a, '0{}b'.format(7))"
   ]
  },
  {
   "cell_type": "code",
   "execution_count": null,
   "metadata": {
    "collapsed": true
   },
   "outputs": [],
   "source": [
    "list(b)"
   ]
  },
  {
   "cell_type": "code",
   "execution_count": null,
   "metadata": {
    "collapsed": true
   },
   "outputs": [],
   "source": [
    "waveform_dict = {'signal': [\n",
    "            ['stimulus',\n",
    "             {'name': 'SCL', 'pin': 'SCL', 'wave': ''},\n",
    "             {'name': 'SDA0', 'pin': 'D0', 'wave': ''},\n",
    "             {'name': 'SDA1', 'pin': 'D2', 'wave': ''}],\n",
    "            ['analysis',\n",
    "             {'name': 'SCL', 'pin': 'SCL'}]],\n",
    "            'foot': {'tock': 1},\n",
    "            'head': {'text': 'IIC Pattern'}}"
   ]
  },
  {
   "cell_type": "code",
   "execution_count": null,
   "metadata": {
    "collapsed": true
   },
   "outputs": [],
   "source": [
    "def append_stimulus(scl_pattern, sda_pattern):\n",
    "    \"\"\"This method append the pattern to the waveform dictionary.\n",
    "\n",
    "    The desired SCL and SDA patterns will be append to the stimulus\n",
    "    wavelane group.\n",
    "\n",
    "    Parameters\n",
    "    ----------\n",
    "    scl_pattern : str\n",
    "        A string sequence of SCL pattern in wavedrom representation.\n",
    "    sda_pattern : str\n",
    "         A string sequence of SDA pattern in wavedrom representation.\n",
    "\n",
    "    \"\"\"\n",
    "    for index, wavelane_group in enumerate(waveform_dict['signal']):\n",
    "        if wavelane_group and wavelane_group[0] == 'stimulus':\n",
    "            for wavelane in wavelane_group[1:]:\n",
    "                if 'SDA' in wavelane['name']:\n",
    "                    wavelane['wave'] += sda_pattern\n",
    "                elif 'SCL' in wavelane['name']:\n",
    "                    wavelane['wave'] += scl_pattern\n",
    "        waveform_dict['signal'][index] = wavelane_group"
   ]
  },
  {
   "cell_type": "code",
   "execution_count": null,
   "metadata": {
    "collapsed": true
   },
   "outputs": [],
   "source": [
    "append_stimulus('lll', 'hhh')\n",
    "print(waveform_dict)"
   ]
  },
  {
   "cell_type": "code",
   "execution_count": null,
   "metadata": {
    "collapsed": true
   },
   "outputs": [],
   "source": [
    "from IPython.display import SVG, display\n",
    "def show_svg():\n",
    "    display(SVG(url='http://upload.wikimedia.org/wikipedia/en/a/a4/Flag_of_the_United_States.svg'))"
   ]
  },
  {
   "cell_type": "code",
   "execution_count": null,
   "metadata": {
    "collapsed": true
   },
   "outputs": [],
   "source": [
    "show_svg()"
   ]
  },
  {
   "cell_type": "code",
   "execution_count": null,
   "metadata": {
    "collapsed": true
   },
   "outputs": [],
   "source": []
  }
 ],
 "metadata": {
  "kernelspec": {
   "display_name": "Python 3",
   "language": "python",
   "name": "python3"
  },
  "language_info": {
   "codemirror_mode": {
    "name": "ipython",
    "version": 3
   },
   "file_extension": ".py",
   "mimetype": "text/x-python",
   "name": "python",
   "nbconvert_exporter": "python",
   "pygments_lexer": "ipython3",
   "version": "3.6.0"
  }
 },
 "nbformat": 4,
 "nbformat_minor": 2
}
